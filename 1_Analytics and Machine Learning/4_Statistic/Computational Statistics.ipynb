{
 "cells": [
  {
   "cell_type": "markdown",
   "metadata": {},
   "source": [
    "# Exemplos e Exercícios do livro \"Think Bayes\" - Allen B. Downey"
   ]
  },
  {
   "cell_type": "markdown",
   "metadata": {},
   "source": [
    "Utilizaremos uma biblioteca criada pelo autor do livro que possui, classes para lidar com probabilidades, chamada _thinkbayes.py_<br>\n",
    "utilizaremos, inicialmente, a classe Pmf que utiliza \"dicionarios\" para prover valores de probabilidades. PMF = Probability  Mass Function, que é uma maneira de representar uma distribuição matematicamente."
   ]
  },
  {
   "cell_type": "code",
   "execution_count": 4,
   "metadata": {},
   "outputs": [],
   "source": [
    "from thinkbayes import Pmf"
   ]
  },
  {
   "cell_type": "markdown",
   "metadata": {},
   "source": [
    "__Exemplo:__ Representação da distribuição do lançamento de um dado de 6 faces"
   ]
  },
  {
   "cell_type": "code",
   "execution_count": 5,
   "metadata": {},
   "outputs": [],
   "source": [
    "pmf = Pmf()\n",
    "for x in [1,2,3,4,5,6]:\n",
    "    pmf.Set(x, 1/6.0)"
   ]
  },
  {
   "cell_type": "markdown",
   "metadata": {},
   "source": [
    "__Pmf__ cria uma Pmf vazia;<br>\n",
    "__.Set__ É o metódo que define as probabilidades associadas a cada valor em 1/6"
   ]
  },
  {
   "cell_type": "markdown",
   "metadata": {},
   "source": [
    "__Exemplo:__ Contagem de quantas vezes uma palavra aparece em uma sequencia"
   ]
  },
  {
   "cell_type": "code",
   "execution_count": 6,
   "metadata": {},
   "outputs": [],
   "source": [
    "word_list = ['leandro', 'aline', 'vinicius']\n",
    "pmf = Pmf()\n",
    "for word in word_list:\n",
    "    pmf.Incr(word, 1)"
   ]
  },
  {
   "cell_type": "markdown",
   "metadata": {},
   "source": [
    "__Incr__ aumenta a \"probabilidade” associada a cada palavra em 1. Se uma palavra ainda não está no Pmf, é adicionada."
   ]
  },
  {
   "cell_type": "markdown",
   "metadata": {},
   "source": [
    "# Problems"
   ]
  },
  {
   "cell_type": "markdown",
   "metadata": {},
   "source": [
    "Basicamente iremos computar as probabilidades com base na formulação do Teorema de Bayes:"
   ]
  },
  {
   "cell_type": "markdown",
   "metadata": {},
   "source": [
    "\\begin{equation*}\n",
    "    p(H|D) = \\frac{p(H)p(D|H)}{p(D)}\n",
    "\\end{equation*}\n"
   ]
  },
  {
   "cell_type": "markdown",
   "metadata": {},
   "source": [
    "* p(H|D) --> Probabilidade da hipótese H ser verdadeira após \"ver\" os dados (Probabilidade Posterior)\n",
    "* p(D|H) --> Probabilidade dos dados sobre a hipótese H (Possibilidade)\n",
    "* p(H) ----> Probabilidade da hipótese ser verdadeira antes de \"ver\" os dados (Probabilidade Anterior)\n",
    "* p(D) ----> Probabilidade dos dados sob qualquer uma das hipóteses (Constante de Normalização)"
   ]
  },
  {
   "cell_type": "markdown",
   "metadata": {},
   "source": [
    "## The Cookie problem"
   ]
  },
  {
   "cell_type": "markdown",
   "metadata": {},
   "source": [
    "No contexto do Teorema de Bayes é natural utilizar a biblioteca Pmf para mapear a probabilidade de cada hipótese"
   ]
  },
  {
   "cell_type": "code",
   "execution_count": 7,
   "metadata": {},
   "outputs": [
    {
     "name": "stdout",
     "output_type": "stream",
     "text": [
      "0.675\n"
     ]
    }
   ],
   "source": [
    "pmf = Pmf()\n",
    "\n",
    "#Contem a probabilidade anterior de cada hipótese\n",
    "pmf.Set('Bowl 1', 0.5) #Hipótese 1\n",
    "pmf.Set('Bowl 2', 0.5) #Hipótese 2\n",
    "\n",
    "#Para atualizar a distribuição baseado nos novos dados, multiplicados a probabilidade anterior pela possibilidade\n",
    "pmf.Mult('Bowl 1', 0.75)\n",
    "pmf.Mult('Bowl 2', 0.5)\n",
    "\n",
    "#Após a atualização, a distribuição nao é mais normalizada, entretando como essas hipóteses são mutuamente\n",
    "#exclusivas e coletivamente exaustiva, então podemos renormalizar\n",
    "Normalize = pmf.Prob('Bowl 1')*(1/1.25) #Normalizei na mão pois pmf.Normalize() não estava funcionando\n",
    "\n",
    "#print(pmf.Prob('Bowl 1'))\n",
    "print(pmf.Prob('Bowl 1') + Normalize)"
   ]
  },
  {
   "cell_type": "code",
   "execution_count": null,
   "metadata": {},
   "outputs": [],
   "source": []
  },
  {
   "cell_type": "code",
   "execution_count": null,
   "metadata": {},
   "outputs": [],
   "source": []
  },
  {
   "cell_type": "code",
   "execution_count": null,
   "metadata": {},
   "outputs": [],
   "source": []
  },
  {
   "cell_type": "code",
   "execution_count": null,
   "metadata": {},
   "outputs": [],
   "source": []
  },
  {
   "cell_type": "code",
   "execution_count": null,
   "metadata": {},
   "outputs": [],
   "source": []
  },
  {
   "cell_type": "code",
   "execution_count": null,
   "metadata": {},
   "outputs": [],
   "source": []
  },
  {
   "cell_type": "code",
   "execution_count": null,
   "metadata": {},
   "outputs": [],
   "source": []
  }
 ],
 "metadata": {
  "kernelspec": {
   "display_name": "Python 3",
   "language": "python",
   "name": "python3"
  },
  "language_info": {
   "codemirror_mode": {
    "name": "ipython",
    "version": 3
   },
   "file_extension": ".py",
   "mimetype": "text/x-python",
   "name": "python",
   "nbconvert_exporter": "python",
   "pygments_lexer": "ipython3",
   "version": "3.7.4"
  },
  "latex_envs": {
   "LaTeX_envs_menu_present": true,
   "autoclose": true,
   "autocomplete": true,
   "bibliofile": "biblio.bib",
   "cite_by": "apalike",
   "current_citInitial": 1,
   "eqLabelWithNumbers": true,
   "eqNumInitial": 1,
   "hotkeys": {
    "equation": "Ctrl-E",
    "itemize": "Ctrl-I"
   },
   "labels_anchors": false,
   "latex_user_defs": false,
   "report_style_numbering": false,
   "user_envs_cfg": false
  },
  "toc": {
   "base_numbering": 1,
   "nav_menu": {},
   "number_sections": true,
   "sideBar": true,
   "skip_h1_title": false,
   "title_cell": "Table of Contents",
   "title_sidebar": "Contents",
   "toc_cell": false,
   "toc_position": {},
   "toc_section_display": true,
   "toc_window_display": false
  }
 },
 "nbformat": 4,
 "nbformat_minor": 2
}
