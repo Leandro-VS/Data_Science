{
 "cells": [
  {
   "cell_type": "markdown",
   "metadata": {},
   "source": [
    "# Programação Orientada a Objetos, Turma de 2017\n",
    "\n",
    "## Primeira Prova\n",
    "\n",
    "*(2017-05-09)*"
   ]
  },
  {
   "cell_type": "markdown",
   "metadata": {},
   "source": [
    "**Notas:**\n",
    "- Mantenha as suas respostas limpas. Na parte final do notebook há uma região para rascunho, onde você pode criar células para rascunho (testar idéias ou verificar algum código). Na parte da resposta, coloque apenas o código ou texto com sua resposta.\n",
    "- Textos de respostas devem ser preferencialmente breves.\n",
    "- Quando se pede para explicar, deve-se explicar os conceitos por trás do código, isto é, por que ele funciona, e não repetir em palavras o que está escrito no código.\n"
   ]
  },
  {
   "cell_type": "markdown",
   "metadata": {},
   "source": [
    "### 1 Explicar códigos\n",
    "\n",
    "Para cada um dos códigos abaixo, execute a célula de código, analise o resultado e depois crie uma célula de Markdown abaixo da célula de código explicando o funcionamento do código."
   ]
  },
  {
   "cell_type": "markdown",
   "metadata": {},
   "source": [
    "#### 1.a *(0,5)*"
   ]
  },
  {
   "cell_type": "code",
   "execution_count": 1,
   "metadata": {
    "collapsed": false
   },
   "outputs": [
    {
     "name": "stdout",
     "output_type": "stream",
     "text": [
      "46\n"
     ]
    }
   ],
   "source": [
    "a = 0x100\n",
    "b = 0o100\n",
    "c = 0b100\n",
    "d = a + b + c\n",
    "print(d//7)"
   ]
  },
  {
   "cell_type": "markdown",
   "metadata": {},
   "source": [
    "Declara as variaveis a, b, c, cada uma contendo alguns valores em representação hexadecimal, em seguida na variável d, executa a soma desses valores, aqui o python interpreta quais os valores das variaveis (a,b,c) e converte eles para inteiro para executar a soma, e por fim o código imprime o resultado da divisão inteira de d por 7."
   ]
  },
  {
   "cell_type": "markdown",
   "metadata": {},
   "source": [
    "### Comentário\n",
    "\n",
    "Apenas a variável `a` recebe valor em hexadecimal, as outras são octal e binário. Também não há conversão, pois os tipos são todos o mesmo (inteiro), apenas a representação é diferente."
   ]
  },
  {
   "cell_type": "markdown",
   "metadata": {},
   "source": [
    "**0.4**"
   ]
  },
  {
   "cell_type": "markdown",
   "metadata": {},
   "source": [
    "#### 1.b *(0,5)*"
   ]
  },
  {
   "cell_type": "code",
   "execution_count": 2,
   "metadata": {
    "collapsed": false
   },
   "outputs": [
    {
     "name": "stdout",
     "output_type": "stream",
     "text": [
      "False\n"
     ]
    }
   ],
   "source": [
    "a = 1/13\n",
    "s = 0\n",
    "for i in range(13):\n",
    "    s += a\n",
    "print(s == 1)"
   ]
  },
  {
   "cell_type": "markdown",
   "metadata": {},
   "source": [
    "Inicializa duas variaveis, 'a' contendo a razão de 1 por 13 e 's' contendo 0, em seguida cria-se um laço que percorre os numeros entre 0 e 13, e para cada numero percorrido dentro do range é somado o valor de 'a' para 's', ao final o algortimo imprime se a variável 's' é igual a 1, que é falso pois mesmo com as somas repetidas (1/13 + 1/13 + ...) o resultado ainda não é proximo o suficiente para o python considerar como sendo iguais."
   ]
  },
  {
   "cell_type": "markdown",
   "metadata": {},
   "source": [
    "### Comentário\n",
    "\n",
    "Por que não? O que causou o erro?"
   ]
  },
  {
   "cell_type": "markdown",
   "metadata": {},
   "source": [
    "**0.3**"
   ]
  },
  {
   "cell_type": "markdown",
   "metadata": {},
   "source": [
    "#### 1.c *(0,5)*"
   ]
  },
  {
   "cell_type": "code",
   "execution_count": 3,
   "metadata": {
    "collapsed": false
   },
   "outputs": [
    {
     "name": "stdout",
     "output_type": "stream",
     "text": [
      "(1, 2) (-2, 1) (-2, -1) (1, -2)\n"
     ]
    }
   ],
   "source": [
    "q1 = 5 // 3\n",
    "r1 = 5 % 3\n",
    "q2 = -5 // 3\n",
    "r2 = -5 % 3\n",
    "q3 = 5 // -3\n",
    "r3 = 5 % -3\n",
    "q4 = -5 // -3\n",
    "r4 = -5 % -3\n",
    "print((q1, r1), (q2, r2), (q3, r3), (q4, r4))"
   ]
  },
  {
   "cell_type": "markdown",
   "metadata": {},
   "source": [
    "O código acima atribui para s variaveis 'qi' o resultado de uma divisão inteira (//) entre numeros positivos e/ou negativos, para as variaveis 'ri' atribui o resto da divisão (%) entre numeros positivos e/ou negativos. Por fim o código imprime aos pares as variaveis (qi, ri)."
   ]
  },
  {
   "cell_type": "markdown",
   "metadata": {},
   "source": [
    "### Comentário\n",
    "\n",
    "Como se explicam os diferentes valores (1 e 2 ou 2 e 1 e os diferentes sinais)."
   ]
  },
  {
   "cell_type": "markdown",
   "metadata": {},
   "source": [
    "**0.2**"
   ]
  },
  {
   "cell_type": "markdown",
   "metadata": {},
   "source": [
    "#### 1.d *(0,5)*"
   ]
  },
  {
   "cell_type": "code",
   "execution_count": 4,
   "metadata": {
    "collapsed": false
   },
   "outputs": [
    {
     "name": "stdout",
     "output_type": "stream",
     "text": [
      "2j\n"
     ]
    }
   ],
   "source": [
    "z = 1 + 2j\n",
    "y = 2*z**2 - 3*z + 9\n",
    "print(y)"
   ]
  },
  {
   "cell_type": "markdown",
   "metadata": {},
   "source": [
    "Inicializa 'z' com um numero complexo, depois inicializa 'y' com operações envolvendo complexos em que multiplica-se por 2 o quadrado de 'z' e subtrai-se deste três vezes 'z' mais 9, em seguida imprime 'y' que contem o resultado da operação."
   ]
  },
  {
   "cell_type": "markdown",
   "metadata": {},
   "source": [
    "**0.5**"
   ]
  },
  {
   "cell_type": "markdown",
   "metadata": {},
   "source": [
    "#### 1.e *(0,5)*"
   ]
  },
  {
   "cell_type": "code",
   "execution_count": 5,
   "metadata": {
    "collapsed": false
   },
   "outputs": [
    {
     "name": "stdout",
     "output_type": "stream",
     "text": [
      "No meio do caminho tinha uma pedra\n",
      "Tinha uma pedra no meio do caminho\n"
     ]
    }
   ],
   "source": [
    "s1 = '      No meio do caminho tinha uma pedra       '\n",
    "s2 = s1.strip()\n",
    "s3 = s2[:18]\n",
    "s4 = s2[19:]\n",
    "s5 = s4[0].upper() + s4[1:]\n",
    "s6 = s3[0].lower() + s3[1:]\n",
    "s7 = s5 + ' ' + s6\n",
    "print(s2)\n",
    "print(s7)"
   ]
  },
  {
   "cell_type": "markdown",
   "metadata": {},
   "source": [
    "Inicia a variável com 's1' com uma string contendo espaços adcionais no começo e no fim, 's2' retira os espaços adicionais da string de 's1', 's3' recebe uma parte da string de 's2' contendo até o caractere da posição 18, 's4' recebe apartir da posição 19 da string de 's2' até o final dela, 's5' torna a primeira letra de 's4' maiuscula enquanto 's6' torna a primera letra de 's3' minuscula, 's7' somas as intrings de 's5' e 's6', por fim o é impresso a frase completa em duas linhas pois ao final de cada print é inserido um \\n, e com as letras iniciais maiusculas em cada linha."
   ]
  },
  {
   "cell_type": "markdown",
   "metadata": {},
   "source": [
    "**0.5**"
   ]
  },
  {
   "cell_type": "markdown",
   "metadata": {},
   "source": [
    "#### 1.f *(0,5)*"
   ]
  },
  {
   "cell_type": "code",
   "execution_count": 6,
   "metadata": {
    "collapsed": false
   },
   "outputs": [
    {
     "name": "stdout",
     "output_type": "stream",
     "text": [
      "[1, 3, 5] [2, 4, 6]\n",
      "[[1, 3, 5], [2, 4, 6]]\n",
      "[1, 3, 5, 7] [2, 4, 6]\n",
      "[[1, 3, 5, 7], [2, 4, 6]]\n"
     ]
    }
   ],
   "source": [
    "alguns = [1, 3, 5]\n",
    "outros = [2, 4, 6]\n",
    "print(alguns, outros)\n",
    "todos = [alguns, outros]\n",
    "print(todos)\n",
    "alguns.append(7)\n",
    "print(alguns, outros)\n",
    "print(todos)"
   ]
  },
  {
   "cell_type": "markdown",
   "metadata": {},
   "source": [
    "Inicia-se duas listas, cada uma com 3 elementos, primeiro é impresso as duas listas separadas, em seguida o algoritmo imprime um terceira lista cujo seus elementos são as duas listas anteriores. Agora adiciona-se o elemento 7 para a lista 'alguns', então é impresso as duas listas novamente, porem a primeira esta com o item novo, e por fim é impresso a lista 'todos' que contem como elementos as duas listas anteriores."
   ]
  },
  {
   "cell_type": "markdown",
   "metadata": {},
   "source": [
    "**0.5**"
   ]
  },
  {
   "cell_type": "markdown",
   "metadata": {},
   "source": [
    "#### 1.g *(1,0)*"
   ]
  },
  {
   "cell_type": "code",
   "execution_count": 7,
   "metadata": {
    "collapsed": false
   },
   "outputs": [
    {
     "name": "stdout",
     "output_type": "stream",
     "text": [
      "153\tcento e cinqüenta e três\n",
      "25\tvinte e cinco\n",
      "97\tnoventa e sete\n",
      "Não conheço: duzentos e trinta e dois\n",
      "113\tcento e treze\n"
     ]
    }
   ],
   "source": [
    "num = {'zero': 0, 'um': 1, 'dois': 2, 'três': 3, 'quatro': 4, 'cinco': 5, 'seis': 6, 'sete': 7, 'oito': 8, 'nove': 9,\n",
    "      'dez': 10, 'onze': 11, 'doze': 12, 'treze': 13, 'quatroze': 14, 'catorze': 14, 'quinze': 15, 'dezesseis': 16,\n",
    "      'dezessete': 17, 'dezoito': 18, 'dezenove': 19, 'vinte': 20, 'trinta': 30, 'quarenta': 40, 'cinquenta': 50, \n",
    "       'cinqüenta': 50, 'sessenta': 60, 'setenta': 70, 'oitenta': 80, 'noventa': 90, 'cem': 100, 'cento': 100, 'e': 0}\n",
    "varios = ['cento e cinqüenta e três', 'vinte e cinco', 'noventa e sete', 'duzentos e trinta e dois', 'cento e treze']\n",
    "for s in varios:\n",
    "    tot = 0\n",
    "    for palavra in s.split():\n",
    "        if palavra in num:\n",
    "            tot += num[palavra]\n",
    "        else:\n",
    "            print('Não conheço:', s)\n",
    "            break\n",
    "    else:\n",
    "        print(tot, s, sep='\\t')"
   ]
  },
  {
   "cell_type": "markdown",
   "metadata": {},
   "source": [
    "Inicia-se um dicionario em 'num' e uma lista de strings em 'varios'. Cria-se um laço que percorrerá a lista, para cada elemento da lista (que são strings) será dividida levando em conta os espaços entre os caracteres e para cada string independente (ou seja, que foi decomposta da cadeia original) o algoritmo procurara por uma chave no dicionario que correponda a ela, caso encontre um correspondente para toda a string (que foi separada) o algoritmo imprime o valor da somado das chaves correspondentes a toda string que sofreu o split e imprime também o elemento da lista que sofre o split, caso não consiga encontrar correndente no dicionario o algoritmo imprimi uma mensagem de erro."
   ]
  },
  {
   "cell_type": "markdown",
   "metadata": {},
   "source": [
    "**1.0**"
   ]
  },
  {
   "cell_type": "markdown",
   "metadata": {},
   "source": [
    "### 2 Desenvolver códigos\n",
    "\n",
    "Para cada um dos ítens abaixo, implemente um código em Python para resolver o problema pedido."
   ]
  },
  {
   "cell_type": "markdown",
   "metadata": {},
   "source": [
    "#### 2.a  *(2,0)*"
   ]
  },
  {
   "cell_type": "markdown",
   "metadata": {},
   "source": [
    "Escreva **dois** códigos para criar uma lista (vamos chamá-la de `escolhidos`) de todos os números naturais ímpares menores do que 1000 que não são divisíveis nem por 3 nem por 5. A primeira versão deve ser feita com o uso de um `for`, enquanto a segunda versão deve usar `list comprehension`."
   ]
  },
  {
   "cell_type": "code",
   "execution_count": 37,
   "metadata": {
    "collapsed": true
   },
   "outputs": [],
   "source": [
    "#Primeiro metodo\n",
    "\n",
    "escolhidos = []\n",
    "for i in range(1000):\n",
    "    if i/2 != int(i/2):\n",
    "        if i%3 != 0 and i%5 != 0:\n",
    "            escolhidos.append(i)\n",
    "#print(escolhidos)"
   ]
  },
  {
   "cell_type": "code",
   "execution_count": 38,
   "metadata": {
    "collapsed": true
   },
   "outputs": [],
   "source": [
    "#Segundo metodo\n",
    "\n",
    "escolhidos = list(x for x in range(1000) if x/2 != int(x/2) and x%3 !=0 and x%5 != 0)\n",
    "#print(escolhidos)"
   ]
  },
  {
   "cell_type": "markdown",
   "metadata": {},
   "source": [
    "### Comentários\n",
    "\n",
    "- Não faz sentido incluir os pares quando sabemos que eles não são desejados. Basta usar `range(1,1000,2)`.\n",
    "- Por que para os pares você usou uma comparação diferente de para os múltiplos de 3 e 5?\n",
    "- Você usou um gerador para a partir dele criar uma lista. Use *list comprehension* diretamente (mais simples e mais eficiente)."
   ]
  },
  {
   "cell_type": "markdown",
   "metadata": {},
   "source": [
    "**1.0**"
   ]
  },
  {
   "cell_type": "markdown",
   "metadata": {},
   "source": [
    "#### 2.b *(1,5)*"
   ]
  },
  {
   "cell_type": "markdown",
   "metadata": {},
   "source": [
    "Escreva uma função, denominada `sumario`, que dada uma **lista** de números retorne uma tupla com 4 valores, nesta ordem:\n",
    "- O primeiro elemento da tupla é o valor mínimo da lista\n",
    "- O segundo elemento da tupla é o valor máximo da lista\n",
    "- O terceiro valor é a soma de todos os valores na lista\n",
    "- O quarto valor é a soma dos quadrados de todos os valores da lista\n",
    "\n",
    "Você pode assumir que a lista terá pelo menos um elemento.\n",
    "\n",
    "Como exemplo, o código abaixo:\n",
    "\n",
    "    alguns = [1, -2, 4, 0, -3, 5]\n",
    "    print(sumario(alguns))\n",
    "    outros = [i for i in range(0, 10, 2)]\n",
    "    print(sumario(outros))\n",
    "\n",
    "deve imprimir:\n",
    "\n",
    "    (-3, 5, 5, 55)\n",
    "    (0, 8, 20, 120)"
   ]
  },
  {
   "cell_type": "code",
   "execution_count": 39,
   "metadata": {
    "collapsed": true
   },
   "outputs": [],
   "source": [
    "def sumario(x):\n",
    "    res = ()\n",
    "    x1 = min(x)\n",
    "    x2 = max(x)\n",
    "    x3 = sum(x)\n",
    "    x4 = 0\n",
    "    for i in x:\n",
    "        n = i**2\n",
    "        x4 = x4 + n\n",
    "    res = (x1,x2,x3,x4)\n",
    "    return res"
   ]
  },
  {
   "cell_type": "markdown",
   "metadata": {},
   "source": [
    "### Comentários\n",
    "\n",
    "- Prefira `x4 += ...` a `x4 = x4 + ...`.\n",
    "- Por que calcular o quadrado na variável `n` para depois somá-la em\n",
    "`x4`? Por que não já adicionar em `x4` o valor do quadrado `x4 += i*i`?"
   ]
  },
  {
   "cell_type": "markdown",
   "metadata": {},
   "source": [
    "**1.5**"
   ]
  },
  {
   "cell_type": "markdown",
   "metadata": {},
   "source": [
    "#### 2.c *(2,5)*\n",
    "\n",
    "Chamamos um número natural $k$ de *divisor próprio* de um número natural $n$ se ele é um divisor de $n$ e se $k<n$. Por exemplo, os divisores próprios de 12 são 1, 2, 3, 4 e 6.\n",
    "\n",
    "Seja $d(n)$ uma função que, dado um número natural $n$, retorne a soma de seus divisores próprios. Por exemplo, $d(12) = 16$. Dizemos que dois números $n$ e $m$ são *amigáveis* se $d(n) = m$ e $d(m) = n$. Por exemplo, $d(220)=284$ e $d(284)=220$.\n",
    "\n",
    "Escreva um código que imprima todos os pares de números amigáveis que são menores do que 1000 (ambos os números). Cada par deve aparecer apenas uma vez."
   ]
  },
  {
   "cell_type": "code",
   "execution_count": 40,
   "metadata": {
    "collapsed": false
   },
   "outputs": [
    {
     "ename": "KeyboardInterrupt",
     "evalue": "",
     "output_type": "error",
     "traceback": [
      "\u001b[1;31m---------------------------------------------------------------------------\u001b[0m",
      "\u001b[1;31mKeyboardInterrupt\u001b[0m                         Traceback (most recent call last)",
      "\u001b[1;32m<ipython-input-40-6a4219812462>\u001b[0m in \u001b[0;36m<module>\u001b[1;34m()\u001b[0m\n\u001b[0;32m     16\u001b[0m \u001b[1;32mfor\u001b[0m \u001b[0mi\u001b[0m \u001b[1;32min\u001b[0m \u001b[0mrange\u001b[0m\u001b[1;33m(\u001b[0m\u001b[1;36m1000\u001b[0m\u001b[1;33m)\u001b[0m\u001b[1;33m:\u001b[0m\u001b[1;33m\u001b[0m\u001b[0m\n\u001b[0;32m     17\u001b[0m     \u001b[1;32mfor\u001b[0m \u001b[0mj\u001b[0m \u001b[1;32min\u001b[0m \u001b[0mrange\u001b[0m\u001b[1;33m(\u001b[0m\u001b[0mi\u001b[0m\u001b[1;33m,\u001b[0m \u001b[1;36m1000\u001b[0m\u001b[1;33m)\u001b[0m\u001b[1;33m:\u001b[0m\u001b[1;33m\u001b[0m\u001b[0m\n\u001b[1;32m---> 18\u001b[1;33m         \u001b[1;32mif\u001b[0m \u001b[0mlen\u001b[0m\u001b[1;33m(\u001b[0m\u001b[0mamigaveis\u001b[0m\u001b[1;33m(\u001b[0m\u001b[0mi\u001b[0m\u001b[1;33m,\u001b[0m\u001b[0mj\u001b[0m\u001b[1;33m)\u001b[0m\u001b[1;33m)\u001b[0m \u001b[1;33m>\u001b[0m \u001b[1;36m0\u001b[0m\u001b[1;33m:\u001b[0m\u001b[1;33m\u001b[0m\u001b[0m\n\u001b[0m\u001b[0;32m     19\u001b[0m             \u001b[0mpar\u001b[0m \u001b[1;33m=\u001b[0m \u001b[1;33m[\u001b[0m\u001b[0mi\u001b[0m\u001b[1;33m,\u001b[0m\u001b[0mj\u001b[0m\u001b[1;33m]\u001b[0m\u001b[1;33m\u001b[0m\u001b[0m\n\u001b[0;32m     20\u001b[0m \u001b[0mprint\u001b[0m\u001b[1;33m(\u001b[0m\u001b[0mpar\u001b[0m\u001b[1;33m)\u001b[0m\u001b[1;33m\u001b[0m\u001b[0m\n",
      "\u001b[1;32m<ipython-input-40-6a4219812462>\u001b[0m in \u001b[0;36mamigaveis\u001b[1;34m(n, m)\u001b[0m\n\u001b[0;32m      9\u001b[0m \u001b[1;32mdef\u001b[0m \u001b[0mamigaveis\u001b[0m\u001b[1;33m(\u001b[0m\u001b[0mn\u001b[0m\u001b[1;33m,\u001b[0m \u001b[0mm\u001b[0m\u001b[1;33m)\u001b[0m\u001b[1;33m:\u001b[0m\u001b[1;33m\u001b[0m\u001b[0m\n\u001b[0;32m     10\u001b[0m     \u001b[0ma\u001b[0m \u001b[1;33m=\u001b[0m \u001b[1;33m[\u001b[0m\u001b[1;33m]\u001b[0m\u001b[1;33m\u001b[0m\u001b[0m\n\u001b[1;32m---> 11\u001b[1;33m     \u001b[1;32mif\u001b[0m \u001b[0mdiv_proprio\u001b[0m\u001b[1;33m(\u001b[0m\u001b[0mn\u001b[0m\u001b[1;33m)\u001b[0m \u001b[1;33m==\u001b[0m \u001b[0mm\u001b[0m \u001b[1;32mand\u001b[0m \u001b[0mdiv_proprio\u001b[0m\u001b[1;33m(\u001b[0m\u001b[0mm\u001b[0m\u001b[1;33m)\u001b[0m \u001b[1;33m==\u001b[0m \u001b[0mn\u001b[0m\u001b[1;33m:\u001b[0m\u001b[1;33m\u001b[0m\u001b[0m\n\u001b[0m\u001b[0;32m     12\u001b[0m         \u001b[0ma\u001b[0m \u001b[1;33m=\u001b[0m \u001b[1;33m[\u001b[0m\u001b[0mn\u001b[0m\u001b[1;33m,\u001b[0m\u001b[0mm\u001b[0m\u001b[1;33m]\u001b[0m\u001b[1;33m\u001b[0m\u001b[0m\n\u001b[0;32m     13\u001b[0m     \u001b[1;32mreturn\u001b[0m \u001b[0ma\u001b[0m\u001b[1;33m\u001b[0m\u001b[0m\n",
      "\u001b[1;32m<ipython-input-40-6a4219812462>\u001b[0m in \u001b[0;36mdiv_proprio\u001b[1;34m(n)\u001b[0m\n\u001b[0;32m      2\u001b[0m     \u001b[0mp\u001b[0m \u001b[1;33m=\u001b[0m \u001b[1;33m[\u001b[0m\u001b[1;33m]\u001b[0m\u001b[1;33m\u001b[0m\u001b[0m\n\u001b[0;32m      3\u001b[0m     \u001b[1;32mfor\u001b[0m \u001b[0mk\u001b[0m \u001b[1;32min\u001b[0m \u001b[0mrange\u001b[0m\u001b[1;33m(\u001b[0m\u001b[1;36m1\u001b[0m\u001b[1;33m,\u001b[0m\u001b[0mn\u001b[0m\u001b[1;33m)\u001b[0m\u001b[1;33m:\u001b[0m\u001b[1;33m\u001b[0m\u001b[0m\n\u001b[1;32m----> 4\u001b[1;33m         \u001b[1;32mif\u001b[0m \u001b[0mn\u001b[0m\u001b[1;33m/\u001b[0m\u001b[0mk\u001b[0m \u001b[1;33m==\u001b[0m \u001b[0mint\u001b[0m\u001b[1;33m(\u001b[0m\u001b[0mn\u001b[0m\u001b[1;33m/\u001b[0m\u001b[0mk\u001b[0m\u001b[1;33m)\u001b[0m \u001b[1;32mand\u001b[0m \u001b[0mk\u001b[0m \u001b[1;33m<\u001b[0m \u001b[0mn\u001b[0m\u001b[1;33m:\u001b[0m\u001b[1;33m\u001b[0m\u001b[0m\n\u001b[0m\u001b[0;32m      5\u001b[0m             \u001b[0mp\u001b[0m\u001b[1;33m.\u001b[0m\u001b[0mappend\u001b[0m\u001b[1;33m(\u001b[0m\u001b[0mk\u001b[0m\u001b[1;33m)\u001b[0m\u001b[1;33m\u001b[0m\u001b[0m\n\u001b[0;32m      6\u001b[0m     \u001b[0md\u001b[0m \u001b[1;33m=\u001b[0m \u001b[0msum\u001b[0m\u001b[1;33m(\u001b[0m\u001b[0mp\u001b[0m\u001b[1;33m)\u001b[0m\u001b[1;33m\u001b[0m\u001b[0m\n",
      "\u001b[1;31mKeyboardInterrupt\u001b[0m: "
     ]
    }
   ],
   "source": [
    "def div_proprio(n):\n",
    "    p = []\n",
    "    for k in range(1,n):\n",
    "        if n/k == int(n/k) and k < n:\n",
    "            p.append(k)\n",
    "    d = sum(p)\n",
    "    return d\n",
    "\n",
    "def amigaveis(n, m):\n",
    "    a = []\n",
    "    if div_proprio(n) == m and div_proprio(m) == n:\n",
    "        a = [n,m]\n",
    "    return a\n",
    "\n",
    "par = []\n",
    "for i in range(1000):\n",
    "    for j in range(i, 1000):\n",
    "        if len(amigaveis(i,j)) > 0:\n",
    "            par = [i,j]\n",
    "print(par)"
   ]
  },
  {
   "cell_type": "markdown",
   "metadata": {},
   "source": [
    "### Comentários\n",
    "\n",
    "- O jeito de testar divisibilidade é com o operador `%`.\n",
    "- Na função `amigaveis`, os valores de `m` e `n` já foram passados, então não há sentido de retornar uma lista com esses valores. Se a função pretende apenas saber se os números são amigáveis, o tipo correto de retorno é um booleano `False` ou `True`.\n",
    "- No seu loop final, você criar várias vezes valores para a variável `par`, mas imprime apenas o último valor."
   ]
  },
  {
   "cell_type": "markdown",
   "metadata": {},
   "source": [
    "**1.5**"
   ]
  },
  {
   "cell_type": "code",
   "execution_count": null,
   "metadata": {
    "collapsed": true
   },
   "outputs": [],
   "source": []
  },
  {
   "cell_type": "code",
   "execution_count": null,
   "metadata": {
    "collapsed": true
   },
   "outputs": [],
   "source": []
  }
 ],
 "metadata": {
  "kernelspec": {
   "display_name": "Python 3",
   "language": "python",
   "name": "python3"
  },
  "language_info": {
   "codemirror_mode": {
    "name": "ipython",
    "version": 3
   },
   "file_extension": ".py",
   "mimetype": "text/x-python",
   "name": "python",
   "nbconvert_exporter": "python",
   "pygments_lexer": "ipython3",
   "version": "3.6.0"
  }
 },
 "nbformat": 4,
 "nbformat_minor": 2
}
