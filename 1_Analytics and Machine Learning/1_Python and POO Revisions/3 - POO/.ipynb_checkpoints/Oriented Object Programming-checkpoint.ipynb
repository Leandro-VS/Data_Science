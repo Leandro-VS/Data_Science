{
 "cells": [
  {
   "cell_type": "markdown",
   "metadata": {},
   "source": [
    "# POO"
   ]
  },
  {
   "cell_type": "markdown",
   "metadata": {},
   "source": [
    "POO é um paradigma de programção para facilitar o desenvolvimento de softwares"
   ]
  },
  {
   "cell_type": "markdown",
   "metadata": {},
   "source": [
    "Exemplo:"
   ]
  },
  {
   "cell_type": "code",
   "execution_count": 25,
   "metadata": {},
   "outputs": [
    {
     "data": {
      "application/javascript": [
       "IPython.notebook.set_autosave_interval(120000)"
      ]
     },
     "metadata": {},
     "output_type": "display_data"
    },
    {
     "name": "stdout",
     "output_type": "stream",
     "text": [
      "Autosaving every 120 seconds\n"
     ]
    }
   ],
   "source": [
    "%autosave 120\n",
    "#Criar uma classe vazia\n",
    "class Carro:\n",
    "    pass"
   ]
  },
  {
   "cell_type": "code",
   "execution_count": 2,
   "metadata": {},
   "outputs": [],
   "source": [
    "#Criar uma instancia, ou seja, criar um objeto da classe carro\n",
    "meu_carro = Carro()\n",
    "\n",
    "meu_carro_2 = Carro()"
   ]
  },
  {
   "cell_type": "code",
   "execution_count": 10,
   "metadata": {},
   "outputs": [],
   "source": [
    "#Definir atributos aos objetos\n",
    "meu_carro.ano = 1968\n",
    "meu_carro.modelo = 'Fusca'\n",
    "meu_carro.cor = 'azul'\n",
    "\n",
    "meu_carro_2.ano = 1981\n",
    "meu_carro_2.modelo = 'Gol'\n",
    "meu_carro_2.cor = 'verde'"
   ]
  },
  {
   "cell_type": "code",
   "execution_count": 17,
   "metadata": {},
   "outputs": [
    {
     "data": {
      "text/plain": [
       "1978"
      ]
     },
     "execution_count": 17,
     "metadata": {},
     "output_type": "execute_result"
    }
   ],
   "source": [
    "meu_carro.ano"
   ]
  },
  {
   "cell_type": "code",
   "execution_count": 18,
   "metadata": {},
   "outputs": [
    {
     "data": {
      "text/plain": [
       "'Fusca'"
      ]
     },
     "execution_count": 18,
     "metadata": {},
     "output_type": "execute_result"
    }
   ],
   "source": [
    "meu_carro.modelo"
   ]
  },
  {
   "cell_type": "code",
   "execution_count": 19,
   "metadata": {},
   "outputs": [
    {
     "data": {
      "text/plain": [
       "'Gol'"
      ]
     },
     "execution_count": 19,
     "metadata": {},
     "output_type": "execute_result"
    }
   ],
   "source": [
    "meu_carro_2.modelo"
   ]
  },
  {
   "cell_type": "code",
   "execution_count": 20,
   "metadata": {},
   "outputs": [],
   "source": [
    "new_car = meu_carro\n",
    "new_car.ano += 10\n",
    "\n",
    "new_car_2 = Carro()"
   ]
  },
  {
   "cell_type": "code",
   "execution_count": 21,
   "metadata": {},
   "outputs": [
    {
     "data": {
      "text/plain": [
       "1988"
      ]
     },
     "execution_count": 21,
     "metadata": {},
     "output_type": "execute_result"
    }
   ],
   "source": [
    "meu_carro.ano"
   ]
  },
  {
   "cell_type": "code",
   "execution_count": 22,
   "metadata": {},
   "outputs": [
    {
     "data": {
      "text/plain": [
       "1988"
      ]
     },
     "execution_count": 22,
     "metadata": {},
     "output_type": "execute_result"
    }
   ],
   "source": [
    "new_car.ano"
   ]
  },
  {
   "cell_type": "markdown",
   "metadata": {},
   "source": [
    "### Construtor"
   ]
  },
  {
   "cell_type": "markdown",
   "metadata": {},
   "source": [
    "Método especial _init_, é chamado automaticamente pelo interpretador quando os objetos são criados"
   ]
  },
  {
   "cell_type": "code",
   "execution_count": 33,
   "metadata": {},
   "outputs": [],
   "source": [
    "class Carro:\n",
    "    def __init__(self,modelo,ano,cor):\n",
    "        self.modelo = modelo            #Atribui o parametro passado como um atributo do objeto da classe\n",
    "        self.ano = ano                  #  //\n",
    "        self.cor = cor                  # //"
   ]
  },
  {
   "cell_type": "markdown",
   "metadata": {},
   "source": [
    "O metodo __init__ nos permite,ao criar um objeto de determinado classe, passar alguns parametros que seram atribuidos ao objeto assim que ele for instanciado"
   ]
  },
  {
   "cell_type": "markdown",
   "metadata": {},
   "source": [
    "O argumento __self__ é uma variável que representa o proprio objeto, e é o proprio interpretador que passara o valor desta variável (na verdade o interpretador passa para a variável o endereço de memoria onde o objeto esta armazenado)"
   ]
  },
  {
   "cell_type": "code",
   "execution_count": 34,
   "metadata": {},
   "outputs": [],
   "source": [
    "Meu_carro_novo = Carro('Dodge Viper', 2010, 'Preto')"
   ]
  },
  {
   "cell_type": "code",
   "execution_count": 35,
   "metadata": {},
   "outputs": [
    {
     "data": {
      "text/plain": [
       "('Dodge Viper', 2010, 'Preto')"
      ]
     },
     "execution_count": 35,
     "metadata": {},
     "output_type": "execute_result"
    }
   ],
   "source": [
    "Meu_carro_novo.modelo, Meu_carro_novo.ano, Meu_carro_novo.cor"
   ]
  },
  {
   "cell_type": "markdown",
   "metadata": {},
   "source": [
    "___Exemplo___"
   ]
  },
  {
   "cell_type": "code",
   "execution_count": 147,
   "metadata": {},
   "outputs": [],
   "source": [
    "class Livro():\n",
    "    def __init__(self, titulo, autor, genero):\n",
    "        self.titulo = titulo\n",
    "        self.autor = autor\n",
    "        self.genero = genero\n",
    "        \n",
    "    def status(self, status):\n",
    "        self.status = status\n",
    "        if self.status == \"Lendo\":\n",
    "            print(\"Livro: %s --> %s\"%(self.titulo, self.status))\n",
    "        elif self.status == \"Lido\":\n",
    "            print(\"Livro: %s --> %s\"%(self.titulo, self.status))\n",
    "        else:\n",
    "            print(\"Livro: %s --> %s\"%(self.titulo, self.status))\n",
    "        \n",
    "        \n",
    "      \n",
    "            "
   ]
  },
  {
   "cell_type": "code",
   "execution_count": 148,
   "metadata": {},
   "outputs": [
    {
     "name": "stdout",
     "output_type": "stream",
     "text": [
      "Livro: O segredo dos corpos --> Lendo\n",
      "Livro: Caixa de passaros --> Lido\n",
      "Livro: O fim da eternidade --> Quero ler\n"
     ]
    }
   ],
   "source": [
    "book1 = Livro('O segredo dos corpos', 'Dr. Vicenti Di Maio', 'Não-Ficção')\n",
    "book2 = Livro('Caixa de passaros', 'Josh Malerman', 'Ficção')\n",
    "book3 = Livro('O fim da eternidade', 'Azimov', 'Ficção')\n",
    "\n",
    "book1.status('Lendo')\n",
    "book2.status('Lido')\n",
    "book3.status('Quero ler')"
   ]
  },
  {
   "cell_type": "markdown",
   "metadata": {},
   "source": [
    "__Códigos testaveis__"
   ]
  },
  {
   "cell_type": "markdown",
   "metadata": {},
   "source": [
    "Escrever o código de uma forma que permita que, posteriormente, algoritmos sejam criados para testar a validade  do código em questão"
   ]
  },
  {
   "cell_type": "code",
   "execution_count": 152,
   "metadata": {},
   "outputs": [],
   "source": [
    "#Formula de Baskara\n",
    "import math\n",
    "\n",
    "def delta(a,b,c):\n",
    "    return b**2 - 4*a*c\n",
    "   \n",
    "def imprime_raizes(a, b, c):\n",
    "    d = delta(a, b, c)\n",
    "    \n",
    "    if d == 0:\n",
    "        raiz_1 = (-b + math.sqrt(d)) / (2*a)\n",
    "        print(\"A unica raiz é: \", raiz_1)\n",
    "    else:\n",
    "        if d < 0:\n",
    "            print(\"Esta equação nao possui raizes reais\")\n",
    "        else:\n",
    "            raiz_1 = (-b + math.sqrt(d)) / (2*a)\n",
    "            raiz_2 = (-b - math.sqrt(d)) / (2*a)\n",
    "            print(\"A primeira raiz é: \", raiz_1)\n",
    "            print(\"A segunda raiz é: \", raiz_2)"
   ]
  },
  {
   "cell_type": "code",
   "execution_count": 154,
   "metadata": {},
   "outputs": [
    {
     "name": "stdout",
     "output_type": "stream",
     "text": [
      "Digite o valor de a: 10\n",
      "Digite o valor de b: 20\n",
      "Digite o valor de c: 10\n",
      "A unica raiz é:  -1.0\n"
     ]
    }
   ],
   "source": [
    "a_digitado = float(input(\"Digite o valor de a: \"))\n",
    "b_digitado = float(input(\"Digite o valor de b: \"))\n",
    "c_digitado = float(input(\"Digite o valor de c: \"))\n",
    "    \n",
    "imprime_raizes(a_digitado, b_digitado, c_digitado)"
   ]
  },
  {
   "cell_type": "markdown",
   "metadata": {},
   "source": [
    "o Código acima funciona bem, porem é muito dificil de torna-lo testável, uma das razões é que ele imprime muitas coisas e o algoritmo de teste nao tem como verificar o que esta sendo impresso na tela"
   ]
  },
  {
   "cell_type": "markdown",
   "metadata": {},
   "source": [
    "_Refatoração o código afim de torna-lo testável (Tornando-o Orientado a objeto também)_"
   ]
  },
  {
   "cell_type": "code",
   "execution_count": 211,
   "metadata": {},
   "outputs": [],
   "source": [
    "# class Bhaskara():\n",
    "#     def delta(self, a,b,c):\n",
    "#         return b**2 - 4*a*c\n",
    "\n",
    "#     def calcula_raiz(self, a, b, c):\n",
    "#         d = self.delta(a, b, c)\n",
    "#         if d == 0:\n",
    "#             raiz_1 = (-b + math.sqrt(d)) / (2*a)\n",
    "#             return 1,raiz_1\n",
    "#         else:\n",
    "#             if d < 0:\n",
    "#                 return 0\n",
    "#             else:\n",
    "#                 raiz_1 = (-b + math.sqrt(d)) / (2*a)\n",
    "#                 raiz_2 = (-b - math.sqrt(d)) / (2*a)\n",
    "#                 return 2, raiz_1, raiz_2\n",
    "#     def main(self):\n",
    "#         a_digitado = float(input(\"Digite o valor de a: \"))\n",
    "#         b_digitado = float(input(\"Digite o valor de b: \"))\n",
    "#         c_digitado = float(input(\"Digite o valor de c: \"))\n",
    "    \n",
    "#         print(self.calcula_raiz(a_digitado, b_digitado, c_digitado))"
   ]
  },
  {
   "cell_type": "code",
   "execution_count": 159,
   "metadata": {},
   "outputs": [
    {
     "name": "stdout",
     "output_type": "stream",
     "text": [
      "Digite o valor de a: 10\n",
      "Digite o valor de b: 20\n",
      "Digite o valor de c: 10\n",
      "(1, -1.0)\n"
     ]
    }
   ],
   "source": [
    "x = Bhaskara()\n",
    "x.main()"
   ]
  },
  {
   "cell_type": "markdown",
   "metadata": {},
   "source": [
    "_Código testável_"
   ]
  },
  {
   "cell_type": "markdown",
   "metadata": {},
   "source": [
    "Implementação em arquivos.py e compilando-os no terminal utilizando o comando do interpetrador python ___py.test___"
   ]
  },
  {
   "cell_type": "code",
   "execution_count": 228,
   "metadata": {},
   "outputs": [],
   "source": [
    "#O código abaixo esta comentado pois a implentação para o teste é feita em outro arquivo"
   ]
  },
  {
   "cell_type": "code",
   "execution_count": 229,
   "metadata": {},
   "outputs": [],
   "source": [
    "#Código que testa a classe Bhaskara para algumas situações\n",
    "\n",
    "# import Bhaskara\n",
    "\n",
    "# class TestBhaskara():\n",
    "\n",
    "#     def testa_uma_raiz(self):\n",
    "#         y = Bhaskara.Bhaskara()\n",
    "#         assert y.calcula_raiz(1,0,0) == (1,0)\n",
    "\n",
    "#     def testa_duas_raizes(self):\n",
    "#         y = Bhaskara.Bhaskara()\n",
    "#         assert y.calcula_raiz(1,-5,6) == (2,3,2)\n",
    "\n",
    "#     def testa_zero_raizes(self):\n",
    "#         y = Bhaskara.Bhaskara()\n",
    "#         assert y.calcula_raiz(10,10,10) == 0\n",
    "\n",
    "#     def testa_raiz_negativa(self):\n",
    "#         y = Bhaskara.Bhaskara()\n",
    "#         assert y.calcula_raiz(10,20,10) == (1,-1)"
   ]
  },
  {
   "cell_type": "markdown",
   "metadata": {},
   "source": [
    "__Fixtures__"
   ]
  },
  {
   "cell_type": "markdown",
   "metadata": {},
   "source": [
    "É um valor fixo para um conjunto de testes, normalmente é utilizado para guardar objetos que requerem um pouco mais de trabalho para ser criado"
   ]
  },
  {
   "cell_type": "markdown",
   "metadata": {},
   "source": [
    "Para definir um fixture implentamos um função que cria o objeto e a marcamos com __@__"
   ]
  },
  {
   "cell_type": "markdown",
   "metadata": {},
   "source": [
    "_EX: @pytest.fixture_"
   ]
  },
  {
   "cell_type": "code",
   "execution_count": 230,
   "metadata": {},
   "outputs": [],
   "source": [
    "#O código abaixo esta comentado pois a implentação para o teste é feita em outro arquivo"
   ]
  },
  {
   "cell_type": "code",
   "execution_count": 231,
   "metadata": {},
   "outputs": [],
   "source": [
    "#Código de teste com a inclusão de Fixture\n",
    "\n",
    "# import Bhaskara\n",
    "# import pytest\n",
    "\n",
    "# class TestBhaskara():\n",
    "\n",
    "#     @pytest.fixture  #Implementação da Fixture\n",
    "#     def y(self):\n",
    "#         return Bhaskara.Bhaskara\n",
    "    \n",
    "#     def testa_uma_raiz(self, y):\n",
    "#         assert y.calcula_raiz(1,0,0) == (1,0)\n",
    "\n",
    "#     def testa_duas_raizes(self, y):\n",
    "#         assert y.calcula_raiz(1,-5,6) == (2,3,2)\n",
    "\n",
    "#     def testa_zero_raizes(self, y):\n",
    "#         assert y.calcula_raiz(10,10,10) == 0\n",
    "\n",
    "#     def testa_raiz_negativa(self, y):\n",
    "#         assert y.calcula_raiz(10,20,10) == (1,-1)"
   ]
  },
  {
   "cell_type": "markdown",
   "metadata": {},
   "source": [
    "__Parametrização__"
   ]
  },
  {
   "cell_type": "markdown",
   "metadata": {},
   "source": [
    "Quando precisamos testar nosso codigo em varios casos semelhantes, podemos utlizar no nosso código teste a função _ @pytest.mark.parametrize _"
   ]
  },
  {
   "cell_type": "code",
   "execution_count": 232,
   "metadata": {},
   "outputs": [],
   "source": [
    "# import pytest\n",
    "\n",
    "# @pytest.mark.parametrize(\"entrada, valor esperado\", [\n",
    "#     (0,0)\n",
    "#     (1,1)\n",
    "#     (2,8)\n",
    "#     (-2,-8)\n",
    "#     (10,1000)\n",
    "# ])"
   ]
  },
  {
   "cell_type": "markdown",
   "metadata": {},
   "source": [
    "Implementando em um teste que verifica os valores de um algoritmo de calculo de fatorial"
   ]
  },
  {
   "cell_type": "code",
   "execution_count": 233,
   "metadata": {},
   "outputs": [],
   "source": [
    "#Os códigos abaixo estão comentados pois a implentação para o teste é feita em outro arquivo"
   ]
  },
  {
   "cell_type": "code",
   "execution_count": 234,
   "metadata": {},
   "outputs": [],
   "source": [
    "#Implementação da função que calcula o fatorial\n",
    "# def fatorial(n):\n",
    "#     if n < 0:\n",
    "#         return 0\n",
    "#     i = fat = 1\n",
    "#     while i <= n:\n",
    "#         fat = fat*i\n",
    "#         i = i + 1\n",
    "#     return fat"
   ]
  },
  {
   "cell_type": "code",
   "execution_count": 239,
   "metadata": {},
   "outputs": [],
   "source": [
    "#Implementação do código que testa a função fatorial\n",
    "\n",
    "# import pytest\n",
    "\n",
    "# @pytest.mark.parametrize(\"entrada, esperado\", [\n",
    "#     (0,1),\n",
    "#     (1,1),\n",
    "#     (-10,0),\n",
    "#     (4,24),\n",
    "#     (5,120)\n",
    "#     ])\n",
    "# def Test(entrada, esperado):\n",
    "#     assert fatorial(entrada) == esperado"
   ]
  },
  {
   "cell_type": "markdown",
   "metadata": {},
   "source": [
    "___Exercicio___"
   ]
  },
  {
   "cell_type": "code",
   "execution_count": 283,
   "metadata": {},
   "outputs": [],
   "source": [
    "#Código comentado pois foi implementado em um arquivo separado para utilização da função pytest no terminal"
   ]
  },
  {
   "cell_type": "code",
   "execution_count": 288,
   "metadata": {},
   "outputs": [],
   "source": [
    "# import math\n",
    "# import pytest\n",
    "\n",
    "# def delta(a,b,c):\n",
    "#     return b**2 - 4*a*c\n",
    "\n",
    "# def calcula_raiz(a, b, c):\n",
    "#         d = delta(a, b, c)\n",
    "#         if d == 0:\n",
    "#             raiz_1 = (-b + math.sqrt(d)) / (2*a)\n",
    "#             return 1,raiz_1\n",
    "#         else:\n",
    "#             if d < 0:\n",
    "#                 return 0\n",
    "#             else:\n",
    "#                 raiz_1 = (-b + math.sqrt(d)) / (2*a)\n",
    "#                 raiz_2 = (-b - math.sqrt(d)) / (2*a)\n",
    "#                 return 2, raiz_1, raiz_2\n",
    "\n",
    "\n",
    "# @pytest.mark.parametrize(\"entrada, esperado\", [\n",
    "#     ((1,0,0),(1,0)),\n",
    "#     ((1,-5,6),(2,3,2)),\n",
    "#     ((10,10,10),(0)),\n",
    "#     ((10,20,10),(1,-1)),\n",
    "#     ])\n",
    "    \n",
    "# def test(entrada, esperado):\n",
    "# \ta, b, c = entrada\n",
    "# \tassert calcula_raiz(a, b, c) == esperado"
   ]
  },
  {
   "cell_type": "code",
   "execution_count": null,
   "metadata": {},
   "outputs": [],
   "source": []
  },
  {
   "cell_type": "code",
   "execution_count": null,
   "metadata": {},
   "outputs": [],
   "source": []
  },
  {
   "cell_type": "code",
   "execution_count": null,
   "metadata": {},
   "outputs": [],
   "source": []
  },
  {
   "cell_type": "code",
   "execution_count": null,
   "metadata": {},
   "outputs": [],
   "source": []
  },
  {
   "cell_type": "code",
   "execution_count": null,
   "metadata": {},
   "outputs": [],
   "source": []
  }
 ],
 "metadata": {
  "kernelspec": {
   "display_name": "Python 3",
   "language": "python",
   "name": "python3"
  },
  "language_info": {
   "codemirror_mode": {
    "name": "ipython",
    "version": 3
   },
   "file_extension": ".py",
   "mimetype": "text/x-python",
   "name": "python",
   "nbconvert_exporter": "python",
   "pygments_lexer": "ipython3",
   "version": "3.7.1"
  }
 },
 "nbformat": 4,
 "nbformat_minor": 2
}
