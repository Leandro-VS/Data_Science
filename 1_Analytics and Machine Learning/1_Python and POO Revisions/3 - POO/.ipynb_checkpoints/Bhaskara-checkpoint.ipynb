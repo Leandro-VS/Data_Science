{
 "cells": [
  {
   "cell_type": "code",
   "execution_count": 1,
   "metadata": {},
   "outputs": [],
   "source": [
    "import math\n",
    "\n",
    "class Bhaskara():\n",
    "    def delta(self, a,b,c):\n",
    "        return b**2 - 4*a*c\n",
    "\n",
    "    def calcula_raiz(self, a, b, c):\n",
    "        d = self.delta(a, b, c)\n",
    "        if d == 0:\n",
    "            raiz_1 = (-b + math.sqrt(d)) / (2*a)\n",
    "            return 1,raiz_1\n",
    "        else:\n",
    "            if d < 0:\n",
    "                return 0\n",
    "            else:\n",
    "                raiz_1 = (-b + math.sqrt(d)) / (2*a)\n",
    "                raiz_2 = (-b - math.sqrt(d)) / (2*a)\n",
    "                return 2, raiz_1, raiz_2\n",
    "    def main(self):\n",
    "        a_digitado = float(input(\"Digite o valor de a: \"))\n",
    "        b_digitado = float(input(\"Digite o valor de b: \"))\n",
    "        c_digitado = float(input(\"Digite o valor de c: \"))\n",
    "    \n",
    "        print(self.calcula_raiz(a_digitado, b_digitado, c_digitado))"
   ]
  },
  {
   "cell_type": "code",
   "execution_count": null,
   "metadata": {},
   "outputs": [],
   "source": []
  }
 ],
 "metadata": {
  "kernelspec": {
   "display_name": "Python 3",
   "language": "python",
   "name": "python3"
  },
  "language_info": {
   "codemirror_mode": {
    "name": "ipython",
    "version": 3
   },
   "file_extension": ".py",
   "mimetype": "text/x-python",
   "name": "python",
   "nbconvert_exporter": "python",
   "pygments_lexer": "ipython3",
   "version": "3.7.1"
  }
 },
 "nbformat": 4,
 "nbformat_minor": 2
}
