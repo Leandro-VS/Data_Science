{
 "cells": [
  {
   "cell_type": "code",
   "execution_count": 81,
   "metadata": {},
   "outputs": [],
   "source": [
    "import math\n",
    "\n",
    "class Triangulo():\n",
    "    def __init__(self, a, b, c):\n",
    "        self.a = a\n",
    "        self.b = b\n",
    "        self.c = c\n",
    "    \n",
    "    def perimetro(self):\n",
    "        return self.a + self.b + self.c\n",
    "    \n",
    "    def tipo_lado(self):\n",
    "        if self.a == self.b and self.b == self.c:\n",
    "            return \"equilatero\"\n",
    "        elif self.a == self.b and self.b != self.c or self.a == self.c and self.c != self.b or self.b == self.c and self.c != self.a:\n",
    "            return \"isóceles\"\n",
    "        elif self.a != self.b and self.a != self.c and self.b!= self.c:\n",
    "            return \"escaleno\"\n",
    "        \n",
    "    def retangulo(self):\n",
    "        if self.a**2 == self.b**2 + self.c**2 or self.b**2 == self.a**2 + self.c**2 or self.c**2 == self.a**2 + self.b**2:\n",
    "                return True\n",
    "        else:\n",
    "            return False\n",
    "        \n",
    "    def semelhantes(self,t):\n",
    "        t1 = [self.a, self.b, self.c]\n",
    "        t2 = [t.a, t.b, t.c]\n",
    "        aux = []\n",
    "        \n",
    "        for i in range(len(t1)):\n",
    "            if t1[i] % t2[i] == 0 or t1[i]/t2[i] == 0.5:\n",
    "                aux.append(1)\n",
    "                i = i+1\n",
    "            else:\n",
    "                    aux.append(0)\n",
    "        if aux[0] == 1 and aux[1] == 1 and aux[2] == 1:\n",
    "            return True\n",
    "        else:\n",
    "            return False"
   ]
  },
  {
   "cell_type": "code",
   "execution_count": 84,
   "metadata": {},
   "outputs": [],
   "source": [
    "z1 = Triangulo(2,2,2)\n",
    "z2 = Triangulo(4,4,4)"
   ]
  },
  {
   "cell_type": "code",
   "execution_count": 85,
   "metadata": {},
   "outputs": [
    {
     "data": {
      "text/plain": [
       "True"
      ]
     },
     "execution_count": 85,
     "metadata": {},
     "output_type": "execute_result"
    }
   ],
   "source": [
    "z1.semelhantes(z2)"
   ]
  },
  {
   "cell_type": "code",
   "execution_count": null,
   "metadata": {},
   "outputs": [],
   "source": []
  },
  {
   "cell_type": "code",
   "execution_count": null,
   "metadata": {},
   "outputs": [],
   "source": []
  },
  {
   "cell_type": "code",
   "execution_count": null,
   "metadata": {},
   "outputs": [],
   "source": []
  }
 ],
 "metadata": {
  "kernelspec": {
   "display_name": "Python 3",
   "language": "python",
   "name": "python3"
  },
  "language_info": {
   "codemirror_mode": {
    "name": "ipython",
    "version": 3
   },
   "file_extension": ".py",
   "mimetype": "text/x-python",
   "name": "python",
   "nbconvert_exporter": "python",
   "pygments_lexer": "ipython3",
   "version": "3.7.1"
  }
 },
 "nbformat": 4,
 "nbformat_minor": 2
}
