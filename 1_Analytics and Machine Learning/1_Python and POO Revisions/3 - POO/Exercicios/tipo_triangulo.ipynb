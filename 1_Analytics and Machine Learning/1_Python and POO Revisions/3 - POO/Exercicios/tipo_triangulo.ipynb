{
 "cells": [
  {
   "cell_type": "code",
   "execution_count": 13,
   "metadata": {},
   "outputs": [],
   "source": [
    "class Triangulo():\n",
    "    def __init__(self, a, b, c):\n",
    "        self.a = a\n",
    "        self.b = b\n",
    "        self.c = c\n",
    "    \n",
    "    def perimetro(self):\n",
    "        return self.a + self.b + self.c\n",
    "    \n",
    "    def tipo_lado(self):\n",
    "        if self.a == self.b and self.b == self.c:\n",
    "            return \"equilatero\"\n",
    "        elif self.a == self.b and self.b != self.c or self.a == self.c and self.c != self.b or self.b == self.c and self.c != self.a:\n",
    "            return \"isóceles\"\n",
    "        elif self.a != self.b and self.a != self.c and self.b!= self.c:\n",
    "            return \"escaleno\""
   ]
  },
  {
   "cell_type": "code",
   "execution_count": null,
   "metadata": {},
   "outputs": [],
   "source": []
  },
  {
   "cell_type": "code",
   "execution_count": null,
   "metadata": {},
   "outputs": [],
   "source": []
  },
  {
   "cell_type": "code",
   "execution_count": null,
   "metadata": {},
   "outputs": [],
   "source": []
  }
 ],
 "metadata": {
  "kernelspec": {
   "display_name": "Python 3",
   "language": "python",
   "name": "python3"
  },
  "language_info": {
   "codemirror_mode": {
    "name": "ipython",
    "version": 3
   },
   "file_extension": ".py",
   "mimetype": "text/x-python",
   "name": "python",
   "nbconvert_exporter": "python",
   "pygments_lexer": "ipython3",
   "version": "3.7.1"
  }
 },
 "nbformat": 4,
 "nbformat_minor": 2
}
