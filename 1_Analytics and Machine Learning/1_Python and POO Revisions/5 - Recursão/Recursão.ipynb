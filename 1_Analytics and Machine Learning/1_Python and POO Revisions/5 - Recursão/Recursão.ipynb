{
 "cells": [
  {
   "cell_type": "code",
   "execution_count": 2,
   "metadata": {},
   "outputs": [
    {
     "data": {
      "application/javascript": [
       "IPython.notebook.set_autosave_interval(120000)"
      ]
     },
     "metadata": {},
     "output_type": "display_data"
    },
    {
     "name": "stdout",
     "output_type": "stream",
     "text": [
      "Autosaving every 120 seconds\n"
     ]
    }
   ],
   "source": [
    "%autosave 120"
   ]
  },
  {
   "cell_type": "markdown",
   "metadata": {},
   "source": [
    "Em muitos casos podemos compartimentar nosso problema em problemas menores, tais \"probleminhas\" podem ser semelhantes entre si; neste cenario utilizamos a recursão. <br/> "
   ]
  },
  {
   "cell_type": "markdown",
   "metadata": {},
   "source": [
    "# Exemplos:"
   ]
  },
  {
   "cell_type": "markdown",
   "metadata": {},
   "source": [
    "### Fatorial"
   ]
  },
  {
   "cell_type": "code",
   "execution_count": 110,
   "metadata": {},
   "outputs": [],
   "source": [
    "def fatorial(n):\n",
    "    if n < 1: #Base da recursão\n",
    "        return 1\n",
    "    else:\n",
    "        return n * fatorial(n-1) #Chamada recursiva"
   ]
  },
  {
   "cell_type": "code",
   "execution_count": 112,
   "metadata": {},
   "outputs": [
    {
     "data": {
      "text/plain": [
       "[1, 1, 2, 6, 24, 120]"
      ]
     },
     "execution_count": 112,
     "metadata": {},
     "output_type": "execute_result"
    }
   ],
   "source": [
    "x = []\n",
    "for i in range(6):\n",
    "    x.append(fatorial(i))\n",
    "x"
   ]
  },
  {
   "cell_type": "markdown",
   "metadata": {},
   "source": [
    "### Fibonacci"
   ]
  },
  {
   "cell_type": "code",
   "execution_count": 175,
   "metadata": {},
   "outputs": [],
   "source": [
    "def fibonacci(n):\n",
    "    if n < 2: #Base da recursão\n",
    "        return n\n",
    "    else:\n",
    "        return fibonacci(n-1) + fibonacci(n-2) #Chamada recursiva"
   ]
  },
  {
   "cell_type": "code",
   "execution_count": 176,
   "metadata": {},
   "outputs": [
    {
     "name": "stdout",
     "output_type": "stream",
     "text": [
      "[0, 1, 1, 2, 3, 5, 8, 13, 21, 34]\n"
     ]
    }
   ],
   "source": [
    "y = []\n",
    "for i in range(10):\n",
    "    y.append(fibonacci(i))\n",
    "print(y)"
   ]
  },
  {
   "cell_type": "markdown",
   "metadata": {},
   "source": [
    "### Busca Binaria "
   ]
  },
  {
   "cell_type": "code",
   "execution_count": 177,
   "metadata": {},
   "outputs": [],
   "source": [
    "def busca_binaria_recursiva(lista, elemento, min=0, max=None):\n",
    "    if max == None:\n",
    "        max = len(lista) - 1\n",
    "    if max < min:\n",
    "        return False\n",
    "    else:\n",
    "        meio = min + (max-min)//2\n",
    "        \n",
    "    if lista[meio] > elemento:\n",
    "        return busca_binaria_recursiva(lista, elemento, min, meio - 1) #Chamada recursiva\n",
    "    elif lista[meio] < elemento:\n",
    "        return busca_binaria_recursiva(lista, elemento, meio + 1, max) #Chamada recursiva\n",
    "    else:\n",
    "        return meio"
   ]
  },
  {
   "cell_type": "code",
   "execution_count": 178,
   "metadata": {},
   "outputs": [
    {
     "data": {
      "text/plain": [
       "21"
      ]
     },
     "execution_count": 178,
     "metadata": {},
     "output_type": "execute_result"
    }
   ],
   "source": [
    "z = [x for x in range(-20, 20)]\n",
    "#print(z)\n",
    "busca_binaria_recursiva(z, 1, 0)"
   ]
  },
  {
   "cell_type": "markdown",
   "metadata": {},
   "source": [
    "## Merge Sort"
   ]
  },
  {
   "cell_type": "markdown",
   "metadata": {},
   "source": [
    "Algoritmo de ordenação que utiliza recursão.<br/>\n",
    "_Ele divide a lista em sublistas recursivamente, até que cada sublista contenha apenas um elemento;_<br/>\n",
    "_em seguida intercala as sublistas para produzir uma nova lista ordenada_"
   ]
  },
  {
   "cell_type": "markdown",
   "metadata": {},
   "source": [
    "_Animação Merge Sort_<br/>\n",
    "https://pt.wikipedia.org/wiki/Merge_sort#/media/Ficheiro:Merge-sort-example-300px.gif"
   ]
  },
  {
   "cell_type": "markdown",
   "metadata": {},
   "source": [
    "_Animações com varios algoritmos de ordenação_<br/>\n",
    "https://www.toptal.com/developers/sorting-algorithms"
   ]
  },
  {
   "cell_type": "code",
   "execution_count": 179,
   "metadata": {},
   "outputs": [],
   "source": [
    "#Função para dividir a listas em sublistas até que cada uma contenha apenas um elemento\n",
    "def merge_sort(lista):\n",
    "    if len(lista) <= 1:  #Base da recursão\n",
    "        return lista\n",
    "    \n",
    "    meio = len(lista) // 2\n",
    "    \n",
    "    lado_esquerdo = merge_sort(lista[:meio])#Chamada recursiva\n",
    "    #print('lado esquerdo',lado_esquerdo)\n",
    "    lado_direito = merge_sort(lista[meio:])\n",
    "    #print('lado direito',lado_direito)\n",
    "    \n",
    "    return merge(lado_esquerdo, lado_direito)\n",
    "\n",
    "    \n",
    "#Função para intercalar as sublistas\n",
    "def merge(lado_esquerdo, lado_direito):\n",
    "    if not lado_esquerdo:\n",
    "        return lado_direito\n",
    "    if not lado_direito:\n",
    "        return lado_esquerdo\n",
    "    \n",
    "    if lado_esquerdo[0] < lado_direito[0]:\n",
    "        return [lado_esquerdo[0]] + merge(lado_esquerdo[1:], lado_direito)\n",
    "    \n",
    "    return [lado_direito[0]] + merge(lado_esquerdo, lado_direito[1:])"
   ]
  },
  {
   "cell_type": "code",
   "execution_count": 180,
   "metadata": {},
   "outputs": [],
   "source": [
    "lista1 = [5,4,3,2,1]"
   ]
  },
  {
   "cell_type": "code",
   "execution_count": 181,
   "metadata": {},
   "outputs": [
    {
     "data": {
      "text/plain": [
       "[1, 2, 3, 4, 5]"
      ]
     },
     "execution_count": 181,
     "metadata": {},
     "output_type": "execute_result"
    }
   ],
   "source": [
    "merge_sort(lista1)"
   ]
  },
  {
   "cell_type": "code",
   "execution_count": null,
   "metadata": {},
   "outputs": [],
   "source": []
  },
  {
   "cell_type": "code",
   "execution_count": null,
   "metadata": {},
   "outputs": [],
   "source": []
  },
  {
   "cell_type": "code",
   "execution_count": null,
   "metadata": {},
   "outputs": [],
   "source": []
  },
  {
   "cell_type": "code",
   "execution_count": null,
   "metadata": {},
   "outputs": [],
   "source": []
  }
 ],
 "metadata": {
  "kernelspec": {
   "display_name": "Python 3",
   "language": "python",
   "name": "python3"
  },
  "language_info": {
   "codemirror_mode": {
    "name": "ipython",
    "version": 3
   },
   "file_extension": ".py",
   "mimetype": "text/x-python",
   "name": "python",
   "nbconvert_exporter": "python",
   "pygments_lexer": "ipython3",
   "version": "3.7.1"
  }
 },
 "nbformat": 4,
 "nbformat_minor": 2
}
