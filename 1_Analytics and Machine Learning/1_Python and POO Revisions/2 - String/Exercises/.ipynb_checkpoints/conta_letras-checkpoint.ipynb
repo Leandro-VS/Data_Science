{
 "cells": [
  {
   "cell_type": "code",
   "execution_count": 1,
   "metadata": {},
   "outputs": [],
   "source": [
    "def conta_letras(frase, contar= \"vogais\"):\n",
    "    count = 0\n",
    "    if contar == \"vogais\":\n",
    "        for i in range(len(frase)):\n",
    "            if frase[i] == 'a' or frase[i] == 'A' or frase[i] == 'e' or frase[i] == 'E' or frase[i] == 'i' or frase[i] == 'I' or frase[i] == 'o' or frase[i] == 'O' or frase[i] == 'u' or frase[i] == 'U':\n",
    "                 count += 1\n",
    "        return count\n",
    "    elif contar == \"consoantes\":\n",
    "        x = frase.split()\n",
    "        for i in range(len(x)):\n",
    "            for j in range(len(x[i])):\n",
    "                if x[i][j] != 'a' and x[i][j] != 'A' and x[i][j] != 'e' and x[i][j] != 'E' and x[i][j] != 'i' and x[i][j] != 'I' and x[i][j] != 'o' and x[i][j] != 'O' and x[i][j] != 'u' and x[i][j] != 'U':\n",
    "                    count += 1\n",
    "        return count"
   ]
  },
  {
   "cell_type": "code",
   "execution_count": null,
   "metadata": {},
   "outputs": [],
   "source": []
  }
 ],
 "metadata": {
  "kernelspec": {
   "display_name": "Python 3",
   "language": "python",
   "name": "python3"
  },
  "language_info": {
   "codemirror_mode": {
    "name": "ipython",
    "version": 3
   },
   "file_extension": ".py",
   "mimetype": "text/x-python",
   "name": "python",
   "nbconvert_exporter": "python",
   "pygments_lexer": "ipython3",
   "version": "3.6.7"
  }
 },
 "nbformat": 4,
 "nbformat_minor": 2
}
