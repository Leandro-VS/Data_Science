{
 "cells": [
  {
   "cell_type": "markdown",
   "metadata": {},
   "source": [
    "1) Letras Maiusculas"
   ]
  },
  {
   "cell_type": "code",
   "execution_count": 227,
   "metadata": {},
   "outputs": [],
   "source": [
    "def maiusculas(frase):\n",
    "    x = []\n",
    "    d = \"\"\n",
    "    frase.split()\n",
    "    for i in range(len(frase)):\n",
    "        if ord(frase[i]) == ord(frase[i].upper()) and ord(frase[i]) > 65:\n",
    "            x.append(frase[i])\n",
    "    \n",
    "    for i in range(len(x)):\n",
    "        d += x[i]\n",
    "    return d"
   ]
  },
  {
   "cell_type": "code",
   "execution_count": 228,
   "metadata": {},
   "outputs": [
    {
     "data": {
      "text/plain": [
       "'P'"
      ]
     },
     "execution_count": 228,
     "metadata": {},
     "output_type": "execute_result"
    }
   ],
   "source": [
    "maiusculas('Programamos em python 2?')"
   ]
  },
  {
   "cell_type": "markdown",
   "metadata": {},
   "source": [
    "2) Nome mais curto"
   ]
  },
  {
   "cell_type": "code",
   "execution_count": 3,
   "metadata": {},
   "outputs": [],
   "source": [
    "nome = [\"   regina\", \"  jose  \", \"ALINE  \", \"leandrO  \", \"  vinicius  \", \" loki \", \"loki\"]\n",
    "nome2 = ['Bárbara', 'JOSÉ  ', 'Bill']"
   ]
  },
  {
   "cell_type": "code",
   "execution_count": 4,
   "metadata": {},
   "outputs": [],
   "source": [
    "def menor_nome(lista_nomes):\n",
    "    x = []\n",
    "    d = []\n",
    "    for i in range(len(lista_nomes)):\n",
    "        x.append(len(lista_nomes[i].strip()))\n",
    "    \n",
    "    aux = min(x)\n",
    "    for i in range(len(lista_nomes)):\n",
    "        if aux == len(lista_nomes[i].strip()):\n",
    "            d.append(lista_nomes[i].strip().capitalize())\n",
    "    y = d[0]\n",
    "    return y"
   ]
  },
  {
   "cell_type": "code",
   "execution_count": 5,
   "metadata": {},
   "outputs": [
    {
     "data": {
      "text/plain": [
       "'Jose'"
      ]
     },
     "execution_count": 5,
     "metadata": {},
     "output_type": "execute_result"
    }
   ],
   "source": [
    "menor_nome(nome)"
   ]
  },
  {
   "cell_type": "markdown",
   "metadata": {},
   "source": [
    "3) Contando vogais ou consoantes"
   ]
  },
  {
   "cell_type": "code",
   "execution_count": 364,
   "metadata": {},
   "outputs": [],
   "source": [
    "def conta_letras(frase, contar= \"vogais\"):\n",
    "    count = 0\n",
    "    if contar == \"vogais\":\n",
    "        for i in range(len(frase)):\n",
    "            if frase[i] == 'a' or frase[i] == 'A' or frase[i] == 'e' or frase[i] == 'E' or frase[i] == 'i' or frase[i] == 'I' or frase[i] == 'o' or frase[i] == 'O' or frase[i] == 'u' or frase[i] == 'U':\n",
    "                 count += 1\n",
    "        return count\n",
    "    elif contar == \"consoantes\":\n",
    "        x = frase.split()\n",
    "        for i in range(len(x)):\n",
    "            for j in range(len(x[i])):\n",
    "                if x[i][j] != 'a' and x[i][j] != 'A' and x[i][j] != 'e' and x[i][j] != 'E' and x[i][j] != 'i' and x[i][j] != 'I' and x[i][j] != 'o' and x[i][j] != 'O' and x[i][j] != 'u' and x[i][j] != 'U':\n",
    "                    count += 1\n",
    "        return count"
   ]
  },
  {
   "cell_type": "code",
   "execution_count": 368,
   "metadata": {},
   "outputs": [
    {
     "data": {
      "text/plain": [
       "13"
      ]
     },
     "execution_count": 368,
     "metadata": {},
     "output_type": "execute_result"
    }
   ],
   "source": [
    "conta_letras('programamos em python', 'consoantes')"
   ]
  },
  {
   "cell_type": "markdown",
   "metadata": {},
   "source": [
    "4) Ordem lexicográfica"
   ]
  },
  {
   "cell_type": "code",
   "execution_count": 372,
   "metadata": {},
   "outputs": [],
   "source": [
    "def primeiro_lex(lista_nomes):\n",
    "    x = []\n",
    "    for i in range(len(lista_nomes)):\n",
    "        x.append(len(lista_nomes[i].strip()))\n",
    "    \n",
    "    aux = min(x)\n",
    "    for i in range(len(lista_nomes)):\n",
    "        if aux == len(lista_nomes[i].strip()):\n",
    "            return lista_nomes[i].strip().capitalize()"
   ]
  },
  {
   "cell_type": "code",
   "execution_count": 373,
   "metadata": {},
   "outputs": [
    {
     "data": {
      "text/plain": [
       "'A'"
      ]
     },
     "execution_count": 373,
     "metadata": {},
     "output_type": "execute_result"
    }
   ],
   "source": [
    "primeiro_lex(['oĺá', 'A', 'a', 'casa'])"
   ]
  },
  {
   "cell_type": "code",
   "execution_count": null,
   "metadata": {},
   "outputs": [],
   "source": []
  },
  {
   "cell_type": "code",
   "execution_count": null,
   "metadata": {},
   "outputs": [],
   "source": []
  },
  {
   "cell_type": "code",
   "execution_count": null,
   "metadata": {},
   "outputs": [],
   "source": []
  },
  {
   "cell_type": "code",
   "execution_count": null,
   "metadata": {},
   "outputs": [],
   "source": []
  }
 ],
 "metadata": {
  "kernelspec": {
   "display_name": "Python 3",
   "language": "python",
   "name": "python3"
  },
  "language_info": {
   "codemirror_mode": {
    "name": "ipython",
    "version": 3
   },
   "file_extension": ".py",
   "mimetype": "text/x-python",
   "name": "python",
   "nbconvert_exporter": "python",
   "pygments_lexer": "ipython3",
   "version": "3.6.7"
  }
 },
 "nbformat": 4,
 "nbformat_minor": 2
}
