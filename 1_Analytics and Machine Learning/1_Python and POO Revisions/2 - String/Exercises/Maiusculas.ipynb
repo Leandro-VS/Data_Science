{
 "cells": [
  {
   "cell_type": "code",
   "execution_count": 3,
   "metadata": {},
   "outputs": [],
   "source": [
    "def maiusculas(frase):\n",
    "    x = []\n",
    "    d = \"\"\n",
    "    frase.split()\n",
    "    for i in range(len(frase)):\n",
    "        if ord(frase[i]) == ord(frase[i].upper()) and ord(frase[i]) > 65:\n",
    "            x.append(frase[i])\n",
    "    \n",
    "    for i in range(len(x)):\n",
    "        d += x[i]\n",
    "    return d"
   ]
  },
  {
   "cell_type": "code",
   "execution_count": null,
   "metadata": {},
   "outputs": [],
   "source": []
  },
  {
   "cell_type": "code",
   "execution_count": null,
   "metadata": {},
   "outputs": [],
   "source": []
  },
  {
   "cell_type": "code",
   "execution_count": null,
   "metadata": {},
   "outputs": [],
   "source": []
  }
 ],
 "metadata": {
  "kernelspec": {
   "display_name": "Python 3",
   "language": "python",
   "name": "python3"
  },
  "language_info": {
   "codemirror_mode": {
    "name": "ipython",
    "version": 3
   },
   "file_extension": ".py",
   "mimetype": "text/x-python",
   "name": "python",
   "nbconvert_exporter": "python",
   "pygments_lexer": "ipython3",
   "version": "3.6.7"
  }
 },
 "nbformat": 4,
 "nbformat_minor": 2
}
