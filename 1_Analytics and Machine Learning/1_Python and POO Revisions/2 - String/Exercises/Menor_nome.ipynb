{
 "cells": [
  {
   "cell_type": "code",
   "execution_count": 1,
   "metadata": {},
   "outputs": [],
   "source": [
    "def menor_nome(lista_nomes):\n",
    "    x = []\n",
    "    d = []\n",
    "    for i in range(len(lista_nomes)):\n",
    "        x.append(len(lista_nomes[i].strip()))\n",
    "    \n",
    "    aux = min(x)\n",
    "    for i in range(len(lista_nomes)):\n",
    "        if aux == len(lista_nomes[i].strip()):\n",
    "            d.append(lista_nomes[i].strip().capitalize())\n",
    "    y = d[0]\n",
    "    return y"
   ]
  },
  {
   "cell_type": "code",
   "execution_count": null,
   "metadata": {},
   "outputs": [],
   "source": []
  },
  {
   "cell_type": "code",
   "execution_count": null,
   "metadata": {},
   "outputs": [],
   "source": []
  },
  {
   "cell_type": "code",
   "execution_count": null,
   "metadata": {},
   "outputs": [],
   "source": []
  },
  {
   "cell_type": "code",
   "execution_count": null,
   "metadata": {},
   "outputs": [],
   "source": []
  }
 ],
 "metadata": {
  "kernelspec": {
   "display_name": "Python 3",
   "language": "python",
   "name": "python3"
  },
  "language_info": {
   "codemirror_mode": {
    "name": "ipython",
    "version": 3
   },
   "file_extension": ".py",
   "mimetype": "text/x-python",
   "name": "python",
   "nbconvert_exporter": "python",
   "pygments_lexer": "ipython3",
   "version": "3.6.7"
  }
 },
 "nbformat": 4,
 "nbformat_minor": 2
}
