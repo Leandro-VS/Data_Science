{
 "cells": [
  {
   "cell_type": "markdown",
   "metadata": {},
   "source": [
    "# More String"
   ]
  },
  {
   "cell_type": "markdown",
   "metadata": {},
   "source": [
    "### Intro Files"
   ]
  },
  {
   "cell_type": "code",
   "execution_count": 1,
   "metadata": {},
   "outputs": [],
   "source": [
    "#Create file\n",
    "name = 'poesia.txt'"
   ]
  },
  {
   "cell_type": "code",
   "execution_count": 2,
   "metadata": {},
   "outputs": [],
   "source": [
    "with open(name, 'w', encoding='utf-8') as arq:\n",
    "    #Corpo do with - local das operações com o arquivo\n",
    "    arq.write(\"    O poeta é um fingidor.      \\n\")\n",
    "    arq.write(\"    Finge tão completamente     \\n\")\n",
    "    arq.write(\"    Que chega a fingir que é dor\\n\")\n",
    "    arq.write(\"    A dor que deveras sente.    \\n\")\n",
    "    arq.write(\"                Fernando Pessoa.\\n\")\n",
    "#O comando with fecha automaticamente o arquivo, sem a necessidade de faze-lo manualmente"
   ]
  },
  {
   "cell_type": "markdown",
   "metadata": {},
   "source": [
    "Reading File "
   ]
  },
  {
   "cell_type": "code",
   "execution_count": 3,
   "metadata": {},
   "outputs": [
    {
     "name": "stdout",
     "output_type": "stream",
     "text": [
      "    O poeta é um fingidor.      \n",
      "    Finge tão completamente     \n",
      "    Que chega a fingir que é dor\n",
      "    A dor que deveras sente.    \n",
      "                Fernando Pessoa.\n",
      "\n"
     ]
    }
   ],
   "source": [
    "with open(name, 'r', encoding='utf-8') as arq_entrada:\n",
    "    conteudo = arq_entrada.read()\n",
    "print(conteudo)"
   ]
  },
  {
   "cell_type": "code",
   "execution_count": 4,
   "metadata": {},
   "outputs": [
    {
     "name": "stdout",
     "output_type": "stream",
     "text": [
      "O poeta é um fingidor.\n",
      "Finge tão completamente\n",
      "Que chega a fingir que é dor\n",
      "A dor que deveras sente.\n",
      "Fernando Pessoa.\n"
     ]
    }
   ],
   "source": [
    "#tratar uma linha de cada vez do arquivo\n",
    "with open(name, 'r', encoding='utf-8') as arq:\n",
    "    for linha in arq:\n",
    "        linha_sem_branco = linha.strip() #remove os \\n do começo e final da string\n",
    "        print(linha_sem_branco)"
   ]
  },
  {
   "cell_type": "markdown",
   "metadata": {},
   "source": [
    "# Exercises"
   ]
  },
  {
   "cell_type": "markdown",
   "metadata": {},
   "source": [
    "### 1) Parte A: Separar strings"
   ]
  },
  {
   "cell_type": "code",
   "execution_count": 5,
   "metadata": {},
   "outputs": [],
   "source": [
    "def separador(texto, sep):\n",
    "        return texto.split(sep)"
   ]
  },
  {
   "cell_type": "code",
   "execution_count": 6,
   "metadata": {},
   "outputs": [
    {
     "data": {
      "text/plain": [
       "['', '1', '', '2', '3', '']"
      ]
     },
     "execution_count": 6,
     "metadata": {},
     "output_type": "execute_result"
    }
   ],
   "source": [
    "separador(\",1,,2,3,\", \",\" )"
   ]
  },
  {
   "cell_type": "markdown",
   "metadata": {},
   "source": [
    "### 1) Parte B: Determinar menor palavra de uma lista"
   ]
  },
  {
   "cell_type": "code",
   "execution_count": 37,
   "metadata": {},
   "outputs": [],
   "source": [
    "def maior_palavra(lista):\n",
    "    x = separador(lista, \",\")\n",
    "    aux = ''\n",
    "    for i in range(len(x)):\n",
    "        if len(x[i]) > len(aux):\n",
    "            aux = x[i]\n",
    "    return aux"
   ]
  },
  {
   "cell_type": "code",
   "execution_count": 38,
   "metadata": {},
   "outputs": [
    {
     "data": {
      "text/plain": [
       "'  leandro'"
      ]
     },
     "execution_count": 38,
     "metadata": {},
     "output_type": "execute_result"
    }
   ],
   "source": [
    "lista1 = 'regina, josé,  leandro, aline, vinicius, loki'\n",
    "maior_palavra(lista1)"
   ]
  },
  {
   "cell_type": "markdown",
   "metadata": {},
   "source": [
    "### 2) Soma numeros de um arquivo"
   ]
  },
  {
   "cell_type": "code",
   "execution_count": 60,
   "metadata": {},
   "outputs": [],
   "source": [
    "with open('numeros.txt', 'r', encoding='utf-8') as arq_num:\n",
    "    content = arq_num.read()\n",
    "#print(content)"
   ]
  },
  {
   "cell_type": "code",
   "execution_count": 61,
   "metadata": {},
   "outputs": [
    {
     "name": "stdout",
     "output_type": "stream",
     "text": [
      "Soma = 15.0000\n",
      "Soma = 12.0000\n",
      "Soma = 2.7000\n",
      "Soma = 5.2400\n",
      "Soma total = 34.9400\n"
     ]
    }
   ],
   "source": [
    "with open('numeros.txt', 'r', encoding='utf-8') as arq_num:\n",
    "    d = []\n",
    "    aux2 = 0\n",
    "    for linha in arq_num:\n",
    "        aux = 0\n",
    "        lin = linha.split()\n",
    "        for i in range(len(lin)):\n",
    "            aux += float(lin[i])\n",
    "        aux2 += aux\n",
    "        print('Soma = {:.4f}'.format(aux))\n",
    "    print('Soma total = {:.4f}'.format(aux2))\n",
    "        \n",
    "        "
   ]
  },
  {
   "cell_type": "markdown",
   "metadata": {},
   "source": [
    "### 3) Numero Harmonico"
   ]
  },
  {
   "cell_type": "code",
   "execution_count": 125,
   "metadata": {},
   "outputs": [],
   "source": [
    "#Esquerda para direita\n",
    "def harmonico1(n):\n",
    "    H_n = 0\n",
    "    print('Hn = ', end='')\n",
    "    for i  in range(1, n + 1):\n",
    "        print(1/i, end =' ')\n",
    "        if i != n:\n",
    "            print(' + ', end='')\n",
    "        H_n += 1/i\n",
    "    print('\\n\\n Total_Hn = ', H_n)"
   ]
  },
  {
   "cell_type": "code",
   "execution_count": 168,
   "metadata": {},
   "outputs": [
    {
     "name": "stdout",
     "output_type": "stream",
     "text": [
      "Hn = 1.0  + 0.5  + 0.3333333333333333  + 0.25  + 0.2  + 0.16666666666666666  + 0.14285714285714285  + 0.125  + 0.1111111111111111  + 0.1 \n",
      "\n",
      " Total_Hn =  2.9289682539682538\n"
     ]
    }
   ],
   "source": [
    "harmonico1(10)"
   ]
  },
  {
   "cell_type": "code",
   "execution_count": 159,
   "metadata": {},
   "outputs": [],
   "source": [
    "#Direita para Esquerda\n",
    "def harmonico2(n):\n",
    "    H_n = 0\n",
    "    for i in range(1, n + 1):\n",
    "        print(1/n, end='')\n",
    "        H_n += 1/n\n",
    "        n -= 1\n",
    "        if n != 0:\n",
    "            print(' + ', end='')\n",
    "    print(' = Hn', end='')\n",
    "    print('\\n\\n Total_Hn = ', H_n)"
   ]
  },
  {
   "cell_type": "code",
   "execution_count": 167,
   "metadata": {},
   "outputs": [
    {
     "name": "stdout",
     "output_type": "stream",
     "text": [
      "0.1 + 0.1111111111111111 + 0.125 + 0.14285714285714285 + 0.16666666666666666 + 0.2 + 0.25 + 0.3333333333333333 + 0.5 + 1.0 = Hn\n",
      "\n",
      " Total_Hn =  2.9289682539682538\n"
     ]
    }
   ],
   "source": [
    "harmonico2(10)"
   ]
  },
  {
   "cell_type": "markdown",
   "metadata": {},
   "source": [
    "### 4) Aproximação para e^x"
   ]
  },
  {
   "cell_type": "code",
   "execution_count": 169,
   "metadata": {},
   "outputs": [],
   "source": [
    "#e^x = 1 + x + x^2/2! + x^3/3! + ... + x^k/k!"
   ]
  },
  {
   "cell_type": "code",
   "execution_count": 224,
   "metadata": {},
   "outputs": [],
   "source": [
    "def aproximado(x):\n",
    "    total = 0\n",
    "    print('e^', x, '= ', end='')\n",
    "    x_1 = x**0\n",
    "    print(x_1, ' + ', end='')\n",
    "    x_2 = x**1\n",
    "    print(x_2, ' + ', end='')\n",
    "    x_3 = x**2 / 2\n",
    "    print(x_3 , ' + ', end='')\n",
    "    for i in range(3, x+1):\n",
    "        aux = (x**i) / (i*(i-1)*(i-2))\n",
    "        print( aux, end='')\n",
    "        total += aux\n",
    "        if i != x:\n",
    "            print(' + ', end='')\n",
    "    print('\\n\\nTotal_e^',x,' = ', total + x_1 + x_2 + x_3)"
   ]
  },
  {
   "cell_type": "code",
   "execution_count": 227,
   "metadata": {},
   "outputs": [
    {
     "name": "stdout",
     "output_type": "stream",
     "text": [
      "e^ 1 = 1  + 1  + 0.5  + \n",
      "\n",
      "Total_e^ 1  =  2.5\n"
     ]
    }
   ],
   "source": [
    "aproximado(1)"
   ]
  },
  {
   "cell_type": "markdown",
   "metadata": {},
   "source": [
    "### 5)Aproximação arcotangente"
   ]
  },
  {
   "cell_type": "code",
   "execution_count": 397,
   "metadata": {},
   "outputs": [],
   "source": [
    "#arctan(x) = x - x³/3 + x⁵/5 - x⁷/7 + ...\n",
    "import math"
   ]
  },
  {
   "cell_type": "code",
   "execution_count": 398,
   "metadata": {},
   "outputs": [],
   "source": [
    "def aprox_arctan(x):\n",
    "    if x >= 0 and x <= 1:\n",
    "        aprox = 0\n",
    "        k = 1\n",
    "        n = 2\n",
    "        #print('Série_arctan( ',x,' ) = ', end='')\n",
    "        while(abs((x**k/k)) > 0.0001):\n",
    "            rn = (x**k/k)*((-1)**n)\n",
    "            #print(rn, end='  ')\n",
    "            aprox += rn\n",
    "            k += 2\n",
    "            n += 1\n",
    "        #print('\\n\\narctan( ',x,' ) = ',aprox)\n",
    "        return aprox\n",
    "              "
   ]
  },
  {
   "cell_type": "code",
   "execution_count": 399,
   "metadata": {},
   "outputs": [
    {
     "data": {
      "text/plain": [
       "0.7853481633979478"
      ]
     },
     "execution_count": 399,
     "metadata": {},
     "output_type": "execute_result"
    }
   ],
   "source": [
    "aprox_arctan(2/2)"
   ]
  },
  {
   "cell_type": "markdown",
   "metadata": {},
   "source": [
    "### 6) Angulo entre dois vetores"
   ]
  },
  {
   "cell_type": "code",
   "execution_count": 401,
   "metadata": {},
   "outputs": [],
   "source": [
    "def angulo_vet(x, y):\n",
    "    if x > 0 and y > 0:\n",
    "        if y < x :\n",
    "            aux = y/x\n",
    "            alpha = aprox_arctan(aux) / math.pi\n",
    "            return (alpha * 180)/math.pi\n",
    "        else:\n",
    "            aux = x/y\n",
    "            alpha = (math.pi/2) - aprox_arctan(aux)\n",
    "            return (alpha * 180) / math.pi"
   ]
  },
  {
   "cell_type": "code",
   "execution_count": 403,
   "metadata": {},
   "outputs": [
    {
     "data": {
      "text/plain": [
       "75.96328005809058"
      ]
     },
     "execution_count": 403,
     "metadata": {},
     "output_type": "execute_result"
    }
   ],
   "source": [
    "angulo_vet(1,4)"
   ]
  },
  {
   "cell_type": "markdown",
   "metadata": {},
   "source": [
    "### 7) Insere x na lista ou retorna a posição de x"
   ]
  },
  {
   "cell_type": "code",
   "execution_count": null,
   "metadata": {},
   "outputs": [],
   "source": [
    "def insere_novo(nome, lista):\n",
    "    for i in range(len(lista)):\n",
    "        if nome == lista[i]\n",
    "            "
   ]
  },
  {
   "cell_type": "code",
   "execution_count": null,
   "metadata": {},
   "outputs": [],
   "source": []
  },
  {
   "cell_type": "code",
   "execution_count": null,
   "metadata": {},
   "outputs": [],
   "source": []
  },
  {
   "cell_type": "code",
   "execution_count": null,
   "metadata": {},
   "outputs": [],
   "source": []
  },
  {
   "cell_type": "code",
   "execution_count": null,
   "metadata": {},
   "outputs": [],
   "source": []
  },
  {
   "cell_type": "code",
   "execution_count": null,
   "metadata": {},
   "outputs": [],
   "source": []
  },
  {
   "cell_type": "code",
   "execution_count": null,
   "metadata": {},
   "outputs": [],
   "source": []
  },
  {
   "cell_type": "code",
   "execution_count": null,
   "metadata": {},
   "outputs": [],
   "source": []
  }
 ],
 "metadata": {
  "kernelspec": {
   "display_name": "Python 3",
   "language": "python",
   "name": "python3"
  },
  "language_info": {
   "codemirror_mode": {
    "name": "ipython",
    "version": 3
   },
   "file_extension": ".py",
   "mimetype": "text/x-python",
   "name": "python",
   "nbconvert_exporter": "python",
   "pygments_lexer": "ipython3",
   "version": "3.6.7"
  }
 },
 "nbformat": 4,
 "nbformat_minor": 2
}
