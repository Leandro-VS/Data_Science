{
 "cells": [
  {
   "cell_type": "markdown",
   "metadata": {},
   "source": [
    "# Listas"
   ]
  },
  {
   "cell_type": "code",
   "execution_count": 1,
   "metadata": {},
   "outputs": [],
   "source": [
    "a = [1,2,3,4,5]\n",
    "b = a #b é um apelido para a (ambos apontam para o mesmo objeto)"
   ]
  },
  {
   "cell_type": "code",
   "execution_count": 2,
   "metadata": {},
   "outputs": [
    {
     "name": "stdout",
     "output_type": "stream",
     "text": [
      "a =  [1, 7, 3, 4, 5]\n",
      "b =  [1, 7, 3, 4, 5]\n"
     ]
    }
   ],
   "source": [
    "b[1] = 6\n",
    "a[1] = 7\n",
    "print(\"a = \", a)\n",
    "print(\"b = \", b)"
   ]
  },
  {
   "cell_type": "code",
   "execution_count": 3,
   "metadata": {},
   "outputs": [],
   "source": [
    "c = [6,7,8,9,10]\n",
    "d = c[:] #copia os elementos de c para d, criando uma nova lista"
   ]
  },
  {
   "cell_type": "code",
   "execution_count": 4,
   "metadata": {},
   "outputs": [
    {
     "name": "stdout",
     "output_type": "stream",
     "text": [
      "c =  [6, 7, 8, 9, 10]\n",
      "d =  [5, 7, 8, 9, 10]\n"
     ]
    }
   ],
   "source": [
    "d[0] = 5\n",
    "print(\"c = \", c)\n",
    "print(\"d = \", d)"
   ]
  },
  {
   "cell_type": "markdown",
   "metadata": {},
   "source": [
    "Concatenação"
   ]
  },
  {
   "cell_type": "code",
   "execution_count": 5,
   "metadata": {},
   "outputs": [
    {
     "name": "stdout",
     "output_type": "stream",
     "text": [
      "[1, 2, 3, 4, 5, 6, 7, 8, 9]\n"
     ]
    }
   ],
   "source": [
    "lista = []\n",
    "lista = [9]\n",
    "#lista = lista + [1,2] #a ordem importa!!!\n",
    "lista = [1,2] + lista\n",
    "lista = lista[:2] + [3,4,5,6,7,8] + lista[2:]\n",
    "print(lista)"
   ]
  },
  {
   "cell_type": "code",
   "execution_count": 6,
   "metadata": {},
   "outputs": [],
   "source": [
    "lista2 = [0] + [0] + [0]\n",
    "lista3 = [0] * 3"
   ]
  },
  {
   "cell_type": "code",
   "execution_count": 7,
   "metadata": {},
   "outputs": [
    {
     "name": "stdout",
     "output_type": "stream",
     "text": [
      "Lista 2 =  [0, 0, 0]\n",
      "Lista 3 =  [0, 0, 0]\n"
     ]
    }
   ],
   "source": [
    "print(\"Lista 2 = \", lista2)\n",
    "print(\"Lista 3 = \", lista3)"
   ]
  },
  {
   "cell_type": "markdown",
   "metadata": {},
   "source": [
    "# Matrizes"
   ]
  },
  {
   "cell_type": "code",
   "execution_count": 21,
   "metadata": {},
   "outputs": [
    {
     "name": "stdout",
     "output_type": "stream",
     "text": [
      "[[0, 0, 0, 0, 0]]\n",
      "[[0, 0, 0, 0, 0], [0, 0, 0, 0, 0]]\n",
      "[[0, 0, 0, 0, 0], [0, 0, 0, 0, 0], [0, 0, 0, 0, 0]]\n",
      "[[0, 0, 0, 0, 0], [0, 0, 0, 0, 0], [0, 0, 0, 0, 0], [0, 0, 0, 0, 0]]\n",
      "[[0, 0, 0, 0, 0], [0, 0, 0, 0, 0], [0, 0, 0, 0, 0], [0, 0, 0, 0, 0], [0, 0, 0, 0, 0]]\n"
     ]
    }
   ],
   "source": [
    "#Criando Matriz 5x5\n",
    "A = []\n",
    "for i in range(5):\n",
    "    A.append([0]*5)\n",
    "    print(A)"
   ]
  },
  {
   "cell_type": "markdown",
   "metadata": {},
   "source": [
    "Exercicio 1: Tamanho da Matriz"
   ]
  },
  {
   "cell_type": "code",
   "execution_count": 163,
   "metadata": {},
   "outputs": [],
   "source": [
    "def dimensoes(matriz):\n",
    "    dim_i = len(matriz)\n",
    "    dim_j = len(matriz[0])\n",
    "    print(dim_i,end=\"\")\n",
    "    print(\"x\",end=\"\")\n",
    "    print(dim_j,end=\"\")"
   ]
  },
  {
   "cell_type": "code",
   "execution_count": 164,
   "metadata": {},
   "outputs": [
    {
     "name": "stdout",
     "output_type": "stream",
     "text": [
      "3x4"
     ]
    }
   ],
   "source": [
    "teste = [[0,0,0,0], [1,1,1,1], [2,2,2,2]]\n",
    "dimensoes(teste)"
   ]
  },
  {
   "cell_type": "markdown",
   "metadata": {},
   "source": [
    "Exercício 2: Soma de Matrizes"
   ]
  },
  {
   "cell_type": "code",
   "execution_count": 1,
   "metadata": {},
   "outputs": [],
   "source": [
    "def soma_matrizes(m1, m2):\n",
    "    dim_i_m1 = len(m1)\n",
    "    dim_j_m1 = len(m1[0])\n",
    "    dim_i_m2 = len(m2)\n",
    "    dim_j_m2 = len(m2[0])\n",
    "    matriz_soma = []\n",
    "    if dim_i_m1 == dim_i_m2 and dim_j_m1 == dim_j_m2:\n",
    "        for i in range(len(m1)):\n",
    "            linha = []\n",
    "            for j in range(len(m1[0])):\n",
    "                linha.append(m1[i][j] + m2[i][j])\n",
    "            matriz_soma.append(linha)    \n",
    "        return matriz_soma\n",
    "    else:\n",
    "        return False"
   ]
  },
  {
   "cell_type": "code",
   "execution_count": 2,
   "metadata": {},
   "outputs": [
    {
     "data": {
      "text/plain": [
       "[[8, 10], [12, 14], [16, 18]]"
      ]
     },
     "execution_count": 2,
     "metadata": {},
     "output_type": "execute_result"
    }
   ],
   "source": [
    "#t1 = [[1,2,4],[1,2,4]]\n",
    "#t2 = [[1,2,2],[1,2,2]]\n",
    "soma_matrizes([[1,2],[3,4],[5,6]],[[7,8],[9,10],[11,12]])"
   ]
  },
  {
   "cell_type": "markdown",
   "metadata": {},
   "source": [
    "Exercício 3: Imprimindo matrizes"
   ]
  },
  {
   "cell_type": "code",
   "execution_count": 2,
   "metadata": {},
   "outputs": [],
   "source": [
    "def imprime_matriz(matriz):\n",
    "    for i in range(len(matriz)):\n",
    "        for j in range(len(matriz[0])):\n",
    "            if(j == len(matriz[0]) - 1):\n",
    "                print(matriz[i][j])\n",
    "            else:\n",
    "                print(matriz[i][j],\"\", end = \"\")"
   ]
  },
  {
   "cell_type": "code",
   "execution_count": 6,
   "metadata": {},
   "outputs": [
    {
     "name": "stdout",
     "output_type": "stream",
     "text": [
      "1 2 3\n",
      "4 5 6\n"
     ]
    }
   ],
   "source": [
    "mat = [[1,2,3],[4,5,6]]\n",
    "imprime_matriz(mat)"
   ]
  },
  {
   "cell_type": "markdown",
   "metadata": {},
   "source": [
    "Exercício 4: Matrizes Multiplicáveis"
   ]
  },
  {
   "cell_type": "code",
   "execution_count": 3,
   "metadata": {},
   "outputs": [],
   "source": [
    "def sao_multiplicaveis(m1,m2):\n",
    "    if len(m1[0]) == len(m2):\n",
    "        return True\n",
    "    else:\n",
    "        return False"
   ]
  },
  {
   "cell_type": "code",
   "execution_count": 4,
   "metadata": {},
   "outputs": [
    {
     "data": {
      "text/plain": [
       "True"
      ]
     },
     "execution_count": 4,
     "metadata": {},
     "output_type": "execute_result"
    }
   ],
   "source": [
    "m1 = [[1], [2], [3]]\n",
    "m2 = [[1, 2, 3]]\n",
    "sao_multiplicaveis(m1,m2)"
   ]
  },
  {
   "cell_type": "markdown",
   "metadata": {},
   "source": [
    "Exercício 5: Cria Matriz com o valor passado pelo usuario"
   ]
  },
  {
   "cell_type": "code",
   "execution_count": 7,
   "metadata": {},
   "outputs": [],
   "source": [
    "#cria e retorna uma matriz com o valor dado\n",
    "def cria_matriz(n_linha, n_coluna, valor):\n",
    "    matriz = []\n",
    "    for i in range(n_linha):\n",
    "        linha = []\n",
    "        for j in range(n_coluna):\n",
    "            linha.append(valor)\n",
    "        matriz.append(linha)\n",
    "    \n",
    "    return matriz"
   ]
  },
  {
   "cell_type": "code",
   "execution_count": 9,
   "metadata": {},
   "outputs": [
    {
     "name": "stdout",
     "output_type": "stream",
     "text": [
      "[[1, 1, 1, 1, 1], [1, 1, 1, 1, 1], [1, 1, 1, 1, 1], [1, 1, 1, 1, 1], [1, 1, 1, 1, 1]]\n"
     ]
    }
   ],
   "source": [
    "A = cria_matriz(5,5,1)\n",
    "print(A)"
   ]
  },
  {
   "cell_type": "markdown",
   "metadata": {},
   "source": [
    "Exercício 6: Lê uma matriz com informações passadas pelo usuario"
   ]
  },
  {
   "cell_type": "code",
   "execution_count": 456,
   "metadata": {},
   "outputs": [],
   "source": [
    "def leia_matriz():\n",
    "    matriz = []\n",
    "    n_linha = int(input (\"Digite o numero de linhas: \"))\n",
    "    n_coluna = int(input(\"Digite o numero de colunas: \"))\n",
    "    \n",
    "    for i in range(n_linha):\n",
    "        linha = []\n",
    "        for j in range(n_coluna):\n",
    "            print(\"Linha \",i, \": \", linha)\n",
    "            linha.append(int(input(\"Digite o elemento ({},{}): \".format(i,j))))#Define a exibição para o usuario\n",
    "        matriz.append(linha)\n",
    "        print(\"Matriz = \", matriz)\n",
    "    return matriz"
   ]
  },
  {
   "cell_type": "code",
   "execution_count": 457,
   "metadata": {},
   "outputs": [
    {
     "name": "stdout",
     "output_type": "stream",
     "text": [
      "Digite o numero de linhas: 2\n",
      "Digite o numero de colunas: 2\n",
      "Linha  0 :  []\n",
      "Digite o elemento (0,0): 2\n",
      "Linha  0 :  [2]\n",
      "Digite o elemento (0,1): 2\n",
      "Matriz =  [[2, 2]]\n",
      "Linha  1 :  []\n",
      "Digite o elemento (1,0): 2\n",
      "Linha  1 :  [2]\n",
      "Digite o elemento (1,1): 2\n",
      "Matriz =  [[2, 2], [2, 2]]\n"
     ]
    }
   ],
   "source": [
    "A = leia_matriz()"
   ]
  },
  {
   "cell_type": "code",
   "execution_count": 458,
   "metadata": {},
   "outputs": [
    {
     "name": "stdout",
     "output_type": "stream",
     "text": [
      "[[2, 2], [2, 2]]\n"
     ]
    }
   ],
   "source": [
    "print(A)"
   ]
  },
  {
   "cell_type": "markdown",
   "metadata": {},
   "source": [
    "Exercício 7: Imprimi uma matriz no formato usual"
   ]
  },
  {
   "cell_type": "code",
   "execution_count": 459,
   "metadata": {},
   "outputs": [],
   "source": [
    "def imprime_matriz(matriz):\n",
    "    print(\"Matriz: \", len(matriz), \"X\", len(matriz[0]))\n",
    "    for i in range(len(matriz)):\n",
    "        for j in range(len(matriz[0])):\n",
    "            if(j == len(matriz[0]) - 1):\n",
    "                print(matriz[i][j])\n",
    "            else:\n",
    "                print(matriz[i][j], \" \", end = \"\")"
   ]
  },
  {
   "cell_type": "code",
   "execution_count": 480,
   "metadata": {},
   "outputs": [
    {
     "name": "stdout",
     "output_type": "stream",
     "text": [
      "Matriz:  3 X 5\n",
      "1  2  3  0  1\n",
      "2  1  4  0  1\n",
      "3  4  1  0  1\n"
     ]
    }
   ],
   "source": [
    "m1 = [[1,2,3,0,1],[2,1,4,0,1],[3,4,1,0,1]]\n",
    "imprime_matriz(m1)\n",
    "#print(m1[0])"
   ]
  },
  {
   "cell_type": "markdown",
   "metadata": {},
   "source": [
    "Exercício 8: Matriz Simetrica"
   ]
  },
  {
   "cell_type": "code",
   "execution_count": 461,
   "metadata": {},
   "outputs": [],
   "source": [
    "def simetrica(m):\n",
    "    if len(m) == len(m[0]):\n",
    "        imprime_matriz(m)\n",
    "        return True\n",
    "    else:\n",
    "        return False"
   ]
  },
  {
   "cell_type": "code",
   "execution_count": 462,
   "metadata": {},
   "outputs": [
    {
     "name": "stdout",
     "output_type": "stream",
     "text": [
      "Matriz:  2 X 2\n",
      "1  1\n",
      "1  1\n"
     ]
    },
    {
     "data": {
      "text/plain": [
       "True"
      ]
     },
     "execution_count": 462,
     "metadata": {},
     "output_type": "execute_result"
    }
   ],
   "source": [
    "a = [[1,1],[1,1]]\n",
    "simetrica(a)"
   ]
  },
  {
   "cell_type": "markdown",
   "metadata": {},
   "source": [
    "Exercicio 9: Zeros na Matriz"
   ]
  },
  {
   "cell_type": "code",
   "execution_count": 474,
   "metadata": {},
   "outputs": [],
   "source": [
    "def zeros_matriz():\n",
    "    A = leia_matriz()\n",
    "    imprime_matriz(A)\n",
    "    for i in range(len(A)):\n",
    "        aux1 += A[i]\n",
    "        for j in range(len(A[0])):\n",
    "            aux2 += A[j]"
   ]
  },
  {
   "cell_type": "code",
   "execution_count": 476,
   "metadata": {},
   "outputs": [
    {
     "name": "stdout",
     "output_type": "stream",
     "text": [
      "Digite o numero de linhas: 2\n",
      "Digite o numero de colunas: 2\n",
      "Linha  0 :  []\n",
      "Digite o elemento (0,0): 1\n",
      "Linha  0 :  [1]\n",
      "Digite o elemento (0,1): 0\n",
      "Matriz =  [[1, 0]]\n",
      "Linha  1 :  []\n",
      "Digite o elemento (1,0): 1\n",
      "Linha  1 :  [1]\n",
      "Digite o elemento (1,1): 0\n",
      "Matriz =  [[1, 0], [1, 0]]\n",
      "Matriz:  2 X 2\n",
      "1  0\n",
      "1  0\n",
      "0 0\n"
     ]
    }
   ],
   "source": [
    "zeros_matriz()"
   ]
  },
  {
   "cell_type": "markdown",
   "metadata": {},
   "source": [
    "Exercico 10: Multiplicação de Matrizes"
   ]
  },
  {
   "cell_type": "code",
   "execution_count": 16,
   "metadata": {},
   "outputs": [],
   "source": [
    "m1 = [[1,2,3],[4,5,6]]\n",
    "m2 = [[1,2],[3,4],[5,6]]\n",
    "\n",
    "def mult_matrizes(m1, m2):\n",
    "    if sao_multiplicaveis(m1,m2) == True:\n",
    "        result = []\n",
    "        for i in range(len(m1)):\n",
    "            result.append([])\n",
    "            for j in range(len(m2[0])):\n",
    "                result[i].append(0)\n",
    "                for k in range(len(m1[0])):\n",
    "                    result[i][j] += m1[i][k] * m2[k][j]\n",
    "    return result"
   ]
  },
  {
   "cell_type": "code",
   "execution_count": 17,
   "metadata": {},
   "outputs": [
    {
     "data": {
      "text/plain": [
       "[[22, 28], [49, 64]]"
      ]
     },
     "execution_count": 17,
     "metadata": {},
     "output_type": "execute_result"
    }
   ],
   "source": [
    "mult_matrizes(m1,m2)"
   ]
  },
  {
   "cell_type": "code",
   "execution_count": null,
   "metadata": {},
   "outputs": [],
   "source": []
  },
  {
   "cell_type": "code",
   "execution_count": null,
   "metadata": {},
   "outputs": [],
   "source": []
  },
  {
   "cell_type": "code",
   "execution_count": null,
   "metadata": {},
   "outputs": [],
   "source": []
  },
  {
   "cell_type": "code",
   "execution_count": null,
   "metadata": {},
   "outputs": [],
   "source": []
  },
  {
   "cell_type": "code",
   "execution_count": null,
   "metadata": {},
   "outputs": [],
   "source": []
  },
  {
   "cell_type": "code",
   "execution_count": null,
   "metadata": {},
   "outputs": [],
   "source": []
  },
  {
   "cell_type": "code",
   "execution_count": null,
   "metadata": {},
   "outputs": [],
   "source": []
  }
 ],
 "metadata": {
  "kernelspec": {
   "display_name": "Python 3",
   "language": "python",
   "name": "python3"
  },
  "language_info": {
   "codemirror_mode": {
    "name": "ipython",
    "version": 3
   },
   "file_extension": ".py",
   "mimetype": "text/x-python",
   "name": "python",
   "nbconvert_exporter": "python",
   "pygments_lexer": "ipython3",
   "version": "3.7.4"
  },
  "latex_envs": {
   "LaTeX_envs_menu_present": true,
   "autoclose": true,
   "autocomplete": true,
   "bibliofile": "biblio.bib",
   "cite_by": "apalike",
   "current_citInitial": 1,
   "eqLabelWithNumbers": true,
   "eqNumInitial": 1,
   "hotkeys": {
    "equation": "Ctrl-E",
    "itemize": "Ctrl-I"
   },
   "labels_anchors": false,
   "latex_user_defs": false,
   "report_style_numbering": false,
   "user_envs_cfg": false
  },
  "toc": {
   "base_numbering": 1,
   "nav_menu": {},
   "number_sections": true,
   "sideBar": true,
   "skip_h1_title": false,
   "title_cell": "Table of Contents",
   "title_sidebar": "Contents",
   "toc_cell": false,
   "toc_position": {},
   "toc_section_display": true,
   "toc_window_display": false
  },
  "varInspector": {
   "cols": {
    "lenName": 16,
    "lenType": 16,
    "lenVar": 40
   },
   "kernels_config": {
    "python": {
     "delete_cmd_postfix": "",
     "delete_cmd_prefix": "del ",
     "library": "var_list.py",
     "varRefreshCmd": "print(var_dic_list())"
    },
    "r": {
     "delete_cmd_postfix": ") ",
     "delete_cmd_prefix": "rm(",
     "library": "var_list.r",
     "varRefreshCmd": "cat(var_dic_list()) "
    }
   },
   "types_to_exclude": [
    "module",
    "function",
    "builtin_function_or_method",
    "instance",
    "_Feature"
   ],
   "window_display": false
  }
 },
 "nbformat": 4,
 "nbformat_minor": 2
}
