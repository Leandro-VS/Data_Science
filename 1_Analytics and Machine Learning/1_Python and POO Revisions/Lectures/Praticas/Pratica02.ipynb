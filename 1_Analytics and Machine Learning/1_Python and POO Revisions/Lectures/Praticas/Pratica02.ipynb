{
 "cells": [
  {
   "cell_type": "markdown",
   "metadata": {},
   "source": [
    "# Programação Orientada a Objetos, Turma de 2016"
   ]
  },
  {
   "cell_type": "markdown",
   "metadata": {},
   "source": [
    "## Segunda prática"
   ]
  },
  {
   "cell_type": "markdown",
   "metadata": {},
   "source": [
    "*(Vale 5 pontos)*\n",
    "\n",
    "---"
   ]
  },
  {
   "cell_type": "markdown",
   "metadata": {},
   "source": [
    "### Triplas pitagóricas"
   ]
  },
  {
   "cell_type": "markdown",
   "metadata": {},
   "source": [
    "Uma tripla pitagórica é uma tripla de números **inteiros** $(a, b, c)$ tal que:\n",
    "$$\n",
    "a > b > c > 0\\\\\n",
    "a^2 = b^2 + c^2\n",
    "$$\n",
    "\n",
    "Por exemplo, $(5, 4, 3)$ é uma tripla pitagórica."
   ]
  },
  {
   "cell_type": "markdown",
   "metadata": {},
   "source": [
    "### Problema\n",
    "\n",
    "Dado que existe uma e apenas uma tripla pitagórica $(a, b, c)$ para a qual $a + b + c = 1000$, escreva um código Python para encontrar e mostrar essa tripla.\n",
    "\n",
    "Evite fazer mais cálculos do que o necessário. Use células de *markdown* para explicar o seu código. Lembre-se de testar se a resposta fornecida pelo seu programa satisfaz as condições (use código Python para fazer o teste em células apropriadas)."
   ]
  },
  {
   "cell_type": "code",
   "execution_count": null,
   "metadata": {
    "collapsed": true
   },
   "outputs": [],
   "source": []
  }
 ],
 "metadata": {
  "kernelspec": {
   "display_name": "Python 3",
   "language": "python",
   "name": "python3"
  },
  "language_info": {
   "codemirror_mode": {
    "name": "ipython",
    "version": 3
   },
   "file_extension": ".py",
   "mimetype": "text/x-python",
   "name": "python",
   "nbconvert_exporter": "python",
   "pygments_lexer": "ipython3",
   "version": "3.5.1"
  }
 },
 "nbformat": 4,
 "nbformat_minor": 0
}
