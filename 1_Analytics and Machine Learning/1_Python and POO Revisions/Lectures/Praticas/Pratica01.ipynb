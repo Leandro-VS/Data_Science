{
 "cells": [
  {
   "cell_type": "markdown",
   "metadata": {},
   "source": [
    "# Programação Orientada a Objetos, turma de 2016"
   ]
  },
  {
   "cell_type": "markdown",
   "metadata": {},
   "source": [
    "## Primeira prática"
   ]
  },
  {
   "cell_type": "markdown",
   "metadata": {},
   "source": [
    "*(Vale 2 pontos)*\n",
    "\n",
    "---"
   ]
  },
  {
   "cell_type": "markdown",
   "metadata": {},
   "source": [
    "### Instruções"
   ]
  },
  {
   "cell_type": "markdown",
   "metadata": {},
   "source": [
    "Abaixo você vai encontrar várias \"células\" de código. *Células* é a denominação para cada um dos elementos inseridos no *notebook* do IPython, como os títulos acima e este texto (do tipo *markdown*) ou, principalmente, do tipo *code*, onde você pode escrever código Python para ser executado.\n",
    "\n",
    "Você edita as células clicando nelas. O formato [markdown](http://daringfireball.net/projects/markdown/) é um formato para auxiliar a escrever textos ricos, com ênfases, *links* para páginas Internet, etc.\n",
    "\n",
    "Nas células de código, você pode colocar quanto código Python desejar, incluindo múltiplas linhas. Para executar o código de uma célula (ou para efetivamente formatar a célula markdown), você deve teclar Shift-Enter.\n",
    "\n",
    "No IPython notebook, o botão '+' acima (o segundo, logo após o disquete) permite criar uma nova célula, abaixo da célula corrente (destacada visualmente). Para apagar a célula corrente, use o botão da tesoura. Por outro lado, o primeiro menu *pushdown* após os botões permite escolher o tipo de célula.\n",
    "\n",
    "Abaixo você vai encontrar diversas células de código. Para cada uma delas, você deve executá-la, observar a saída produzida e então criar abaixo dela uma nova célula de texto onde você vai escrever uma explicação para a saída produzida. Como exemplo, a primeira célula abaixo já tem a saída e a sua explicação.\n",
    "\n",
    "Você deve entregar, ao final da aula, este mesmo *notebook* com as saídas e suas explicações. Se não conseguir terminar todas, entregue o que conseguir. Você pode criar novas células de código para realizar testes ao tentar explicar os resultados, mas apague todas elas antes da entrega. A entrega deve ser feita pelo site do STOA.\n",
    "\n",
    "---"
   ]
  },
  {
   "cell_type": "code",
   "execution_count": 1,
   "metadata": {
    "collapsed": false
   },
   "outputs": [
    {
     "data": {
      "text/plain": [
       "11"
      ]
     },
     "execution_count": 1,
     "metadata": {},
     "output_type": "execute_result"
    }
   ],
   "source": [
    "-1+3*4"
   ]
  },
  {
   "cell_type": "markdown",
   "metadata": {},
   "source": [
    "Existe uma soma e uma multiplicação a serem realizadas. Como a multiplicação tem precedência, ela é realizada primeiro, resultando em 12. O valor é somado com -1, dando o resultado final."
   ]
  },
  {
   "cell_type": "code",
   "execution_count": null,
   "metadata": {
    "collapsed": false
   },
   "outputs": [],
   "source": [
    "1 + -3"
   ]
  },
  {
   "cell_type": "code",
   "execution_count": null,
   "metadata": {
    "collapsed": false
   },
   "outputs": [],
   "source": [
    "(10 + 13) * 4"
   ]
  },
  {
   "cell_type": "code",
   "execution_count": null,
   "metadata": {
    "collapsed": false
   },
   "outputs": [],
   "source": [
    "2**3, 3**2"
   ]
  },
  {
   "cell_type": "code",
   "execution_count": null,
   "metadata": {
    "collapsed": false
   },
   "outputs": [],
   "source": [
    "5+4*3**2-1"
   ]
  },
  {
   "cell_type": "code",
   "execution_count": null,
   "metadata": {
    "collapsed": false
   },
   "outputs": [],
   "source": [
    "2**3**2"
   ]
  },
  {
   "cell_type": "code",
   "execution_count": null,
   "metadata": {
    "collapsed": false
   },
   "outputs": [],
   "source": [
    "2 ** 3 == 8 and 3 - 1 > 1 and not 2/4 != 1/2"
   ]
  },
  {
   "cell_type": "code",
   "execution_count": null,
   "metadata": {
    "collapsed": false
   },
   "outputs": [],
   "source": [
    "(2 + 1j)*(2 - 1j)"
   ]
  },
  {
   "cell_type": "code",
   "execution_count": null,
   "metadata": {
    "collapsed": false
   },
   "outputs": [],
   "source": [
    "import math\n",
    "math.sqrt(3) - int(math.sqrt(3))"
   ]
  },
  {
   "cell_type": "code",
   "execution_count": null,
   "metadata": {
    "collapsed": false
   },
   "outputs": [],
   "source": [
    "7 / 3 - 7 // 3"
   ]
  },
  {
   "cell_type": "code",
   "execution_count": null,
   "metadata": {
    "collapsed": false
   },
   "outputs": [],
   "source": [
    "math.e % 1"
   ]
  },
  {
   "cell_type": "code",
   "execution_count": null,
   "metadata": {
    "collapsed": false
   },
   "outputs": [],
   "source": [
    "a = 10\n",
    "b = a\n",
    "a += 1\n",
    "a - b"
   ]
  },
  {
   "cell_type": "code",
   "execution_count": null,
   "metadata": {
    "collapsed": false
   },
   "outputs": [],
   "source": [
    "nome = 'Marcelo Melo'\n",
    "nome[2], nome[-2]"
   ]
  },
  {
   "cell_type": "code",
   "execution_count": null,
   "metadata": {
    "collapsed": false
   },
   "outputs": [],
   "source": [
    "nome[12]"
   ]
  },
  {
   "cell_type": "code",
   "execution_count": null,
   "metadata": {
    "collapsed": false
   },
   "outputs": [],
   "source": [
    "esp = nome.find(' ')\n",
    "pre, sobre = nome[:esp], nome[esp+1:]\n",
    "sobre + '/' + pre"
   ]
  },
  {
   "cell_type": "code",
   "execution_count": null,
   "metadata": {
    "collapsed": true
   },
   "outputs": [],
   "source": [
    "sobre[0] = 'm'"
   ]
  },
  {
   "cell_type": "code",
   "execution_count": null,
   "metadata": {
    "collapsed": false
   },
   "outputs": [],
   "source": [
    "valores = [1, 3, 5, 7, 9]\n",
    "valores.append(11)\n",
    "valores"
   ]
  },
  {
   "cell_type": "code",
   "execution_count": null,
   "metadata": {
    "collapsed": false
   },
   "outputs": [],
   "source": [
    "valores[3] - valores[1]"
   ]
  },
  {
   "cell_type": "markdown",
   "metadata": {},
   "source": [
    "**Obs:** Na célula abaixo, a função `type` dá o tipo de um objeto."
   ]
  },
  {
   "cell_type": "code",
   "execution_count": null,
   "metadata": {
    "collapsed": false
   },
   "outputs": [],
   "source": [
    "lista1 = [1, 'dois', 3.0]\n",
    "type(lista1[0]), type(lista1[1]), type(lista1[2])"
   ]
  },
  {
   "cell_type": "code",
   "execution_count": null,
   "metadata": {
    "collapsed": false
   },
   "outputs": [],
   "source": [
    "lista2 = [lista1, lista1]\n",
    "lista2"
   ]
  },
  {
   "cell_type": "code",
   "execution_count": null,
   "metadata": {
    "collapsed": false
   },
   "outputs": [],
   "source": [
    "lista1[1] = 2 + 0j\n",
    "lista1, type(lista1[1])"
   ]
  },
  {
   "cell_type": "code",
   "execution_count": null,
   "metadata": {
    "collapsed": false
   },
   "outputs": [],
   "source": [
    "lista2"
   ]
  },
  {
   "cell_type": "code",
   "execution_count": null,
   "metadata": {
    "collapsed": false
   },
   "outputs": [],
   "source": [
    "numeros = [1, 4, -3, 0, 10, 5, 1]\n",
    "for num in numeros:\n",
    "    if num < 0:\n",
    "        print('negativo')\n",
    "    elif num == 0:\n",
    "        print('inexistente')\n",
    "    elif num > 5:\n",
    "        print('gigante')\n",
    "    else:\n",
    "        print('normal')"
   ]
  },
  {
   "cell_type": "code",
   "execution_count": null,
   "metadata": {
    "collapsed": false
   },
   "outputs": [],
   "source": [
    "sum = 0\n",
    "for x in range(10):\n",
    "    sum += x\n",
    "print(sum)"
   ]
  },
  {
   "cell_type": "code",
   "execution_count": null,
   "metadata": {
    "collapsed": false
   },
   "outputs": [],
   "source": [
    "sum = 0\n",
    "for x in range(2, 10, 2):\n",
    "    sum += x\n",
    "print(sum)"
   ]
  },
  {
   "cell_type": "code",
   "execution_count": null,
   "metadata": {
    "collapsed": false
   },
   "outputs": [],
   "source": [
    "numeros = [3, 5, 11, 6, 7, 8, 34, -12, 0, 14, 25]\n",
    "i = 0\n",
    "while i < len(numeros):\n",
    "    print(i, numeros[i])\n",
    "    i += 1"
   ]
  },
  {
   "cell_type": "code",
   "execution_count": null,
   "metadata": {
    "collapsed": false
   },
   "outputs": [],
   "source": [
    "numeros = [3, 5, 11, 6, 7, 8, 34, -12, 0, 14, 25]\n",
    "i = 0\n",
    "while i < len(numeros):\n",
    "    if numeros[i] <= 0: break\n",
    "    print(i, numeros[i])\n",
    "    i += 1"
   ]
  },
  {
   "cell_type": "code",
   "execution_count": null,
   "metadata": {
    "collapsed": false
   },
   "outputs": [],
   "source": [
    "numeros = [3, 5, 11, 6, 7, 8, 34, -12, 0, 14, 25]\n",
    "i = 0\n",
    "while i < len(numeros):\n",
    "    if numeros[i] <= 0:\n",
    "        i += 1\n",
    "        continue\n",
    "    print(i, numeros[i])\n",
    "    i += 1"
   ]
  }
 ],
 "metadata": {
  "kernelspec": {
   "display_name": "Python 3",
   "language": "python",
   "name": "python3"
  },
  "language_info": {
   "codemirror_mode": {
    "name": "ipython",
    "version": 3
   },
   "file_extension": ".py",
   "mimetype": "text/x-python",
   "name": "python",
   "nbconvert_exporter": "python",
   "pygments_lexer": "ipython3",
   "version": "3.5.1"
  }
 },
 "nbformat": 4,
 "nbformat_minor": 0
}
