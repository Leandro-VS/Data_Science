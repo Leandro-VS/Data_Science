{
 "cells": [
  {
   "cell_type": "markdown",
   "metadata": {},
   "source": [
    "# Quinta prática"
   ]
  },
  {
   "cell_type": "markdown",
   "metadata": {},
   "source": [
    "*(5 pontos)*"
   ]
  },
  {
   "cell_type": "markdown",
   "metadata": {},
   "source": [
    "Explique o que o código de **cada uma** das células abaixo faz."
   ]
  },
  {
   "cell_type": "code",
   "execution_count": 1,
   "metadata": {
    "collapsed": true
   },
   "outputs": [],
   "source": [
    "class Limited:\n",
    "    def __init__(self, N):\n",
    "        self.__remaining = N\n",
    "    def get(self):\n",
    "        if self.__remaining > 0:\n",
    "            self.__remaining -= 1\n",
    "        else:\n",
    "            raise Exception(\"Resource exausted\")"
   ]
  },
  {
   "cell_type": "markdown",
   "metadata": {},
   "source": [
    "Cria-se a classe Limited, seu init, alem do self, recebe um numero N, e esse N sera atribuido a variavel remaining. Na outra função da classe Limited, a get(), temos um condicional if que checa se remaining é maior que zero, se sim, subtrai 1 de remaining, quando remaining for menor que zero, entra no caso da função raise que é usada para indicar que uma condição de excessão ocorreu, utilizando o Exception, que escreverá \"Resource Exausted\"."
   ]
  },
  {
   "cell_type": "code",
   "execution_count": 38,
   "metadata": {
    "collapsed": false
   },
   "outputs": [
    {
     "name": "stdout",
     "output_type": "stream",
     "text": [
      "0 1 2 3 4 5 6 7 8 9 "
     ]
    },
    {
     "ename": "Exception",
     "evalue": "Resource exausted",
     "output_type": "error",
     "traceback": [
      "\u001b[1;31m---------------------------------------------------------------------------\u001b[0m",
      "\u001b[1;31mException\u001b[0m                                 Traceback (most recent call last)",
      "\u001b[1;32m<ipython-input-38-4b37fd2ff4b3>\u001b[0m in \u001b[0;36m<module>\u001b[1;34m()\u001b[0m\n\u001b[0;32m      1\u001b[0m \u001b[0ma\u001b[0m \u001b[1;33m=\u001b[0m \u001b[0mLimited\u001b[0m\u001b[1;33m(\u001b[0m\u001b[1;36m10\u001b[0m\u001b[1;33m)\u001b[0m\u001b[1;33m\u001b[0m\u001b[0m\n\u001b[0;32m      2\u001b[0m \u001b[1;32mfor\u001b[0m \u001b[0mi\u001b[0m \u001b[1;32min\u001b[0m \u001b[0mrange\u001b[0m\u001b[1;33m(\u001b[0m\u001b[1;36m20\u001b[0m\u001b[1;33m)\u001b[0m\u001b[1;33m:\u001b[0m\u001b[1;33m\u001b[0m\u001b[0m\n\u001b[1;32m----> 3\u001b[1;33m     \u001b[0ma\u001b[0m\u001b[1;33m.\u001b[0m\u001b[0mget\u001b[0m\u001b[1;33m(\u001b[0m\u001b[1;33m)\u001b[0m\u001b[1;33m\u001b[0m\u001b[0m\n\u001b[0m\u001b[0;32m      4\u001b[0m     \u001b[0mprint\u001b[0m\u001b[1;33m(\u001b[0m\u001b[0mi\u001b[0m\u001b[1;33m,\u001b[0m \u001b[0mend\u001b[0m\u001b[1;33m=\u001b[0m\u001b[1;34m' '\u001b[0m\u001b[1;33m)\u001b[0m\u001b[1;33m\u001b[0m\u001b[0m\n\u001b[0;32m      5\u001b[0m \u001b[0mprint\u001b[0m\u001b[1;33m(\u001b[0m\u001b[1;33m)\u001b[0m\u001b[1;33m\u001b[0m\u001b[0m\n",
      "\u001b[1;32m<ipython-input-1-fb2292162bff>\u001b[0m in \u001b[0;36mget\u001b[1;34m(self)\u001b[0m\n\u001b[0;32m      6\u001b[0m             \u001b[0mself\u001b[0m\u001b[1;33m.\u001b[0m\u001b[0m__remaining\u001b[0m \u001b[1;33m-=\u001b[0m \u001b[1;36m1\u001b[0m\u001b[1;33m\u001b[0m\u001b[0m\n\u001b[0;32m      7\u001b[0m         \u001b[1;32melse\u001b[0m\u001b[1;33m:\u001b[0m\u001b[1;33m\u001b[0m\u001b[0m\n\u001b[1;32m----> 8\u001b[1;33m             \u001b[1;32mraise\u001b[0m \u001b[0mException\u001b[0m\u001b[1;33m(\u001b[0m\u001b[1;34m\"Resource exausted\"\u001b[0m\u001b[1;33m)\u001b[0m\u001b[1;33m\u001b[0m\u001b[0m\n\u001b[0m",
      "\u001b[1;31mException\u001b[0m: Resource exausted"
     ]
    }
   ],
   "source": [
    "a = Limited(10)\n",
    "for i in range(20):\n",
    "    a.get()\n",
    "    print(i, end=' ')\n",
    "print()"
   ]
  },
  {
   "cell_type": "markdown",
   "metadata": {},
   "source": [
    "Inicia-se o objeto a que recebe Limited com N=10, em seguida, dentro de um for com i indo de 0 a 19 (pela função range, é executada a função get() no objeto a, e printa-se a quantidade de vezes em que essa função é executada, até que ocorre o caso excessão que executa o Exception da função raise, quando N < 0, no caso, na decima vez em que a função get é executada, printando de 0 a 9."
   ]
  },
  {
   "cell_type": "code",
   "execution_count": 40,
   "metadata": {
    "collapsed": false
   },
   "outputs": [
    {
     "name": "stdout",
     "output_type": "stream",
     "text": [
      "0 1 2 3 4 5 6 7 8 9 "
     ]
    },
    {
     "ename": "Exception",
     "evalue": "Resource exausted",
     "output_type": "error",
     "traceback": [
      "\u001b[1;31m---------------------------------------------------------------------------\u001b[0m",
      "\u001b[1;31mException\u001b[0m                                 Traceback (most recent call last)",
      "\u001b[1;32m<ipython-input-40-67affd206097>\u001b[0m in \u001b[0;36m<module>\u001b[1;34m()\u001b[0m\n\u001b[0;32m      3\u001b[0m \u001b[1;32mfor\u001b[0m \u001b[0mi\u001b[0m \u001b[1;32min\u001b[0m \u001b[0mrange\u001b[0m\u001b[1;33m(\u001b[0m\u001b[1;36m15\u001b[0m\u001b[1;33m)\u001b[0m\u001b[1;33m:\u001b[0m\u001b[1;33m\u001b[0m\u001b[0m\n\u001b[0;32m      4\u001b[0m     \u001b[1;32mif\u001b[0m \u001b[0mi\u001b[0m \u001b[1;33m%\u001b[0m \u001b[1;36m2\u001b[0m \u001b[1;33m==\u001b[0m \u001b[1;36m0\u001b[0m\u001b[1;33m:\u001b[0m\u001b[1;33m\u001b[0m\u001b[0m\n\u001b[1;32m----> 5\u001b[1;33m         \u001b[0mb\u001b[0m\u001b[1;33m.\u001b[0m\u001b[0mget\u001b[0m\u001b[1;33m(\u001b[0m\u001b[1;33m)\u001b[0m\u001b[1;33m\u001b[0m\u001b[0m\n\u001b[0m\u001b[0;32m      6\u001b[0m     \u001b[1;32melse\u001b[0m\u001b[1;33m:\u001b[0m\u001b[1;33m\u001b[0m\u001b[0m\n\u001b[0;32m      7\u001b[0m         \u001b[0mc\u001b[0m\u001b[1;33m.\u001b[0m\u001b[0mget\u001b[0m\u001b[1;33m(\u001b[0m\u001b[1;33m)\u001b[0m\u001b[1;33m\u001b[0m\u001b[0m\n",
      "\u001b[1;32m<ipython-input-1-fb2292162bff>\u001b[0m in \u001b[0;36mget\u001b[1;34m(self)\u001b[0m\n\u001b[0;32m      6\u001b[0m             \u001b[0mself\u001b[0m\u001b[1;33m.\u001b[0m\u001b[0m__remaining\u001b[0m \u001b[1;33m-=\u001b[0m \u001b[1;36m1\u001b[0m\u001b[1;33m\u001b[0m\u001b[0m\n\u001b[0;32m      7\u001b[0m         \u001b[1;32melse\u001b[0m\u001b[1;33m:\u001b[0m\u001b[1;33m\u001b[0m\u001b[0m\n\u001b[1;32m----> 8\u001b[1;33m             \u001b[1;32mraise\u001b[0m \u001b[0mException\u001b[0m\u001b[1;33m(\u001b[0m\u001b[1;34m\"Resource exausted\"\u001b[0m\u001b[1;33m)\u001b[0m\u001b[1;33m\u001b[0m\u001b[0m\n\u001b[0m",
      "\u001b[1;31mException\u001b[0m: Resource exausted"
     ]
    }
   ],
   "source": [
    "b = Limited(5)\n",
    "c = Limited(7)\n",
    "for i in range(15):\n",
    "    if i % 2 == 0:\n",
    "        b.get()\n",
    "    else:\n",
    "        c.get()\n",
    "    print(i, end=' ')\n",
    "print()"
   ]
  },
  {
   "cell_type": "markdown",
   "metadata": {},
   "source": [
    "Atribui-se aos objetos b e c limited com N = 5 e N = 7 respectivamente. Em seguida, temos um for que fara i ir de 0 a 14, e dentro desse for, um condicional que diz que se o numero for divisivel por 2, ou seja, se ele for par, executa-se a função get no objeto b, se não, executa-se a função get no objeto c e printa-se quantas vezes a função get foi executada em qualquer uma das variaveis. O Exception ocorre primeiro quando se executa a função get no objeto b pela quinta vez, quando o i chega a valer 10, pois de 0 a 10 temos 6 numeros pares, o que faz com que o N de b fique menor que zero quando i = 10. "
   ]
  },
  {
   "cell_type": "code",
   "execution_count": 41,
   "metadata": {
    "collapsed": false
   },
   "outputs": [
    {
     "name": "stdout",
     "output_type": "stream",
     "text": [
      "0 1 2 3 4 "
     ]
    },
    {
     "ename": "Exception",
     "evalue": "Resource exausted",
     "output_type": "error",
     "traceback": [
      "\u001b[1;31m---------------------------------------------------------------------------\u001b[0m",
      "\u001b[1;31mException\u001b[0m                                 Traceback (most recent call last)",
      "\u001b[1;32m<ipython-input-41-936b88a469cf>\u001b[0m in \u001b[0;36m<module>\u001b[1;34m()\u001b[0m\n\u001b[0;32m      5\u001b[0m         \u001b[0me\u001b[0m\u001b[1;33m.\u001b[0m\u001b[0mget\u001b[0m\u001b[1;33m(\u001b[0m\u001b[1;33m)\u001b[0m\u001b[1;33m\u001b[0m\u001b[0m\n\u001b[0;32m      6\u001b[0m     \u001b[1;32melse\u001b[0m\u001b[1;33m:\u001b[0m\u001b[1;33m\u001b[0m\u001b[0m\n\u001b[1;32m----> 7\u001b[1;33m         \u001b[0md\u001b[0m\u001b[1;33m.\u001b[0m\u001b[0mget\u001b[0m\u001b[1;33m(\u001b[0m\u001b[1;33m)\u001b[0m\u001b[1;33m\u001b[0m\u001b[0m\n\u001b[0m\u001b[0;32m      8\u001b[0m     \u001b[0mprint\u001b[0m\u001b[1;33m(\u001b[0m\u001b[0mi\u001b[0m\u001b[1;33m,\u001b[0m \u001b[0mend\u001b[0m\u001b[1;33m=\u001b[0m\u001b[1;34m' '\u001b[0m\u001b[1;33m)\u001b[0m\u001b[1;33m\u001b[0m\u001b[0m\n\u001b[0;32m      9\u001b[0m \u001b[0mprint\u001b[0m\u001b[1;33m(\u001b[0m\u001b[1;33m)\u001b[0m\u001b[1;33m\u001b[0m\u001b[0m\n",
      "\u001b[1;32m<ipython-input-1-fb2292162bff>\u001b[0m in \u001b[0;36mget\u001b[1;34m(self)\u001b[0m\n\u001b[0;32m      6\u001b[0m             \u001b[0mself\u001b[0m\u001b[1;33m.\u001b[0m\u001b[0m__remaining\u001b[0m \u001b[1;33m-=\u001b[0m \u001b[1;36m1\u001b[0m\u001b[1;33m\u001b[0m\u001b[0m\n\u001b[0;32m      7\u001b[0m         \u001b[1;32melse\u001b[0m\u001b[1;33m:\u001b[0m\u001b[1;33m\u001b[0m\u001b[0m\n\u001b[1;32m----> 8\u001b[1;33m             \u001b[1;32mraise\u001b[0m \u001b[0mException\u001b[0m\u001b[1;33m(\u001b[0m\u001b[1;34m\"Resource exausted\"\u001b[0m\u001b[1;33m)\u001b[0m\u001b[1;33m\u001b[0m\u001b[0m\n\u001b[0m",
      "\u001b[1;31mException\u001b[0m: Resource exausted"
     ]
    }
   ],
   "source": [
    "d = Limited(5)\n",
    "e = d\n",
    "for i in range(15):\n",
    "    if i % 2 == 0:\n",
    "        e.get()\n",
    "    else:\n",
    "        d.get()\n",
    "    print(i, end=' ')\n",
    "print()"
   ]
  },
  {
   "cell_type": "markdown",
   "metadata": {},
   "source": [
    "O objeto d recebe Limited com N= 5 e o objeto e recebe d. Em seguida, o for faz um i percorrer de 0 a 14 e dentro, com o if, se o i for par, executa-se a função get() em e, e se o i for impar, executa-se a função get em d. Como ambos os dois objetos serão iguais a Limited com N=5, com o percorrer do i, a função get() será executada nos dois objetos ao mesm otempo pq eles sao equivalentes, entao, quando  i = 5, ja tera executado o get() 3 vezes em d e 2 vezes em c, totalizando 5 execuções antes de cair o caso do Exception. "
   ]
  },
  {
   "cell_type": "code",
   "execution_count": 5,
   "metadata": {
    "collapsed": false
   },
   "outputs": [
    {
     "ename": "Exception",
     "evalue": "Resource exausted",
     "output_type": "error",
     "traceback": [
      "\u001b[1;31m---------------------------------------------------------------------------\u001b[0m",
      "\u001b[1;31mException\u001b[0m                                 Traceback (most recent call last)",
      "\u001b[1;32m<ipython-input-5-b62556a9aa7c>\u001b[0m in \u001b[0;36m<module>\u001b[1;34m()\u001b[0m\n\u001b[0;32m      1\u001b[0m \u001b[1;32mfor\u001b[0m \u001b[0mi\u001b[0m \u001b[1;32min\u001b[0m \u001b[0mrange\u001b[0m\u001b[1;33m(\u001b[0m\u001b[1;36m15\u001b[0m\u001b[1;33m)\u001b[0m\u001b[1;33m:\u001b[0m\u001b[1;33m\u001b[0m\u001b[0m\n\u001b[0;32m      2\u001b[0m     \u001b[1;32mif\u001b[0m \u001b[0mi\u001b[0m \u001b[1;33m%\u001b[0m \u001b[1;36m2\u001b[0m \u001b[1;33m==\u001b[0m \u001b[1;36m0\u001b[0m\u001b[1;33m:\u001b[0m\u001b[1;33m\u001b[0m\u001b[0m\n\u001b[1;32m----> 3\u001b[1;33m         \u001b[0mb\u001b[0m\u001b[1;33m.\u001b[0m\u001b[0mget\u001b[0m\u001b[1;33m(\u001b[0m\u001b[1;33m)\u001b[0m\u001b[1;33m\u001b[0m\u001b[0m\n\u001b[0m\u001b[0;32m      4\u001b[0m     \u001b[1;32melse\u001b[0m\u001b[1;33m:\u001b[0m\u001b[1;33m\u001b[0m\u001b[0m\n\u001b[0;32m      5\u001b[0m         \u001b[0mc\u001b[0m\u001b[1;33m.\u001b[0m\u001b[0mget\u001b[0m\u001b[1;33m(\u001b[0m\u001b[1;33m)\u001b[0m\u001b[1;33m\u001b[0m\u001b[0m\n",
      "\u001b[1;32m<ipython-input-1-fb2292162bff>\u001b[0m in \u001b[0;36mget\u001b[1;34m(self)\u001b[0m\n\u001b[0;32m      6\u001b[0m             \u001b[0mself\u001b[0m\u001b[1;33m.\u001b[0m\u001b[0m__remaining\u001b[0m \u001b[1;33m-=\u001b[0m \u001b[1;36m1\u001b[0m\u001b[1;33m\u001b[0m\u001b[0m\n\u001b[0;32m      7\u001b[0m         \u001b[1;32melse\u001b[0m\u001b[1;33m:\u001b[0m\u001b[1;33m\u001b[0m\u001b[0m\n\u001b[1;32m----> 8\u001b[1;33m             \u001b[1;32mraise\u001b[0m \u001b[0mException\u001b[0m\u001b[1;33m(\u001b[0m\u001b[1;34m\"Resource exausted\"\u001b[0m\u001b[1;33m)\u001b[0m\u001b[1;33m\u001b[0m\u001b[0m\n\u001b[0m",
      "\u001b[1;31mException\u001b[0m: Resource exausted"
     ]
    }
   ],
   "source": [
    "for i in range(15):\n",
    "    if i % 2 == 0:\n",
    "        b.get()\n",
    "    else:\n",
    "        c.get()\n",
    "    print(i, end=' ')\n",
    "print()"
   ]
  },
  {
   "cell_type": "markdown",
   "metadata": {},
   "source": [
    "O valor de N já estava definido no bloco anterior, N já tem o valor 0, então nesse for não haverá nenhuma execução da função get(), caindo direto no caso de exception."
   ]
  },
  {
   "cell_type": "code",
   "execution_count": 6,
   "metadata": {
    "collapsed": true
   },
   "outputs": [],
   "source": [
    "class LimitedTalker(Limited):\n",
    "    def __init__(self, what):\n",
    "        self.__what = what\n",
    "        self.__i = 0\n",
    "        Limited.__init__(self, len(what))\n",
    "    def talk(self):\n",
    "        t = self.__what[self.__i]\n",
    "        self.__i += 1\n",
    "        return t"
   ]
  },
  {
   "cell_type": "markdown",
   "metadata": {},
   "source": [
    "Defini-se a classe Limited Talker que tem como herança a classe Limited, em seu init que tem como parametro what, que no caso será uma lista de strings, que sera atribuida a variavel what, também delcara-se a variavel i = 0 e a variavel da classe Limited que recebera alem do self, um N que será igual ao tamanho da lista what. Também Define-se uma função chamada talk, que irá atribuir a variavel t a string na posição i da lista what, e em seguida, incrementa-se o i, retornando t."
   ]
  },
  {
   "cell_type": "code",
   "execution_count": 7,
   "metadata": {
    "collapsed": false
   },
   "outputs": [
    {
     "name": "stdout",
     "output_type": "stream",
     "text": [
      "Oi\n",
      "Tudo bem?\n",
      "Como vai?\n",
      "Está frio hoje.\n",
      "Não sei mais o que falar.\n",
      "Não sei mais o que falar.\n",
      "Não sei mais o que falar.\n",
      "Não sei mais o que falar.\n",
      "Não sei mais o que falar.\n",
      "Não sei mais o que falar.\n"
     ]
    }
   ],
   "source": [
    "t1 = LimitedTalker([\"Oi\", \"Tudo bem?\", \"Como vai?\", \"Está frio hoje.\"])\n",
    "for i in range(10):\n",
    "    try:\n",
    "        t1.get()\n",
    "        print(t1.talk())\n",
    "    except Exception:\n",
    "        print(\"Não sei mais o que falar.\")"
   ]
  },
  {
   "cell_type": "markdown",
   "metadata": {},
   "source": [
    "Atribui-se a t1 LimitedTalker sendo what a lista de strings com 4 posições. Em seguida, utilizando um for que fará i percorrer de 0 a 14, executa-se a função get (da classe Limited) no objeto t1, que tera N = 4 que é o tamanho da lista de strings. Pela função try, enquanto N nao for negativo, será executada a função get e será printado o retorno da função talk que retornará t que será a frase em cada posição da lista, e as posições serão percorridas pelo incrementar do i dentro dessa função. Quando N entra no caso de Exception, a função except é executada, fazendo com que se o caso for Exception, printe \"Nao sei mais o que falar\" ate que o i no for seja igual a 9, devido ao range."
   ]
  },
  {
   "cell_type": "code",
   "execution_count": 8,
   "metadata": {
    "collapsed": true
   },
   "outputs": [],
   "source": [
    "class A:\n",
    "    def __init__(self, x):\n",
    "        self.__x = x\n",
    "    def f(self):\n",
    "        return 2 * self.__x\n",
    "    def g(self, y):\n",
    "        return self.__x + 2 * y\n",
    "    def h(self, z):\n",
    "        self.__x = z - 1"
   ]
  },
  {
   "cell_type": "markdown",
   "metadata": {},
   "source": [
    "Define-se a classe A que recebe em seu init um valor x, e atribui esse valor a uma variavel x.Depois, define-se a função f que retorna 2 vezes x, a função g que recebe um y e retorna x + 2 vezes y e a função h que recebe um z e define x = z-1. "
   ]
  },
  {
   "cell_type": "code",
   "execution_count": 9,
   "metadata": {
    "collapsed": true
   },
   "outputs": [],
   "source": [
    "class B(A):\n",
    "    def __init__(self, x):\n",
    "        super().__init__(x + 5)\n",
    "    def f(self):\n",
    "        return super().f() - 5"
   ]
  },
  {
   "cell_type": "markdown",
   "metadata": {},
   "source": [
    "Define-se a classe B que recebe como herança a classe A e em seu init recebe um x, utilizando a função super() atribui-se a classe \"pai\" A que x = x+5. Define-se a função f que retorna a função f da classe pai -5."
   ]
  },
  {
   "cell_type": "code",
   "execution_count": 10,
   "metadata": {
    "collapsed": true
   },
   "outputs": [],
   "source": [
    "class C(A):\n",
    "    def g(self, y):\n",
    "        return super().g(y - 1)"
   ]
  },
  {
   "cell_type": "markdown",
   "metadata": {},
   "source": [
    "Define-se a classe C que recebe A como herança, e terá seu init igual ao init de A. Em seguida define-se a função g que recebe um valor y e retorna  a função g() de a com o parametro igual a y-1."
   ]
  },
  {
   "cell_type": "code",
   "execution_count": 11,
   "metadata": {
    "collapsed": true
   },
   "outputs": [],
   "source": [
    "class D(A):\n",
    "    def h(self, z):\n",
    "        super().h(3 * z)"
   ]
  },
  {
   "cell_type": "markdown",
   "metadata": {},
   "source": [
    "        Define-se a classe D que recebe A como herança e que terá o init igual ao init de A. Depois, define-se a função h que recebe o valor z e executa a função h da classe pai A com o parametro 3 vezes z"
   ]
  },
  {
   "cell_type": "code",
   "execution_count": 12,
   "metadata": {
    "collapsed": true
   },
   "outputs": [],
   "source": [
    "class E(B, C):\n",
    "    pass"
   ]
  },
  {
   "cell_type": "markdown",
   "metadata": {},
   "source": [
    "Define-se a calsse E que recebe como herança as classes B e C. "
   ]
  },
  {
   "cell_type": "code",
   "execution_count": 42,
   "metadata": {
    "collapsed": true
   },
   "outputs": [],
   "source": [
    "def doit(a):\n",
    "    print(a.f(), end=' ')\n",
    "    print(a.g(7), end=' ')\n",
    "    a.h(11)\n",
    "    print(a.f())"
   ]
  },
  {
   "cell_type": "markdown",
   "metadata": {},
   "source": [
    "Define-se a função doit que recebera um parametro a. Essa função printará o retorno da função f() executada no objeto a, depois printará a função g() com parametro 7 no objeto a, depois altera-se o valor de x na classe utilizando a função h() com parametro 11 e printa-se o retorno da função f() no objeto a com o novo valor de x.  "
   ]
  },
  {
   "cell_type": "code",
   "execution_count": 14,
   "metadata": {
    "collapsed": false
   },
   "outputs": [
    {
     "name": "stdout",
     "output_type": "stream",
     "text": [
      "4 16 20\n",
      "11 22 15\n",
      "10 17 20\n",
      "14 21 64\n",
      "27 28 15\n"
     ]
    }
   ],
   "source": [
    "allofthem = [A(2), B(3), C(5), D(7), E(11)]\n",
    "for a in allofthem:\n",
    "    doit(a)"
   ]
  },
  {
   "cell_type": "markdown",
   "metadata": {},
   "source": [
    "Cria-se a variavel allofthem que recebe uma lista de objetos representados pelas classes A, B, C, D e E com seus respectivos parametros. Utilizando um for, a percorre a lista de allofthem e executa-se a função doit descrita anteriormente. Os valores são printados de acordo com o retorno das funções explicadas anteriormente. É interessante notar que no caso do objeto E, ele terá o init de B e a função f() herdada de B que por sua vez é herdada de A, e a função g() será herdada de C que por sua vez tmb é herdada de A. "
   ]
  },
  {
   "cell_type": "code",
   "execution_count": 15,
   "metadata": {
    "collapsed": false
   },
   "outputs": [
    {
     "name": "stdout",
     "output_type": "stream",
     "text": [
      "Variável do tipo A: É um A. Não é um B.\n",
      "Variável do tipo B: É um A. É um B.\n",
      "Variável do tipo C: É um A. Não é um B.\n",
      "Variável do tipo D: É um A. Não é um B.\n",
      "Variável do tipo E: É um A. É um B.\n"
     ]
    }
   ],
   "source": [
    "for a in allofthem:\n",
    "    print('Variável do tipo', type(a).__name__, end=': ')\n",
    "    if isinstance(a, A):\n",
    "        print('É um A.', end=\" \")\n",
    "    else:\n",
    "        print('Não é um A.', end=\" \")\n",
    "    if isinstance(a, B):\n",
    "        print('É um B.')\n",
    "    else:\n",
    "        print('Não é um B.')"
   ]
  },
  {
   "cell_type": "markdown",
   "metadata": {},
   "source": [
    "Esse bloco é utilizado para mostrar a herança das classes. Com um for que fara a percorrer a lista allofthem, ele checa pela função isinstance que recebe como parametro dois objetos, se \"um vem do outro\", printando se uma classe herda a outra ou não.  "
   ]
  },
  {
   "cell_type": "code",
   "execution_count": 16,
   "metadata": {
    "collapsed": true
   },
   "outputs": [],
   "source": [
    "class NiceLimited:\n",
    "    def __init__(self, N):\n",
    "        if N < 0: raise ValueError('Must be positive.')\n",
    "        self.__N = N\n",
    "    def __iter__(self):\n",
    "        return self\n",
    "    def __next__(self):\n",
    "        if self.__N == 0:\n",
    "            raise StopIteration()\n",
    "        else:\n",
    "            self.__N -= 1\n",
    "            return self.__N"
   ]
  },
  {
   "cell_type": "markdown",
   "metadata": {},
   "source": [
    "Cria-se a classe NiceLimited que recebera em seu init um valor N, dentro do init ele checa se o valor de N será menor que zero, caso sim a função raise é executada apresentando ValueError. Defini-se por sobrecarga de operador __iter__ (funciona parecido com o range) que trabalhara com a sobrecarga __next__ que, se N for igual a 0 parará a iteração e se não, continuara, decrementando N em 1, retornando N."
   ]
  },
  {
   "cell_type": "code",
   "execution_count": 17,
   "metadata": {
    "collapsed": false
   },
   "outputs": [
    {
     "name": "stdout",
     "output_type": "stream",
     "text": [
      "9 8 7 6 5 4 3 2 1 0 \n"
     ]
    }
   ],
   "source": [
    "for i in NiceLimited(10):\n",
    "    print(i, end=' ')\n",
    "print()"
   ]
  },
  {
   "cell_type": "markdown",
   "metadata": {},
   "source": [
    "O for faz o i printar o retorno de Nice Limited recebendo 10 como parametro até N ser = 0. O primeiro valor é 9 pois como N começa em 10, o retorno será 10-1, ou seja, 9."
   ]
  },
  {
   "cell_type": "code",
   "execution_count": 18,
   "metadata": {
    "collapsed": true
   },
   "outputs": [],
   "source": [
    "class Exibido:\n",
    "    def __init__(self, s):\n",
    "        self.__s = s\n",
    "    def __repr__(self):\n",
    "        return 'Exibido(' + str(self.__s) + ')'"
   ]
  },
  {
   "cell_type": "markdown",
   "metadata": {},
   "source": [
    "Cria-se  a classe Exibido que recebe em seu init um valor s, e define a variavel s, em seguida usa a sobrecarga __repr__ que retornara a representação de Exibido(s) sendo s o parametro passado."
   ]
  },
  {
   "cell_type": "code",
   "execution_count": 19,
   "metadata": {
    "collapsed": false
   },
   "outputs": [
    {
     "data": {
      "text/plain": [
       "Exibido(5)"
      ]
     },
     "execution_count": 19,
     "metadata": {},
     "output_type": "execute_result"
    }
   ],
   "source": [
    "e = Exibido(5)\n",
    "e"
   ]
  },
  {
   "cell_type": "markdown",
   "metadata": {},
   "source": [
    "Atribui a o objeto e Exibido com parametro = 5 e em seguida pede-se o retorno de e."
   ]
  },
  {
   "cell_type": "code",
   "execution_count": 20,
   "metadata": {
    "collapsed": false
   },
   "outputs": [
    {
     "name": "stdout",
     "output_type": "stream",
     "text": [
      "Exibido(5)\n"
     ]
    }
   ],
   "source": [
    "print(e)"
   ]
  },
  {
   "cell_type": "markdown",
   "metadata": {},
   "source": [
    "Manda printar o objeto e que retornará uma string \"Exibido(s)\" sendo s o parametro passado, no caso 5."
   ]
  },
  {
   "cell_type": "code",
   "execution_count": 21,
   "metadata": {
    "collapsed": true
   },
   "outputs": [],
   "source": [
    "class OutroExibido:\n",
    "    def __init__(self, s):\n",
    "        self.__s = s\n",
    "    def __str__(self):\n",
    "        return 'OutroExibido(' + str(self.__s) + ')'    "
   ]
  },
  {
   "cell_type": "markdown",
   "metadata": {},
   "source": [
    "Cria-se a classe OutroExibido que tera o init igual o da classe Exibido, porem, tera uma função de sobrecarga __srt__ que irá transformar o retorno em um 'ponteiro' pro objeto."
   ]
  },
  {
   "cell_type": "code",
   "execution_count": 22,
   "metadata": {
    "collapsed": false
   },
   "outputs": [
    {
     "data": {
      "text/plain": [
       "<__main__.OutroExibido at 0x7f86d4950f28>"
      ]
     },
     "execution_count": 22,
     "metadata": {},
     "output_type": "execute_result"
    }
   ],
   "source": [
    "o = OutroExibido(7)\n",
    "o"
   ]
  },
  {
   "cell_type": "markdown",
   "metadata": {},
   "source": [
    "Mostra onde o objeto retornado estará na memoria"
   ]
  },
  {
   "cell_type": "code",
   "execution_count": 23,
   "metadata": {
    "collapsed": false
   },
   "outputs": [
    {
     "name": "stdout",
     "output_type": "stream",
     "text": [
      "OutroExibido(7)\n"
     ]
    }
   ],
   "source": [
    "print(o)"
   ]
  },
  {
   "cell_type": "markdown",
   "metadata": {},
   "source": [
    "Como o objeto o estará submetido a um print, ele printará o seu retorno como a string da sobrecarga."
   ]
  },
  {
   "cell_type": "code",
   "execution_count": 24,
   "metadata": {
    "collapsed": true
   },
   "outputs": [],
   "source": [
    "class MaisExibido:\n",
    "    def __init__(self, s):\n",
    "        self.__s = s\n",
    "    def __repr__(self):\n",
    "        return 'MaisExibido(' + str(self.__s) + ')'\n",
    "    def __str__(self):\n",
    "        return str(self.__s)  "
   ]
  },
  {
   "cell_type": "markdown",
   "metadata": {},
   "source": [
    "Cria-se a classe MaisExibido com um init igual a das classes anteriores. Define a operação __repr__ que retornara a representação do \"MaisExibido(s)\" sendo s o parametro, e a operação __str__ que retornará em string a variavel s."
   ]
  },
  {
   "cell_type": "code",
   "execution_count": 25,
   "metadata": {
    "collapsed": false
   },
   "outputs": [
    {
     "data": {
      "text/plain": [
       "MaisExibido(11)"
      ]
     },
     "execution_count": 25,
     "metadata": {},
     "output_type": "execute_result"
    }
   ],
   "source": [
    "m = MaisExibido(11)\n",
    "m"
   ]
  },
  {
   "cell_type": "markdown",
   "metadata": {},
   "source": [
    "Quando pede-se o valor de m a operação repr é executada, retornando a string \"MaisExibido(s)\" sendo s o parametro."
   ]
  },
  {
   "cell_type": "code",
   "execution_count": 26,
   "metadata": {
    "collapsed": false
   },
   "outputs": [
    {
     "name": "stdout",
     "output_type": "stream",
     "text": [
      "11\n"
     ]
    }
   ],
   "source": [
    "print(m)"
   ]
  },
  {
   "cell_type": "markdown",
   "metadata": {},
   "source": [
    "Quando pede-se para printar m, a operação str é executada retornando a string do valor s, no caso o parametro 11."
   ]
  },
  {
   "cell_type": "code",
   "execution_count": 27,
   "metadata": {
    "collapsed": true
   },
   "outputs": [],
   "source": [
    "class Pot:\n",
    "    def __init__(self, n):\n",
    "        self.__n = n\n",
    "    def __call__(self, x):\n",
    "        return x ** self.__n"
   ]
  },
  {
   "cell_type": "markdown",
   "metadata": {},
   "source": [
    "Define-se a classe Pot recebendo em seu init um valor n e declarando a variavel n. Em seguida, define-se a operação call que receberá um valor x e retornará esse valor elevado a n."
   ]
  },
  {
   "cell_type": "markdown",
   "metadata": {},
   "source": [
    "**Quando esse método `__call__` é chamado?**\n",
    "\n",
    "*GT*"
   ]
  },
  {
   "cell_type": "code",
   "execution_count": 28,
   "metadata": {
    "collapsed": false
   },
   "outputs": [
    {
     "name": "stdout",
     "output_type": "stream",
     "text": [
      "1, 0, 0, 0, 0, \n",
      "1, 1, 1, 1, 1, \n",
      "1, 2, 4, 8, 16, \n",
      "1, 3, 9, 27, 81, \n"
     ]
    }
   ],
   "source": [
    "allpots = [Pot(i) for i in range(5)]\n",
    "for i in range(4):\n",
    "    for p in allpots:\n",
    "        print(p(i), end=', ')\n",
    "    print()"
   ]
  },
  {
   "cell_type": "markdown",
   "metadata": {},
   "source": [
    "Atribui-se a allpots uma lista de objetos gerados por Pot com os parametros de 0 a 4. Depois, com um for levando i de 0 a 3, e com outro for interno fazendo p percorrer a lista allpots, printa os valores retornados por Pot(i) sendo que n irá variar na classe de 0 a 4 pelo for dentro da lista na primeira linha do bloco e x irá variar de 0 a 3 devido ao primeiro for."
   ]
  },
  {
   "cell_type": "code",
   "execution_count": 29,
   "metadata": {
    "collapsed": true
   },
   "outputs": [],
   "source": [
    "class Counter:\n",
    "    def __init__(self):\n",
    "        self.__n = 0\n",
    "    def up(self):\n",
    "        self.__n += 1\n",
    "    def down(self):\n",
    "        if self.__n > 0:\n",
    "            self.__n -= 1\n",
    "    @property\n",
    "    def value(self):\n",
    "        return self.__n\n",
    "    @value.setter\n",
    "    def value(self, n):\n",
    "        if n < 0:\n",
    "            raise ValueError(\"Must be positive\")\n",
    "        self.__n = n"
   ]
  },
  {
   "cell_type": "markdown",
   "metadata": {},
   "source": [
    " Define-se a classe Counter com um n = 0 em seu init. Define-se a função up que soma um a variavel n, a funçãp down que faz com que se n for maior que zero, n= n-1. o @property define uma \"propriedade\" da classe, no caso, value que retornará n , a @value.setter é uma propriedade que nao permite que o n seja menor que zero, utilizando o raise para executar ValueError. A atribuição de n no fim faz com que o valor de n fique fixo no ultimo caso permitido de n."
   ]
  },
  {
   "cell_type": "code",
   "execution_count": 30,
   "metadata": {
    "collapsed": false
   },
   "outputs": [
    {
     "name": "stdout",
     "output_type": "stream",
     "text": [
      "1 2 3 4 5 6 7 8 9 10 11 12 \n"
     ]
    }
   ],
   "source": [
    "c = Counter()\n",
    "for i in range(12):\n",
    "    c.up()\n",
    "    print(c.value, end=' ')\n",
    "print()"
   ]
  },
  {
   "cell_type": "markdown",
   "metadata": {},
   "source": [
    "o objeto c recebe Counter e utilizando um for indo de 0 a 11 executa a função up() em c e printa o valor em c.value, de i no caso."
   ]
  },
  {
   "cell_type": "code",
   "execution_count": 31,
   "metadata": {
    "collapsed": false
   },
   "outputs": [
    {
     "name": "stdout",
     "output_type": "stream",
     "text": [
      "9 8 7 6 5 4 3 2 1 0 0 0 0 0 0 \n"
     ]
    }
   ],
   "source": [
    "c.value = 10\n",
    "for i in range(15):\n",
    "    c.down()\n",
    "    print(c.value, end=' ')\n",
    "print()"
   ]
  },
  {
   "cell_type": "markdown",
   "metadata": {},
   "source": [
    "c.value recebe o valor 10, com um for com i indo de 0 a 15, executa a função down que subtrairá -1 de n. como na decima vez n ja sera igual a zero e depois só menor que zero, a propriedade da classe faz com que nao sejam atribuidos valroes negativos a n printando somente o ultimo valor permitido de n ate o fim do range."
   ]
  },
  {
   "cell_type": "code",
   "execution_count": 32,
   "metadata": {
    "collapsed": false
   },
   "outputs": [
    {
     "ename": "ValueError",
     "evalue": "Must be positive",
     "output_type": "error",
     "traceback": [
      "\u001b[1;31m---------------------------------------------------------------------------\u001b[0m",
      "\u001b[1;31mValueError\u001b[0m                                Traceback (most recent call last)",
      "\u001b[1;32m<ipython-input-32-e386f362700e>\u001b[0m in \u001b[0;36m<module>\u001b[1;34m()\u001b[0m\n\u001b[1;32m----> 1\u001b[1;33m \u001b[0mc\u001b[0m\u001b[1;33m.\u001b[0m\u001b[0mvalue\u001b[0m \u001b[1;33m=\u001b[0m \u001b[1;33m-\u001b[0m\u001b[1;36m5\u001b[0m\u001b[1;33m\u001b[0m\u001b[0m\n\u001b[0m",
      "\u001b[1;32m<ipython-input-29-2873197622af>\u001b[0m in \u001b[0;36mvalue\u001b[1;34m(self, n)\u001b[0m\n\u001b[0;32m     13\u001b[0m     \u001b[1;32mdef\u001b[0m \u001b[0mvalue\u001b[0m\u001b[1;33m(\u001b[0m\u001b[0mself\u001b[0m\u001b[1;33m,\u001b[0m \u001b[0mn\u001b[0m\u001b[1;33m)\u001b[0m\u001b[1;33m:\u001b[0m\u001b[1;33m\u001b[0m\u001b[0m\n\u001b[0;32m     14\u001b[0m         \u001b[1;32mif\u001b[0m \u001b[0mn\u001b[0m \u001b[1;33m<\u001b[0m \u001b[1;36m0\u001b[0m\u001b[1;33m:\u001b[0m\u001b[1;33m\u001b[0m\u001b[0m\n\u001b[1;32m---> 15\u001b[1;33m             \u001b[1;32mraise\u001b[0m \u001b[0mValueError\u001b[0m\u001b[1;33m(\u001b[0m\u001b[1;34m\"Must be positive\"\u001b[0m\u001b[1;33m)\u001b[0m\u001b[1;33m\u001b[0m\u001b[0m\n\u001b[0m\u001b[0;32m     16\u001b[0m         \u001b[0mself\u001b[0m\u001b[1;33m.\u001b[0m\u001b[0m__n\u001b[0m \u001b[1;33m=\u001b[0m \u001b[0mn\u001b[0m\u001b[1;33m\u001b[0m\u001b[0m\n",
      "\u001b[1;31mValueError\u001b[0m: Must be positive"
     ]
    }
   ],
   "source": [
    "c.value = -5"
   ]
  },
  {
   "cell_type": "markdown",
   "metadata": {},
   "source": [
    "a propriedade da classe nao permite valores negativos para n, então, ele cai no caso de da raise que da ValueError."
   ]
  },
  {
   "cell_type": "code",
   "execution_count": 33,
   "metadata": {
    "collapsed": false
   },
   "outputs": [
    {
     "name": "stdout",
     "output_type": "stream",
     "text": [
      "Job done\n",
      "Function does not like this value\n",
      "Job done\n",
      "Function does not like this value\n",
      "0\n",
      "Job done\n",
      "I'm done for now\n",
      "1\n",
      "Job done\n",
      "I'm done for now\n",
      "2\n",
      "Job done\n",
      "I'm done for now\n",
      "Something big has come\n",
      "Job done\n",
      "I'm done for now\n",
      "Job done\n"
     ]
    },
    {
     "ename": "TypeError",
     "evalue": "Need an int",
     "output_type": "error",
     "traceback": [
      "\u001b[1;31m---------------------------------------------------------------------------\u001b[0m",
      "\u001b[1;31mTypeError\u001b[0m                                 Traceback (most recent call last)",
      "\u001b[1;32m<ipython-input-33-7a21caa85207>\u001b[0m in \u001b[0;36m<module>\u001b[1;34m()\u001b[0m\n\u001b[0;32m     20\u001b[0m \u001b[1;32mfor\u001b[0m \u001b[0mi\u001b[0m \u001b[1;32min\u001b[0m \u001b[0mvalues\u001b[0m\u001b[1;33m:\u001b[0m\u001b[1;33m\u001b[0m\u001b[0m\n\u001b[0;32m     21\u001b[0m     \u001b[1;32mtry\u001b[0m\u001b[1;33m:\u001b[0m\u001b[1;33m\u001b[0m\u001b[0m\n\u001b[1;32m---> 22\u001b[1;33m         \u001b[0mcanfail\u001b[0m\u001b[1;33m(\u001b[0m\u001b[0mi\u001b[0m\u001b[1;33m)\u001b[0m\u001b[1;33m\u001b[0m\u001b[0m\n\u001b[0m\u001b[0;32m     23\u001b[0m     \u001b[1;32mexcept\u001b[0m \u001b[0mValueError\u001b[0m\u001b[1;33m:\u001b[0m\u001b[1;33m\u001b[0m\u001b[0m\n\u001b[0;32m     24\u001b[0m         \u001b[0mprint\u001b[0m\u001b[1;33m(\u001b[0m\u001b[1;34m'Function does not like this value'\u001b[0m\u001b[1;33m)\u001b[0m\u001b[1;33m\u001b[0m\u001b[0m\n",
      "\u001b[1;32m<ipython-input-33-7a21caa85207>\u001b[0m in \u001b[0;36mcanfail\u001b[1;34m(x)\u001b[0m\n\u001b[0;32m      5\u001b[0m     \u001b[1;32mtry\u001b[0m\u001b[1;33m:\u001b[0m\u001b[1;33m\u001b[0m\u001b[0m\n\u001b[0;32m      6\u001b[0m         \u001b[1;32mif\u001b[0m \u001b[1;32mnot\u001b[0m \u001b[0misinstance\u001b[0m\u001b[1;33m(\u001b[0m\u001b[0mx\u001b[0m\u001b[1;33m,\u001b[0m \u001b[0mint\u001b[0m\u001b[1;33m)\u001b[0m\u001b[1;33m:\u001b[0m\u001b[1;33m\u001b[0m\u001b[0m\n\u001b[1;32m----> 7\u001b[1;33m             \u001b[1;32mraise\u001b[0m \u001b[0mTypeError\u001b[0m\u001b[1;33m(\u001b[0m\u001b[1;34m'Need an int'\u001b[0m\u001b[1;33m)\u001b[0m\u001b[1;33m\u001b[0m\u001b[0m\n\u001b[0m\u001b[0;32m      8\u001b[0m         \u001b[1;32mif\u001b[0m \u001b[0mx\u001b[0m \u001b[1;33m<\u001b[0m \u001b[1;36m0\u001b[0m\u001b[1;33m:\u001b[0m\u001b[1;33m\u001b[0m\u001b[0m\n\u001b[0;32m      9\u001b[0m             \u001b[1;32mraise\u001b[0m \u001b[0mValueError\u001b[0m\u001b[1;33m(\u001b[0m\u001b[1;34m\"I don't like negatives\"\u001b[0m\u001b[1;33m)\u001b[0m\u001b[1;33m\u001b[0m\u001b[0m\n",
      "\u001b[1;31mTypeError\u001b[0m: Need an int"
     ]
    }
   ],
   "source": [
    "class TooBigException(Exception):\n",
    "    pass\n",
    "\n",
    "def canfail(x):\n",
    "    try:\n",
    "        if not isinstance(x, int):\n",
    "            raise TypeError('Need an int')\n",
    "        if x < 0:\n",
    "            raise ValueError(\"I don't like negatives\")\n",
    "        if x > 10:\n",
    "            raise TooBigException('This is already big')\n",
    "        print(x)\n",
    "    except TooBigException:\n",
    "        print('Something big has come')\n",
    "    finally:\n",
    "        print('Job done')\n",
    "    print(\"I'm done for now\")\n",
    "    \n",
    "values = [-2, -1, 0, 1, 2, 13, 4.0, 5]\n",
    "for i in values:\n",
    "    try:\n",
    "        canfail(i)\n",
    "    except ValueError:\n",
    "        print('Function does not like this value')"
   ]
  },
  {
   "cell_type": "markdown",
   "metadata": {},
   "source": [
    "Define-se a classe TooBigException que recebe Exception. Depois, define-se a função canfail que recebe um valor x. Dentro dessa função, temos um try com condicionais que checam se x é um inteiro, e se nao retorna um TypeError executado pela raise, se x for menor que zero ele cai na raise de ValueError que printa \"i dont like negatives\" e por fim printa-se x, depois, no except temos TooBigException que terá uma Exception que printará \"something big has come\", e no finally ele printa Job done. por fim, no fim da função, printa \"I'm done for now\". Agora, fora da função ele define uma lista pra values e percorre essa lista com um for até cehgar no -1 e dar um TypeError interrompendo o programa."
   ]
  },
  {
   "cell_type": "code",
   "execution_count": null,
   "metadata": {
    "collapsed": true
   },
   "outputs": [],
   "source": []
  },
  {
   "cell_type": "code",
   "execution_count": null,
   "metadata": {
    "collapsed": true
   },
   "outputs": [],
   "source": []
  }
 ],
 "metadata": {
  "kernelspec": {
   "display_name": "Python 3",
   "language": "python",
   "name": "python3"
  },
  "language_info": {
   "codemirror_mode": {
    "name": "ipython",
    "version": 3
   },
   "file_extension": ".py",
   "mimetype": "text/x-python",
   "name": "python",
   "nbconvert_exporter": "python",
   "pygments_lexer": "ipython3",
   "version": "3.5.1"
  }
 },
 "nbformat": 4,
 "nbformat_minor": 0
}
