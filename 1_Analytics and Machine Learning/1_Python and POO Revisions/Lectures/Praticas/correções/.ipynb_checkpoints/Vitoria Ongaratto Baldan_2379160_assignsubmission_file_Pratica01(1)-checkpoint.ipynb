{
 "cells": [
  {
   "cell_type": "markdown",
   "metadata": {},
   "source": [
    "# Programação Orientada a Objetos, turma de 2016"
   ]
  },
  {
   "cell_type": "markdown",
   "metadata": {},
   "source": [
    "## Primeira prática"
   ]
  },
  {
   "cell_type": "markdown",
   "metadata": {},
   "source": [
    "*(Vale 2 pontos)*\n",
    "\n",
    "---"
   ]
  },
  {
   "cell_type": "markdown",
   "metadata": {},
   "source": [
    "### Instruções"
   ]
  },
  {
   "cell_type": "markdown",
   "metadata": {},
   "source": [
    "Abaixo você vai encontrar várias \"células\" de código. *Células* é a denominação para cada um dos elementos inseridos no *notebook* do IPython, como os títulos acima e este texto (do tipo *markdown*) ou, principalmente, do tipo *code*, onde você pode escrever código Python para ser executado.\n",
    "\n",
    "Você edita as células clicando nelas. O formato [markdown](http://daringfireball.net/projects/markdown/) é um formato para auxiliar a escrever textos ricos, com ênfases, *links* para páginas Internet, etc.\n",
    "\n",
    "Nas células de código, você pode colocar quanto código Python desejar, incluindo múltiplas linhas. Para executar o código de uma célula (ou para efetivamente formatar a célula markdown), você deve teclar Shift-Enter.\n",
    "\n",
    "No IPython notebook, o botão '+' acima (o segundo, logo após o disquete) permite criar uma nova célula, abaixo da célula corrente (destacada visualmente). Para apagar a célula corrente, use o botão da tesoura. Por outro lado, o primeiro menu *pushdown* após os botões permite escolher o tipo de célula.\n",
    "\n",
    "Abaixo você vai encontrar diversas células de código. Para cada uma delas, você deve executá-la, observar a saída produzida e então criar abaixo dela uma nova célula de texto onde você vai escrever uma explicação para a saída produzida. Como exemplo, a primeira célula abaixo já tem a saída e a sua explicação.\n",
    "\n",
    "Você deve entregar, ao final da aula, este mesmo *notebook* com as saídas e suas explicações. Se não conseguir terminar todas, entregue o que conseguir. Você pode criar novas células de código para realizar testes ao tentar explicar os resultados, mas apague todas elas antes da entrega. A entrega deve ser feita pelo site do STOA.\n",
    "\n",
    "---"
   ]
  },
  {
   "cell_type": "code",
   "execution_count": 1,
   "metadata": {
    "collapsed": false
   },
   "outputs": [
    {
     "data": {
      "text/plain": [
       "11"
      ]
     },
     "execution_count": 1,
     "metadata": {},
     "output_type": "execute_result"
    }
   ],
   "source": [
    "-1+3*4"
   ]
  },
  {
   "cell_type": "markdown",
   "metadata": {},
   "source": [
    "Existe uma soma e uma multiplicação a serem realizadas. Como a multiplicação tem precedência, ela é realizada primeiro, resultando em 12. O valor é somado com -1, dando o resultado final."
   ]
  },
  {
   "cell_type": "code",
   "execution_count": 1,
   "metadata": {
    "collapsed": false
   },
   "outputs": [
    {
     "data": {
      "text/plain": [
       "-2"
      ]
     },
     "execution_count": 1,
     "metadata": {},
     "output_type": "execute_result"
    }
   ],
   "source": [
    "1 + -3"
   ]
  },
  {
   "cell_type": "markdown",
   "metadata": {},
   "source": [
    "O menos na frente do número 3 indica que ele é um numero negativo, logo, somando 1 com -3 obtemos -2."
   ]
  },
  {
   "cell_type": "code",
   "execution_count": 2,
   "metadata": {
    "collapsed": false
   },
   "outputs": [
    {
     "data": {
      "text/plain": [
       "92"
      ]
     },
     "execution_count": 2,
     "metadata": {},
     "output_type": "execute_result"
    }
   ],
   "source": [
    "(10 + 13) * 4"
   ]
  },
  {
   "cell_type": "markdown",
   "metadata": {},
   "source": [
    "Na expressão, a primeira operação realizada é a entre parentesis, 10+13= 23, e depois é multiplicado por 4, chegando no resultado 92."
   ]
  },
  {
   "cell_type": "code",
   "execution_count": 3,
   "metadata": {
    "collapsed": false
   },
   "outputs": [
    {
     "data": {
      "text/plain": [
       "(8, 9)"
      ]
     },
     "execution_count": 3,
     "metadata": {},
     "output_type": "execute_result"
    }
   ],
   "source": [
    "2**3, 3**2"
   ]
  },
  {
   "cell_type": "markdown",
   "metadata": {},
   "source": [
    "O operador `**` serve para potenciação, sendo assim, 2 elevado a 3 é igual a 8, e 3 elevado a 2 é igual a nove"
   ]
  },
  {
   "cell_type": "markdown",
   "metadata": {},
   "source": [
    "**Faltou comentar a vírgula (tupla).** -- *Gonzalo*"
   ]
  },
  {
   "cell_type": "code",
   "execution_count": 5,
   "metadata": {
    "collapsed": false
   },
   "outputs": [
    {
     "data": {
      "text/plain": [
       "40"
      ]
     },
     "execution_count": 5,
     "metadata": {},
     "output_type": "execute_result"
    }
   ],
   "source": [
    "5+4*3**2-1"
   ]
  },
  {
   "cell_type": "markdown",
   "metadata": {},
   "source": [
    "O primeiro operador a ser resolvido é o da potenciação, 3 elevado a 2 que resulta em 9, o proximo operador é o da multiplicação, logo, 4 vezes 9 é igual a 36, por fim, os operadores de soma e subtração são resolvidos, resultando em 40."
   ]
  },
  {
   "cell_type": "code",
   "execution_count": 8,
   "metadata": {
    "collapsed": false
   },
   "outputs": [
    {
     "data": {
      "text/plain": [
       "512"
      ]
     },
     "execution_count": 8,
     "metadata": {},
     "output_type": "execute_result"
    }
   ],
   "source": [
    "2**3**2"
   ]
  },
  {
   "cell_type": "markdown",
   "metadata": {},
   "source": [
    "A expressão respresenta uma base e uma potencia elevada a uma potencia, no caso a base 2 está elevada a 3 elevado a dois, no caso 9, sendo assim, 2 elevado a 9 é igual a 512."
   ]
  },
  {
   "cell_type": "code",
   "execution_count": 9,
   "metadata": {
    "collapsed": false
   },
   "outputs": [
    {
     "data": {
      "text/plain": [
       "True"
      ]
     },
     "execution_count": 9,
     "metadata": {},
     "output_type": "execute_result"
    }
   ],
   "source": [
    "2 ** 3 == 8 and 3 - 1 > 1 and not 2/4 != 1/2"
   ]
  },
  {
   "cell_type": "markdown",
   "metadata": {},
   "source": [
    "Primeiro, resolvem-se os operadores aritméticos. Dois elevado a 3 é igual a 8, retornando True; 3 - 1 é igual a 4, que é maior que 1, tambem retornando True; 2/4 não é diferente de 1/2, retornando False. Em seguida resolve-se os operadores binários. A expressão fica True and True and not False, resultando em True."
   ]
  },
  {
   "cell_type": "code",
   "execution_count": 11,
   "metadata": {
    "collapsed": false
   },
   "outputs": [
    {
     "data": {
      "text/plain": [
       "(5+0j)"
      ]
     },
     "execution_count": 11,
     "metadata": {},
     "output_type": "execute_result"
    }
   ],
   "source": [
    "(2 + 1j)*(2 - 1j)"
   ]
  },
  {
   "cell_type": "markdown",
   "metadata": {},
   "source": [
    "As operações são realizadas distributivamente, sendo j o representante de numero complexo e jxj= -1, temos que 2x2 + 2x-1j + 1jx2+ 1jx-1j= 5+0j."
   ]
  },
  {
   "cell_type": "code",
   "execution_count": 12,
   "metadata": {
    "collapsed": false
   },
   "outputs": [
    {
     "data": {
      "text/plain": [
       "0.7320508075688772"
      ]
     },
     "execution_count": 12,
     "metadata": {},
     "output_type": "execute_result"
    }
   ],
   "source": [
    "import math\n",
    "math.sqrt(3) - int(math.sqrt(3))"
   ]
  },
  {
   "cell_type": "markdown",
   "metadata": {},
   "source": [
    "Após importar a biblioteca math, usa-se a função sqrt que serve para encontrar a raiz quadrada de um numero. Na expressão, é subtrai-se a parte inteira da raiz de 3, no caso 1, da raiz real que deve ser aproximadamente 1,732, resultando na saída encontrada."
   ]
  },
  {
   "cell_type": "code",
   "execution_count": 13,
   "metadata": {
    "collapsed": false
   },
   "outputs": [
    {
     "data": {
      "text/plain": [
       "0.3333333333333335"
      ]
     },
     "execution_count": 13,
     "metadata": {},
     "output_type": "execute_result"
    }
   ],
   "source": [
    "7 / 3 - 7 // 3"
   ]
  },
  {
   "cell_type": "markdown",
   "metadata": {},
   "source": [
    "Na expressão subtrai-se a parte inteira da divisão de 7 por 3 (representada por //) da divisão real de 7 por 3, que deve ser algo como 2,33333, resultando em 2,3333- 2 = 0,333333."
   ]
  },
  {
   "cell_type": "code",
   "execution_count": 14,
   "metadata": {
    "collapsed": false
   },
   "outputs": [
    {
     "data": {
      "text/plain": [
       "0.7182818284590451"
      ]
     },
     "execution_count": 14,
     "metadata": {},
     "output_type": "execute_result"
    }
   ],
   "source": [
    "math.e % 1"
   ]
  },
  {
   "cell_type": "markdown",
   "metadata": {},
   "source": [
    "A expressão mostra o resto da divisão inteira do numero e (euler) por i."
   ]
  },
  {
   "cell_type": "code",
   "execution_count": 15,
   "metadata": {
    "collapsed": false
   },
   "outputs": [
    {
     "data": {
      "text/plain": [
       "1"
      ]
     },
     "execution_count": 15,
     "metadata": {},
     "output_type": "execute_result"
    }
   ],
   "source": [
    "a = 10\n",
    "b = a\n",
    "a += 1\n",
    "a - b"
   ]
  },
  {
   "cell_type": "markdown",
   "metadata": {},
   "source": [
    "a recebe o valor 10, b recee o valor de a, logo b=10, soma-se 1 em a, tendo a=11, e depois faz-se a operação a-b, que é 11-10, resultando em 1."
   ]
  },
  {
   "cell_type": "code",
   "execution_count": 17,
   "metadata": {
    "collapsed": false
   },
   "outputs": [
    {
     "data": {
      "text/plain": [
       "('r', 'l')"
      ]
     },
     "execution_count": 17,
     "metadata": {},
     "output_type": "execute_result"
    }
   ],
   "source": [
    "nome = 'Marcelo Melo'\n",
    "nome[2], nome[-2]"
   ]
  },
  {
   "cell_type": "markdown",
   "metadata": {},
   "source": [
    "A string nome recebe 'Marcelo Melo', em seguida, pede-se a \"casa\" 2 da string, que é contada da esquerda para direita (incluindo o zero), no caso 'r'; depois pede-se a \"casa\" -2 da string, como o indice é negativo, a string será contada da direita para a esquerda (sem contar o zero), no caso 'l'."
   ]
  },
  {
   "cell_type": "code",
   "execution_count": 18,
   "metadata": {
    "collapsed": false
   },
   "outputs": [
    {
     "ename": "IndexError",
     "evalue": "string index out of range",
     "output_type": "error",
     "traceback": [
      "\u001b[1;31m---------------------------------------------------------------------------\u001b[0m",
      "\u001b[1;31mIndexError\u001b[0m                                Traceback (most recent call last)",
      "\u001b[1;32m<ipython-input-18-a09cf0734e97>\u001b[0m in \u001b[0;36m<module>\u001b[1;34m()\u001b[0m\n\u001b[1;32m----> 1\u001b[1;33m \u001b[0mnome\u001b[0m\u001b[1;33m[\u001b[0m\u001b[1;36m12\u001b[0m\u001b[1;33m]\u001b[0m\u001b[1;33m\u001b[0m\u001b[0m\n\u001b[0m",
      "\u001b[1;31mIndexError\u001b[0m: string index out of range"
     ]
    }
   ],
   "source": [
    "nome[12]"
   ]
  },
  {
   "cell_type": "markdown",
   "metadata": {},
   "source": [
    "O programa apresentou um erro pois não há nada no indice 12 da string, sendo assim, não há o que se retornar."
   ]
  },
  {
   "cell_type": "code",
   "execution_count": 19,
   "metadata": {
    "collapsed": false
   },
   "outputs": [
    {
     "data": {
      "text/plain": [
       "'Melo/Marcelo'"
      ]
     },
     "execution_count": 19,
     "metadata": {},
     "output_type": "execute_result"
    }
   ],
   "source": [
    "esp = nome.find(' ')\n",
    "pre, sobre = nome[:esp], nome[esp+1:]\n",
    "sobre + '/' + pre"
   ]
  },
  {
   "cell_type": "markdown",
   "metadata": {},
   "source": [
    "'esp' recebe a parte da string que possui o caractere ' ' (espaço) encontrado pela função find da string nome, 'pre' recebe a string nome do inicio até o caratctere em 'esp' e 'sobre' recebe a parte da string que contem o proximo caractere após o 'esp' até seu fim. Em seguida, concatena-se as strings 'sobre' e 'pre' mais o caractere '/' entre elas, printando 'Melo/Marcelo'."
   ]
  },
  {
   "cell_type": "code",
   "execution_count": 20,
   "metadata": {
    "collapsed": false
   },
   "outputs": [
    {
     "ename": "TypeError",
     "evalue": "'str' object does not support item assignment",
     "output_type": "error",
     "traceback": [
      "\u001b[1;31m---------------------------------------------------------------------------\u001b[0m",
      "\u001b[1;31mTypeError\u001b[0m                                 Traceback (most recent call last)",
      "\u001b[1;32m<ipython-input-20-7b773422f7cc>\u001b[0m in \u001b[0;36m<module>\u001b[1;34m()\u001b[0m\n\u001b[1;32m----> 1\u001b[1;33m \u001b[0msobre\u001b[0m\u001b[1;33m[\u001b[0m\u001b[1;36m0\u001b[0m\u001b[1;33m]\u001b[0m \u001b[1;33m=\u001b[0m \u001b[1;34m'm'\u001b[0m\u001b[1;33m\u001b[0m\u001b[0m\n\u001b[0m",
      "\u001b[1;31mTypeError\u001b[0m: 'str' object does not support item assignment"
     ]
    }
   ],
   "source": [
    "sobre[0] = 'm'"
   ]
  },
  {
   "cell_type": "markdown",
   "metadata": {},
   "source": [
    "A string 'sobre' é imutavel, nao se pode atribuir outro caractere posteriormente em seus indices."
   ]
  },
  {
   "cell_type": "code",
   "execution_count": 21,
   "metadata": {
    "collapsed": false
   },
   "outputs": [
    {
     "data": {
      "text/plain": [
       "[1, 3, 5, 7, 9, 11]"
      ]
     },
     "execution_count": 21,
     "metadata": {},
     "output_type": "execute_result"
    }
   ],
   "source": [
    "valores = [1, 3, 5, 7, 9]\n",
    "valores.append(11)\n",
    "valores"
   ]
  },
  {
   "cell_type": "markdown",
   "metadata": {},
   "source": [
    "Atribui-se a lista 'valores' um conjunto de numeros, e em seguida, utiliza-se a função append para incluir o numero 11 no fim da lista, e depois printa-se a lista já com o 11 incluido."
   ]
  },
  {
   "cell_type": "code",
   "execution_count": 24,
   "metadata": {
    "collapsed": false
   },
   "outputs": [
    {
     "data": {
      "text/plain": [
       "4"
      ]
     },
     "execution_count": 24,
     "metadata": {},
     "output_type": "execute_result"
    }
   ],
   "source": [
    "valores[3] - valores[1]"
   ]
  },
  {
   "cell_type": "markdown",
   "metadata": {},
   "source": [
    "A expressão pega o valor no indice 3 da lista 'valores' no caso o 7 e subtrai o valor no indice 1, no caso o 3, resultando em 4."
   ]
  },
  {
   "cell_type": "markdown",
   "metadata": {},
   "source": [
    "**Obs:** Na célula abaixo, a função `type` dá o tipo de um objeto."
   ]
  },
  {
   "cell_type": "code",
   "execution_count": 25,
   "metadata": {
    "collapsed": false
   },
   "outputs": [
    {
     "data": {
      "text/plain": [
       "(int, str, float)"
      ]
     },
     "execution_count": 25,
     "metadata": {},
     "output_type": "execute_result"
    }
   ],
   "source": [
    "lista1 = [1, 'dois', 3.0]\n",
    "type(lista1[0]), type(lista1[1]), type(lista1[2])"
   ]
  },
  {
   "cell_type": "markdown",
   "metadata": {},
   "source": [
    "A função type retorna o tipo dos elementos em cada indice da lista1, no indice 0 ela retorna 'int' pois se trata do número 1, que é um inteiro; no indice 1 ela retorna 'str' pois a palavra 'dois' é uma string; e no indice 3 ela retorna 'float' pois o número 3.0 é um número real."
   ]
  },
  {
   "cell_type": "code",
   "execution_count": 27,
   "metadata": {
    "collapsed": false
   },
   "outputs": [
    {
     "data": {
      "text/plain": [
       "[[1, 'dois', 3.0], [1, 'dois', 3.0]]"
      ]
     },
     "execution_count": 27,
     "metadata": {},
     "output_type": "execute_result"
    }
   ],
   "source": [
    "lista2 = [lista1, lista1]\n",
    "lista2"
   ]
  },
  {
   "cell_type": "markdown",
   "metadata": {},
   "source": [
    "Cria-se uma lista chamada lista2 recebendo em seus indices outra lista, no caso, a lista1."
   ]
  },
  {
   "cell_type": "code",
   "execution_count": 28,
   "metadata": {
    "collapsed": false
   },
   "outputs": [
    {
     "data": {
      "text/plain": [
       "([1, (2+0j), 3.0], complex)"
      ]
     },
     "execution_count": 28,
     "metadata": {},
     "output_type": "execute_result"
    }
   ],
   "source": [
    "lista1[1] = 2 + 0j\n",
    "lista1, type(lista1[1])"
   ]
  },
  {
   "cell_type": "markdown",
   "metadata": {},
   "source": [
    "Atribui-se ao indice 1 da lista 1 uma expressão complexa, na proxima linha pede-se para imprimir a lista1 que será impressa já com o seu novo valor no indice 1, e pede-se pela função type o tipo do elemento encontrado na 'casa' 1 da lista1, no caso, complexo."
   ]
  },
  {
   "cell_type": "code",
   "execution_count": 29,
   "metadata": {
    "collapsed": false
   },
   "outputs": [
    {
     "data": {
      "text/plain": [
       "[[1, (2+0j), 3.0], [1, (2+0j), 3.0]]"
      ]
     },
     "execution_count": 29,
     "metadata": {},
     "output_type": "execute_result"
    }
   ],
   "source": [
    "lista2"
   ]
  },
  {
   "cell_type": "markdown",
   "metadata": {},
   "source": [
    "Printa-se a lista2, que tem dois elementos lista1, com seu indice 1 já alterado anteriormente para uma expressão complexa ao invés da palavra 'dois'."
   ]
  },
  {
   "cell_type": "markdown",
   "metadata": {},
   "source": [
    "**Para explicar mais completamente, lembrar que a lista armazena referências.** -- *Gonzalo*"
   ]
  },
  {
   "cell_type": "code",
   "execution_count": 30,
   "metadata": {
    "collapsed": false
   },
   "outputs": [
    {
     "name": "stdout",
     "output_type": "stream",
     "text": [
      "normal\n",
      "normal\n",
      "negativo\n",
      "inexistente\n",
      "gigante\n",
      "normal\n",
      "normal\n"
     ]
    }
   ],
   "source": [
    "numeros = [1, 4, -3, 0, 10, 5, 1]\n",
    "for num in numeros:\n",
    "    if num < 0:\n",
    "        print('negativo')\n",
    "    elif num == 0:\n",
    "        print('inexistente')\n",
    "    elif num > 5:\n",
    "        print('gigante')\n",
    "    else:\n",
    "        print('normal')"
   ]
  },
  {
   "cell_type": "markdown",
   "metadata": {},
   "source": [
    "A lista 'numeros' é preenchida com 7 valores, e em seguida, utiliza-se o comando 'for' para percorrer a lista indice por indice fazendo as comparações do 'if', 'elif' e 'else', fazendo com que se o número for menor que 0, printa-se 'negativo', ou se o número for igual a zero, printa-se 'inexistente', ou se o número for maior que 5, printa-se 'gigante', e se não for nenhum dos casos anteriores, printa-se 'normal'; como vemos na saída."
   ]
  },
  {
   "cell_type": "code",
   "execution_count": 36,
   "metadata": {
    "collapsed": false
   },
   "outputs": [
    {
     "name": "stdout",
     "output_type": "stream",
     "text": [
      "45\n"
     ]
    }
   ],
   "source": [
    "sum = 0\n",
    "for x in range(10):\n",
    "    sum += x\n",
    "print(sum)"
   ]
  },
  {
   "cell_type": "markdown",
   "metadata": {},
   "source": [
    "Atribui-se o valor zero ao 'sum', em seguida, utiliza-se o comando 'for' e a função range para fazer com que x vá de 0 a 9 (pois o valor indicado na função range, no caso o 10, é o ultimo valor e ele é desconsiderado) a passo 1. O 'sum' vai armazenando a soma dos elementos da sequencia com o passo do for, sendo 1+2+3+4+5+6+7+8+9 = 45."
   ]
  },
  {
   "cell_type": "code",
   "execution_count": 37,
   "metadata": {
    "collapsed": false
   },
   "outputs": [
    {
     "name": "stdout",
     "output_type": "stream",
     "text": [
      "20\n"
     ]
    }
   ],
   "source": [
    "sum = 0\n",
    "for x in range(2, 10, 2):\n",
    "    sum += x\n",
    "print(sum)"
   ]
  },
  {
   "cell_type": "markdown",
   "metadata": {},
   "source": [
    "Atribui-se o valor zero ao 'sum', em seguida, utiliza-se o comando 'for' e a função range para fazer com que x vá de 2 a 9 (pois desconsidera-se o 10), a passo 2, e como no codigo anterior o 'sum' vai armazenando a soma desses elementos, no caso 2+4+6+8 = 20."
   ]
  },
  {
   "cell_type": "markdown",
   "metadata": {},
   "source": [
    "**O 9 não entra na jogada: são os números de 2 a 10 (excluído) ou de 2 a 8 (incluído), de dois em dois.** -- *Gonzalo*"
   ]
  },
  {
   "cell_type": "code",
   "execution_count": 38,
   "metadata": {
    "collapsed": false
   },
   "outputs": [
    {
     "name": "stdout",
     "output_type": "stream",
     "text": [
      "0 3\n",
      "1 5\n",
      "2 11\n",
      "3 6\n",
      "4 7\n",
      "5 8\n",
      "6 34\n",
      "7 -12\n",
      "8 0\n",
      "9 14\n",
      "10 25\n"
     ]
    }
   ],
   "source": [
    "numeros = [3, 5, 11, 6, 7, 8, 34, -12, 0, 14, 25]\n",
    "i = 0\n",
    "while i < len(numeros):\n",
    "    print(i, numeros[i])\n",
    "    i += 1"
   ]
  },
  {
   "cell_type": "markdown",
   "metadata": {},
   "source": [
    "Após a lista numeros ser declarada, atribui-se inicialmente i=0, e em seguida, usando o comando 'while' e a função len que retorna o tamanho da lista numeros, printa-se o i (que no caso representa o indice dos valores da lista) e o valor contido no indice i da lista numeros, incrementando +1 ao i no fim do while para que toda a lista seja percorrida."
   ]
  },
  {
   "cell_type": "code",
   "execution_count": 39,
   "metadata": {
    "collapsed": false
   },
   "outputs": [
    {
     "name": "stdout",
     "output_type": "stream",
     "text": [
      "0 3\n",
      "1 5\n",
      "2 11\n",
      "3 6\n",
      "4 7\n",
      "5 8\n",
      "6 34\n"
     ]
    }
   ],
   "source": [
    "numeros = [3, 5, 11, 6, 7, 8, 34, -12, 0, 14, 25]\n",
    "i = 0\n",
    "while i < len(numeros):\n",
    "    if numeros[i] <= 0: break\n",
    "    print(i, numeros[i])\n",
    "    i += 1"
   ]
  },
  {
   "cell_type": "markdown",
   "metadata": {},
   "source": [
    "Após a lista numeros ser declarada, atribui-se inicialmente i=0, e em seguida, usando o comando 'while' e a função len que retorna o tamanho da lista numeros e com o comando 'if' checando se o valor no indice i da lista numeros é maior que zero, e sendo assim, ele printa o indice e os valores de cada indice da lista até que chegue em um numero negativo. Caso o valor seja negativo, utiliza-se o comando 'break' para sair do loop. "
   ]
  },
  {
   "cell_type": "markdown",
   "metadata": {},
   "source": [
    "**A repetição também é interrompida se o valor for zero.** -- *Gonzalo*"
   ]
  },
  {
   "cell_type": "code",
   "execution_count": 40,
   "metadata": {
    "collapsed": false
   },
   "outputs": [
    {
     "name": "stdout",
     "output_type": "stream",
     "text": [
      "0 3\n",
      "1 5\n",
      "2 11\n",
      "3 6\n",
      "4 7\n",
      "5 8\n",
      "6 34\n",
      "9 14\n",
      "10 25\n"
     ]
    }
   ],
   "source": [
    "numeros = [3, 5, 11, 6, 7, 8, 34, -12, 0, 14, 25]\n",
    "i = 0\n",
    "while i < len(numeros):\n",
    "    if numeros[i] <= 0:\n",
    "        i += 1\n",
    "        continue\n",
    "    print(i, numeros[i])\n",
    "    i += 1"
   ]
  },
  {
   "cell_type": "markdown",
   "metadata": {},
   "source": [
    "Exatamente como no programa anterior, utiliza-se do while para percorrer do indice i=0 até i= ao tamanho retornado por len, e dentro do while, temos um  'if' que checa se o numero é menor igual a zero. Diferentemente do programa anterior em que caso o numero fosse negativo o comando 'break' era ativado, esse programa possui o comando 'continue', que serve para continuar no loop mas nao prosseguir com o proximo passo, que seria printar o valor encontrado no indice, printando apenas os valores positivos encontrados e seus indices, como vemos na saída."
   ]
  }
 ],
 "metadata": {
  "kernelspec": {
   "display_name": "Python 2",
   "language": "python",
   "name": "python2"
  },
  "language_info": {
   "codemirror_mode": {
    "name": "ipython",
    "version": 2
   },
   "file_extension": ".py",
   "mimetype": "text/x-python",
   "name": "python",
   "nbconvert_exporter": "python",
   "pygments_lexer": "ipython2",
   "version": "2.7.12"
  }
 },
 "nbformat": 4,
 "nbformat_minor": 0
}
