{
 "cells": [
  {
   "cell_type": "markdown",
   "metadata": {},
   "source": [
    "# Terceira prática\n",
    "\n",
    "*(Vale 7 pontos)*\n",
    "\n",
    "**OBS:** Esta prática será continuada na próxima segunda-feira, dia 04/04, quando será feita a entrega.\n",
    "\n",
    "Existe a hipótese de que duas variáveis, que serão aqui denominadas de $X$ e $Y$, são correlacionadas, isto é, os valores das duas variáveis no fenômeno onde são observadas é relacionado, de forma que quando uma cresce a outra também cresce (ou decresce). Além disso, supõe-se que a relação entre elas seja linear.\n",
    "\n",
    "Um laboratório quer verificar essa relação e para isso contratou diversos experimentadores, que trabalharam realizando repetidamente um experimento e coletando os valores das variáveis em cada um dos experimentos. Agora precisamos analisar esses resultados para ver se essa relação realmente existe.\n",
    "\n",
    "Uma forma de avaliar a correlação entre duas variáveis, quando a correlação é suposta linear, é calcular o denominado *coeficiente de correlação de Pearson*, definido como segue. Dado um conjunto de $n$ observações para as quais anotamos os valores $x_i$ e $y_i$ para as variáveis $X$ e $Y$ respectivamente, o coeficiente de Pearson $r$ é definido por:\n",
    "$$\n",
    "r = \\frac{\\sum_i (x_i - \\bar{x})(y_i - \\bar{y})}{\\sqrt{\\sum_i (x_i - \\bar{x})^2} \\sqrt{\\sum_i (y_i - \\bar{y})^2}},\n",
    "$$\n",
    "onde $\\bar{x} = \\frac{1}{n}\\sum_i x_i$, $\\bar{y} = \\frac{1}{n}\\sum_i y_i$ são as médias dos $x_i$ e dos $y_i$ respectivamente e as somatórias se extendem por todas as observações.\n",
    "\n",
    "O coeficiente de Pearson tem a seguinte característica: Se não há correlação entre as variáveis, o valor de $r$ será próximo de $0$. Se as duas variáveis são perfeitamente correlacionadas de forma linear, com uma variável crescendo quando a outra cresce, $r$ será $1.0$; se uma variável decresce quando a outra cresce, então $r=-1.0$.  Para correlações intermediárias, os valores de $r$ serão intermediários.\n",
    "\n",
    "Todos os resultados dos experimentos realizados estão coletados em um arquivo com o seguinte formato: O arquivo consiste em um série de linhas. Cada linha tem o nome do experimentador, o valor anotado para $X$ e o valor anotado para $Y$, nessa ordem, separados por vírgula. Podem haver espaços em branco adicionais no começo e final da linha, bem como ao redor das vírgulas. Note também que o nome do experimentador pode conter espaços em branco (por exemplo, \"Maria Clara\").\n",
    "\n",
    "Sua tarefa será a seguinte: Escrever um código para ler os dados do arquivo e mostrar o resultado das seguintes análises:\n",
    "- Para cada experimentador distinto, queremos saber o valor do coeficiente de correlação de Pearson de seus resultados.\n",
    "- Queremos também saber o valor do coeficiente de correlação de Pearson considerando os resultados de todos os experimentadores simultaneamente.\n",
    "\n",
    "Organize o seu código seguindo as indicações abaixo."
   ]
  },
  {
   "cell_type": "markdown",
   "metadata": {},
   "source": [
    "**Nota: 7**"
   ]
  },
  {
   "cell_type": "markdown",
   "metadata": {},
   "source": [
    "## Calculando o coeficiente de correlação de Pearson\n",
    "\n",
    "Primeiro você vai escrever o código para calcular o coeficiente de correlação das duas seqüências de valores das medidas das variáveis.\n",
    "\n",
    "Em primeiro lugar, escreva uma função para calcular a média de um conjunto de valores. Na célula abaixo, escreva uma função que ao receber uma lista de valores no parâmetro `v`, retorne a média desses valores. A lista tem que ter ao menos um valor para a média fazer sentido."
   ]
  },
  {
   "cell_type": "code",
   "execution_count": 3,
   "metadata": {
    "collapsed": false
   },
   "outputs": [],
   "source": [
    "def media(v):\n",
    "    x= sum(v)\n",
    "    return x/len(v)"
   ]
  },
  {
   "cell_type": "markdown",
   "metadata": {},
   "source": [
    "Para testar, você pode rodar a célula abaixo."
   ]
  },
  {
   "cell_type": "code",
   "execution_count": 4,
   "metadata": {
    "collapsed": false
   },
   "outputs": [
    {
     "name": "stdout",
     "output_type": "stream",
     "text": [
      "OK\n",
      "OK\n",
      "OK\n",
      "OK\n",
      "OK\n"
     ]
    }
   ],
   "source": [
    "def verifica(conseguido, esperado):\n",
    "    if abs(conseguido - esperado) < 1e-12:\n",
    "        print(\"OK\")\n",
    "    else:\n",
    "        print(\"Erro: Resultado foi\", conseguido, \"quando devia ser\", esperado)\n",
    "\n",
    "verifica(media([1]), 1.0)\n",
    "verifica(media([i for i in range(11)]), 5.0)\n",
    "verifica(media([i for i in range(12)]), 5.5)\n",
    "verifica(media([i for i in range(3,12,2)]), 7.0)\n",
    "verifica(media([i*i for i in range(100)]), 3283.5)"
   ]
  },
  {
   "cell_type": "markdown",
   "metadata": {},
   "source": [
    "Agora **usando a função `media` acima**, escreva uma função que calcule o coeficiente de Pearson, dados duas listas de valores `x` e `y` como parâmetro, sendo que os valores de `x[i]` e `y[i]` são provenientes de uma mesma observação. Note que, para fazer sentido, o número de valores nas duas listas deve ser igual."
   ]
  },
  {
   "cell_type": "code",
   "execution_count": 5,
   "metadata": {
    "collapsed": false
   },
   "outputs": [],
   "source": [
    "import math\n",
    "\n",
    "def pearson(x, y):\n",
    "    x_media = media(x)\n",
    "    y_media = media(y)\n",
    "    \n",
    "    som = 0\n",
    "    som2 = 0\n",
    "    som3 = 0\n",
    "    \n",
    "    for i, j in zip(x, y):\n",
    "        som = som + (i - x_media)*(j - y_media)          \n",
    "            \n",
    "    for k in x:\n",
    "        som2 = som2 + ((k - x_media)**2)\n",
    "    \n",
    "    for l in y:\n",
    "        som3 = som3 + ((l - y_media)**2)\n",
    "            \n",
    "    den = ((math.sqrt(som2))*(math.sqrt(som3)))\n",
    "    \n",
    "    r= som / den\n",
    "    \n",
    "    return r\n",
    "    \n",
    "        "
   ]
  },
  {
   "cell_type": "markdown",
   "metadata": {},
   "source": [
    "Abreviaturas com `list comprehension`:\n",
    "\n",
    "    som2 = sum((k - x_media)**2 for k in x)\n",
    "    \n",
    "*GT*"
   ]
  },
  {
   "cell_type": "markdown",
   "metadata": {},
   "source": [
    "Para testar, execute a célula abaixo."
   ]
  },
  {
   "cell_type": "code",
   "execution_count": 6,
   "metadata": {
    "collapsed": false
   },
   "outputs": [
    {
     "name": "stdout",
     "output_type": "stream",
     "text": [
      "Estas precisam dar exatamente 1.0:\n",
      "1.0\n",
      "1.0\n",
      "1.0\n",
      "A seguinte precisa dar exatamente -1.0:\n",
      "-1.0\n",
      "Estes precisam ser próximos de zero:\n",
      "0.03146347749308564\n",
      "-0.01223302610034403\n",
      "-0.009193846210784305\n",
      "Estes precisam ter valores que vão crescendo até próximo de 1:\n",
      "-0.029519326506302443\n",
      "0.1419349583274459\n",
      "0.8943922342547131\n",
      "0.9999999545764867\n",
      "Os próximos devem ter valores que vão decaindo até próximo de -1:\n",
      "-0.034727342906392615\n",
      "-0.12822725192465775\n",
      "-0.8882862170771748\n",
      "-0.9999999560761875\n"
     ]
    }
   ],
   "source": [
    "import random\n",
    "print(\"Estas precisam dar exatamente 1.0:\")\n",
    "print(pearson([i for i in range(10)], [i for i in range(10)]))\n",
    "print(pearson([i for i in range(10)], [2*i for i in range(10)]))\n",
    "print(pearson([i for i in range(10)], [10.5*i for i in range(10)]))\n",
    "print(\"A seguinte precisa dar exatamente -1.0:\")\n",
    "print(pearson([i for i in range(10)], [-2.14738*i for i in range(10)]))\n",
    "print(\"Estes precisam ser próximos de zero:\")\n",
    "print(pearson([random.random() for i in range(1000)], [random.random() for i in range(1000)]))\n",
    "print(pearson([2*random.random() for i in range(1000)], [7*random.random() for i in range(1000)]))\n",
    "print(pearson([random.random() for i in range(1000)], [-random.random() for i in range(1000)]))\n",
    "print(\"Estes precisam ter valores que vão crescendo até próximo de 1:\")\n",
    "print(pearson([0.00004*i + random.random() for i in range(1000)], [0.00009*i+random.random() for i in range(1000)]))\n",
    "print(pearson([0.0005*i + random.random() for i in range(1000)], [0.0003*i+random.random() for i in range(1000)]))\n",
    "print(pearson([0.002*i + random.random() for i in range(1000)], [0.007*i+random.random() for i in range(1000)]))\n",
    "print(pearson([4*i + random.random() for i in range(1000)], [6*i+random.random() for i in range(1000)]))\n",
    "print(\"Os próximos devem ter valores que vão decaindo até próximo de -1:\")\n",
    "print(pearson([0.00004*i + random.random() for i in range(1000)], [-0.00009*i+random.random() for i in range(1000)]))\n",
    "print(pearson([-0.0005*i + random.random() for i in range(1000)], [0.0003*i+random.random() for i in range(1000)]))\n",
    "print(pearson([0.002*i + random.random() for i in range(1000)], [-0.007*i+random.random() for i in range(1000)]))\n",
    "print(pearson([5-4*i + random.random() for i in range(1000)], [6*i+random.random() for i in range(1000)]))"
   ]
  },
  {
   "cell_type": "markdown",
   "metadata": {},
   "source": [
    "## Lendo o arquivo de dados\n",
    "\n",
    "Queremos ler os dados do arquivo e retornar uma lista de tuplas, onde o primeiro elemento da tupla é o nome do experimentador, o segundo é o valor de $x_i$ e o terceiro o valor de $y_i$, sendo que do nome do experimentador foi \"normalizado\" retirando espaços no início e no final e convertendo a cadeia para maiúsculas.\n",
    "\n",
    "Você vai fazer isso em dois passos. Em primeiro lugar, implemente uma função que, dada a cadeia lida de uma linha do arquivo, separe os elementos dessa linha e retorne a tupla correpondente. Para implementar essa função, você vai achar úteis os métodos `split`, `strip`, e `upper` de cadeias de caracteres, discutidos no notebook da Aula 2. Também, para converter de uma string `s1` para um número de ponto flutuante basta fazer `float(s1)`."
   ]
  },
  {
   "cell_type": "code",
   "execution_count": 7,
   "metadata": {
    "collapsed": true
   },
   "outputs": [],
   "source": [
    "def le_linha(linha):\n",
    "\n",
    "    separado = linha.split(',')  \n",
    "    nome = separado[0]\n",
    "    x = float(separado[1])\n",
    "    y = float(separado[2])\n",
    "    \n",
    "    tupla = (nome.strip().upper(), x, y)\n",
    "    \n",
    "    return tupla\n",
    "    "
   ]
  },
  {
   "cell_type": "markdown",
   "metadata": {},
   "source": [
    "Segue uma célula com testes."
   ]
  },
  {
   "cell_type": "code",
   "execution_count": 8,
   "metadata": {
    "collapsed": false
   },
   "outputs": [
    {
     "name": "stdout",
     "output_type": "stream",
     "text": [
      "OK\n",
      "OK\n",
      "OK\n",
      "OK\n",
      "OK\n",
      "('ANA', 1.0, 3.0)\n"
     ]
    }
   ],
   "source": [
    "print('OK' if le_linha('ana, 1, 3') == ('ANA', 1.0, 3.0) else 'Falhou')\n",
    "print('OK' if le_linha('ana,1,3') == ('ANA', 1.0, 3.0) else 'Falhou')\n",
    "print('OK' if le_linha('   ana,    1   ,   3    ') == ('ANA', 1.0, 3.0) else 'Falhou')\n",
    "print('OK' if le_linha('Ana, 1, 3') == ('ANA', 1.0, 3.0) else 'Falhou')\n",
    "print('OK' if le_linha('ana maria silva, 1.5247, -3.14') == ('ANA MARIA SILVA', 1.5247, -3.14) else 'Falhou')\n",
    "print(le_linha('   ana,    1,   3'))"
   ]
  },
  {
   "cell_type": "markdown",
   "metadata": {},
   "source": [
    "Agora para completar a leitura, basta escrever uma função que lê as linhas do arquivo, passa cada linha para a função `le_linha` e adiciona o resultado na lista de tuplas a ser retornada.\n",
    "\n",
    "Na função abaixo, o parâmetro `nome` indica o nome do arquivo onde os dados estão."
   ]
  },
  {
   "cell_type": "code",
   "execution_count": 9,
   "metadata": {
    "collapsed": false
   },
   "outputs": [],
   "source": [
    "def le_dados(nome):\n",
    "    arquivo = open(nome, \"r\")  \n",
    "    strings = arquivo.readlines()\n",
    "    valores=[]\n",
    "    for linha in strings:\n",
    "        valores.append(le_linha(linha))   \n",
    "    arquivo.close\n",
    "    return valores        "
   ]
  },
  {
   "cell_type": "markdown",
   "metadata": {},
   "source": [
    "Para fechar o arquivo, use `arquivo.close()`. Sem os parêntesis o método não vai ser chamado.\n",
    "\n",
    "*GT*"
   ]
  },
  {
   "cell_type": "markdown",
   "metadata": {},
   "source": [
    "Para testar a sua função, existe um pequeno arquivo chamado \"teste_leitura.dat\" que você pode ler e conferir manualmente os resultados. O esperado é:\n",
    "\n",
    "    [('MARIO', 10.12, 5.43),\n",
    "     ('JOSÉ', 4.03, 3.21),\n",
    "     ('MARIO', 0.42, 1.37),\n",
    "     ('CARLOS HENRIQUE SOARES', 2.78, 0.031467)]"
   ]
  },
  {
   "cell_type": "code",
   "execution_count": 10,
   "metadata": {
    "collapsed": false
   },
   "outputs": [
    {
     "data": {
      "text/plain": [
       "[('MARIO', 10.12, 5.43),\n",
       " ('JOSÉ', 4.03, 3.21),\n",
       " ('MARIO', 0.42, 1.37),\n",
       " ('CARLOS HENRIQUE SOARES', 2.78, 0.031467)]"
      ]
     },
     "execution_count": 10,
     "metadata": {},
     "output_type": "execute_result"
    }
   ],
   "source": [
    "le_dados('teste_leitura.dat')\n"
   ]
  },
  {
   "cell_type": "markdown",
   "metadata": {},
   "source": [
    "## Juntando as peças\n",
    "\n",
    "Agora basta colocar essas funções para trabalhar juntas, para resolver nosso problema. Considerando que todos os dados coletados estão em um arquivo denominado \"experimentos.dat\", escreva um código (que não precisa estar numa função) que leia esse arquivo e então faça os seguintes processamentos:\n",
    "1. Encontre os nomes de todos os experimentadores que participaram.\n",
    "1. Para cada experimentador, separe os valores de $x_i$ e $y_i$ encontrados por esse experimentador e calcule o coeficiente de correlação de Pearson para esses resultados. Mostre o nome do experimentador com o valor de $r$ correspondente.\n",
    "1. Por fim, junte todos os $x_i$ e $y_i$ de todos os experimentadores e calcule o coeficiente de correlação geral.\n",
    "\n",
    "Para o primeiro passo acima, lembre-se que uma forma simples de achar todos os valores únicos de uma lista de valores é transformá-la em um `set`. Assim, se `nomes` é a lista de todos os nomes, com repetições, `set(nomes)` vai ser um conjunto em que cada nome aparece apenas uma vez."
   ]
  },
  {
   "cell_type": "code",
   "execution_count": 60,
   "metadata": {
    "collapsed": false
   },
   "outputs": [
    {
     "name": "stdout",
     "output_type": "stream",
     "text": [
      "TÂMARA 0.6524989731618762\n",
      "JOÃO PAULO 0.909578124581981\n",
      "SILVIA 0.557984305711555\n",
      "OSVALDO 0.7659997749423901\n",
      "RENATA 0.46858754516859996\n",
      "JOSÉ PEDRO 0.6540351631110363\n",
      "LUIZA 0.6718600908553367\n",
      "HENRIQUE 0.7206491536581988\n",
      "SÔNIA 0.6498831135910007\n",
      "MARIA APARECIDA 0.7251169332380335\n",
      "PAULA 0.747652075015062\n",
      "ROBERTO 0.6120720742131935\n",
      "WALTER 0.20516628231291498\n",
      "ISABEL 0.8787905769547227\n",
      "CLAUDIA 0.5411947193446824\n",
      "NÚBIO 0.813703893718404\n",
      "PEDRO 0.4304621223659441\n",
      "CARLOS CESAR 0.36483512321865297\n",
      "MARCOS 0.5248550935538274\n",
      "ROBSON 0.37449543526906576\n",
      "SÉRGIO 0.29270119355577506\n",
      "FRANCISCO 0.565223010717558\n",
      "DANILO 0.8131624612455496\n",
      "CARLOS EDUARDO 0.7401431211804199\n",
      "GISELE 0.8959803099334681\n",
      "ANA MARIA 0.5818965421295076\n",
      "LUCAS 0.929391439580908\n",
      "VERA 0.9690329126255294\n",
      "DAVID 0.49104944885188523\n",
      "1.2542079508284782\n",
      "Coeficiente de Pearson geral:  0.5928536007077562\n"
     ]
    }
   ],
   "source": [
    "dados = le_dados('experimentos.dat')\n",
    "experimentadores = {}\n",
    "valorx = []\n",
    "valory = []\n",
    "for i, j, k in dados:\n",
    "    valorx.append(j)\n",
    "    valory.append(k)\n",
    "    \n",
    "for nomes, x, y in dados:\n",
    "    if nomes in experimentadores.keys():\n",
    "        experimentadores[nomes][0].append(x)\n",
    "        experimentadores[nomes][1].append(y)\n",
    "    \n",
    "    else:\n",
    "        experimentadores[nomes]= [[x], [y]]\n",
    "\n",
    "\n",
    "for i in experimentadores.keys():\n",
    "    \n",
    "    print(i, pearson(experimentadores[i][0], experimentadores[i][1]))\n",
    "    \n",
    "    \n",
    "   \n",
    "print(\"Coeficiente de Pearson geral: \", pearson(valorx, valory))    \n",
    "    \n",
    "   "
   ]
  },
  {
   "cell_type": "markdown",
   "metadata": {},
   "source": [
    "## Instruções\n",
    "\n",
    "Entregue este notebook com o seu código preenchido nos locais solicitados.\n",
    "\n",
    "Lembre-se que você pode criar células adicionais para fazer rascunho, mas ou crie essas células adicionais abaixo desta, ou desloque-as para baixo desta ou as apage antes da entrega."
   ]
  },
  {
   "cell_type": "code",
   "execution_count": null,
   "metadata": {
    "collapsed": true
   },
   "outputs": [],
   "source": []
  }
 ],
 "metadata": {
  "kernelspec": {
   "display_name": "Python 3",
   "language": "python",
   "name": "python3"
  },
  "language_info": {
   "codemirror_mode": {
    "name": "ipython",
    "version": 3
   },
   "file_extension": ".py",
   "mimetype": "text/x-python",
   "name": "python",
   "nbconvert_exporter": "python",
   "pygments_lexer": "ipython3",
   "version": "3.5.1"
  }
 },
 "nbformat": 4,
 "nbformat_minor": 0
}
