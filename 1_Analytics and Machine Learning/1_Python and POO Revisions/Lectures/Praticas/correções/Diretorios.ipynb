{
 "cells": [
  {
   "cell_type": "code",
   "execution_count": 101,
   "metadata": {
    "collapsed": false,
    "scrolled": true
   },
   "outputs": [
    {
     "name": "stdout",
     "output_type": "stream",
     "text": [
      "41400 Aulas/Aula01.ipynb\n",
      "67759 Aulas/Aula02.ipynb\n",
      "29467 Aulas/Aula10.ipynb\n",
      "46289 Aulas/Aula07.ipynb\n",
      "30943 Aulas/Aula05.ipynb\n",
      "81705 Aulas/Aula11.ipynb\n",
      "41617 Aulas/Aula04.ipynb\n",
      "48389 Aulas/Aula06.ipynb\n",
      "31147 Aulas/Aula08.ipynb\n",
      "122528 Aulas/Aula03.ipynb\n",
      "29260 Aulas/Aula09.ipynb\n",
      "14969 Aulas/Aula12.ipynb\n",
      "589569 Aulas\n",
      "2431 .ipynb_checkpoints/Diretorios-checkpoint.ipynb\n",
      "592000 .ipynb_checkpoints\n",
      "8284 Simul/tellers.py\n",
      "2835 Simul/desimul.py\n",
      "603119 Simul\n",
      "2835 Diretorios.ipynb\n",
      "2835 quadratura.py\n",
      "606618 .\n"
     ]
    }
   ],
   "source": [
    "import pathlib as pa \n",
    "\n",
    "q = pa.Path(\".\")\n",
    "dirlist  =  [x for x in q.iterdir() if x.is_dir()]  \n",
    "filelist =  [x for x in q.iterdir() if not x.is_dir()]\n",
    "soma = [direct.stat().st_size]\n",
    "soma1= []\n",
    "soma2 = []\n",
    "a=0\n",
    "\n",
    "for i in dirlist:  \n",
    "    k = i.iterdir()\n",
    "    size = [i.stat().st_size]\n",
    "    for j in k:\n",
    "        aux = j.stat().st_size\n",
    "        print( aux ,   j)\n",
    "        soma1.append(aux)\n",
    "        \n",
    "    size.append(sum(soma1))\n",
    "    print (sum(size) , i) \n",
    "         \n",
    "for i in filelist:\n",
    "    aux1 = i.stat().st_size\n",
    "    print(aux,   i)\n",
    "    soma.append(aux1)\n",
    "    \n",
    "\n",
    "soma.append(sum(soma1))\n",
    "print(sum(soma), \".\")    "
   ]
  },
  {
   "cell_type": "code",
   "execution_count": null,
   "metadata": {
    "collapsed": true
   },
   "outputs": [],
   "source": []
  },
  {
   "cell_type": "code",
   "execution_count": null,
   "metadata": {
    "collapsed": true
   },
   "outputs": [],
   "source": []
  }
 ],
 "metadata": {
  "kernelspec": {
   "display_name": "Python 3",
   "language": "python",
   "name": "python3"
  },
  "language_info": {
   "codemirror_mode": {
    "name": "ipython",
    "version": 3
   },
   "file_extension": ".py",
   "mimetype": "text/x-python",
   "name": "python",
   "nbconvert_exporter": "python",
   "pygments_lexer": "ipython3",
   "version": "3.5.1"
  }
 },
 "nbformat": 4,
 "nbformat_minor": 0
}
