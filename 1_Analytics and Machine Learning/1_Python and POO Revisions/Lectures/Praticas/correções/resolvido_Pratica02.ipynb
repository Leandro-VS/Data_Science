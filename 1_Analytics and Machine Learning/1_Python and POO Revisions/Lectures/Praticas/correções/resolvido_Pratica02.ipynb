{
 "cells": [
  {
   "cell_type": "markdown",
   "metadata": {},
   "source": [
    "# Programação Orientada a Objetos, Turma de 2016"
   ]
  },
  {
   "cell_type": "markdown",
   "metadata": {},
   "source": [
    "## Segunda prática"
   ]
  },
  {
   "cell_type": "markdown",
   "metadata": {},
   "source": [
    "*(Vale 5 pontos)*\n",
    "\n",
    "---"
   ]
  },
  {
   "cell_type": "markdown",
   "metadata": {},
   "source": [
    "### Triplas pitagóricas"
   ]
  },
  {
   "cell_type": "markdown",
   "metadata": {},
   "source": [
    "Uma tripla pitagórica é uma tripla de números **inteiros** $(a, b, c)$ tal que:\n",
    "$$\n",
    "a > b > c > 0\\\\\n",
    "a^2 = b^2 + c^2\n",
    "$$\n",
    "\n",
    "Por exemplo, $(5, 4, 3)$ é uma tripla pitagórica."
   ]
  },
  {
   "cell_type": "markdown",
   "metadata": {},
   "source": [
    "### Problema\n",
    "\n",
    "Dado que existe uma e apenas uma tripla pitagórica $(a, b, c)$ para a qual $a + b + c = 1000$, escreva um código Python para encontrar e mostrar essa tripla.\n",
    "\n",
    "Evite fazer mais cálculos do que o necessário. Use células de *markdown* para explicar o seu código. Lembre-se de testar se a resposta fornecida pelo seu programa satisfaz as condições (use código Python para fazer o teste em células apropriadas)."
   ]
  },
  {
   "cell_type": "code",
   "execution_count": 18,
   "metadata": {
    "collapsed": false
   },
   "outputs": [
    {
     "name": "stdout",
     "output_type": "stream",
     "text": [
      "425 375 200\n"
     ]
    }
   ],
   "source": [
    "s= 1000\n",
    "\n",
    "a, b, c= 0, 0, 0\n",
    "\n",
    "for i in range(1, s):\n",
    "    for j in range( 1, s-1):\n",
    "        a=s-i-j\n",
    "        if((a**2)== (i**2)+(j**2) and a>i>j):        \n",
    "            b=i\n",
    "            c=j\n",
    "            print(a,b,c)\n",
    "        \n",
    "    \n",
    "    \n",
    "\n",
    "        "
   ]
  },
  {
   "cell_type": "markdown",
   "metadata": {},
   "source": [
    "Atribui o valor 1000 a variavel s, que representa a soma dos termos a, b e c, e em seguida, atribui 0 as variaveis a, b e c, para inicializa-las. Em seguida usei um for para fazer com que i vá de 1 ao valor da soma, (i seria um auxiliar para o b, no caso) e outro for para que j vá de 1 a s-1 (s-1 pois j representa um auxiliar para c, e c tem que ser menor que b, no caso, o i). Dentro do segundo for, coloquei a expressão a=s-i-j, que dá o valor de a para cada i e j incrementado nos comandos for, respeitando a igualdade \"a+b+c=1000\". Tambem dentro do segundo for, coloquei um comando if para verificar se o a, o i e o j encontrados satisfazem a equação do teorema de pitágoras e a relação a>b>c>0. Quando o a, o i e o j satisfazerem as relações, b recebe o valor de i e c recebe o valor de j, e printa-se a,b,c. O resultado encontrado foi a=425, b=375 e c=200. "
   ]
  },
  {
   "cell_type": "markdown",
   "metadata": {},
   "source": [
    "---\n",
    "\n",
    "* Você não precisa testar todas as combinações de `i` e `j`, pois há duplicações (por exemplo, (15, 12) e (12, 15)).\n",
    "* Você não precisa percorrer `i` e `j` até `s`, pois $a>b>c$ e $a+b+c=1000$.\n",
    "* Quando você acha uma solução, você imprime, mas continua procurando novas soluções. Isso não é necessário, pois o enunciado diz que há apenas uma solução.\n",
    "\n",
    "-- *Gonzalo*"
   ]
  },
  {
   "cell_type": "code",
   "execution_count": null,
   "metadata": {
    "collapsed": true
   },
   "outputs": [],
   "source": []
  }
 ],
 "metadata": {
  "kernelspec": {
   "display_name": "Python 3",
   "language": "python",
   "name": "python3"
  },
  "language_info": {
   "codemirror_mode": {
    "name": "ipython",
    "version": 3
   },
   "file_extension": ".py",
   "mimetype": "text/x-python",
   "name": "python",
   "nbconvert_exporter": "python",
   "pygments_lexer": "ipython3",
   "version": "3.5.1"
  }
 },
 "nbformat": 4,
 "nbformat_minor": 0
}
