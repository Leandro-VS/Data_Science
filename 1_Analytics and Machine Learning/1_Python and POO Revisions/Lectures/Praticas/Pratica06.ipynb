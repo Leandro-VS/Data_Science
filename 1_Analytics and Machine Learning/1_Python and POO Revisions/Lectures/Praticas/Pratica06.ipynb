{
 "cells": [
  {
   "cell_type": "markdown",
   "metadata": {},
   "source": [
    "# Quinta prática"
   ]
  },
  {
   "cell_type": "markdown",
   "metadata": {},
   "source": [
    "*(5 pontos)*"
   ]
  },
  {
   "cell_type": "markdown",
   "metadata": {},
   "source": [
    "Explique o que o código de **cada uma** das células abaixo faz."
   ]
  },
  {
   "cell_type": "code",
   "execution_count": null,
   "metadata": {
    "collapsed": true
   },
   "outputs": [],
   "source": [
    "class Limited:\n",
    "    def __init__(self, N):\n",
    "        self.__remaining = N\n",
    "    def get(self):\n",
    "        if self.__remaining > 0:\n",
    "            self.__remaining -= 1\n",
    "        else:\n",
    "            raise Exception(\"Resource exausted\")"
   ]
  },
  {
   "cell_type": "code",
   "execution_count": null,
   "metadata": {
    "collapsed": false
   },
   "outputs": [],
   "source": [
    "a = Limited(10)\n",
    "for i in range(20):\n",
    "    a.get()\n",
    "    print(i, end=' ')\n",
    "print()"
   ]
  },
  {
   "cell_type": "code",
   "execution_count": null,
   "metadata": {
    "collapsed": false
   },
   "outputs": [],
   "source": [
    "b = Limited(5)\n",
    "c = Limited(7)\n",
    "for i in range(15):\n",
    "    if i % 2 == 0:\n",
    "        b.get()\n",
    "    else:\n",
    "        c.get()\n",
    "    print(i, end=' ')\n",
    "print()"
   ]
  },
  {
   "cell_type": "code",
   "execution_count": null,
   "metadata": {
    "collapsed": false
   },
   "outputs": [],
   "source": [
    "d = Limited(5)\n",
    "e = d\n",
    "for i in range(15):\n",
    "    if i % 2 == 0:\n",
    "        e.get()\n",
    "    else:\n",
    "        d.get()\n",
    "    print(i, end=' ')\n",
    "print()"
   ]
  },
  {
   "cell_type": "code",
   "execution_count": null,
   "metadata": {
    "collapsed": false
   },
   "outputs": [],
   "source": [
    "for i in range(15):\n",
    "    if i % 2 == 0:\n",
    "        b.get()\n",
    "    else:\n",
    "        c.get()\n",
    "    print(i, end=' ')\n",
    "print()"
   ]
  },
  {
   "cell_type": "code",
   "execution_count": null,
   "metadata": {
    "collapsed": true
   },
   "outputs": [],
   "source": [
    "class LimitedTalker(Limited):\n",
    "    def __init__(self, what):\n",
    "        self.__what = what\n",
    "        self.__i = 0\n",
    "        Limited.__init__(self, len(what))\n",
    "    def talk(self):\n",
    "        t = self.__what[self.__i]\n",
    "        self.__i += 1\n",
    "        return t"
   ]
  },
  {
   "cell_type": "code",
   "execution_count": null,
   "metadata": {
    "collapsed": false
   },
   "outputs": [],
   "source": [
    "t1 = LimitedTalker([\"Oi\", \"Tudo bem?\", \"Como vai?\", \"Está frio hoje.\"])\n",
    "for i in range(10):\n",
    "    try:\n",
    "        t1.get()\n",
    "        print(t1.talk())\n",
    "    except Exception:\n",
    "        print(\"Não sei mais o que falar.\")"
   ]
  },
  {
   "cell_type": "code",
   "execution_count": null,
   "metadata": {
    "collapsed": true
   },
   "outputs": [],
   "source": [
    "class A:\n",
    "    def __init__(self, x):\n",
    "        self.__x = x\n",
    "    def f(self):\n",
    "        return 2 * self.__x\n",
    "    def g(self, y):\n",
    "        return self.__x + 2 * y\n",
    "    def h(self, z):\n",
    "        self.__x = z - 1"
   ]
  },
  {
   "cell_type": "code",
   "execution_count": null,
   "metadata": {
    "collapsed": true
   },
   "outputs": [],
   "source": [
    "class B(A):\n",
    "    def __init__(self, x):\n",
    "        super().__init__(x + 5)\n",
    "    def f(self):\n",
    "        return super().f() - 5"
   ]
  },
  {
   "cell_type": "code",
   "execution_count": null,
   "metadata": {
    "collapsed": true
   },
   "outputs": [],
   "source": [
    "class C(A):\n",
    "    def g(self, y):\n",
    "        return super().g(y - 1)"
   ]
  },
  {
   "cell_type": "code",
   "execution_count": null,
   "metadata": {
    "collapsed": true
   },
   "outputs": [],
   "source": [
    "class D(A):\n",
    "    def h(self, z):\n",
    "        super().h(3 * z)"
   ]
  },
  {
   "cell_type": "code",
   "execution_count": null,
   "metadata": {
    "collapsed": true
   },
   "outputs": [],
   "source": [
    "class E(B, C):\n",
    "    pass"
   ]
  },
  {
   "cell_type": "code",
   "execution_count": null,
   "metadata": {
    "collapsed": true
   },
   "outputs": [],
   "source": [
    "def doit(a):\n",
    "    print(a.f(), end=' ')\n",
    "    print(a.g(7), end=' ')\n",
    "    a.h(11)\n",
    "    print(a.f())"
   ]
  },
  {
   "cell_type": "code",
   "execution_count": null,
   "metadata": {
    "collapsed": false
   },
   "outputs": [],
   "source": [
    "allofthem = [A(2), B(3), C(5), D(7), E(11)]\n",
    "for a in allofthem:\n",
    "    doit(a)"
   ]
  },
  {
   "cell_type": "code",
   "execution_count": null,
   "metadata": {
    "collapsed": false
   },
   "outputs": [],
   "source": [
    "for a in allofthem:\n",
    "    print('Variável do tipo', type(a).__name__, end=': ')\n",
    "    if isinstance(a, A):\n",
    "        print('É um A.', end=\" \")\n",
    "    else:\n",
    "        print('Não é um A.', end=\" \")\n",
    "    if isinstance(a, B):\n",
    "        print('É um B.')\n",
    "    else:\n",
    "        print('Não é um B.')"
   ]
  },
  {
   "cell_type": "code",
   "execution_count": null,
   "metadata": {
    "collapsed": true
   },
   "outputs": [],
   "source": [
    "class NiceLimited:\n",
    "    def __init__(self, N):\n",
    "        if N < 0: raise ValueError('Must be positive.')\n",
    "        self.__N = N\n",
    "    def __iter__(self):\n",
    "        return self\n",
    "    def __next__(self):\n",
    "        if self.__N == 0:\n",
    "            raise StopIteration()\n",
    "        else:\n",
    "            self.__N -= 1\n",
    "            return self.__N"
   ]
  },
  {
   "cell_type": "code",
   "execution_count": null,
   "metadata": {
    "collapsed": false
   },
   "outputs": [],
   "source": [
    "for i in NiceLimited(10):\n",
    "    print(i, end=' ')\n",
    "print()"
   ]
  },
  {
   "cell_type": "code",
   "execution_count": null,
   "metadata": {
    "collapsed": true
   },
   "outputs": [],
   "source": [
    "class Exibido:\n",
    "    def __init__(self, s):\n",
    "        self.__s = s\n",
    "    def __repr__(self):\n",
    "        return 'Exibido(' + str(self.__s) + ')'"
   ]
  },
  {
   "cell_type": "code",
   "execution_count": null,
   "metadata": {
    "collapsed": false
   },
   "outputs": [],
   "source": [
    "e = Exibido(5)\n",
    "e"
   ]
  },
  {
   "cell_type": "code",
   "execution_count": null,
   "metadata": {
    "collapsed": false
   },
   "outputs": [],
   "source": [
    "print(e)"
   ]
  },
  {
   "cell_type": "code",
   "execution_count": null,
   "metadata": {
    "collapsed": true
   },
   "outputs": [],
   "source": [
    "class OutroExibido:\n",
    "    def __init__(self, s):\n",
    "        self.__s = s\n",
    "    def __str__(self):\n",
    "        return 'OutroExibido(' + str(self.__s) + ')'    "
   ]
  },
  {
   "cell_type": "code",
   "execution_count": null,
   "metadata": {
    "collapsed": false
   },
   "outputs": [],
   "source": [
    "o = OutroExibido(7)\n",
    "o"
   ]
  },
  {
   "cell_type": "code",
   "execution_count": null,
   "metadata": {
    "collapsed": false
   },
   "outputs": [],
   "source": [
    "print(o)"
   ]
  },
  {
   "cell_type": "code",
   "execution_count": null,
   "metadata": {
    "collapsed": true
   },
   "outputs": [],
   "source": [
    "class MaisExibido:\n",
    "    def __init__(self, s):\n",
    "        self.__s = s\n",
    "    def __repr__(self):\n",
    "        return 'MaisExibido(' + str(self.__s) + ')'\n",
    "    def __str__(self):\n",
    "        return str(self.__s)  "
   ]
  },
  {
   "cell_type": "code",
   "execution_count": null,
   "metadata": {
    "collapsed": false
   },
   "outputs": [],
   "source": [
    "m = MaisExibido(11)\n",
    "m"
   ]
  },
  {
   "cell_type": "code",
   "execution_count": null,
   "metadata": {
    "collapsed": false
   },
   "outputs": [],
   "source": [
    "print(m)"
   ]
  },
  {
   "cell_type": "code",
   "execution_count": null,
   "metadata": {
    "collapsed": true
   },
   "outputs": [],
   "source": [
    "class Pot:\n",
    "    def __init__(self, n):\n",
    "        self.__n = n\n",
    "    def __call__(self, x):\n",
    "        return x ** self.__n"
   ]
  },
  {
   "cell_type": "code",
   "execution_count": null,
   "metadata": {
    "collapsed": false
   },
   "outputs": [],
   "source": [
    "allpots = [Pot(i) for i in range(5)]\n",
    "for i in range(4):\n",
    "    for p in allpots:\n",
    "        print(p(i), end=', ')\n",
    "    print()"
   ]
  },
  {
   "cell_type": "code",
   "execution_count": null,
   "metadata": {
    "collapsed": true
   },
   "outputs": [],
   "source": [
    "class Counter:\n",
    "    def __init__(self):\n",
    "        self.__n = 0\n",
    "    def up(self):\n",
    "        self.__n += 1\n",
    "    def down(self):\n",
    "        if self.__n > 0:\n",
    "            self.__n -= 1\n",
    "    @property\n",
    "    def value(self):\n",
    "        return self.__n\n",
    "    @value.setter\n",
    "    def value(self, n):\n",
    "        if n < 0:\n",
    "            raise ValueError(\"Must be positive\")\n",
    "        self.__n = n"
   ]
  },
  {
   "cell_type": "code",
   "execution_count": null,
   "metadata": {
    "collapsed": false
   },
   "outputs": [],
   "source": [
    "c = Counter()\n",
    "for i in range(12):\n",
    "    c.up()\n",
    "    print(c.value, end=' ')\n",
    "print()"
   ]
  },
  {
   "cell_type": "code",
   "execution_count": null,
   "metadata": {
    "collapsed": false
   },
   "outputs": [],
   "source": [
    "c.value = 10\n",
    "for i in range(15):\n",
    "    c.down()\n",
    "    print(c.value, end=' ')\n",
    "print()"
   ]
  },
  {
   "cell_type": "code",
   "execution_count": null,
   "metadata": {
    "collapsed": false
   },
   "outputs": [],
   "source": [
    "c.value = -5"
   ]
  },
  {
   "cell_type": "code",
   "execution_count": null,
   "metadata": {
    "collapsed": false
   },
   "outputs": [],
   "source": [
    "class TooBigException(Exception):\n",
    "    pass\n",
    "\n",
    "def canfail(x):\n",
    "    try:\n",
    "        if not isinstance(x, int):\n",
    "            raise TypeError('Need an int')\n",
    "        if x < 0:\n",
    "            raise ValueError(\"I don't like negatives\")\n",
    "        if x > 10:\n",
    "            raise TooBigException('This is already big')\n",
    "        print(x)\n",
    "    except TooBigException:\n",
    "        print('Something big has come')\n",
    "    finally:\n",
    "        print('Job done')\n",
    "    print(\"I'm done for now\")\n",
    "    \n",
    "values = [-2, -1, 0, 1, 2, 13, 4.0, 5]\n",
    "for i in values:\n",
    "    try:\n",
    "        canfail(i)\n",
    "    except ValueError:\n",
    "        print('Function does not like this value')"
   ]
  },
  {
   "cell_type": "code",
   "execution_count": null,
   "metadata": {
    "collapsed": true
   },
   "outputs": [],
   "source": []
  }
 ],
 "metadata": {
  "kernelspec": {
   "display_name": "Python 3",
   "language": "python",
   "name": "python3"
  },
  "language_info": {
   "codemirror_mode": {
    "name": "ipython",
    "version": 3
   },
   "file_extension": ".py",
   "mimetype": "text/x-python",
   "name": "python",
   "nbconvert_exporter": "python",
   "pygments_lexer": "ipython3",
   "version": "3.5.1"
  }
 },
 "nbformat": 4,
 "nbformat_minor": 0
}
