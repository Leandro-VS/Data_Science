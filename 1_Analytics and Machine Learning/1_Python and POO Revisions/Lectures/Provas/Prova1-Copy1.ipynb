{
 "cells": [
  {
   "cell_type": "markdown",
   "metadata": {},
   "source": [
    "# Programação Orientada a Objetos, Turma 2016"
   ]
  },
  {
   "cell_type": "markdown",
   "metadata": {},
   "source": [
    "## Primeira Prova"
   ]
  },
  {
   "cell_type": "markdown",
   "metadata": {},
   "source": [
    "2016.04.25, 10:00\n",
    "\n",
    "---"
   ]
  },
  {
   "cell_type": "markdown",
   "metadata": {},
   "source": [
    "## Nota: 5.75"
   ]
  },
  {
   "cell_type": "markdown",
   "metadata": {},
   "source": [
    "## Parte 1: Explicando códigos"
   ]
  },
  {
   "cell_type": "markdown",
   "metadata": {},
   "source": [
    "No que segue, explique sucintamente o que cada código faz e o resultado produzido pela execução das células, como nos exemplos abaixo."
   ]
  },
  {
   "cell_type": "code",
   "execution_count": 1,
   "metadata": {
    "collapsed": false
   },
   "outputs": [
    {
     "name": "stdout",
     "output_type": "stream",
     "text": [
      "Total de 22 nomes. O último é Bourbon\n"
     ]
    }
   ],
   "source": [
    "nome = \"Pedro de Alcântara Francisco Antônio João Carlos Xavier de Paula Miguel Rafael Joaquim José Gonzaga Pascoal Cipriano Serafim de Bragança e Bourbon\"\n",
    "nomes = nome.split()\n",
    "print('Total de', len(nomes),'nomes. O último é', nomes[-1])"
   ]
  },
  {
   "cell_type": "markdown",
   "metadata": {},
   "source": [
    "**R:** Cria uma cadeia com o nome completo de Dom Pedro I, separa os diversos nomes (usando espaço em branco como separador) em uma lista de nomes. Mostra o total de nomes na lista e o último sobrenome."
   ]
  },
  {
   "cell_type": "code",
   "execution_count": 2,
   "metadata": {
    "collapsed": false
   },
   "outputs": [
    {
     "name": "stdout",
     "output_type": "stream",
     "text": [
      "55\n"
     ]
    }
   ],
   "source": [
    "def soma(n):\n",
    "    s = 0\n",
    "    for i in range(1, n+1):\n",
    "        s += i\n",
    "    return s\n",
    "print(soma(10))"
   ]
  },
  {
   "cell_type": "markdown",
   "metadata": {},
   "source": [
    "**R:** Define uma função que dado um `n`, retorna a somatõria de 1 a `n`. Imprime a somatória de 1 a 10 usando essa função."
   ]
  },
  {
   "cell_type": "markdown",
   "metadata": {},
   "source": [
    "### Questão 1 *(1 ponto)*"
   ]
  },
  {
   "cell_type": "code",
   "execution_count": 1,
   "metadata": {
    "collapsed": false
   },
   "outputs": [
    {
     "name": "stdout",
     "output_type": "stream",
     "text": [
      "6 2 6\n",
      "3.111111111111111 9 1\n"
     ]
    }
   ],
   "source": [
    "d = 11\n",
    "h = 0x11\n",
    "o = 0o11\n",
    "b = 0b11\n",
    "print(h - d, d - o, o - b)\n",
    "print((h + d)/o, (h + d)//b, (h + d) % b)"
   ]
  },
  {
   "cell_type": "markdown",
   "metadata": {},
   "source": [
    "**R:** "
   ]
  },
  {
   "cell_type": "markdown",
   "metadata": {},
   "source": [
    "Primeiro são atribuidos valores as variaveis, sendo que \"d\" recebe o valor 11 na notação decimal, \"h\" recebe um valor na notação hexadecimal que vale 17, \"o\" recebe um valor octal que vale 9, e \"b\" recebe um valor na notação binaria que vale 3. Em seguida, printa-se as operações simples com esses valores, h-d = 6, d-o = 2 e o-b = 6, e depois no outro print, temos outras operações, sendo a primeira uma divisão real da soma de h e d dividida por o, outra com a divisao inteira da soma de h e d dividida por o, e outra com o resto da divisao da soma de h e d por b."
   ]
  },
  {
   "cell_type": "markdown",
   "metadata": {},
   "source": [
    "**Nota: 1.0**"
   ]
  },
  {
   "cell_type": "markdown",
   "metadata": {},
   "source": [
    "### Questão 2 *(1 ponto)*"
   ]
  },
  {
   "cell_type": "code",
   "execution_count": 3,
   "metadata": {
    "collapsed": false
   },
   "outputs": [
    {
     "name": "stdout",
     "output_type": "stream",
     "text": [
      "[[1, 2, 3], [10, 20, 30]]\n",
      "[[1, 2, 3, 4], [10, 20, 30]]\n",
      "[[1, 2, 3, 4], [10, 20, 30, [...]]]\n",
      "[[1, 2, 3, 4, [10, 20, 30, [...]]], [10, 20, 30, [...]]]\n"
     ]
    }
   ],
   "source": [
    "lista1 = [1, 2, 3]\n",
    "lista2 = [10, 20, 30]\n",
    "lista3 = [lista1, lista2]\n",
    "print(lista3)\n",
    "lista1.append(4)\n",
    "print(lista3)\n",
    "lista2.append(lista3)\n",
    "print(lista3)\n",
    "lista1.append(lista2)\n",
    "print(lista3)"
   ]
  },
  {
   "cell_type": "markdown",
   "metadata": {},
   "source": [
    "**R:** "
   ]
  },
  {
   "cell_type": "markdown",
   "metadata": {},
   "source": [
    "São declaradas 3 listas, sendo a terceira (lista3) uma lista das outras duas primeiras listas, em seguida, printa-se a lista 3, que tera o valor das duas listas que a compoe em formato de lista [] e separadas por uma virgula. Depois, utilizando a função append, adiciona-se o valor 4 na lista1, e depois printa-se a lista 3 novamente já com o novo valor 4 na lista1. Depois, utilizando a função append novamente, adiciona-se à lista2 a lista3, e depois, printando a lista3, sabemos que a lista 3 está dentro da lista2, no seu ultimo indice, e o [...] representa uma copia da lista ja printada dentro da lista printada. Por fim, novamente usando append, adiciona-se à lista1 a lista 2, que no caso, é [10,20,30,lista3], e printa-se novamente a lista3 utilizando do [...] de novo. A lista 3 é uma lista com duas listas com listas dentro, enfim, varias listas uma dentro da outra.\n"
   ]
  },
  {
   "cell_type": "markdown",
   "metadata": {},
   "source": [
    "**Nota: 0.75**\n",
    "\n",
    "Por que alterações em lista1, etc. aparecem ao mostrar lista3?"
   ]
  },
  {
   "cell_type": "markdown",
   "metadata": {},
   "source": [
    "### Questão 3 *(1 ponto)*"
   ]
  },
  {
   "cell_type": "code",
   "execution_count": 4,
   "metadata": {
    "collapsed": false
   },
   "outputs": [
    {
     "data": {
      "text/plain": [
       "[1, 2, -1, 3, 'Oi', '0']"
      ]
     },
     "execution_count": 4,
     "metadata": {},
     "output_type": "execute_result"
    }
   ],
   "source": [
    "def aplica_se_existe(f, lista):\n",
    "    return [f(x) for x in lista if x]\n",
    "aplica_se_existe(lambda x: x, [1, 2, 0, -1, None, 3, [], \"Oi\", \"\", '0'])"
   ]
  },
  {
   "cell_type": "markdown",
   "metadata": {},
   "source": [
    "**R:** "
   ]
  },
  {
   "cell_type": "markdown",
   "metadata": {},
   "source": [
    "Define-se uma função que recebe como parametros uma função f e uma lista. Essa função retorna uma lista contendo os valores de f(x) que retornam verdadeiro. Depois, utiliza-se a função aplica_se_existe passando como parametros uma função lambda que simplesmente retorna x e uma lista com valores de alguns tipos diferentes."
   ]
  },
  {
   "cell_type": "markdown",
   "metadata": {},
   "source": [
    "**Nota: 0.75**\n",
    "\n",
    "Por que os valores None, [] e \"\" foram excluídos?"
   ]
  },
  {
   "cell_type": "markdown",
   "metadata": {},
   "source": [
    "### Questão 4 *(1 ponto)*"
   ]
  },
  {
   "cell_type": "code",
   "execution_count": 5,
   "metadata": {
    "collapsed": false
   },
   "outputs": [
    {
     "name": "stdout",
     "output_type": "stream",
     "text": [
      "2470\n",
      "1140\n"
     ]
    }
   ],
   "source": [
    "x2 = list(map(lambda x: x**2, range(20)))\n",
    "print(sum([x2[i] for i in range(20)]))\n",
    "print(sum([x2[i] for i in range(20) if i % 2 == 0]))"
   ]
  },
  {
   "cell_type": "markdown",
   "metadata": {},
   "source": [
    "**R:** "
   ]
  },
  {
   "cell_type": "markdown",
   "metadata": {},
   "source": [
    "Temos que x2 recebe uma lista, e essa lista é dada pela função map, que recebe uma função lambda que recebe x retorna x² e um range(20) que serão os valores de x. A função map aplicará a cada valor de x a função lambda, e a função list retornará uma lista com esses valores gerados pelo map. Em seguida, no primeiro print, utilizando a função sum, ocorre a soma dos valores da lista x2 percorridos pelo for. No segundo print, tambem utilizando a função sum, ocorre a soma dos valores da lista x2 percorridos pelo for, porem com a condição de só somar os valores pares."
   ]
  },
  {
   "cell_type": "markdown",
   "metadata": {},
   "source": [
    "**Nota: 0.75**\n",
    "\n",
    "A última soma é a dos elementos de índices pares."
   ]
  },
  {
   "cell_type": "markdown",
   "metadata": {},
   "source": [
    "### Questão 5 *(1 ponto)*"
   ]
  },
  {
   "cell_type": "code",
   "execution_count": 13,
   "metadata": {
    "collapsed": false
   },
   "outputs": [
    {
     "name": "stdout",
     "output_type": "stream",
     "text": [
      "Números: 3 7 15 31 63 127 255 511 1023 2047 4095 8191 16383 32767 65535 131071 262143 524287 1048575 \n",
      "Soma: 0\n"
     ]
    }
   ],
   "source": [
    "def mersenne_numbers(max):\n",
    "    for i in range(2, max+1):\n",
    "        yield 2**i - 1\n",
    "\n",
    "m = mersenne_numbers(20)\n",
    "print('Números:', end=' ')\n",
    "for n in m:\n",
    "    print(n, end=' ')\n",
    "print()\n",
    "print('Soma:', sum(m))"
   ]
  },
  {
   "cell_type": "markdown",
   "metadata": {},
   "source": [
    "**R:** "
   ]
  },
  {
   "cell_type": "markdown",
   "metadata": {},
   "source": [
    "Define-se a função mersenne_numbers que recebe como parametro um numero \"max\". Dentro dela temos um for que faz com que i vá de 2 ao parametro max+1 e retorna 2^i - 1 para cada valor. Por meio do yield, essa função vai retornar um objeto gerador. Em seguida, atribui-se a m o objeto gerador retornado pela função, em seguida, printa-se a string \"Números:\" e depois, utilizando um for, imprime-se cada valor gerado pelo objeto m. O end='' nos prints serve para manter todos os valores e a string 'Números:' na mesma linha. Depois, no print soma, como o sum recebe como valor um objeto gerador, ele não irá somar nada, entao ele retorna 0. Para ocorrer a soma seria necessario um for como no print anterior."
   ]
  },
  {
   "cell_type": "markdown",
   "metadata": {},
   "source": [
    "**Nota: 0.5**\n",
    "\n",
    "O problema do sum dar zero é que o gerador está exaurido. Não é necessário um for para acessar os elementos do gerador."
   ]
  },
  {
   "cell_type": "markdown",
   "metadata": {},
   "source": [
    "## Parte 2: Criando códigos"
   ]
  },
  {
   "cell_type": "markdown",
   "metadata": {},
   "source": [
    "### Questão 6 *(1 ponto)*"
   ]
  },
  {
   "cell_type": "markdown",
   "metadata": {},
   "source": [
    "Complete a função `norma_1` abaixo de forma que ela considere o parâmetro `v` como uma lista que representa os componentes de um vetor, e calcula a norma-1 do vetor:\n",
    "\n",
    "$$ ||v||_1 = \\sum_i |v_i| $$."
   ]
  },
  {
   "cell_type": "code",
   "execution_count": 18,
   "metadata": {
    "collapsed": false
   },
   "outputs": [
    {
     "data": {
      "text/plain": [
       "14"
      ]
     },
     "execution_count": 18,
     "metadata": {},
     "output_type": "execute_result"
    }
   ],
   "source": [
    "def norma_1(v):\n",
    "    \n",
    "    aux = []\n",
    "    \n",
    "    for x in v:\n",
    "        if x < 0:\n",
    "            x= x*(-1)\n",
    "            aux.append(x)\n",
    "            \n",
    "        else:\n",
    "            aux.append(x)    \n",
    "        \n",
    "    return sum(aux)\n",
    "\n",
    "#teste\n",
    "norma_1([1,-1, 3, 4, -5])\n"
   ]
  },
  {
   "cell_type": "markdown",
   "metadata": {},
   "source": [
    "**Nota: 1.0**\n",
    "\n",
    "Usar a função abs a mais simples, mais eficiente e mais genérico do que testar o sinal."
   ]
  },
  {
   "cell_type": "markdown",
   "metadata": {},
   "source": [
    "### Questão 7 *(2 pontos)*"
   ]
  },
  {
   "cell_type": "markdown",
   "metadata": {},
   "source": [
    "Implemente a função `rot13` abaixo que implementa a chamada \"cifra de Cesar\", com rotação de 13 caracteres. A idéia é a seguinte: A cada caractere latino associamos o caractere correspondente deslocado de 13 posições para a frente, recomeçando no 'A' depois que se atinge o 'Z', como abaixo (linha de cima: caracter original, linha de baixo: caracter cifrado):\n",
    "\n",
    "    A B C D E F G H I J K L M N O P Q R S T U V W X Y Z\n",
    "    N O P Q R S T U V W X Y Z A B C D E F G H I J K L M\n",
    "    \n",
    "Por exemplo, a frase 'PROVA FACIL' (equecemos os acentos) vira: 'CEBIN SNPVY'.\n",
    "\n",
    "A função deve lidar adequadamente com os seguintes casos:\n",
    "\n",
    "* Qualquer caractere que não seja letra deve ser mantido como no original.\n",
    "* Letras minúsculas devem ser convertidas para maiúsculas antes da cifragem.\n",
    "* Considere que caracteres acentuados ou cedilhas não estarão presentes na cadeia de entrada.\n",
    "\n",
    "Algumas dicas que podem ser úteis ou desnecessárias:\n",
    "\n",
    "* `ord(c)` dá um inteiro que corresponde ao caractere `c`.\n",
    "* `chr(n)` dá o caractere que corresponde ao inteiro `n`.\n",
    "* A ordem dada por `ord` segue a ordem alfabética (e consecutiva) nos intervalos `A-Z` e `a-z` separadamente.\n",
    "* `s.find(c)` procura caractere `c` na cadeia `s`. Retorna índice ou -1 se não tem."
   ]
  },
  {
   "cell_type": "code",
   "execution_count": 1,
   "metadata": {
    "collapsed": false
   },
   "outputs": [],
   "source": [
    "def rot13(s):\n",
    "    alf ='A B C D E F G H I J K L M N O P Q R S T U V W X Y Z'\n",
    "    cifra = 'N O P Q R S T U V W X Y Z A B C D E F G H I J K L M'\n",
    "    h = 0\n",
    "    listalf = alf.split()\n",
    "    listacifra = cifra.split()\n",
    "    listafinal = []\n",
    "    sfinal = s.split()\n",
    "    \n",
    "    for i in sfinal:\n",
    "        for j in listalf:\n",
    "            h = s.find(j)\n",
    "            if h == -1:\n",
    "                listafinal.append(i)\n",
    "            else:\n",
    "                g=listacifra[j]\n",
    "                listafinal.append(g)\n",
    "                \n",
    "    return listafinal.upper()            \n",
    "                 \n",
    "                "
   ]
  },
  {
   "cell_type": "markdown",
   "metadata": {},
   "source": [
    "**Nota: 0.5**\n",
    "\n",
    "Não é necessário converter as string de caracteres para listas: elas já são listas (apenas imutáveis).\n",
    "\n",
    "Espaços são caracteres normais nas cadeias de entrada (apenas não são alterados pela codificação)."
   ]
  },
  {
   "cell_type": "markdown",
   "metadata": {},
   "source": [
    "### Questão 7 *(2 pontos)*"
   ]
  },
  {
   "cell_type": "markdown",
   "metadata": {},
   "source": [
    "Implemente a função `multiplos235` abaixo que, dado `n` inteiro, retorna uma lista com os `n` primeiros números da sequência ordenada de múltiplos de 2, 3 ou 5 (e de nenhum outro fator), isto é, os números que podem ser escritos como $2^i3^j5^k$ para algum $i,j,k \\ge 0$ inteiros. Por exemplo, os 12 primeiros números dessa sequência são:\n",
    "\n",
    "    1 2 3 4 5 6 8 9 10 12 15 16 18 20 24"
   ]
  },
  {
   "cell_type": "code",
   "execution_count": 4,
   "metadata": {
    "collapsed": true
   },
   "outputs": [],
   "source": [
    "import math"
   ]
  },
  {
   "cell_type": "code",
   "execution_count": null,
   "metadata": {
    "collapsed": true
   },
   "outputs": [],
   "source": [
    "def mutiplo235(n):\n",
    "    "
   ]
  },
  {
   "cell_type": "markdown",
   "metadata": {
    "collapsed": true
   },
   "source": [
    "**Nota: 0.0**"
   ]
  },
  {
   "cell_type": "code",
   "execution_count": null,
   "metadata": {
    "collapsed": true
   },
   "outputs": [],
   "source": [
    " "
   ]
  }
 ],
 "metadata": {
  "kernelspec": {
   "display_name": "Python 3",
   "language": "python",
   "name": "python3"
  },
  "language_info": {
   "codemirror_mode": {
    "name": "ipython",
    "version": 3
   },
   "file_extension": ".py",
   "mimetype": "text/x-python",
   "name": "python",
   "nbconvert_exporter": "python",
   "pygments_lexer": "ipython3",
   "version": "3.5.1"
  }
 },
 "nbformat": 4,
 "nbformat_minor": 0
}
