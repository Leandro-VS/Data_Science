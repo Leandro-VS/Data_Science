{
 "cells": [
  {
   "cell_type": "markdown",
   "metadata": {
    "deletable": true,
    "editable": true
   },
   "source": [
    "# Programação Orientada a Objetos, turma 2016"
   ]
  },
  {
   "cell_type": "markdown",
   "metadata": {
    "deletable": true,
    "editable": true
   },
   "source": [
    "## Segunda Prova => Nota: 5.25"
   ]
  },
  {
   "cell_type": "markdown",
   "metadata": {
    "deletable": true,
    "editable": true
   },
   "source": [
    "2016.06.20 10:00"
   ]
  },
  {
   "cell_type": "markdown",
   "metadata": {
    "deletable": true,
    "editable": true
   },
   "source": [
    "## Parte 1: Explicando códigos"
   ]
  },
  {
   "cell_type": "markdown",
   "metadata": {
    "deletable": true,
    "editable": true
   },
   "source": [
    "Execute e explique o resultado produzido por cada um dos códigos abaixo."
   ]
  },
  {
   "cell_type": "markdown",
   "metadata": {
    "deletable": true,
    "editable": true
   },
   "source": [
    "### Questão 1 *(1 ponto)* => **1.0**"
   ]
  },
  {
   "cell_type": "code",
   "execution_count": 1,
   "metadata": {
    "collapsed": false,
    "deletable": true,
    "editable": true
   },
   "outputs": [
    {
     "name": "stdout",
     "output_type": "stream",
     "text": [
      "Isto: 4\n",
      "Isto: Oi, mundo!\n"
     ]
    }
   ],
   "source": [
    "class Simples:\n",
    "    def __init__(self, x):\n",
    "        self.__conteudo = x\n",
    "    def primeiro(self, x):\n",
    "        self.__conteudo += x\n",
    "    def segundo(self):\n",
    "        return \"Isto: \" + str(self.__conteudo)\n",
    "\n",
    "s1 = Simples(3)\n",
    "s1.primeiro(1)\n",
    "print(s1.segundo())\n",
    "s2 = Simples('Oi')\n",
    "s2.primeiro(', mundo!')\n",
    "print(s2.segundo())"
   ]
  },
  {
   "cell_type": "markdown",
   "metadata": {
    "deletable": true,
    "editable": true
   },
   "source": [
    "A classe Simples recebe um conteudo x, o metodo primeiro incrementa um novo conteudo ao valor x, nesse valor x e o metodo segundo printa o objeto em formato de string, como nos prints dados de exemplo, simples recebe 3, primeiro recebe 1 e soma em 3, segundo printa Isto: 4, depois simples recebe 'oi', e primeiro recebe ', mundo' e soma em oi, criando a string printada em segundo \"oi, mundo\""
   ]
  },
  {
   "cell_type": "markdown",
   "metadata": {
    "deletable": true,
    "editable": true
   },
   "source": [
    "### Questão 2 *(1 ponto)* => **0.5**"
   ]
  },
  {
   "cell_type": "code",
   "execution_count": 51,
   "metadata": {
    "collapsed": false,
    "deletable": true,
    "editable": true
   },
   "outputs": [
    {
     "name": "stdout",
     "output_type": "stream",
     "text": [
      "True\n",
      "False\n",
      "True\n",
      "True\n",
      "False\n",
      "True\n"
     ]
    }
   ],
   "source": [
    "import functools\n",
    "@functools.total_ordering\n",
    "class Aproximado:\n",
    "    def __init__(self, val, eps=1e-8):\n",
    "        if eps < 0:\n",
    "            raise ValueError('Tolerance must be positive')\n",
    "        self.__value = val\n",
    "        self.__epsilon = eps\n",
    "    def __le__(self, b):\n",
    "        if not isinstance(b, Aproximado):\n",
    "             b = Aproximado(b, 0)\n",
    "        return self.__value - b.__value <= (self.__epsilon + b.__epsilon)\n",
    "    def __eq__(self, b):\n",
    "        if not isinstance(b, Aproximado):\n",
    "            b = Aproximado(b, 0)\n",
    "        return abs(self.__value - b.__value) <= (self.__epsilon + b.__epsilon)\n",
    "\n",
    "x1 = Aproximado(1, 1e-6)\n",
    "x2 = Aproximado(2)\n",
    "print(x1 <= x2)\n",
    "print(x1 > x2)\n",
    "print(x1 != x2)\n",
    "x3 = Aproximado(5, 0.1)\n",
    "x4 = 5.05\n",
    "print(x3 >= x4)\n",
    "print(x3 < x4)\n",
    "print(x3 == x4)"
   ]
  },
  {
   "cell_type": "markdown",
   "metadata": {
    "deletable": true,
    "editable": true
   },
   "source": [
    "A classe Aproximado recebe um valor e um epsilon que será a precisão do valor. Se epsilo for menor que zero, executa-se a excessão pelo raise que printa um aviso de value error. Por sobrecarga de operadores, o metodo __le__ que será a operação substituta de comparações de menor igual, checa se a classe recebeu o parametro epsilon por meio de comparação com o tipo dos objetos, e se ela não recebeu, ele faz com que epsilon seja igual a zero e retorna a operação substituta para o menor igual. O outro metodo define por sobrecarga uma nova operação para igualdade (==), e assim como no método anterior, ele checa se os objetos são do mesmo tipo, e se nao, epsilon tem valor zero, e se faz uma nova operação substituta para a igualdade. "
   ]
  },
  {
   "cell_type": "markdown",
   "metadata": {
    "deletable": true,
    "editable": true
   },
   "source": [
    "o programa utiliza propriedades importadas de functools"
   ]
  },
  {
   "cell_type": "markdown",
   "metadata": {
    "deletable": true,
    "editable": true
   },
   "source": [
    "**Como se conseguem fazer todos esses tipos de comparações se apenas `<=` e `==` foram definidos? O que é usado de `functools`?**"
   ]
  },
  {
   "cell_type": "markdown",
   "metadata": {
    "deletable": true,
    "editable": true
   },
   "source": [
    "### Questão 3 *(2 pontos)* => **1.5**"
   ]
  },
  {
   "cell_type": "code",
   "execution_count": 58,
   "metadata": {
    "collapsed": false,
    "deletable": true,
    "editable": true
   },
   "outputs": [
    {
     "name": "stdout",
     "output_type": "stream",
     "text": [
      "                  26                  -39                  151                 -149\n",
      "                  50                  -38                 5200                 -148\n",
      "                  29                  0.1                  154                 0.27\n",
      "                  30                  -35                   55                 -245\n",
      "              25.125              -39.875              150.125             -149.875\n",
      "                 250                 0.25                 6000                  0.3\n",
      "              1.5625            0.0015625             -4993.75           -0.2496875\n"
     ]
    }
   ],
   "source": [
    "class A:\n",
    "    def __init__(self, x):\n",
    "        self.x = x\n",
    "    def f(self, y):\n",
    "        return self.x + y\n",
    "    def g(self, z):\n",
    "        return self.x - z\n",
    "    def h(self, w):\n",
    "        self.x += w\n",
    "\n",
    "class B(A):\n",
    "    def f(self, y):\n",
    "        return self.x * y\n",
    "\n",
    "class C(A):\n",
    "    def g(self, z):\n",
    "        return self.x / z\n",
    "\n",
    "class D(A):\n",
    "    def h(self, w):\n",
    "        self.x -= w\n",
    "\n",
    "class E(A):\n",
    "    def __init__(self, x):\n",
    "        self.x = 1 / x\n",
    "\n",
    "class F(B, C):\n",
    "    pass\n",
    "\n",
    "class G(B, C, D, E):\n",
    "    pass\n",
    "\n",
    "todos = [A(1), B(2), C(4), D(5), E(8), F(10), G(16)]\n",
    "for obj in todos:\n",
    "    print('{:20} {:20}'.format(obj.f(25), obj.g(40)), end=' ')\n",
    "    obj.h(50)\n",
    "    print('{:20} {:20}'.format(obj.f(100), obj.g(200)))\n",
    "  "
   ]
  },
  {
   "cell_type": "markdown",
   "metadata": {
    "deletable": true,
    "editable": true
   },
   "source": [
    "O programa consiste basicamente em uma herança de classes. \n",
    "A classe A reebe um valor de x, seu metodo f recebe um y e retorna a soma desses valores, seu metodo g recebe um z e retorna a subtração de z em x, e seu metodo h recebe um w retorna um novo valor para x que será a soma de x com w. \n",
    "A classe B recebe a classe A, e seu metodo f recebe um y e multiplica com o x da classe A.\n",
    "A classe C recebe a classe A, e seu metodo g recebe um z, e retorna a divisão do x da classe a por z\n",
    "A classe D recebe A, e o metodo h recebe um w e retorna um novo valor de x da classe A sendo x= x-w\n",
    "A classe E recebe A e atribui ao x de A uma nova caracteristica que sera seu valor interso 1/x\n",
    "As classes F e G recebem as outras classes \n",
    "\n",
    "A lista todos recebe cada uma das classes com um valor para x, depois utiliza-se um for para percorrer essa lista, executa-se e printa-se as funções f recebendo o falor 25, g recebendo o valor 40, depois executa-se a função h que alterará o valor de x e novamente executa-se e printa-se as funções f e g com outros parametros. Interessante notar que, as classes que não tem o metodo h, f ou g em seu escopo executam diretamente o metodo f, g ou h da classe A, e se a classe possui um metodo f, g ou h em seu escopo, ela executa esse metodo proprio. O valor passado para essas classes sempre será o x da classe A, e ele que será usado em todas as operações nas outras classes, podendo ser alterado por elas."
   ]
  },
  {
   "cell_type": "markdown",
   "metadata": {
    "deletable": true,
    "editable": true
   },
   "source": [
    "**Faltou uma descrição mais detalhada, por exemplo do que acontece com as classes F e G.**"
   ]
  },
  {
   "cell_type": "markdown",
   "metadata": {
    "deletable": true,
    "editable": true
   },
   "source": [
    "## Parte 2: Criando códigos"
   ]
  },
  {
   "cell_type": "markdown",
   "metadata": {
    "deletable": true,
    "editable": true
   },
   "source": [
    "### Questão 4 *(2 pontos)* => **1.5**"
   ]
  },
  {
   "cell_type": "markdown",
   "metadata": {
    "deletable": true,
    "editable": true
   },
   "source": [
    "Na célula abaixo, complete o código da classe `Particula` conforme indicado nos comentários."
   ]
  },
  {
   "cell_type": "code",
   "execution_count": 52,
   "metadata": {
    "collapsed": false,
    "deletable": true,
    "editable": true
   },
   "outputs": [],
   "source": [
    "class Particula:\n",
    "    def __init__(self, m, pos, vel):\n",
    "        \n",
    "        self.m = m\n",
    "        self.pos = pos\n",
    "        self.vel = vel\n",
    "        'm é a massa, pos é uma tupla com posições (x, y, z), vel é tupla com (vx, vy, vz)'\n",
    "    def mass(self):\n",
    "        return self.m\n",
    "        'retorna a massa da partícula'\n",
    "\n",
    "    def position(self, axis):\n",
    "    \n",
    "        return self.pos[axis]\n",
    "        'retorna a posição da particula na direção dada por axis'\n",
    "     \n",
    "    def velocity(self, axis):\n",
    "\n",
    "        return self.vel[axis]    \n",
    "        'retorna a velocidade da particula na direção dada por axis'\n",
    "     \n",
    "    def kinetic_energy(self):\n",
    "        energiac = (0, 0, 0) #estou fazendo a energia em cada direção\n",
    "        energiac[0]= self.m*(self.vel[0]**2)/ 2\n",
    "        energiac[1]= self.m*(self.vel[1]**2)/2\n",
    "        energiac[2]= self.m*(self.vel[2]**2)/2\n",
    "        \n",
    "        return energiac\n",
    "        'retorna energia cinética da particula'\n",
    "\n",
    "    def potencial_energy(self):\n",
    "        energiap = self.m*self.pos[2]\n",
    "        #estou contando como se z fosse a altura\n",
    "        return energiap\n",
    "        'retorna energia potencial em relação à origem considerando campo gravitacional na direção z negativa'\n"
   ]
  },
  {
   "cell_type": "markdown",
   "metadata": {
    "deletable": true,
    "editable": true
   },
   "source": [
    "**Você tem que colocar o código *depois* da cadeia de documentação, e não antes. A energia cinética é um escalar.**"
   ]
  },
  {
   "cell_type": "markdown",
   "metadata": {
    "deletable": true,
    "editable": true
   },
   "source": [
    "### Questão 5 *(2 pontos)* => **0.5**"
   ]
  },
  {
   "cell_type": "markdown",
   "metadata": {
    "deletable": true,
    "editable": true
   },
   "source": [
    "Implemente uma classe de objetos geradores que irá gerar os N primeros números da sequência de Fibonacci conforme solicitados, em um código como o segunte. (Lembre-se, tem que ser uma classe de objetos geradores.)"
   ]
  },
  {
   "cell_type": "code",
   "execution_count": 79,
   "metadata": {
    "collapsed": false,
    "deletable": true,
    "editable": true
   },
   "outputs": [
    {
     "ename": "TypeError",
     "evalue": "'method' object is not iterable",
     "output_type": "error",
     "traceback": [
      "\u001b[1;31m---------------------------------------------------------------------------\u001b[0m",
      "\u001b[1;31mTypeError\u001b[0m                                 Traceback (most recent call last)",
      "\u001b[1;32m<ipython-input-79-b5849eadaf05>\u001b[0m in \u001b[0;36m<module>\u001b[1;34m()\u001b[0m\n\u001b[0;32m     12\u001b[0m \u001b[1;33m\u001b[0m\u001b[0m\n\u001b[0;32m     13\u001b[0m \u001b[0ma\u001b[0m\u001b[1;33m=\u001b[0m \u001b[0mFibonacci\u001b[0m\u001b[1;33m(\u001b[0m\u001b[1;36m10\u001b[0m\u001b[1;33m)\u001b[0m\u001b[1;33m\u001b[0m\u001b[0m\n\u001b[1;32m---> 14\u001b[1;33m \u001b[1;32mfor\u001b[0m \u001b[0mf\u001b[0m \u001b[1;32min\u001b[0m \u001b[0ma\u001b[0m\u001b[1;33m.\u001b[0m\u001b[0mfibonacci\u001b[0m\u001b[1;33m:\u001b[0m\u001b[1;33m\u001b[0m\u001b[0m\n\u001b[0m\u001b[0;32m     15\u001b[0m     \u001b[0mprint\u001b[0m\u001b[1;33m(\u001b[0m\u001b[0mf\u001b[0m\u001b[1;33m,\u001b[0m \u001b[0mend\u001b[0m\u001b[1;33m=\u001b[0m\u001b[1;34m' '\u001b[0m\u001b[1;33m)\u001b[0m\u001b[1;33m\u001b[0m\u001b[0m\n\u001b[0;32m     16\u001b[0m \u001b[0mprint\u001b[0m\u001b[1;33m(\u001b[0m\u001b[1;33m)\u001b[0m\u001b[1;33m\u001b[0m\u001b[0m\n",
      "\u001b[1;31mTypeError\u001b[0m: 'method' object is not iterable"
     ]
    }
   ],
   "source": [
    "class Fibonacci:\n",
    "    def __init__(self, n):\n",
    "        self.n = n\n",
    "    def fibonacci(self):\n",
    "        fib = [1,1]\n",
    "        a= 2\n",
    "        while a!= n:\n",
    "            fibaux = fib[a-1] +fib[a-2]\n",
    "            fib.append(fibaux)\n",
    "            a=a+1\n",
    "        return fib\n",
    "\n",
    "a= Fibonacci(10)\n",
    "for f in a.fibonacci:\n",
    "    print(f, end=' ')\n",
    "print()"
   ]
  },
  {
   "cell_type": "markdown",
   "metadata": {
    "deletable": true,
    "editable": true
   },
   "source": [
    "**Precisava criar uma classe cujos objetos funcionassem da forma indicada no exemplo dados, sem alteração. Para isso, os objetos deveriam ser objetos geradores, definindo os métodos `__iter__` e `__next__`. Do jeito que você fez, a classe é desnecessãria.**"
   ]
  },
  {
   "cell_type": "markdown",
   "metadata": {
    "deletable": true,
    "editable": true
   },
   "source": [
    "### Questão 6 *(2 pontos)* => **0.25**"
   ]
  },
  {
   "cell_type": "markdown",
   "metadata": {
    "deletable": true,
    "editable": true
   },
   "source": [
    "Escreva uma classe para representar pares de números inteiros. Note que os pares são parecidos com tuplas (a, b), com a diferença que nas tuplas, (a, b) é diferente de (b, a) se a for diferente de b, enquanto que nos pares a posição de armazenamento não é importante. Os objetos serão imutáveis (quer dizer, depois de criados, o valor não é mais alterado). Para isso, basta não fornecer nenhum método que permita alteração. Ela deve fornecer métodos para acessar os valores do par e para comparar dois pares em termos de igualdade."
   ]
  },
  {
   "cell_type": "code",
   "execution_count": 70,
   "metadata": {
    "collapsed": false,
    "deletable": true,
    "editable": true
   },
   "outputs": [],
   "source": [
    "class inteiros:\n",
    "    def __init__(self, inteiro):\n",
    "        self.inteiro = inteiro\n",
    "                \n",
    "    def valor(self):\n",
    "        return (self.inteiro)\n",
    "    \n",
    "    def igualdade(self, other):  \n",
    "        return (self.inteiro == other.inteiro)\n",
    "        \n",
    "        "
   ]
  },
  {
   "cell_type": "markdown",
   "metadata": {
    "deletable": true,
    "editable": true
   },
   "source": [
    "**Era para lidar com pares, e não valores únicos.**"
   ]
  },
  {
   "cell_type": "code",
   "execution_count": 60,
   "metadata": {
    "collapsed": true,
    "deletable": true,
    "editable": true
   },
   "outputs": [],
   "source": [
    "tupla1 = (1, 2)\n",
    "tupla2 = (3, 4)\n",
    "tupla3 = (1,2)\n",
    "a = inteiros(tupla1)\n",
    "b= inteiros(tupla2)\n",
    "c = inteiros(tupla3)"
   ]
  },
  {
   "cell_type": "code",
   "execution_count": 69,
   "metadata": {
    "collapsed": false,
    "deletable": true,
    "editable": true
   },
   "outputs": [
    {
     "data": {
      "text/plain": [
       "'True'"
      ]
     },
     "execution_count": 69,
     "metadata": {},
     "output_type": "execute_result"
    }
   ],
   "source": [
    "a.igualdade(c)"
   ]
  },
  {
   "cell_type": "code",
   "execution_count": null,
   "metadata": {
    "collapsed": true,
    "deletable": true,
    "editable": true
   },
   "outputs": [],
   "source": []
  }
 ],
 "metadata": {
  "kernelspec": {
   "display_name": "Python 2",
   "language": "python",
   "name": "python2"
  },
  "language_info": {
   "codemirror_mode": {
    "name": "ipython",
    "version": 2
   },
   "file_extension": ".py",
   "mimetype": "text/x-python",
   "name": "python",
   "nbconvert_exporter": "python",
   "pygments_lexer": "ipython2",
   "version": "2.7.12"
  }
 },
 "nbformat": 4,
 "nbformat_minor": 0
}
