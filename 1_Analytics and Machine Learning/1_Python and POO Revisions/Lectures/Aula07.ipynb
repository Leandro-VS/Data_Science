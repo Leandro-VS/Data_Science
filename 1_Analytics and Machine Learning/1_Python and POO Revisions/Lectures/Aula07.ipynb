{
 "cells": [
  {
   "cell_type": "markdown",
   "metadata": {},
   "source": [
    "## Diversos"
   ]
  },
  {
   "cell_type": "markdown",
   "metadata": {},
   "source": [
    "#### Formas de declaração de dicionários\n",
    "\n",
    "Existem múltiplas formas de declarar dicionários. Já tínhamos visto a sintaxe com o uso de `{}`:"
   ]
  },
  {
   "cell_type": "code",
   "execution_count": 1,
   "metadata": {},
   "outputs": [
    {
     "data": {
      "text/plain": [
       "{'primeiro': 23, 'segundo': 45}"
      ]
     },
     "execution_count": 1,
     "metadata": {},
     "output_type": "execute_result"
    }
   ],
   "source": [
    "{'primeiro': 23, 'segundo': 45}"
   ]
  },
  {
   "cell_type": "markdown",
   "metadata": {},
   "source": [
    "Também é possível usar a função construtora `dict()`, que coleta todos os parâmetros passados por `chave=valor` em um dicionário (veja os detalhes sobre coleta de valores em funções na aula passada):"
   ]
  },
  {
   "cell_type": "code",
   "execution_count": 2,
   "metadata": {},
   "outputs": [
    {
     "data": {
      "text/plain": [
       "{'primeiro': 23, 'segundo': 45}"
      ]
     },
     "execution_count": 2,
     "metadata": {},
     "output_type": "execute_result"
    }
   ],
   "source": [
    "dict(primeiro=23, segundo=45)"
   ]
  },
  {
   "cell_type": "markdown",
   "metadata": {},
   "source": [
    "Uma terceira opção é usar um `zip`. Essa função é útil quando as chaves e os valores são construídos pelo seu programa separadamente:"
   ]
  },
  {
   "cell_type": "code",
   "execution_count": 3,
   "metadata": {},
   "outputs": [
    {
     "data": {
      "text/plain": [
       "{'primeiro': 23, 'segundo': 45}"
      ]
     },
     "execution_count": 3,
     "metadata": {},
     "output_type": "execute_result"
    }
   ],
   "source": [
    "chaves=['primeiro', 'segundo']\n",
    "valores=[23, 45]\n",
    "dict(zip(chaves, valores))"
   ]
  },
  {
   "cell_type": "markdown",
   "metadata": {},
   "source": [
    "#### Expressões condicionais\n",
    "\n",
    "Geramente, quando um comando condicional espera uma expressão, essa expressão deve retornar um booleano:"
   ]
  },
  {
   "cell_type": "code",
   "execution_count": 4,
   "metadata": {},
   "outputs": [
    {
     "name": "stdout",
     "output_type": "stream",
     "text": [
      "menor\n"
     ]
    }
   ],
   "source": [
    "a = 4\n",
    "if a < 5:\n",
    "    print('menor')"
   ]
  },
  {
   "cell_type": "code",
   "execution_count": 5,
   "metadata": {},
   "outputs": [
    {
     "data": {
      "text/plain": [
       "True"
      ]
     },
     "execution_count": 5,
     "metadata": {},
     "output_type": "execute_result"
    }
   ],
   "source": [
    "a < 5"
   ]
  },
  {
   "cell_type": "code",
   "execution_count": 6,
   "metadata": {},
   "outputs": [
    {
     "data": {
      "text/plain": [
       "False"
      ]
     },
     "execution_count": 6,
     "metadata": {},
     "output_type": "execute_result"
    }
   ],
   "source": [
    "a > 5"
   ]
  },
  {
   "cell_type": "markdown",
   "metadata": {},
   "source": [
    "Mas, como em C, condicionais também funcionam com não booleanos.\n",
    "\n",
    "Por exemplo, para inteiros, 0 é considerado falso, qualquer valor diferente de zero é considerado verdadeiro."
   ]
  },
  {
   "cell_type": "code",
   "execution_count": 7,
   "metadata": {},
   "outputs": [
    {
     "name": "stdout",
     "output_type": "stream",
     "text": [
      "falso\n"
     ]
    }
   ],
   "source": [
    "a = 0\n",
    "if a:\n",
    "    print('verdadeiro')\n",
    "else:\n",
    "    print('falso')"
   ]
  },
  {
   "cell_type": "code",
   "execution_count": 8,
   "metadata": {},
   "outputs": [
    {
     "name": "stdout",
     "output_type": "stream",
     "text": [
      "verdadeiro\n"
     ]
    }
   ],
   "source": [
    "a = 10\n",
    "if a:\n",
    "    print('verdadeiro')\n",
    "else:\n",
    "    print('false')"
   ]
  },
  {
   "cell_type": "markdown",
   "metadata": {},
   "source": [
    "`None` é considerado falso:"
   ]
  },
  {
   "cell_type": "code",
   "execution_count": 9,
   "metadata": {},
   "outputs": [
    {
     "name": "stdout",
     "output_type": "stream",
     "text": [
      "falso\n"
     ]
    }
   ],
   "source": [
    "a = None\n",
    "if a:\n",
    "    print('verdadeiro')\n",
    "else:\n",
    "    print('falso')"
   ]
  },
  {
   "cell_type": "markdown",
   "metadata": {},
   "source": [
    "Listas, dicionários, conjuntos ou cadeias vazias são também considerados falsos. Se tiverem algum elemento, são considerados verdadeiros."
   ]
  },
  {
   "cell_type": "code",
   "execution_count": 10,
   "metadata": {},
   "outputs": [
    {
     "name": "stdout",
     "output_type": "stream",
     "text": [
      "falso\n"
     ]
    }
   ],
   "source": [
    "a = []\n",
    "if a:\n",
    "    print('verdadeiro')\n",
    "else:\n",
    "    print('falso')"
   ]
  },
  {
   "cell_type": "code",
   "execution_count": 11,
   "metadata": {},
   "outputs": [
    {
     "name": "stdout",
     "output_type": "stream",
     "text": [
      "falso\n"
     ]
    }
   ],
   "source": [
    "a = {}\n",
    "if a:\n",
    "    print('verdadeiro')\n",
    "else:\n",
    "    print('falso')"
   ]
  },
  {
   "cell_type": "code",
   "execution_count": 12,
   "metadata": {},
   "outputs": [
    {
     "name": "stdout",
     "output_type": "stream",
     "text": [
      "falso\n"
     ]
    }
   ],
   "source": [
    "a = set()\n",
    "if a:\n",
    "    print('verdadeiro')\n",
    "else:\n",
    "    print('falso')"
   ]
  },
  {
   "cell_type": "code",
   "execution_count": 13,
   "metadata": {},
   "outputs": [
    {
     "name": "stdout",
     "output_type": "stream",
     "text": [
      "falso\n"
     ]
    }
   ],
   "source": [
    "a = ''\n",
    "if a:\n",
    "    print('verdadeiro')\n",
    "else:\n",
    "    print('falso')"
   ]
  },
  {
   "cell_type": "code",
   "execution_count": 14,
   "metadata": {},
   "outputs": [
    {
     "name": "stdout",
     "output_type": "stream",
     "text": [
      "verdadeiro\n"
     ]
    }
   ],
   "source": [
    "a = [0]\n",
    "if a:\n",
    "    print('verdadeiro')\n",
    "else:\n",
    "    print('falso')"
   ]
  },
  {
   "cell_type": "code",
   "execution_count": 15,
   "metadata": {},
   "outputs": [
    {
     "name": "stdout",
     "output_type": "stream",
     "text": [
      "verdadeiro\n"
     ]
    }
   ],
   "source": [
    "a = '0'\n",
    "if a:\n",
    "    print('verdadeiro')\n",
    "else:\n",
    "    print('falso')"
   ]
  },
  {
   "cell_type": "markdown",
   "metadata": {},
   "source": [
    "#### Iteração em dicionários\n",
    "\n",
    "Quando iteragimos pelos elementos de um dicionário (por exemplo, em um `for`), a iteração ocorre pelas chaves, na ordem que o Python considerar conveniente."
   ]
  },
  {
   "cell_type": "code",
   "execution_count": 16,
   "metadata": {
    "collapsed": true
   },
   "outputs": [],
   "source": [
    "d = dict(zip(['a','b','c','d'], [1,2,3,4]))"
   ]
  },
  {
   "cell_type": "code",
   "execution_count": 17,
   "metadata": {},
   "outputs": [
    {
     "data": {
      "text/plain": [
       "{'a': 1, 'b': 2, 'c': 3, 'd': 4}"
      ]
     },
     "execution_count": 17,
     "metadata": {},
     "output_type": "execute_result"
    }
   ],
   "source": [
    "d"
   ]
  },
  {
   "cell_type": "code",
   "execution_count": 18,
   "metadata": {},
   "outputs": [
    {
     "name": "stdout",
     "output_type": "stream",
     "text": [
      "b\n",
      "a\n",
      "d\n",
      "c\n"
     ]
    }
   ],
   "source": [
    "for x in d:\n",
    "    print(x)"
   ]
  },
  {
   "cell_type": "markdown",
   "metadata": {},
   "source": [
    "Para acessar o valor, indexamos o dicionário."
   ]
  },
  {
   "cell_type": "code",
   "execution_count": 19,
   "metadata": {},
   "outputs": [
    {
     "name": "stdout",
     "output_type": "stream",
     "text": [
      "b 2\n",
      "a 1\n",
      "d 4\n",
      "c 3\n"
     ]
    }
   ],
   "source": [
    "for x in d:\n",
    "    print(x, d[x])"
   ]
  },
  {
   "cell_type": "markdown",
   "metadata": {},
   "source": [
    "Outra opção é usar o método `items` de dicionários, que retorna tuplas chave/valor:"
   ]
  },
  {
   "cell_type": "code",
   "execution_count": 20,
   "metadata": {},
   "outputs": [
    {
     "name": "stdout",
     "output_type": "stream",
     "text": [
      "('b', 2)\n",
      "('a', 1)\n",
      "('d', 4)\n",
      "('c', 3)\n"
     ]
    }
   ],
   "source": [
    "for x in d.items():\n",
    "    print(x)"
   ]
  },
  {
   "cell_type": "markdown",
   "metadata": {},
   "source": [
    "Ele é normalmente usado em conjunto com desempacotamento, para já acessar a chave e o correspondente valor em variáveis distintas."
   ]
  },
  {
   "cell_type": "code",
   "execution_count": 21,
   "metadata": {},
   "outputs": [
    {
     "name": "stdout",
     "output_type": "stream",
     "text": [
      "b 2\n",
      "a 1\n",
      "d 4\n",
      "c 3\n"
     ]
    }
   ],
   "source": [
    "for chave, valor in d.items():\n",
    "    print(chave, valor)"
   ]
  },
  {
   "cell_type": "markdown",
   "metadata": {},
   "source": [
    "Se quisermos que as chaves sejam percorridas em uma ordem específica, devemos requisitar:"
   ]
  },
  {
   "cell_type": "code",
   "execution_count": 22,
   "metadata": {},
   "outputs": [
    {
     "name": "stdout",
     "output_type": "stream",
     "text": [
      "a 1\n",
      "b 2\n",
      "c 3\n",
      "d 4\n"
     ]
    }
   ],
   "source": [
    "for x in sorted(d):\n",
    "    print(x, d[x])"
   ]
  },
  {
   "cell_type": "code",
   "execution_count": 23,
   "metadata": {},
   "outputs": [
    {
     "name": "stdout",
     "output_type": "stream",
     "text": [
      "d 4\n",
      "c 3\n",
      "b 2\n",
      "a 1\n"
     ]
    }
   ],
   "source": [
    "for x in sorted(d, reverse=True):\n",
    "    print(x, d[x])"
   ]
  },
  {
   "cell_type": "markdown",
   "metadata": {},
   "source": [
    "Ou então:"
   ]
  },
  {
   "cell_type": "code",
   "execution_count": 24,
   "metadata": {},
   "outputs": [
    {
     "name": "stdout",
     "output_type": "stream",
     "text": [
      "d 4\n",
      "c 3\n",
      "b 2\n",
      "a 1\n"
     ]
    }
   ],
   "source": [
    "for chave, valor in sorted(d.items(), reverse=True):\n",
    "    print(chave, valor)"
   ]
  },
  {
   "cell_type": "markdown",
   "metadata": {},
   "source": [
    "#### Compreensões versus map ou filter\n",
    "\n",
    "Em diversas situações, o uso de `map` ou `filter` é equivalente ao uso de *list comprehension*, sendo a escolha feita de acordo com conveniência no código, ou por questões de eficiência (no caso de haver muitos elementos).\n",
    "\n",
    "Veja os exemplos abaixo."
   ]
  },
  {
   "cell_type": "code",
   "execution_count": 25,
   "metadata": {},
   "outputs": [
    {
     "data": {
      "text/plain": [
       "[0, 1, 4, 9, 16, 25, 36, 49, 64, 81]"
      ]
     },
     "execution_count": 25,
     "metadata": {},
     "output_type": "execute_result"
    }
   ],
   "source": [
    "list(map(lambda i: i * i, range(10)))"
   ]
  },
  {
   "cell_type": "code",
   "execution_count": 26,
   "metadata": {
    "collapsed": true
   },
   "outputs": [],
   "source": [
    "l1 = []\n",
    "for i in range(10):\n",
    "    l1.append(i * i)"
   ]
  },
  {
   "cell_type": "code",
   "execution_count": 27,
   "metadata": {},
   "outputs": [
    {
     "data": {
      "text/plain": [
       "[0, 1, 4, 9, 16, 25, 36, 49, 64, 81]"
      ]
     },
     "execution_count": 27,
     "metadata": {},
     "output_type": "execute_result"
    }
   ],
   "source": [
    "l1"
   ]
  },
  {
   "cell_type": "code",
   "execution_count": 28,
   "metadata": {},
   "outputs": [
    {
     "data": {
      "text/plain": [
       "[0, 1, 4, 9, 16, 25, 36, 49, 64, 81]"
      ]
     },
     "execution_count": 28,
     "metadata": {},
     "output_type": "execute_result"
    }
   ],
   "source": [
    "[i * i for i in range(10)]"
   ]
  },
  {
   "cell_type": "code",
   "execution_count": 29,
   "metadata": {},
   "outputs": [
    {
     "name": "stdout",
     "output_type": "stream",
     "text": [
      "The slowest run took 6.10 times longer than the fastest. This could mean that an intermediate result is being cached.\n",
      "100000 loops, best of 3: 5.14 µs per loop\n"
     ]
    }
   ],
   "source": [
    "%timeit list(map(lambda i: i * i, range(10)))"
   ]
  },
  {
   "cell_type": "code",
   "execution_count": 30,
   "metadata": {},
   "outputs": [
    {
     "name": "stdout",
     "output_type": "stream",
     "text": [
      "The slowest run took 28.25 times longer than the fastest. This could mean that an intermediate result is being cached.\n",
      "100000 loops, best of 3: 2.72 µs per loop\n"
     ]
    }
   ],
   "source": [
    "%timeit [i * i for i in range(10)]"
   ]
  },
  {
   "cell_type": "code",
   "execution_count": 31,
   "metadata": {},
   "outputs": [
    {
     "name": "stdout",
     "output_type": "stream",
     "text": [
      "The slowest run took 5.93 times longer than the fastest. This could mean that an intermediate result is being cached.\n",
      "100000 loops, best of 3: 3.62 µs per loop\n"
     ]
    }
   ],
   "source": [
    "def teste():\n",
    "    l1 = []\n",
    "    for i in range(10):\n",
    "        l1.append(i * i)\n",
    "\n",
    "%timeit teste()"
   ]
  },
  {
   "cell_type": "code",
   "execution_count": 32,
   "metadata": {},
   "outputs": [
    {
     "data": {
      "text/plain": [
       "[0, 3, 6, 9, 12, 15, 18, 21, 24, 27]"
      ]
     },
     "execution_count": 32,
     "metadata": {},
     "output_type": "execute_result"
    }
   ],
   "source": [
    "list(filter(lambda i: i % 3 == 0, range(30)))"
   ]
  },
  {
   "cell_type": "code",
   "execution_count": 33,
   "metadata": {},
   "outputs": [
    {
     "data": {
      "text/plain": [
       "[0, 3, 6, 9, 12, 15, 18, 21, 24, 27]"
      ]
     },
     "execution_count": 33,
     "metadata": {},
     "output_type": "execute_result"
    }
   ],
   "source": [
    "[x for x in range(30) if x % 3 == 0]"
   ]
  },
  {
   "cell_type": "code",
   "execution_count": 34,
   "metadata": {},
   "outputs": [
    {
     "name": "stdout",
     "output_type": "stream",
     "text": [
      "10000 loops, best of 3: 14.7 µs per loop\n"
     ]
    }
   ],
   "source": [
    "%timeit list(filter(lambda i: i % 3 == 0, range(30)))"
   ]
  },
  {
   "cell_type": "code",
   "execution_count": 35,
   "metadata": {},
   "outputs": [
    {
     "name": "stdout",
     "output_type": "stream",
     "text": [
      "The slowest run took 4.19 times longer than the fastest. This could mean that an intermediate result is being cached.\n",
      "100000 loops, best of 3: 7.35 µs per loop\n"
     ]
    }
   ],
   "source": [
    "%timeit [x for x in range(30) if x % 3 == 0]"
   ]
  },
  {
   "cell_type": "markdown",
   "metadata": {},
   "source": [
    "## Exemplo: Raizes de funções"
   ]
  },
  {
   "cell_type": "markdown",
   "metadata": {},
   "source": [
    "Frequentemente desejamos encontra os zeros de uma dada função. Veremos duas formas de realizar isso numericamente."
   ]
  },
  {
   "cell_type": "markdown",
   "metadata": {},
   "source": [
    "### Método da bissecção"
   ]
  },
  {
   "cell_type": "markdown",
   "metadata": {},
   "source": [
    "\n",
    "\n",
    "Uma forma de fazer isso é o chamado *método de bissecção*. Se temos dois pontos `a` e `b` onde a função tem sinais contrários então (supondo que a função é contínua) ela deve ter uma raiz entre esses dois valores.\n",
    "\n",
    "Dividimos então, iterativamente, o intervalo em 2 e verificamos em qual das metades continua existindo uma troca de sinal no valor da função. Mantemos então esse novo intervalo.\n",
    "\n",
    "Na função abaixo, `f` é a função da qual queremos a raiz, `a` e `b` são dois pontos para os quais `f(a)` e `f(b)` devem ter sinais opostos, `precisao` é o erro máximo aceitável no valor da raiz calculado."
   ]
  },
  {
   "cell_type": "code",
   "execution_count": 2,
   "metadata": {
    "collapsed": true
   },
   "outputs": [],
   "source": [
    "def bisseccao(f, a, b, precisao):\n",
    "    fa = f(a)\n",
    "    fb = f(b)\n",
    "    if fa * fb >= 0: # Se têm mesmo sinal, é um erro\n",
    "        raise Exception('Intervalo inválido')\n",
    "    x = (a + b) / 2 # Calcula o ponto médio e sua função\n",
    "    fx = f(x)\n",
    "    # Repetitivamente, terminando quando acha raiz ou intervalo é pequeno\n",
    "    while fx != 0.0 and abs(b - a) >= precisao:\n",
    "        # Substitui o limite com mesmo sinal que f(x) por x\n",
    "        if fx * fa > 0:\n",
    "            a = x\n",
    "            fa = fx\n",
    "        else:\n",
    "            b = x\n",
    "        # Recalcula ponto médio\n",
    "        x = (a + b) / 2\n",
    "        fx = f(x)\n",
    "    return x"
   ]
  },
  {
   "cell_type": "code",
   "execution_count": 3,
   "metadata": {
    "collapsed": true
   },
   "outputs": [],
   "source": [
    "import math"
   ]
  },
  {
   "cell_type": "markdown",
   "metadata": {},
   "source": [
    "Vamos primeiro plotar a função para termos uma idéia de onde temos uma raiz.\n",
    "\n",
    "Usaremos a função $\\cos x - 1/2$ e estamos interessados no intervalo $[0,3]$."
   ]
  },
  {
   "cell_type": "code",
   "execution_count": 4,
   "metadata": {},
   "outputs": [
    {
     "data": {
      "image/png": "[encoded data removed]",
      "text/plain": [
       "<matplotlib.figure.Figure at 0x1af83914c50>"
      ]
     },
     "metadata": {},
     "output_type": "display_data"
    }
   ],
   "source": [
    "%matplotlib inline\n",
    "import numpy as np\n",
    "import matplotlib.pyplot as plt\n",
    "x = np.arange(0, 3, 0.1)\n",
    "y = np.cos(x) - 0.5\n",
    "plt.axhline(0, color='gray')\n",
    "plt.grid(True)\n",
    "plt.plot(x, y);"
   ]
  },
  {
   "cell_type": "markdown",
   "metadata": {
    "collapsed": true
   },
   "source": [
    "Vemos que nesse intervalo existe uma raiz um pouco acima de 1. Usamos agora o método da bissecção para encontrar essa raiz. Criamos uma função lambda para a expressão da função $f(x) = \\cos x - 1/2$."
   ]
  },
  {
   "cell_type": "code",
   "execution_count": 5,
   "metadata": {},
   "outputs": [
    {
     "name": "stdout",
     "output_type": "stream",
     "text": [
      "1.0471975514665246\n"
     ]
    }
   ],
   "source": [
    "raiz = bisseccao(lambda x: math.cos(x) - 0.5, 0, 3, 1e-8)\n",
    "print(raiz)"
   ]
  },
  {
   "cell_type": "markdown",
   "metadata": {},
   "source": [
    "O valor da função nesse ponto deve ser próximo de zero."
   ]
  },
  {
   "cell_type": "code",
   "execution_count": 6,
   "metadata": {},
   "outputs": [
    {
     "data": {
      "text/plain": [
       "-2.337635085503109e-10"
      ]
     },
     "execution_count": 6,
     "metadata": {},
     "output_type": "execute_result"
    }
   ],
   "source": [
    "math.cos(raiz) - 0.5"
   ]
  },
  {
   "cell_type": "markdown",
   "metadata": {},
   "source": [
    "### Método da secante"
   ]
  },
  {
   "cell_type": "markdown",
   "metadata": {},
   "source": [
    "Um outro método, frequentemente mais eficiente, consiste em, ao invés de dividir o intervalo em duas partes iguais, fazer uma divisão baseada numa aproximação linear entre os dois pontos do intervalo atual. Isto é, ao invés de $x=(a+b)/2$ usamos $$x=\\frac{a f(b) - b f(a)}{f(b) - f(a)}$$"
   ]
  },
  {
   "cell_type": "code",
   "execution_count": 7,
   "metadata": {
    "collapsed": true
   },
   "outputs": [],
   "source": [
    "def secante(f, a, b, precisao):\n",
    "    fa = f(a)\n",
    "    fb = f(b)\n",
    "    if fa * fb >= 0:\n",
    "        raise Exception('Invalid interval')\n",
    "    x = (a * fb - b * fa) / (fb - fa)\n",
    "    fx = f(x)\n",
    "    while fx != 0.0 and abs(b - a) >= precisao:\n",
    "        if fx * fa > 0:\n",
    "            a = x\n",
    "            fa = fx\n",
    "        else:\n",
    "            b = x\n",
    "            fb = fx\n",
    "        x = (a * fb - b * fa) / (fb - fa)\n",
    "        fx = f(x)\n",
    "    return x"
   ]
  },
  {
   "cell_type": "code",
   "execution_count": 8,
   "metadata": {},
   "outputs": [
    {
     "name": "stdout",
     "output_type": "stream",
     "text": [
      "1.0471975511965976\n"
     ]
    }
   ],
   "source": [
    "raiz = secante(lambda x: math.cos(x) - 0.5, 0, 3, 1e-8)\n",
    "print(raiz)"
   ]
  },
  {
   "cell_type": "code",
   "execution_count": 9,
   "metadata": {},
   "outputs": [
    {
     "data": {
      "text/plain": [
       "1.1102230246251565e-16"
      ]
     },
     "execution_count": 9,
     "metadata": {},
     "output_type": "execute_result"
    }
   ],
   "source": [
    "math.cos(raiz) - 0.5"
   ]
  },
  {
   "cell_type": "markdown",
   "metadata": {},
   "source": [
    "### Comparando os tempos"
   ]
  },
  {
   "cell_type": "code",
   "execution_count": 10,
   "metadata": {},
   "outputs": [
    {
     "name": "stdout",
     "output_type": "stream",
     "text": [
      "10000 loops, best of 3: 23.5 µs per loop\n"
     ]
    }
   ],
   "source": [
    "%timeit bisseccao(lambda x: math.cos(x)-0.5, 0, 3, 1e-8)"
   ]
  },
  {
   "cell_type": "code",
   "execution_count": 11,
   "metadata": {},
   "outputs": [
    {
     "name": "stdout",
     "output_type": "stream",
     "text": [
      "100000 loops, best of 3: 8.74 µs per loop\n"
     ]
    }
   ],
   "source": [
    "%timeit secante(lambda x: math.cos(x)-0.5, 0, 3, 1e-8)"
   ]
  },
  {
   "cell_type": "markdown",
   "metadata": {},
   "source": [
    "## Exemplo: Integração numérica\n",
    "\n",
    "Outra operação útil é a integração numérica: Queremos calcular uma aproximação para a integral definida de uma função num intervalo especificado. Existem diversas formas de realizá-la. Uma forma simple é a chamada *regra do trapézio*, onde avaliamos o valor da função para um número de pontos igualmente espaçados no intervalo e em cada subintervalo aproximamos a área sob a função pelo trapézio formado pelos pontos $(x_i, 0), (x_i, f(x_i)), (x_{i+1}, f(x_{i+1})), (x_{i+1}, 0)$.\n",
    "\n",
    "Se $a$ e $b$ são os limites do intervalo de interesse, dividimos esse intervalo em $N$ subintervalos, cada um de tamanho $h=(b-a)/N$. Então avaliamos a função nos pontos $f(x_0=a), f(x_1=a+h), f(x_2=a+2h), \\ldots f(x_{N-1}=a+(N-1)h), f(b=a+Nh)$.\n",
    "\n",
    "A integral será então aproximada por:\n",
    "$$\n",
    "\\left[\\frac{1}{2}f(a) + f(a+h) + f(a+2h) + \\cdots + f(a+(N-1)h) + \\frac{1}{2}f(b)\\right]h\n",
    "$$"
   ]
  },
  {
   "cell_type": "code",
   "execution_count": 1,
   "metadata": {},
   "outputs": [],
   "source": [
    "def trapezio(f, a, b, N):\n",
    "    h = (b - a) / N\n",
    "    s = (f(a) + f(b)) / 2\n",
    "    for i in range(1, N):\n",
    "        s += f(a + i * h)\n",
    "    return s * h"
   ]
  },
  {
   "cell_type": "markdown",
   "metadata": {},
   "source": [
    "Agora usaremos o método do trapézio para calcular uma aproximação para\n",
    "$$ \\int_0^{\\pi / 2} \\sin x\\, dx.$$"
   ]
  },
  {
   "cell_type": "code",
   "execution_count": 6,
   "metadata": {},
   "outputs": [
    {
     "data": {
      "text/plain": [
       "0.9999999999997817"
      ]
     },
     "execution_count": 6,
     "metadata": {},
     "output_type": "execute_result"
    }
   ],
   "source": [
    "import math\n",
    "trapezio(math.sin, 0, math.pi/2, 1000000)"
   ]
  },
  {
   "cell_type": "markdown",
   "metadata": {},
   "source": [
    "A desvantagem desse método é que não sabemos de antemão o número de intervalos para atingirmos uma resposta com precisão apropriada. (Experimente diversos valores de $N$ na chamada acima.)\n",
    "\n",
    "Podemos resolver esse problema aumentando o número de intervalos até atingir a precisão que queremos. A idéia é considerar que, após a integral estar suficientemente próxima da resposta, se duas iterações sucessivas com números crescentes de intervalos não fornecerem diferenças significativas no valor da integral calculada, então podemos considerar que já houve convergência.\n",
    "\n",
    "No codigo abaixo, começamos com 1 intervalo, e a cada vez vamos dobrando o número de intervalos (e correspondentemente dividindo $h$ por 2). Desta forma, a cada iteração precisamos apenas calcular os valores da função nos novos pontos, e podemos aproveitar os cálculos feitos para os pontos anteriores, lembrando de reescalar o resultado anterior para o novo (menor) valor de $h$."
   ]
  },
  {
   "cell_type": "code",
   "execution_count": 14,
   "metadata": {
    "collapsed": true
   },
   "outputs": [],
   "source": [
    "def trapezio_precisao(f, a, b, epsilon):\n",
    "    # curriter: iteração atual. Começa com 0\n",
    "    # N: número de intervalos na iteração atual, começa com 1\n",
    "    # h: tamanho do intervalo na iteração atual, começa com b - a\n",
    "    curriter, N, h = 0, 1, (b - a)\n",
    "    # Guarda os valores das pontas em s\n",
    "    s = (f(a) + f(b)) * h / 2\n",
    "    # olds vai guardar s da iteração anterior\n",
    "    # Começa com valor suficientemente diferente de s\n",
    "    olds = s + 10*epsilon\n",
    "    # Repete a iteração pelo menos 4 vezes e até chegar na precisão\n",
    "    while abs(s - olds) >= epsilon or curriter < 4:\n",
    "        # Ajusta para próxima iteração\n",
    "        curriter, N, h = curriter + 1, N * 2, h / 2\n",
    "        # Se teve muitas iterações e não convergiu, há problema.\n",
    "        if curriter > 25:\n",
    "            raise Exception(\"Falta de convergência em trapezio_precisao\")\n",
    "        olds = s # Guarda aproximação anterior\n",
    "        # Soma novos pontos em s\n",
    "        s = 0\n",
    "        # Os i ímpares são os novos pontos. Pares já incluídos em olds\n",
    "        for i in range(1, N, 2):\n",
    "            s += f(a + i * h)\n",
    "        # Junta contribuição dos novos pontos com anterior reescalado\n",
    "        # para novo valor de h\n",
    "        s = s * h + olds / 2\n",
    "    return s"
   ]
  },
  {
   "cell_type": "markdown",
   "metadata": {},
   "source": [
    "Testando agora com a mesma integral anterior:"
   ]
  },
  {
   "cell_type": "code",
   "execution_count": 15,
   "metadata": {},
   "outputs": [
    {
     "data": {
      "text/plain": [
       "0.9999999969360728"
      ]
     },
     "execution_count": 15,
     "metadata": {},
     "output_type": "execute_result"
    }
   ],
   "source": [
    "trapezio_precisao(math.sin, 0, math.pi/2, 1e-8)"
   ]
  },
  {
   "cell_type": "markdown",
   "metadata": {},
   "source": [
    "## Enquanto isso, no mundo real"
   ]
  },
  {
   "cell_type": "markdown",
   "metadata": {},
   "source": [
    "Como eu já comentei, implementar suas próprias rotinas numéricas (a não ser para estudo) é arriscado e inútil: melhor usar rotinas implementadas por especialistas. No caso do Python, as rotinas para achar raízes e para integração numérica estão disponíveis no pacote SciPy.\n",
    "\n",
    "As funções para raízes estão no módulo de otimização:"
   ]
  },
  {
   "cell_type": "code",
   "execution_count": 7,
   "metadata": {},
   "outputs": [],
   "source": [
    "import scipy.optimize"
   ]
  },
  {
   "cell_type": "markdown",
   "metadata": {},
   "source": [
    "O método da bissecção está implementado em `scipy.optimize.bisect`, que tem parâmetros similares à desenvolvida acima, mas a precisão é especificada pelo parâmetro chave/valor `xtol` (existe opcionalmente o parâmetro `rtol` para especificar precisão relativa)."
   ]
  },
  {
   "cell_type": "code",
   "execution_count": 8,
   "metadata": {},
   "outputs": [
    {
     "data": {
      "text/plain": [
       "1.0471975486725569"
      ]
     },
     "execution_count": 8,
     "metadata": {},
     "output_type": "execute_result"
    }
   ],
   "source": [
    "scipy.optimize.bisect(lambda x: math.cos(x) - 0.5, 0, 3, xtol=1e-8)"
   ]
  },
  {
   "cell_type": "markdown",
   "metadata": {},
   "source": [
    "O método da secante é chamado pela função `scipy.optimize.newton` se não for fornecida a derivada da função (se fornecemos a derivada, o chamado método de Newton é usado). Ao invés de aceitar um intervalor para a raiz, esta função aceita um \"chute\" inicial do valor."
   ]
  },
  {
   "cell_type": "code",
   "execution_count": 17,
   "metadata": {},
   "outputs": [
    {
     "data": {
      "text/plain": [
       "1.0471975511966207"
      ]
     },
     "execution_count": 17,
     "metadata": {},
     "output_type": "execute_result"
    }
   ],
   "source": [
    "scipy.optimize.newton(lambda x: math.cos(x) - 0.5, 1.5, tol=1e-8)"
   ]
  },
  {
   "cell_type": "markdown",
   "metadata": {},
   "source": [
    "Chegou a hora de comparar os tempos:"
   ]
  },
  {
   "cell_type": "code",
   "execution_count": 18,
   "metadata": {},
   "outputs": [
    {
     "name": "stdout",
     "output_type": "stream",
     "text": [
      "10000 loops, best of 3: 21.3 µs per loop\n"
     ]
    }
   ],
   "source": [
    "%timeit bisseccao(lambda x: math.cos(x)-0.5, 0, 3, 1e-8)"
   ]
  },
  {
   "cell_type": "code",
   "execution_count": 19,
   "metadata": {},
   "outputs": [
    {
     "name": "stdout",
     "output_type": "stream",
     "text": [
      "The slowest run took 4.88 times longer than the fastest. This could mean that an intermediate result is being cached.\n",
      "100000 loops, best of 3: 15 µs per loop\n"
     ]
    }
   ],
   "source": [
    "%timeit scipy.optimize.bisect(lambda x: math.cos(x) - 0.5, 0, 3, xtol=1e-8)"
   ]
  },
  {
   "cell_type": "code",
   "execution_count": 20,
   "metadata": {},
   "outputs": [
    {
     "name": "stdout",
     "output_type": "stream",
     "text": [
      "The slowest run took 5.08 times longer than the fastest. This could mean that an intermediate result is being cached.\n",
      "100000 loops, best of 3: 8.45 µs per loop\n"
     ]
    }
   ],
   "source": [
    "%timeit secante(lambda x: math.cos(x)-0.5, 0, 3, 1e-8)"
   ]
  },
  {
   "cell_type": "code",
   "execution_count": 21,
   "metadata": {},
   "outputs": [
    {
     "name": "stdout",
     "output_type": "stream",
     "text": [
      "100000 loops, best of 3: 5.8 µs per loop\n"
     ]
    }
   ],
   "source": [
    "%timeit scipy.optimize.newton(lambda x: math.cos(x) - 0.5, 1.5, tol=1e-8)"
   ]
  },
  {
   "cell_type": "markdown",
   "metadata": {},
   "source": [
    "Para integração, uma função de fácil uso é a função `quad` do módulo `scipy.integrate`:"
   ]
  },
  {
   "cell_type": "code",
   "execution_count": 22,
   "metadata": {
    "collapsed": true
   },
   "outputs": [],
   "source": [
    "import scipy.integrate"
   ]
  },
  {
   "cell_type": "code",
   "execution_count": 23,
   "metadata": {},
   "outputs": [
    {
     "data": {
      "text/plain": [
       "(0.9999999999999999, 1.1102230246251564e-14)"
      ]
     },
     "execution_count": 23,
     "metadata": {},
     "output_type": "execute_result"
    }
   ],
   "source": [
    "scipy.integrate.quad(math.sin, 0, math.pi/2)"
   ]
  },
  {
   "cell_type": "markdown",
   "metadata": {},
   "source": [
    "Como você vê, a função retorna dois valores. O primeiro é o valor calculado para a integral, o segundo é uma estimativa do erro. No caso, a função estima que o erro deve ser menor que $1.11 \\cdot 10^{-14}$, o que podemos verificar neste caso."
   ]
  },
  {
   "cell_type": "markdown",
   "metadata": {},
   "source": [
    "Para finalizar, a temporização:"
   ]
  },
  {
   "cell_type": "code",
   "execution_count": 24,
   "metadata": {},
   "outputs": [
    {
     "name": "stdout",
     "output_type": "stream",
     "text": [
      "100 loops, best of 3: 2.22 ms per loop\n"
     ]
    }
   ],
   "source": [
    "%timeit trapezio_precisao(math.sin, 0, math.pi/2, 1e-8)"
   ]
  },
  {
   "cell_type": "code",
   "execution_count": 25,
   "metadata": {},
   "outputs": [
    {
     "name": "stdout",
     "output_type": "stream",
     "text": [
      "The slowest run took 5.04 times longer than the fastest. This could mean that an intermediate result is being cached.\n",
      "100000 loops, best of 3: 10.3 µs per loop\n"
     ]
    }
   ],
   "source": [
    "%timeit scipy.integrate.quad(math.sin, 0, math.pi/2)"
   ]
  },
  {
   "cell_type": "code",
   "execution_count": null,
   "metadata": {
    "collapsed": true
   },
   "outputs": [],
   "source": []
  }
 ],
 "metadata": {
  "kernelspec": {
   "display_name": "Python 3",
   "language": "python",
   "name": "python3"
  },
  "language_info": {
   "codemirror_mode": {
    "name": "ipython",
    "version": 3
   },
   "file_extension": ".py",
   "mimetype": "text/x-python",
   "name": "python",
   "nbconvert_exporter": "python",
   "pygments_lexer": "ipython3",
   "version": "3.7.1"
  }
 },
 "nbformat": 4,
 "nbformat_minor": 1
}
