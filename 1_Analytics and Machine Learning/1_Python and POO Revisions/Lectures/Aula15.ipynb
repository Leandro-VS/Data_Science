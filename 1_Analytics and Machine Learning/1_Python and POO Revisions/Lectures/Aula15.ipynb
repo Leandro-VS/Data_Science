{
 "cells": [
  {
   "cell_type": "markdown",
   "metadata": {},
   "source": [
    "## Herança múltipla e super\n",
    "\n",
    "Quando usamos herança, ao redefinir um método na classe derivada é comum que queiramos usar o mesmo método da classe base. Isso ocorre quase sempre no caso do método de inicialização `__init__`.\n",
    "\n",
    "Infelizmente, quando existe herança múltipla, existe um problema, pois mais de uma classe base podem ser derivadas da mesma classe base original, e nesse caso sua inicialização seria executada duas vezes.\n",
    "\n",
    "Veja no exemplo do código abaixo, onde a classe `D` é derivada da classe `A` por dois caminhos: por `B` e por `C`."
   ]
  },
  {
   "cell_type": "code",
   "execution_count": 1,
   "metadata": {
    "collapsed": true
   },
   "outputs": [],
   "source": [
    "class A:\n",
    "    def __init__(self):\n",
    "        print('+A')\n",
    "class B(A):\n",
    "    def __init__(self):\n",
    "        print('+B')\n",
    "        A.__init__(self)\n",
    "class C(A):\n",
    "    def __init__(self):\n",
    "        print('+C')\n",
    "        A.__init__(self)\n",
    "class D(B, C):\n",
    "    def __init__(self):\n",
    "        print('+D')\n",
    "        B.__init__(self)\n",
    "        C.__init__(self)"
   ]
  },
  {
   "cell_type": "markdown",
   "metadata": {},
   "source": [
    "O resultado é que, ao criar um objeto da classe `D`, `A.__init__` será chamado duas vezes:"
   ]
  },
  {
   "cell_type": "code",
   "execution_count": 2,
   "metadata": {
    "collapsed": false
   },
   "outputs": [
    {
     "name": "stdout",
     "output_type": "stream",
     "text": [
      "+D\n",
      "+B\n",
      "+A\n",
      "+C\n",
      "+A\n"
     ]
    }
   ],
   "source": [
    "d = D()"
   ]
  },
  {
   "cell_type": "markdown",
   "metadata": {},
   "source": [
    "Uma forma de resolver esse problema (e também simplificar um pouco a notação), é usar a função `super`, que permite chamar um método conforme definido na classe base, mesmo que ele seja redefinido na classe derivada. Quando usamos `super` o Python automaticamente toma conta da herança múltipla e de garantir que cada método seja chamado apenas uma vez."
   ]
  },
  {
   "cell_type": "code",
   "execution_count": 3,
   "metadata": {
    "collapsed": true
   },
   "outputs": [],
   "source": [
    "class AN:\n",
    "    def __init__(self):\n",
    "        print('+A')\n",
    "class BN(AN):\n",
    "    def __init__(self):\n",
    "        print('+B')\n",
    "        super().__init__()\n",
    "class CN(AN):\n",
    "    def __init__(self):\n",
    "        print('+C')\n",
    "        super().__init__()\n",
    "class DN(BN, CN):\n",
    "    def __init__(self):\n",
    "        print('+D')\n",
    "        super().__init__()"
   ]
  },
  {
   "cell_type": "markdown",
   "metadata": {},
   "source": [
    "Com essa definição, agora `A.__init__` será chamado apenas uma vez."
   ]
  },
  {
   "cell_type": "code",
   "execution_count": 4,
   "metadata": {
    "collapsed": false
   },
   "outputs": [
    {
     "name": "stdout",
     "output_type": "stream",
     "text": [
      "+D\n",
      "+B\n",
      "+C\n",
      "+A\n"
     ]
    }
   ],
   "source": [
    "dn = DN()"
   ]
  },
  {
   "cell_type": "markdown",
   "metadata": {},
   "source": [
    "No entanto, `super` não é totalmente sem problemas, pois ele força uma ordem específica na execução dos métodos das classes base, que pode não ser a mais adequada em alguns casos."
   ]
  },
  {
   "cell_type": "markdown",
   "metadata": {},
   "source": [
    "## Exceções\n",
    "\n",
    "Já vimos que, quando detectamos um erro ou outra situação excepcional que impedem a continuidade da execução normal do código, podemos lançar uma exceção usando o comando `raise`."
   ]
  },
  {
   "cell_type": "code",
   "execution_count": 5,
   "metadata": {
    "collapsed": false
   },
   "outputs": [
    {
     "ename": "Exception",
     "evalue": "Erro!",
     "output_type": "error",
     "traceback": [
      "\u001b[0;31m---------------------------------------------------------------------------\u001b[0m",
      "\u001b[0;31mException\u001b[0m                                 Traceback (most recent call last)",
      "\u001b[0;32m<ipython-input-5-ce37c486de71>\u001b[0m in \u001b[0;36m<module>\u001b[0;34m()\u001b[0m\n\u001b[0;32m----> 1\u001b[0;31m \u001b[0;32mraise\u001b[0m \u001b[0mException\u001b[0m\u001b[0;34m(\u001b[0m\u001b[0;34m'Erro!'\u001b[0m\u001b[0;34m)\u001b[0m\u001b[0;34m\u001b[0m\u001b[0m\n\u001b[0m\u001b[1;32m      2\u001b[0m \u001b[0mprint\u001b[0m\u001b[0;34m(\u001b[0m\u001b[0;34m'Não passo aqui'\u001b[0m\u001b[0;34m)\u001b[0m\u001b[0;34m\u001b[0m\u001b[0m\n",
      "\u001b[0;31mException\u001b[0m: Erro!"
     ]
    }
   ],
   "source": [
    "raise Exception('Erro!')\n",
    "print('Não passo aqui')"
   ]
  },
  {
   "cell_type": "markdown",
   "metadata": {},
   "source": [
    "Como sabemos, se nada for feito a exceção irá interromper a execução do código com uma mensagem de erro, como acima, que não executa o `print`.\n",
    "\n",
    "Mas existe a possibilidade de detectar que a exceção ocorreu e lidar com ela, sem interromper o programa. Para isso, colocamos o código que pode gerar exceção dentro de um bloco `try`, e seguimos esse bloco `try` com um (ou mais) tratadores de exceção, como abaixo."
   ]
  },
  {
   "cell_type": "code",
   "execution_count": 6,
   "metadata": {
    "collapsed": false
   },
   "outputs": [
    {
     "name": "stdout",
     "output_type": "stream",
     "text": [
      "Faz algo.\n",
      "Não deu certo.\n",
      "Passo por aqui\n"
     ]
    }
   ],
   "source": [
    "try:\n",
    "    print('Faz algo.')\n",
    "    raise Exception('Erro!')\n",
    "except Exception:\n",
    "    print('Não deu certo.')\n",
    "print('Passo por aqui')"
   ]
  },
  {
   "cell_type": "markdown",
   "metadata": {},
   "source": [
    "Normalmente, o `try` envolve uma quantidade maior de código, onde o lançamento da exceção e apenas uma das possibilidades.\n",
    "\n",
    "O código abaixo tenta re-executar um *loop* se sua execução foi interrompida por exceção."
   ]
  },
  {
   "cell_type": "code",
   "execution_count": 7,
   "metadata": {
    "collapsed": false
   },
   "outputs": [
    {
     "name": "stdout",
     "output_type": "stream",
     "text": [
      "0 1 2 3 Não terminou\n",
      "Agora estou depois do try\n",
      "0 1 2 3 4 5 6 7 8 9 \n",
      "Agora estou depois do try\n",
      "Agora terminei\n"
     ]
    }
   ],
   "source": [
    "terminou = False\n",
    "primeiro = True\n",
    "while not terminou:\n",
    "    try:\n",
    "        for i in range(10):\n",
    "            if primeiro and i == 4:\n",
    "                raise Exception('Já cansei.')\n",
    "            print(i, end=' ')\n",
    "        print()\n",
    "        terminou = True\n",
    "    except Exception:\n",
    "        print('Não terminou')\n",
    "        primeiro = False\n",
    "    print('Agora estou depois do try')\n",
    "print('Agora terminei')"
   ]
  },
  {
   "cell_type": "markdown",
   "metadata": {},
   "source": [
    "Após o bloco `try`, além de blocos para tratar de exeções, podemos também definir um bloco `finally`. Esse bloco deve incluir código que será executado tanto se o `try` terminar normalmente (sem exeções), como se ele for interrompido por exceção, **mesmo que a exceção não seja capturada por um tratador apropriado**.\n",
    "\n",
    "No código abaixo, note como `'Fim da função boba'` é impresso tanto no término normal como no termino por interrupção."
   ]
  },
  {
   "cell_type": "code",
   "execution_count": 8,
   "metadata": {
    "collapsed": false
   },
   "outputs": [
    {
     "name": "stdout",
     "output_type": "stream",
     "text": [
      "Quero outro valor\n",
      "Fim da função boba\n",
      "Isso\n",
      "yeah!yeah!yeah!\n",
      "Fim da função boba\n"
     ]
    }
   ],
   "source": [
    "def funcao_boba(quebra):\n",
    "    try:\n",
    "        if quebra:\n",
    "            raise ValueError()\n",
    "        print('Isso')\n",
    "        for i in range(3):\n",
    "            print('yeah!', end='')\n",
    "        print()\n",
    "    except ValueError: # Experimente retirar este tratador\n",
    "        print('Quero outro valor')\n",
    "    finally:\n",
    "        print('Fim da função boba')\n",
    "\n",
    "funcao_boba(True)\n",
    "funcao_boba(False)"
   ]
  },
  {
   "cell_type": "markdown",
   "metadata": {},
   "source": [
    "Um outro tipo de bloco que pode ser adicionado após o `try` é o bloco `else`. O código desse bloco será executado apenas se o `try` **não** for interrompido por uma exceção."
   ]
  },
  {
   "cell_type": "code",
   "execution_count": 9,
   "metadata": {
    "collapsed": false
   },
   "outputs": [
    {
     "name": "stdout",
     "output_type": "stream",
     "text": [
      "Quero outro valor\n",
      "Fim da função boba\n",
      "Isso\n",
      "yeah!yeah!yeah!\n",
      "Você foi eficiente\n",
      "Fim da função boba\n"
     ]
    }
   ],
   "source": [
    "def funcao_boba(quebra):\n",
    "    try:\n",
    "        if quebra:\n",
    "            raise ValueError()\n",
    "        print('Isso')\n",
    "        for i in range(3):\n",
    "            print('yeah!', end='')\n",
    "        print()\n",
    "    except ValueError:\n",
    "        print('Quero outro valor')\n",
    "    else:\n",
    "        print('Você foi eficiente')\n",
    "    finally:\n",
    "        print('Fim da função boba')\n",
    "\n",
    "funcao_boba(True)\n",
    "funcao_boba(False)"
   ]
  },
  {
   "cell_type": "markdown",
   "metadata": {},
   "source": [
    "Exceções são objetos (como tudo em Python), normalmente derivados da classe `Exception`. Existem diversos tipos de exceção definidos na linguagem. [Veja uma lista aqui.](https://docs.python.org/3/library/exceptions.html)\n",
    "\n",
    "É frequente que desejemos criar novos tipos de exceção, para exprimir de forma mais clara os tipos de erro do nosso programa.\n",
    "\n",
    "Para isso, basta definir uma classe derivada de `Exception`. A classe, em princípio, não precisa de nenhum conteúdo novo (mas veja a seguir situação onde isso pode ser útil). Ela servirá apenas, através de seu tipo, para expressar um tipo específico de erro. (Execute o código abaixo diversas vezes para ver a variação aleatória.)"
   ]
  },
  {
   "cell_type": "code",
   "execution_count": 10,
   "metadata": {
    "collapsed": true
   },
   "outputs": [],
   "source": [
    "class MauHumorado(Exception):\n",
    "    pass"
   ]
  },
  {
   "cell_type": "code",
   "execution_count": 11,
   "metadata": {
    "collapsed": true
   },
   "outputs": [],
   "source": [
    "import datetime\n",
    "import random"
   ]
  },
  {
   "cell_type": "code",
   "execution_count": 15,
   "metadata": {
    "collapsed": false
   },
   "outputs": [
    {
     "ename": "MauHumorado",
     "evalue": "Acordei muito cedo",
     "output_type": "error",
     "traceback": [
      "\u001b[0;31m---------------------------------------------------------------------------\u001b[0m",
      "\u001b[0;31mMauHumorado\u001b[0m                               Traceback (most recent call last)",
      "\u001b[0;32m<ipython-input-15-7123c166439a>\u001b[0m in \u001b[0;36m<module>\u001b[0;34m()\u001b[0m\n\u001b[1;32m      2\u001b[0m \u001b[0mdespertador_tocou\u001b[0m \u001b[0;34m=\u001b[0m \u001b[0mdatetime\u001b[0m\u001b[0;34m.\u001b[0m\u001b[0mtime\u001b[0m\u001b[0;34m(\u001b[0m\u001b[0mh\u001b[0m\u001b[0;34m,\u001b[0m \u001b[0mm\u001b[0m\u001b[0;34m)\u001b[0m\u001b[0;34m\u001b[0m\u001b[0m\n\u001b[1;32m      3\u001b[0m \u001b[0;32mif\u001b[0m \u001b[0mdespertador_tocou\u001b[0m \u001b[0;34m<\u001b[0m \u001b[0mdatetime\u001b[0m\u001b[0;34m.\u001b[0m\u001b[0mtime\u001b[0m\u001b[0;34m(\u001b[0m\u001b[0;36m11\u001b[0m\u001b[0;34m,\u001b[0m\u001b[0;36m0\u001b[0m\u001b[0;34m)\u001b[0m\u001b[0;34m:\u001b[0m\u001b[0;34m\u001b[0m\u001b[0m\n\u001b[0;32m----> 4\u001b[0;31m     \u001b[0;32mraise\u001b[0m \u001b[0mMauHumorado\u001b[0m\u001b[0;34m(\u001b[0m\u001b[0;34m'Acordei muito cedo'\u001b[0m\u001b[0;34m)\u001b[0m\u001b[0;34m\u001b[0m\u001b[0m\n\u001b[0m\u001b[1;32m      5\u001b[0m \u001b[0mprint\u001b[0m\u001b[0;34m(\u001b[0m\u001b[0;34m'Bom dia!'\u001b[0m\u001b[0;34m)\u001b[0m\u001b[0;34m\u001b[0m\u001b[0m\n",
      "\u001b[0;31mMauHumorado\u001b[0m: Acordei muito cedo"
     ]
    }
   ],
   "source": [
    "h, m = random.randint(0,23), random.randint(0,59)\n",
    "despertador_tocou = datetime.time(h, m)\n",
    "if despertador_tocou < datetime.time(11,0):\n",
    "    raise MauHumorado('Acordei muito cedo')\n",
    "print('Bom dia!')"
   ]
  },
  {
   "cell_type": "markdown",
   "metadata": {},
   "source": [
    "São comuns situações onde, além da informação do *tipo* do erro, queremos também alguma informação de contexto que permita determinar melhor a razão do erro.\n",
    "\n",
    "Neste caso, é aconselhavel criar novas classes de exceção que recebam essa informação adicional."
   ]
  },
  {
   "cell_type": "code",
   "execution_count": 16,
   "metadata": {
    "collapsed": true
   },
   "outputs": [],
   "source": [
    "class DepositoInvalido(Exception):\n",
    "    def __init__(self, mess, val):\n",
    "        # mess é a mensagem de exceção, val é o valor inválido\n",
    "        self.__val = val\n",
    "        Exception.__init__(self, mess)\n",
    "    @property\n",
    "    def valor(self):\n",
    "        return self.__val\n",
    "        \n",
    "class Conta:\n",
    "    def __init__(self, inicio):\n",
    "        if inicio < 0:\n",
    "            raise DepositoInvalido('Valor inicial negativo', inicio)\n",
    "        self.__saldo = inicio\n",
    "    def deposito(self, valor):\n",
    "        if valor < 0:\n",
    "            raise DepositoInvalido('Deposito negativo', valor)\n",
    "        self.__saldo += valor"
   ]
  },
  {
   "cell_type": "code",
   "execution_count": 17,
   "metadata": {
    "collapsed": true
   },
   "outputs": [],
   "source": [
    "c = Conta(100)"
   ]
  },
  {
   "cell_type": "code",
   "execution_count": 18,
   "metadata": {
    "collapsed": false
   },
   "outputs": [
    {
     "name": "stdout",
     "output_type": "stream",
     "text": [
      "O valor -10 é inválido\n"
     ]
    }
   ],
   "source": [
    "try:\n",
    "    c.deposito(-10)\n",
    "except DepositoInvalido as dep:\n",
    "    print('O valor', dep.valor,'é inválido')"
   ]
  },
  {
   "cell_type": "code",
   "execution_count": null,
   "metadata": {
    "collapsed": true
   },
   "outputs": [],
   "source": [
    "try:\n",
    "    c2 = Conta(-10)\n",
    "except DepositoInvalido as dep:\n",
    "    print(dep.valor, 'não é um depósito inicial válido')"
   ]
  },
  {
   "cell_type": "markdown",
   "metadata": {},
   "source": [
    "Até aqui, temos apenas um tratador de exceção para o bloco `try`, mas isso não é obrigatório. Podemos colocar um tratador de exceção para cada tipo de exceção que pode ocorrer durante a execução do `try`. Quando ocorre uma exceção, o Python irá verificar um por um os tratadores de exceção na ordem apresentada, buscando um que seja *compatível* com a exceção gerada. Para ser compatível, ele precisa tratar exatamente a classe da exceção ou uma de suas classes base. Por exemplo, um tratador para `Exception` irá cuidar de todos os tipos (normais) de exceção. (Execute o código abaixo diversas vezes.)"
   ]
  },
  {
   "cell_type": "code",
   "execution_count": 30,
   "metadata": {
    "collapsed": false
   },
   "outputs": [
    {
     "name": "stdout",
     "output_type": "stream",
     "text": [
      "Deu erro em algum lugar\n"
     ]
    }
   ],
   "source": [
    "try:\n",
    "    try:\n",
    "        raise Exception(\"Oi\")\n",
    "    except ValueError:\n",
    "        print(\"Olá\")\n",
    "    if random.random() < 0.3:\n",
    "        raise ValueError('Valor')\n",
    "    elif random.random() < 0.3:\n",
    "        raise TypeError('Tipo')\n",
    "    else:\n",
    "        c.deposito(-10)\n",
    "except DepositoInvalido as dep:\n",
    "    print('O valor', dep.valor,'é inválido')\n",
    "except ValueError:\n",
    "    print('Deu erro no valor')\n",
    "except Exception:\n",
    "    print('Deu erro em algum lugar')\n"
   ]
  },
  {
   "cell_type": "markdown",
   "metadata": {
    "collapsed": true
   },
   "source": [
    "Para concluir, a ordem dos blocos após o bloco `try` deve ser:\n",
    "\n",
    "1. Blocos de tratamento de exceção (do mais específico para o mais geral).\n",
    "1. Bloco `else`.\n",
    "1. Bloco `finally`.\n"
   ]
  }
 ],
 "metadata": {
  "kernelspec": {
   "display_name": "Python 3",
   "language": "python",
   "name": "python3"
  },
  "language_info": {
   "codemirror_mode": {
    "name": "ipython",
    "version": 3
   },
   "file_extension": ".py",
   "mimetype": "text/x-python",
   "name": "python",
   "nbconvert_exporter": "python",
   "pygments_lexer": "ipython3",
   "version": "3.6.0"
  }
 },
 "nbformat": 4,
 "nbformat_minor": 1
}
