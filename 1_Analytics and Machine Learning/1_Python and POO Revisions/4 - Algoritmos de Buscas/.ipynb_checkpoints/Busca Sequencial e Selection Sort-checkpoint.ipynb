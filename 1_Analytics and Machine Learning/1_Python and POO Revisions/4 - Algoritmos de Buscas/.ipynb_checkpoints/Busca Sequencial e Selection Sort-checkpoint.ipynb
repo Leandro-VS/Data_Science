{
 "cells": [
  {
   "cell_type": "markdown",
   "metadata": {},
   "source": [
    "# Algoritmos de Busca"
   ]
  },
  {
   "cell_type": "markdown",
   "metadata": {},
   "source": [
    "## Busca sequencial"
   ]
  },
  {
   "cell_type": "code",
   "execution_count": 1,
   "metadata": {},
   "outputs": [
    {
     "data": {
      "application/javascript": [
       "IPython.notebook.set_autosave_interval(120000)"
      ]
     },
     "metadata": {},
     "output_type": "display_data"
    },
    {
     "name": "stdout",
     "output_type": "stream",
     "text": [
      "Autosaving every 120 seconds\n"
     ]
    }
   ],
   "source": [
    "%autosave 120"
   ]
  },
  {
   "cell_type": "code",
   "execution_count": 2,
   "metadata": {},
   "outputs": [],
   "source": [
    "def busca_sequencial(sequencia, x):  #Recebe como argumentos uma lista e um flooat\n",
    "    for i in range(len(sequencia)):\n",
    "        if sequencia[i] == x:\n",
    "            return True\n",
    "        return False"
   ]
  },
  {
   "cell_type": "markdown",
   "metadata": {},
   "source": [
    "__Exemplo__"
   ]
  },
  {
   "cell_type": "code",
   "execution_count": 3,
   "metadata": {},
   "outputs": [],
   "source": [
    "class Musica:\n",
    "    def __init__(self,titulo,interprete,ano):\n",
    "        self.titulo = titulo\n",
    "        self.interprete = interprete\n",
    "        self.ano = ano\n",
    "        \n",
    "class Buscador:\n",
    "    def busca_por_titulo(self, seq, titulo):\n",
    "        for i in range(len(seq)):\n",
    "            if seq[i].titulo == titulo:\n",
    "                return i\n",
    "        return -1\n",
    "    def vamos_buscar(self):\n",
    "        playlist = [ Musica(\"Ponta de Areia\", \"Milton Nascimento\", 1975),\n",
    "                    Musica(\"Podres Podres\", \"Caetano Veloso\", 1984),\n",
    "                    Musica(\"Baby\", \"Gal Costa\", 1969) ]\n",
    "        \n",
    "        onde_achou = self.busca_por_titulo(playlist, \"Baby\")\n",
    "        \n",
    "        if onde_achou == -1:\n",
    "            print(\"Minha musica preferida não esta na playlist\")\n",
    "        else:\n",
    "            preferida = playlist[onde_achou]\n",
    "            print(preferida.titulo, preferida.interprete, preferida.ano, sep = \", \")"
   ]
  },
  {
   "cell_type": "code",
   "execution_count": 4,
   "metadata": {},
   "outputs": [
    {
     "name": "stdout",
     "output_type": "stream",
     "text": [
      "Baby, Gal Costa, 1969\n"
     ]
    }
   ],
   "source": [
    "b = Buscador()\n",
    "b.vamos_buscar()"
   ]
  },
  {
   "cell_type": "markdown",
   "metadata": {},
   "source": [
    "## Complexidade Computacional"
   ]
  },
  {
   "cell_type": "markdown",
   "metadata": {},
   "source": [
    "Analise matematica do desempenho do algoritmo, como por exemplo _Quantas operações um algoritmo requer para ser executado; Quanto tempo ele leva para terminar a execução; Quanto de memória é consumida pelo algoritmo_"
   ]
  },
  {
   "cell_type": "markdown",
   "metadata": {},
   "source": [
    "<p>Em geral algoritmos de busca sequencial são simples mas pouco eficientes quando trata-se de volumes grandes, para volumes pequenos é aceitável <br/>\n",
    "A sua complexidade é: <br/>\n",
    "   * n, no pior caso <br/>\n",
    "   * n/2, no caso médio <br/>\n",
    "   </p> "
   ]
  },
  {
   "cell_type": "code",
   "execution_count": 5,
   "metadata": {},
   "outputs": [],
   "source": [
    "c = Buscador()"
   ]
  },
  {
   "cell_type": "code",
   "execution_count": 6,
   "metadata": {},
   "outputs": [
    {
     "name": "stdout",
     "output_type": "stream",
     "text": [
      "Baby, Gal Costa, 1969\n",
      "CPU times: user 159 µs, sys: 26 µs, total: 185 µs\n",
      "Wall time: 130 µs\n"
     ]
    }
   ],
   "source": [
    "%%time\n",
    "c.vamos_buscar()"
   ]
  },
  {
   "cell_type": "markdown",
   "metadata": {},
   "source": [
    "## Selection Sort"
   ]
  },
  {
   "cell_type": "markdown",
   "metadata": {},
   "source": [
    "Ideal para ordenar uma coleção em determinada ordem"
   ]
  },
  {
   "cell_type": "markdown",
   "metadata": {},
   "source": [
    "_A cada passo o algoritmo busca pelo menor elemento no pedaço ainda nao ordenado e coloca esse elemento no começo da lista_"
   ]
  },
  {
   "cell_type": "code",
   "execution_count": 5,
   "metadata": {},
   "outputs": [],
   "source": [
    "class Ordenador:\n",
    "    def selecao_direta(self, lista):\n",
    "        fim = len(lista)\n",
    "        \n",
    "        for i in range(fim -1):\n",
    "            #Inicialmente, o menor elemento já visto é o i-ésimo\n",
    "            posicao_do_minimo = i\n",
    "            \n",
    "            for j in range(i+1, fim):\n",
    "                if lista[j] < lista[posicao_do_minimo]:\n",
    "                    posicao_do_minimo = j\n",
    "                    \n",
    "            #coloca o menor elemento encontrado no inicio da sub-lista\n",
    "            #Para isso troca de lugar os elementos nas posições i e posicao_do_minimo\n",
    "            lista[i], lista[posicao_do_minimo] = lista[posicao_do_minimo], lista[i]"
   ]
  },
  {
   "cell_type": "code",
   "execution_count": 6,
   "metadata": {},
   "outputs": [],
   "source": [
    "lista1 = [50,1,7,9,10,5,6,45,3,20]"
   ]
  },
  {
   "cell_type": "code",
   "execution_count": 7,
   "metadata": {},
   "outputs": [],
   "source": [
    "Ord = Ordenador()"
   ]
  },
  {
   "cell_type": "code",
   "execution_count": 8,
   "metadata": {},
   "outputs": [
    {
     "data": {
      "text/plain": [
       "[1, 3, 5, 6, 7, 9, 10, 20, 45, 50]"
      ]
     },
     "execution_count": 8,
     "metadata": {},
     "output_type": "execute_result"
    }
   ],
   "source": [
    "Ord.selecao_direta(lista1)\n",
    "lista1"
   ]
  },
  {
   "cell_type": "code",
   "execution_count": null,
   "metadata": {},
   "outputs": [],
   "source": []
  },
  {
   "cell_type": "code",
   "execution_count": null,
   "metadata": {},
   "outputs": [],
   "source": []
  }
 ],
 "metadata": {
  "kernelspec": {
   "display_name": "Python 3",
   "language": "python",
   "name": "python3"
  },
  "language_info": {
   "codemirror_mode": {
    "name": "ipython",
    "version": 3
   },
   "file_extension": ".py",
   "mimetype": "text/x-python",
   "name": "python",
   "nbconvert_exporter": "python",
   "pygments_lexer": "ipython3",
   "version": "3.7.1"
  }
 },
 "nbformat": 4,
 "nbformat_minor": 2
}
