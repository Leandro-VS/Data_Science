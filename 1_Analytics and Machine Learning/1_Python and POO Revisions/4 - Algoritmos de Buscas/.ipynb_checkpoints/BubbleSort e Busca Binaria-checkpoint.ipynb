{
 "cells": [
  {
   "cell_type": "markdown",
   "metadata": {},
   "source": [
    "# BubbleSort"
   ]
  },
  {
   "cell_type": "markdown",
   "metadata": {},
   "source": [
    "Este algoritmo percorre toda a lista fazendo comparações dois a dois e troca de lugar os elementos que estão fora de ordem"
   ]
  },
  {
   "cell_type": "code",
   "execution_count": 1,
   "metadata": {},
   "outputs": [
    {
     "data": {
      "application/javascript": [
       "IPython.notebook.set_autosave_interval(120000)"
      ]
     },
     "metadata": {},
     "output_type": "display_data"
    },
    {
     "name": "stdout",
     "output_type": "stream",
     "text": [
      "Autosaving every 120 seconds\n"
     ]
    }
   ],
   "source": [
    "%autosave 120\n",
    "class Ordenador_bolha:\n",
    "    def bolha(self, lista):\n",
    "        fim = len(lista)\n",
    "        \n",
    "        for i in range(fim-1, 0, -1):\n",
    "            for j in range(i):\n",
    "                if lista[j] > lista[j+1]:\n",
    "                    lista[j], lista[j+1] = lista[j+1], lista[j]"
   ]
  },
  {
   "cell_type": "code",
   "execution_count": 2,
   "metadata": {},
   "outputs": [],
   "source": [
    "lista = [10,3,8,-10,200,17,32]\n",
    "x = Ordenador_bolha()"
   ]
  },
  {
   "cell_type": "code",
   "execution_count": 3,
   "metadata": {},
   "outputs": [
    {
     "data": {
      "text/plain": [
       "[-10, 3, 8, 10, 17, 32, 200]"
      ]
     },
     "execution_count": 3,
     "metadata": {},
     "output_type": "execute_result"
    }
   ],
   "source": [
    "x.bolha(lista)\n",
    "lista"
   ]
  },
  {
   "cell_type": "markdown",
   "metadata": {},
   "source": [
    "# Comparação de desempenho entre BubbleSort e Selection Sort"
   ]
  },
  {
   "cell_type": "code",
   "execution_count": 4,
   "metadata": {},
   "outputs": [],
   "source": [
    "import time\n",
    "import random"
   ]
  },
  {
   "cell_type": "code",
   "execution_count": 5,
   "metadata": {},
   "outputs": [],
   "source": [
    "#Algoritmo Selection Sort para fazer a comparação com o BubbleSort\n",
    "class Ordenador_SD:\n",
    "    def selecao_direta(self, lista):\n",
    "        fim = len(lista)\n",
    "        for i in range(fim -1):\n",
    "            posicao_do_minimo = i\n",
    "            for j in range(i+1, fim):\n",
    "                if lista[j] < lista[posicao_do_minimo]:\n",
    "                    posicao_do_minimo = j\n",
    "\n",
    "            lista[i], lista[posicao_do_minimo] = lista[posicao_do_minimo], lista[i]"
   ]
  },
  {
   "cell_type": "code",
   "execution_count": 6,
   "metadata": {},
   "outputs": [],
   "source": [
    "class Ordenador_bolha_melhorado:\n",
    "    def bolha_melhorada(self, lista):\n",
    "        fim = len(lista)\n",
    "        \n",
    "        for i in range(fim-1, 0, -1):\n",
    "            trocou = False\n",
    "            for j in range(i):\n",
    "                if lista[j] > lista[j+1]:\n",
    "                    lista[j], lista[j+1] = lista[j+1], lista[j]\n",
    "                    trocou = True\n",
    "            if not trocou:\n",
    "                return"
   ]
  },
  {
   "cell_type": "code",
   "execution_count": 14,
   "metadata": {},
   "outputs": [],
   "source": [
    "class Compara_Complexidade:\n",
    "    def lista_aleatoria(self, n):\n",
    "        lista = [random.randrange(1000) for x in range(n)] # Cria uma lista com n inteiros aleatórios entre 0 e 999\n",
    "        return lista\n",
    "    \n",
    "    def lista_quase_ordenada(self,n):\n",
    "        lista = [x for x in range(n)]\n",
    "        lista[n//10] = -500\n",
    "        return lista\n",
    "    \n",
    "    def compara(self, n):\n",
    "        print(\"Comparando com lista Aleatórias: \\n\")\n",
    "        \n",
    "        lista1 = self.lista_aleatoria(n) #Criando uma lista aleatória\n",
    "        lista2 = lista1[:] # Clonando a lista1\n",
    "        \n",
    "        o1 = Ordenador_bolha()\n",
    "        \n",
    "        #metodo para verificar o tempo de executação de algum algoritmo\n",
    "        t_inicial = time.time()\n",
    "        o1.bolha(lista1)\n",
    "        t_final = time.time()\n",
    "        t1 = t_final - t_inicial\n",
    "        t_bolha = t1\n",
    "        print(\"Algoritmo BubbleSort demorou: \", t1, \"segundos\")\n",
    "        \n",
    "        o2 = Ordenador_SD()\n",
    "        \n",
    "        t_inicial = time.time()\n",
    "        o2.selecao_direta(lista2)\n",
    "        t_final = time.time()\n",
    "        t2 = t_final - t_inicial\n",
    "        print(\"Algoritmo Selection Sort demorou: \", t2, \"segundos\")\n",
    "        \n",
    "        \n",
    "        if t1 < t2:\n",
    "            print(\"-- BubbleSorte é o mais enficiente --\\n\")\n",
    "        else:\n",
    "            print(\"-- Selection Sort é mais eficiente --\\n\")\n",
    "        \n",
    "        print(\"Comparando com listas quase ordenadas: \\n\")\n",
    "        \n",
    "        lista3 = self.lista_quase_ordenada(n)\n",
    "        lista4 = lista3[:]\n",
    "        \n",
    "        o3 = Ordenador_SD()\n",
    "        \n",
    "        t_inicial = time.time()\n",
    "        o3.selecao_direta(lista3)\n",
    "        t_final = time.time()\n",
    "        t3 = t_final - t_inicial\n",
    "        print(\"Algoritmo Selection Sort demorou: \", t3, \"segundos\")\n",
    "        \n",
    "        o4 = Ordenador_bolha_melhorado()\n",
    "        \n",
    "        t_inicial = time.time()\n",
    "        o4.bolha_melhorada(lista4)\n",
    "        t_final = time.time()\n",
    "        t4 = t_final - t_inicial\n",
    "        t_bolha_melhorado = t4\n",
    "        print(\"Algoritmo BubbleSort Melhorado \", t4, \"segundos\")\n",
    "        \n",
    "        if t3 < t4:\n",
    "            print(\"-- Selection Sort é o mais enficiente --\\n\")\n",
    "        else:\n",
    "            print(\"-- BubbleSort Melhorado é mais eficiente --\\n\")\n",
    "        \n",
    "        print(\"Comparação entre os dois algoritmos de bolha \\n\")\n",
    "        print(\"BubbleSort: \", t_bolha, \"\\nBubbleSort melhorado: \", t_bolha_melhorado)\n",
    "        \n",
    "        if t_bolha < t_bolha_melhorado:\n",
    "            print(\"-- BubbleSort é mais eficiente --\")\n",
    "        else:\n",
    "            print(\"-- BubbleSort Melhorado é mais eficiente --\")\n",
    "            \n",
    "        return"
   ]
  },
  {
   "cell_type": "code",
   "execution_count": 8,
   "metadata": {},
   "outputs": [],
   "source": [
    "Compara = Compara_Complexidade()"
   ]
  },
  {
   "cell_type": "code",
   "execution_count": 9,
   "metadata": {},
   "outputs": [],
   "source": [
    "#Compara.compara(1000)"
   ]
  },
  {
   "cell_type": "markdown",
   "metadata": {},
   "source": [
    "### Melhorando a eficiencia do BubbleSort "
   ]
  },
  {
   "cell_type": "markdown",
   "metadata": {},
   "source": [
    "O BubbleSort é um algoritmo simples porem, como visto, ainda perde em eficiencia para o selection sort; em geral o bubblesort desempenha um melhor papel em lista pré-ordenadas, pensando nisso é possível melhora-lo"
   ]
  },
  {
   "cell_type": "markdown",
   "metadata": {},
   "source": [
    "_Melhoria_: Caso a lista esteja ordenada o algoritmo ja termina a execução"
   ]
  },
  {
   "cell_type": "code",
   "execution_count": 10,
   "metadata": {},
   "outputs": [],
   "source": [
    "#Codigo comentado pois a implementação foi feita dentro da classe acima\n",
    "# class Ordenador_bolha_melhorado:\n",
    "#     def bolha_melhorada(self, lista):\n",
    "#         fim = len(lista)\n",
    "#         trocou = False\n",
    "        \n",
    "#         for i in range(fim-1, 0, -1):\n",
    "#             for j in range(i):\n",
    "#                 if lista[j] > lista[j+1]:\n",
    "#                     lista[j], lista[j+1] = lista[j+1], lista[j]\n",
    "#                     trocou = True \n",
    "#             if not trocou:\n",
    "#                 return"
   ]
  },
  {
   "cell_type": "code",
   "execution_count": 11,
   "metadata": {},
   "outputs": [],
   "source": [
    "#Compara.compara(10000)"
   ]
  },
  {
   "cell_type": "markdown",
   "metadata": {},
   "source": [
    "___Teste Automatizado para o BubbleSort___"
   ]
  },
  {
   "cell_type": "code",
   "execution_count": 12,
   "metadata": {},
   "outputs": [],
   "source": [
    "#Código comentado pois foi implementado em outro arquivo para ser possível utilizar o pytest\n",
    "\n",
    "#copiando os trechos do código para um módulo aparte\n",
    "# import random\n",
    "\n",
    "# class Ordenador:\n",
    "#     def selecao_direta(self, lista):\n",
    "#         fim = len(lista)\n",
    "#         for i in range(fim -1):\n",
    "#             posicao_do_minimo = i\n",
    "#             for j in range(i+1, fim):\n",
    "#                 if lista[j] < lista[posicao_do_minimo]:\n",
    "#                     posicao_do_minimo = j\n",
    "\n",
    "#             lista[i], lista[posicao_do_minimo] = lista[posicao_do_minimo], lista[i]\n",
    "\n",
    "\n",
    "#     def bolha_melhorada(self, lista):\n",
    "#         fim = len(lista)\n",
    "        \n",
    "#         for i in range(fim-1, 0, -1):\n",
    "#             trocou = False\n",
    "#             for j in range(i):\n",
    "#                 if lista[j] > lista[j+1]:\n",
    "#                     lista[j], lista[j+1] = lista[j+1], lista[j]\n",
    "#                     trocou = True\n",
    "#             if not trocou:\n",
    "#                 return\n",
    "\n",
    "# class lista_compara:\n",
    "    \n",
    "#     def lista_aleatoria(self, n):\n",
    "#         lista = [random.randrange(1000) for x in range(n)] # Cria uma lista com n inteiros aleatórios entre 0 e 999\n",
    "#         return lista\n",
    "    \n",
    "#     def lista_quase_ordenada(self,n):\n",
    "#         lista = [x for x in range(n)]\n",
    "#         lista[n//10] = -500\n",
    "#         return lista\n"
   ]
  },
  {
   "cell_type": "code",
   "execution_count": 13,
   "metadata": {},
   "outputs": [],
   "source": [
    "# #Teste Automatizado\n",
    "\n",
    "# import Ordenador\n",
    "# import pytest\n",
    "\n",
    "# class TestaOrdenador:\n",
    "#     @pytest.fixture\n",
    "#     def o(self):\n",
    "#         return Ordenador.Ordenador()\n",
    "    \n",
    "#     @pytest.fixture\n",
    "#     def l_quase(self):\n",
    "#         l_quase = Ordenador.lista_compara()\n",
    "#         return l_quase.lista_quase_ordenada(100)\n",
    "    \n",
    "#     @pytest.fixture\n",
    "#     def l_aleat(self):\n",
    "#         l_aleatoria = Ordenador.lista_compara()\n",
    "#         return l_aleatoria.lista_aleatoria(100)\n",
    "    \n",
    "#     def esta_ordenada(self, l):\n",
    "#         for i in range(len(l)-1):\n",
    "#             if l[i] > l[i+1]:\n",
    "#                 return False\n",
    "#             else:\n",
    "#                 return True\n",
    "    \n",
    "#     def test_bolha_melhorada_aleatoria(self, o,  l_aleat):\n",
    "#         o.bolha_melhorada(l_aleat)\n",
    "#         assert self.esta_ordenada(l_aleat)\n",
    "\n",
    "#     def test_selecao_direta_aleatoria(self, o, l_aleat):\n",
    "#         o.selecao_direta(l_aleat)\n",
    "#         assert self.esta_ordenada(l_aleat)\n",
    "\n",
    "#     def test_bolha_melhorada_quase(self, o,  l_quase):\n",
    "#         o.bolha_melhorada(l_quase)\n",
    "#         assert self.esta_ordenada(l_quase)\n",
    "\n",
    "#     def test_selecao_direta_quase(self, o, l_quase):\n",
    "#         o.selecao_direta(l_quase)\n",
    "#         assert self.esta_ordenada(l_quase)"
   ]
  },
  {
   "cell_type": "markdown",
   "metadata": {},
   "source": [
    "# Busca Binaria"
   ]
  },
  {
   "cell_type": "markdown",
   "metadata": {},
   "source": [
    "Algoritmo muito usado para encontrar elementos em uma lista já ordenada"
   ]
  },
  {
   "cell_type": "markdown",
   "metadata": {},
   "source": [
    "_Este algoritmo leva em conta o fato da lista ja esta ordenada para otimizar a busca_"
   ]
  },
  {
   "cell_type": "code",
   "execution_count": 15,
   "metadata": {},
   "outputs": [],
   "source": [
    "class Ordenador_busca_binaria:\n",
    "    def busca_binaria(self, lista, x):\n",
    "        primeiro = 0 #Aponta para o primeiro elemento da lista\n",
    "        ultimo = len(lista) - 1 #Aponta para o ultimo elemento da lista\n",
    "        \n",
    "        while primeiro <= ultimo: #Executa enquanto até a lista ficar 'vazia'\n",
    "            meio = (primeiro + ultimo) // 2 #Encontrando o elemento do meio da lista\n",
    "            \n",
    "            if lista[meio] == x:\n",
    "                return meio\n",
    "            else:\n",
    "                if x < lista[meio]:\n",
    "                    ultimo = meio - 1\n",
    "                else:\n",
    "                    primeiro = meio + 1 \n",
    "        return -1"
   ]
  },
  {
   "cell_type": "code",
   "execution_count": 55,
   "metadata": {},
   "outputs": [],
   "source": [
    "lista = [x for x in range(-10, 10)]"
   ]
  },
  {
   "cell_type": "code",
   "execution_count": 56,
   "metadata": {},
   "outputs": [],
   "source": [
    "b = Ordenador_busca_binaria()"
   ]
  },
  {
   "cell_type": "code",
   "execution_count": 57,
   "metadata": {},
   "outputs": [
    {
     "data": {
      "text/plain": [
       "10"
      ]
     },
     "execution_count": 57,
     "metadata": {},
     "output_type": "execute_result"
    }
   ],
   "source": [
    "b.busca_binaria(lista, 0)"
   ]
  },
  {
   "cell_type": "code",
   "execution_count": 58,
   "metadata": {},
   "outputs": [
    {
     "data": {
      "text/plain": [
       "[-10, -9, -8, -7, -6, -5, -4, -3, -2, -1, 0, 1, 2, 3, 4, 5, 6, 7, 8, 9]"
      ]
     },
     "execution_count": 58,
     "metadata": {},
     "output_type": "execute_result"
    }
   ],
   "source": [
    "lista"
   ]
  },
  {
   "cell_type": "markdown",
   "metadata": {},
   "source": [
    "### Complexidade da Busca Binaria "
   ]
  },
  {
   "cell_type": "markdown",
   "metadata": {},
   "source": [
    "__No pior caso:__ log n (base 2) <br/>"
   ]
  },
  {
   "cell_type": "code",
   "execution_count": null,
   "metadata": {},
   "outputs": [],
   "source": []
  },
  {
   "cell_type": "code",
   "execution_count": null,
   "metadata": {},
   "outputs": [],
   "source": []
  }
 ],
 "metadata": {
  "kernelspec": {
   "display_name": "Python 3",
   "language": "python",
   "name": "python3"
  },
  "language_info": {
   "codemirror_mode": {
    "name": "ipython",
    "version": 3
   },
   "file_extension": ".py",
   "mimetype": "text/x-python",
   "name": "python",
   "nbconvert_exporter": "python",
   "pygments_lexer": "ipython3",
   "version": "3.7.1"
  }
 },
 "nbformat": 4,
 "nbformat_minor": 2
}
