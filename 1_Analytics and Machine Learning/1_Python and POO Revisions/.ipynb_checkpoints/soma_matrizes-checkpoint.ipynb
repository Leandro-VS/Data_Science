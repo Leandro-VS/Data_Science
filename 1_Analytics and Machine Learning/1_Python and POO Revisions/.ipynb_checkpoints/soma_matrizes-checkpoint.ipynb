{
 "cells": [
  {
   "cell_type": "code",
   "execution_count": 11,
   "metadata": {},
   "outputs": [],
   "source": [
    "def soma_matrizes(m1, m2):\n",
    "    dim_i_m1 = len(m1)\n",
    "    dim_j_m1 = len(m1[0])\n",
    "    dim_i_m2 = len(m2)\n",
    "    dim_j_m2 = len(m2[0])\n",
    "    matriz_soma = []\n",
    "    if dim_i_m1 == dim_i_m2 and dim_j_m1 == dim_j_m2:\n",
    "        for i in range(len(m1)):\n",
    "            linha = []\n",
    "            for j in range(len(m1[0])):\n",
    "                linha.append(m1[i][j] + m2[i][j])\n",
    "            matriz_soma.append(linha)    \n",
    "        return matriz_soma\n",
    "    else:\n",
    "        return False"
   ]
  },
  {
   "cell_type": "code",
   "execution_count": null,
   "metadata": {},
   "outputs": [],
   "source": []
  }
 ],
 "metadata": {
  "kernelspec": {
   "display_name": "Python 3",
   "language": "python",
   "name": "python3"
  },
  "language_info": {
   "codemirror_mode": {
    "name": "ipython",
    "version": 3
   },
   "file_extension": ".py",
   "mimetype": "text/x-python",
   "name": "python",
   "nbconvert_exporter": "python",
   "pygments_lexer": "ipython3",
   "version": "3.6.7"
  }
 },
 "nbformat": 4,
 "nbformat_minor": 2
}
