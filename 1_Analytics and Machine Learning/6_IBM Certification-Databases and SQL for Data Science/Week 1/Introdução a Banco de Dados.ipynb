{
 "cells": [
  {
   "cell_type": "markdown",
   "metadata": {
    "heading_collapsed": true
   },
   "source": [
    "# Introduction"
   ]
  },
  {
   "cell_type": "markdown",
   "metadata": {
    "hidden": true
   },
   "source": [
    "## O que é SQL?"
   ]
  },
  {
   "cell_type": "markdown",
   "metadata": {
    "hidden": true
   },
   "source": [
    "* Structured Query Language\n",
    "* Uma linguagem usada em banco de dados relacionais para consultar(query) ou retirar dados de um Banco de Dados.\n"
   ]
  },
  {
   "cell_type": "markdown",
   "metadata": {
    "hidden": true
   },
   "source": [
    "##  O que é um Banco de Dados?"
   ]
  },
  {
   "cell_type": "markdown",
   "metadata": {
    "hidden": true
   },
   "source": [
    "* É um repositório de dados, programado para armazena-los\n",
    "* Banco de dados também fornecem funcionalidades como add, modificar ou consultar os dados\n",
    "* Eles podem armazenar os dados de varias maneiras diferentes\n",
    "* Dados armazenados no formato tabular é um Banco de dados Relacional, nestes tipos de bancos é possível criar relações entre as tabelas.\n",
    "* Um conjunto de ferramentas para o controle dos dados em um banco de dados, como por exemplo acesso, organização e armazenamento, são chamadas de \"Database Management System\" ou DBMS. Para um banco de dados relacional chama-se de RDBMS\n",
    "* Exemplos de RDBMS são: __My SQL, Oracle Database, DB2 Warehouse on Cloud e DB2 Express C.__"
   ]
  },
  {
   "cell_type": "markdown",
   "metadata": {
    "hidden": true
   },
   "source": [
    "## Comandos baśicos em SQL"
   ]
  },
  {
   "cell_type": "markdown",
   "metadata": {
    "hidden": true
   },
   "source": [
    "* Create a table\n",
    "* Insert\n",
    "* Select\n",
    "* Update\n",
    "* Delete"
   ]
  },
  {
   "cell_type": "markdown",
   "metadata": {
    "heading_collapsed": true
   },
   "source": [
    "# Criando um banco de dados instanciado na Cloud"
   ]
  },
  {
   "cell_type": "markdown",
   "metadata": {
    "hidden": true
   },
   "source": [
    "Um banco de dados na nuvem possui as mesmas funcionalidades de um db comum mas com a flexibilidade da nuvem. Além disso há algumas vantagens como: \n",
    "* Fácil de usar: usuário podem acessar remotamente um banco de dados através de uma API do fornecedor ou de uma aplicação web\n",
    "* Escalabilidade: é possível aumentar sua capacidade em \"runtime\" para se adequar as mudanças necessarias e as organizações só pagam pelo que usarem\n",
    "* Recuperação de Imprevistos: caso acontece algum desatre natural, queda de energia, etc... Os dados se mantem seguros através de backups em servidores remotos \n",
    "* Exemplos de Cloud DB: __IBM db2 on Cloud, Compose for PostgreSQL, Oracle Database Cloud, Microsoft Azure Cloud - SQL Database, Amazon Relational Database Services.__ Todos podem rodar na nuvem ou numa maquina virtual ou em outro serviço, depende da empresa."
   ]
  },
  {
   "cell_type": "markdown",
   "metadata": {
    "hidden": true
   },
   "source": [
    "## Database Service"
   ]
  },
  {
   "cell_type": "markdown",
   "metadata": {
    "hidden": true
   },
   "source": [
    "Database services são abstrações logicas para gerenciar a carga de trabalho de um banco de dados. Cada _service_ representa uma carga de trabalho com atributos comuns, nível limite de serviço e prioridades.<br>\n",
    "Um agrupamento dos dados é baseado nos atributos do trabalho que podem incluir a função aplicação para ser usada, a prioridade de execução, a classe do trabalho a ser gerenciado ou o intervalo dos dados que serão utilizados pela função da aplicação.<br><br>\n",
    "\n",
    "Uma instancia de uma banco de dados na nuvem opera com um serviço que abrange todas as requisições da aplicação para trabalhar com os dados em todos os banco de dados gerenciados por essa instancia.<br>\n",
    "<img src=\"dc_cloud_service.png\">\n"
   ]
  },
  {
   "cell_type": "markdown",
   "metadata": {
    "hidden": true
   },
   "source": [
    "## Criando um Banco de dados com IBM db2 on Cloud"
   ]
  },
  {
   "cell_type": "markdown",
   "metadata": {
    "hidden": true
   },
   "source": [
    "https://cloud.ibm.com/services/dashdb-for-transactions/crn%3Av1%3Abluemix%3Apublic%3Adashdb-for-transactions%3Aus-south%3Aa%2F94e3ff92ca2c4cb69d06eb7f3d112c4a%3Ac2ffde0a-6ee8-4d86-a25e-db79533fe065%3A%3A?paneId=gettingStarted&new=true"
   ]
  },
  {
   "cell_type": "markdown",
   "metadata": {
    "heading_collapsed": true
   },
   "source": [
    "# Basic SQL"
   ]
  },
  {
   "cell_type": "markdown",
   "metadata": {
    "hidden": true
   },
   "source": [
    "Visto os 5 comandos basicos de um Banco de dados, vemos agora que eles estão dentro de duas categorias:\n",
    "* DDL (Data Definition Language): Usada para Definir, alterar ou deletar os dados\n",
    "* DML (Data Manipulation Language): Usada para leitura e modificação dos dados"
   ]
  },
  {
   "cell_type": "markdown",
   "metadata": {
    "hidden": true
   },
   "source": [
    "_As vezes podem aparecer nomes adicionais a pós a criação de uma coluna, como por exemplo \"NOT NULL\", isto significa que tal coluna não pode conter valores nulos ou faltantes. <br>\n",
    "Também é possível definir qual das colunas será a \"PRIMARY KEY\", que é um identificador unico da tabela. Usa-la pode acelerar muito as querys_"
   ]
  },
  {
   "cell_type": "markdown",
   "metadata": {
    "hidden": true
   },
   "source": [
    "__Algumas expressões uteis que são usadas com \"Select\":__\n",
    "* COUNT() é uma função que retorna o numero de linhas que dão match com o criterio da query\n",
    "* DISTINCT() é usada para remover valores duplicados no resultado da query (result set)\n",
    "* LIMIT() é usada para restringir o numero de linhas do banco de dados que serão retornadas (como o pd.head())"
   ]
  },
  {
   "cell_type": "markdown",
   "metadata": {
    "hidden": true
   },
   "source": [
    "Os dados podem ser inseridos em um banco de dados todos de um vez ou apenas uma linha, para isso utilizamos DML.\n",
    "* INSERT é um dos metodos de manipulação dos dados do DML"
   ]
  },
  {
   "cell_type": "markdown",
   "metadata": {
    "hidden": true
   },
   "source": [
    "___O lab hands-on deste curso utiliza a plataforma de database na nuvem da IBM, que conta com console para rodar as querys e tudo mais___"
   ]
  },
  {
   "cell_type": "markdown",
   "metadata": {},
   "source": [
    "# Conceitos de Banco de Dados Relacionais"
   ]
  },
  {
   "cell_type": "markdown",
   "metadata": {},
   "source": [
    "## Information Model vs Data Model"
   ]
  },
  {
   "cell_type": "markdown",
   "metadata": {},
   "source": [
    "Information models e Data models são diferentes e servem a propósitos diferentes.<br>\n",
    "__Information Models__ é uma representação abstrata formal das entidades, que incluem suas propriedades, relações e operações que podem ser realizadas neles. Information model esta em um nível conceitual e define as relações entre os objetos. <br>\n",
    "__Data Models__ são definidos em um nível mais concreto, são especificos e incluem detalhes. Um data model é um diagrama de todo o sistema de banco de dados."
   ]
  },
  {
   "cell_type": "markdown",
   "metadata": {},
   "source": [
    "Existem varios tipos de Information Models, o mais familiar é o _hierarquico_ tipicamente utilizado para orgonogramas, estruturando os dados em um formato de Arvore (binary tree).<br>\n",
    "__OBS:__ O primeiro sistema de gerenciamento de banco de dados Hierarquico era o \"Information Management System\" feito pela IBM em 1968, que foi criado para o projeto espacial _Apollo_"
   ]
  },
  {
   "cell_type": "markdown",
   "metadata": {},
   "source": [
    "## Banco de Dados Relacionais"
   ]
  },
  {
   "cell_type": "markdown",
   "metadata": {},
   "source": [
    "* O tipo mais comum de BD\n",
    "* Permite dados independentes\n",
    "* Dados são armazenados em tabelas <br>\n",
    "\n",
    "Isso tudo fornece uma independencia logica e fisica dos dados, alem de um armazenamento fisico independente também. <br><br>\n",
    "\n",
    "Um modelo de dados _\"Entidade-Relacionamento\"_ ou ER é uma alternativa para o modelo de dados relacional. É possível construir um diagrama utilizando o ER, que chama-se então ERD para explicitar as relações entre as entidades chamadas tabelas. O modelo ER propõe pensar em um banco de dados como uma coleção de entidades, em vez de ser usado como um modelo sozinho, ER é uma ferramenta utilizada para criar um banco de dados relacional.<br>\n",
    "Neste modelo todas as entidades são objetos que existem independentemente dos outros no banco de dados, desta forma torna-se simples converter um ERD em uma coleção de tabelas.<br>\n",
    "Para construi-lo são necessários Entidades e Atributos. Entidades possuem atributos que são os elementosque caracterizam a entidade, logo os atributos fornecem mais detalhes sobre a entidade. Em um ERD as entidades são representadas por um retangulo e seus atributos (ligados ao retangulo) são representados por elipses."
   ]
  },
  {
   "cell_type": "markdown",
   "metadata": {},
   "source": [
    "## Tipos de Relações"
   ]
  },
  {
   "cell_type": "markdown",
   "metadata": {},
   "source": [
    "Entre as entidades podem haver relações, sendo assim temos relações dos tipos:\n",
    "* One-to-one, onde pelos menos uma e exatamente uma entidade, dentro do conjunto de entidades, possuem relações, ou seja uma entidade possui ao menos uma e só uma relação com alguma outra entidade. A especificação da relação é representada por um _Losango_ no ERD e a representação do tipo da relação (neste caso one-to-one) por \"Entity - || - losango - || - Entity\" <br><br>\n",
    "\n",
    "* One-to-many, algumas vezes uma entidade pode relacionar-se com varias outras entidades e sendo assim sua representação passa a set \"Entity_1 - || - losango - < - Entity_2\", neste caso a representação significa que apenas uma Entity_1 possui relação com varias das Entity_2. <br><br>\n",
    "\n",
    "* Many-to-many, temos também quando varias entidades podem se relacionar com varias outras ao mesmo tempo, a representação pode ser \"Entity_1 - > - losango - < - Entity_2\", neste caso a representação significa que varias Entity_2 possuem relação com varias Entity_1"
   ]
  },
  {
   "cell_type": "code",
   "execution_count": null,
   "metadata": {},
   "outputs": [],
   "source": []
  },
  {
   "cell_type": "code",
   "execution_count": null,
   "metadata": {},
   "outputs": [],
   "source": []
  }
 ],
 "metadata": {
  "kernelspec": {
   "display_name": "Python 3",
   "language": "python",
   "name": "python3"
  },
  "language_info": {
   "codemirror_mode": {
    "name": "ipython",
    "version": 3
   },
   "file_extension": ".py",
   "mimetype": "text/x-python",
   "name": "python",
   "nbconvert_exporter": "python",
   "pygments_lexer": "ipython3",
   "version": "3.7.4"
  },
  "latex_envs": {
   "LaTeX_envs_menu_present": true,
   "autoclose": true,
   "autocomplete": true,
   "bibliofile": "biblio.bib",
   "cite_by": "apalike",
   "current_citInitial": 1,
   "eqLabelWithNumbers": true,
   "eqNumInitial": 1,
   "hotkeys": {
    "equation": "Ctrl-E",
    "itemize": "Ctrl-I"
   },
   "labels_anchors": false,
   "latex_user_defs": false,
   "report_style_numbering": false,
   "user_envs_cfg": false
  },
  "toc": {
   "base_numbering": 1,
   "nav_menu": {},
   "number_sections": true,
   "sideBar": true,
   "skip_h1_title": false,
   "title_cell": "Table of Contents",
   "title_sidebar": "Contents",
   "toc_cell": false,
   "toc_position": {},
   "toc_section_display": true,
   "toc_window_display": true
  }
 },
 "nbformat": 4,
 "nbformat_minor": 2
}
