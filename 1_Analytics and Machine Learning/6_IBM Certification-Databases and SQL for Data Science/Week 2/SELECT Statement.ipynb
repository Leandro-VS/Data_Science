{
 "cells": [
  {
   "cell_type": "markdown",
   "metadata": {
    "heading_collapsed": true
   },
   "source": [
    "# Using String Patterns, Ranges"
   ]
  },
  {
   "cell_type": "markdown",
   "metadata": {
    "hidden": true
   },
   "source": [
    "Banco de dados nao são feitos apenas para armazenar dados de forma estruturada mas tambeḿ para tornar mais facil a consulta dos mesmo, nesse sentido é possível fazer buscar nos dados através de padrões estabelicidos nas querys.<br><br>\n",
    "__Exemplos:__"
   ]
  },
  {
   "cell_type": "markdown",
   "metadata": {
    "hidden": true
   },
   "source": [
    "select firstname from AUTHOR <br>\n",
    "    where firstname like 'R%'\n",
    "<br><br>\n",
    "___Aqui buscamos por todos os primeiros nomes na tabela AUTHOR que começam com a letra R___ "
   ]
  },
  {
   "cell_type": "markdown",
   "metadata": {
    "hidden": true
   },
   "source": [
    "select title, pages from BOOK <br>\n",
    "where pages >= 290 and pages <=300 <br><br>\n",
    "_Em bando de dados relacionais é possível escrever essa query de outra maneira_ <br><br>\n",
    "select title, pages from BOOK <br>\n",
    "where pages between 290 and 300 <br>\n",
    "<br>\n",
    "___Em ambos os casos, selecionamos os titulos que possuam a quantidade de paginas entre 290 e 300___"
   ]
  },
  {
   "cell_type": "markdown",
   "metadata": {
    "hidden": true
   },
   "source": [
    "__Para buscar varios resultados apartir de uma comparação, ou seja, percorrer todas as linhas e retirar as que retornam TRUE para a comparação, usa-se o operador \"IN\"__<br><br>\n",
    "\n",
    "select firstname, lastname, country from AUTHOR <br>\n",
    "where country IN('AU', 'BR') <br>\n",
    "<br>\n",
    "___Neste caso é retornado todas as linhas contendo o nome e sobrenome dos autores com nacionalidade em AU e BR.___"
   ]
  },
  {
   "cell_type": "markdown",
   "metadata": {
    "heading_collapsed": true
   },
   "source": [
    "# Sorting and Grouping"
   ]
  },
  {
   "cell_type": "markdown",
   "metadata": {
    "heading_collapsed": true,
    "hidden": true
   },
   "source": [
    "## Sorting the Result Set"
   ]
  },
  {
   "cell_type": "markdown",
   "metadata": {
    "hidden": true
   },
   "source": [
    "Muitas vezes é interesente visualizar o resultadod e uma query em alguma ordem especifica, para isso utilizamos uma _cláusula_ \"Order\" que indica a ordem"
   ]
  },
  {
   "cell_type": "markdown",
   "metadata": {
    "hidden": true
   },
   "source": [
    "select title from book <br>\n",
    "order by title <br>\n",
    "<br>\n",
    "Neste caso o resultado da query é apresentado em ordem alfabética, por default de modo crescente"
   ]
  },
  {
   "cell_type": "markdown",
   "metadata": {
    "hidden": true
   },
   "source": [
    "select title from book <br>\n",
    "order by title desc<br>\n",
    "<br>\n",
    "Aqui o _desc_ especifica que a ordem de apresentação será descendente"
   ]
  },
  {
   "cell_type": "markdown",
   "metadata": {
    "hidden": true
   },
   "source": [
    "select title, pages from BOOK <br>\n",
    "order 2 <br>\n",
    "<br>\n",
    "Esta outra maneira de ordenação siginifica que ordenaremos o resultado através da segunda coluna especificada, neste caso pages, logo o \"2\" substitui \"by pages\""
   ]
  },
  {
   "cell_type": "markdown",
   "metadata": {
    "hidden": true
   },
   "source": [
    "## Grouping Result Set"
   ]
  },
  {
   "cell_type": "markdown",
   "metadata": {
    "hidden": true
   },
   "source": [
    "Frequentemente ao fazer uma query estamos interessados em saber apenas os valores unicos presentes, ou seja, não nos interessa duplicatas, neste caso podemos utilizar a clausula _Distinc_"
   ]
  },
  {
   "cell_type": "markdown",
   "metadata": {
    "hidden": true
   },
   "source": [
    "select distinct(country) from AUTHOR <br>\n",
    "<br>\n",
    "__Neste caso é retornado apenas os valores unicos da coluna country da tabela author__"
   ]
  },
  {
   "cell_type": "markdown",
   "metadata": {
    "hidden": true
   },
   "source": [
    "Uma maneira de exibir os valores unicos e conta-los afim de organizar o resultado de ma maneira especifica, podemos fazer:<br>\n",
    "<br>\n",
    "select country, count(country) <br>\n",
    "    as count from author group by country<br>\n",
    "<br>\n",
    "__Neste caso teremos como resultado os paises organizados em ordem alfabética e a contagem de quantas vezes cada um esta presente na tabela__"
   ]
  },
  {
   "cell_type": "markdown",
   "metadata": {
    "heading_collapsed": true
   },
   "source": [
    "# Functions, Sub-Queries, Multiples Tables"
   ]
  },
  {
   "cell_type": "markdown",
   "metadata": {
    "hidden": true
   },
   "source": [
    "## Construindo funções no Banco de Dados"
   ]
  },
  {
   "cell_type": "markdown",
   "metadata": {
    "hidden": true
   },
   "source": [
    "Bult-in Functions são comuns em bancos de dados, frequentemente os bancos ja veem com algumas delas. Tais funções podem ser incluidas como parte das declarações SQL e reduzem significativamente a quantidade de dados que serão recuperados, ou seja, essas funções reduzem o trafego na rede e o uso da banda larga, além de acelerar o processamento dos dados principalmente em bancos de dados muito grandes."
   ]
  },
  {
   "cell_type": "markdown",
   "metadata": {
    "hidden": true
   },
   "source": [
    "__Aggregate or Column Functions:__"
   ]
  },
  {
   "cell_type": "markdown",
   "metadata": {
    "hidden": true
   },
   "source": [
    "* INPUT: Coleção de valores (uma coluna inteira)\n",
    "* OUTPUT: Um único valor ou NULL\n",
    "* Ex: SUM(), MIN(), MAX(), AVG(), etc...\n"
   ]
  },
  {
   "cell_type": "markdown",
   "metadata": {
    "hidden": true
   },
   "source": [
    "__Scaler Function:__"
   ]
  },
  {
   "cell_type": "markdown",
   "metadata": {
    "hidden": true
   },
   "source": [
    "* ROUND(), LENGH(), UCASE(), LCASE()\n",
    "\n",
    "Scaler function opera de forma individual sobre o input, por exemplo: <br>\n",
    "<br>\n",
    "_select ROUND(Saleprice) from Petsale_\n",
    "<br><br>\n",
    "Irá fazer com que cada valor da coluna Saleprice - da tabela Petsale - seja arredondado para o vizinho mais proximo, e neste caso pode ser para mais ou menos, afim de ter valores inteiros."
   ]
  },
  {
   "cell_type": "markdown",
   "metadata": {
    "hidden": true
   },
   "source": [
    "__Data, Time Functions:__"
   ]
  },
  {
   "cell_type": "markdown",
   "metadata": {
    "hidden": true
   },
   "source": [
    "Muitos banco de dados possuem tipos especiais para dados de datas e tempos, como:\n",
    "* DATE: YYYMMDD\n",
    "* TIME: HHMMSS\n",
    "* TIMESTAMP: YYYYXXDDHHMMSSZZZZZZ\n",
    "    * XX: Mês\n",
    "    * ZZZ...: Microssegundos <br><br>\n",
    "\n",
    "Tais funções existem para extrair informações como:\n",
    "* YEAR(), MONTH(), DAY(), DAYOFMONTH(), DAYOFWEEK(), DAYOFYEAR(), WEEK(), HOUR(), MINUTE(), SECOND()"
   ]
  },
  {
   "cell_type": "markdown",
   "metadata": {
    "hidden": true
   },
   "source": [
    "__Exemplos:__<br>\n",
    "* Extrair parte do dia apartir de uma data:\n",
    "    * _select DAY(Saledate) from Petsale where Animal = 'cat'_\n",
    "* Extrair o numero de vendas durante o mês de Maio:\n",
    "    * _select Count(*) from Petsale where MONTH(Saledate) = '05'_"
   ]
  },
  {
   "cell_type": "markdown",
   "metadata": {
    "heading_collapsed": true
   },
   "source": [
    "# Sub-Queries and Nested Selects"
   ]
  },
  {
   "cell_type": "markdown",
   "metadata": {
    "hidden": true
   },
   "source": [
    "Uma sub-query nada mais é do que uma query dentro de outra query, este simples metodo agiliza muito as consultas em banco de dados. Um outro bom motivo para se usar sub-querys é por que as built-in functions não são aceitas como parametros para a clausula _WHERE_ , isto gera um erro. Neste caso, após o WHERE, usa-se uma nova query, entre ().<br><br>\n",
    "\n",
    "__Errado:__<br>\n",
    "_select * from Petsale_ <br>\n",
    "_where salary < AVG(salary);_\n",
    "<br><br>\n",
    "__Correto:__<br>\n",
    "_select EMP_ID, F_name, L_name, Salary from Employees_ <br>\n",
    "_where Salary < (select AVG(salary) from Employees);_"
   ]
  },
  {
   "cell_type": "markdown",
   "metadata": {
    "heading_collapsed": true
   },
   "source": [
    "# Working with Multiple Tables"
   ]
  },
  {
   "cell_type": "markdown",
   "metadata": {
    "hidden": true
   },
   "source": [
    "Há muitas maneiras para acessar varias tabelas  em uma mesma query, por exemplo:\n",
    "* Sub-querys\n",
    "* Implicit JOIN\n",
    "* JOIN Operators (INNER JOIN, OUTER JOIN, ETC..)"
   ]
  },
  {
   "cell_type": "markdown",
   "metadata": {
    "hidden": true
   },
   "source": [
    "__Exemplos:__\n",
    "* Para consultar os registros de funcionarios da tabela de funcionarios para os quais existe um ID de departamento na tabela Departamentos:\n",
    "\n",
    "_select * from Employees <br>\n",
    "where Dep_ID IN<br>\n",
    "(select Dept_ID_Dep from Departments)_\n",
    "\n",
    "<br>\n",
    "* Para extrair uma lista com apenas os funcionarios de um determinada locação:\n",
    "\n",
    "_select * from Employees <br>\n",
    "where Dep_ID IN <br>\n",
    "(select Dept_ID_Dep from departments <br>\n",
    "where Loc_ID= 'L0002')_"
   ]
  },
  {
   "cell_type": "markdown",
   "metadata": {
    "hidden": true
   },
   "source": [
    "__É possível acessar varias tabelas apartir da clausula FROM__<br>\n",
    "<br>\n",
    "_select * from Employees, Departments_<br>\n",
    "<br>\n",
    "Esta query esta realizando um JOIN implicito pois retornará a união dessas duas tabelas"
   ]
  },
  {
   "cell_type": "markdown",
   "metadata": {
    "hidden": true
   },
   "source": [
    "__Também é possível usar limitadores na query para retornar apenas informações de interesse para consulta, utilizando prefixos nas clausulas para esficar qual a informação desejada e também para fazer comparações__<br>\n",
    "<br>\n",
    "_select * from Employees, Departments <br>\n",
    "where Employees.Dep_ID = Departments.Dep_ID_Dep_\n",
    "<br><br>\n",
    "__Uma outra maneira, mais abreviada de fazer esta mesma query é com:__ <br><br>\n",
    "_select * from Employees E, Departments D <br>\n",
    "where E.Dep_ID = D.Dep_ID_Dep_"
   ]
  },
  {
   "cell_type": "markdown",
   "metadata": {},
   "source": [
    "# Restrições do Modelo Relacional"
   ]
  },
  {
   "cell_type": "markdown",
   "metadata": {},
   "source": [
    "## Terminologias Importantes"
   ]
  },
  {
   "cell_type": "markdown",
   "metadata": {},
   "source": [
    "* __Referencing (Referenciamento):__ Ocorre quando duas entidades (duas tabelas) possuem relações entre si\n",
    "* __Primary Key:__ Identificador unico para cada linha da tabela\n",
    "* __Foreign Key:__ Um conjunto de colunas referente a Primary Key de outra tabela\n",
    "* __Parent Table:__ Uma tabela que possui uma Primary Key que estabelece relação com ao menos uma Foreign Key\n",
    "* __Dependant Table or Child Table:__ Uma tabela que contem uma ou mais Foreign Keys"
   ]
  },
  {
   "cell_type": "markdown",
   "metadata": {},
   "source": [
    "## Restrições"
   ]
  },
  {
   "cell_type": "markdown",
   "metadata": {},
   "source": [
    "Restrições (Constraints) ajudam a aplicar as regras de negócios, em um modelo relacional a integridade dos dados pode ser alcançada através de regras de integridade ou Restrições. Algumas restrições definidas em um modelo relacional:\n",
    "* __Entity Integrity Constraint:__ Uma Primary Key é uma EIC que previne elementos duplicados numa tabela. Uma EIC garante que para nenhum atributo que pertence a Primary Key de uma relação é permitido valores nulos. <br><br>\n",
    "\n",
    "* __Referencial Integrity Constraint:__ Estabelece relações entre as tabelas e garante que elas permaneçam validas. A validade dos dados é imposta usando uma combinação das Primary keys e Foreign keys. <br><br>\n",
    "\n",
    "* __Semantic Integrity Constraint:__ Garante o significado correto dos dados, ou seja, se cada coluna de uma tabela possui o tipo de dado que foi especificado. <br><br>\n",
    "\n",
    "* __Domain Constraint:__ Especifica os valores validos de um atributo, ou seja, se faz sentido um valor para um dado atributo. <br><br>\n",
    "\n",
    "* __NULL Constraint:__ Especifica os atributos que não podem ser Nulos. <br><br>\n",
    "\n",
    "* __Check Constraint:__ Impõe um dominio de integridade limitando os valores que são aceitos por um atributo"
   ]
  },
  {
   "cell_type": "markdown",
   "metadata": {},
   "source": []
  }
 ],
 "metadata": {
  "kernelspec": {
   "display_name": "Python 3",
   "language": "python",
   "name": "python3"
  },
  "language_info": {
   "codemirror_mode": {
    "name": "ipython",
    "version": 3
   },
   "file_extension": ".py",
   "mimetype": "text/x-python",
   "name": "python",
   "nbconvert_exporter": "python",
   "pygments_lexer": "ipython3",
   "version": "3.7.4"
  },
  "latex_envs": {
   "LaTeX_envs_menu_present": true,
   "autoclose": true,
   "autocomplete": true,
   "bibliofile": "biblio.bib",
   "cite_by": "apalike",
   "current_citInitial": 1,
   "eqLabelWithNumbers": true,
   "eqNumInitial": 1,
   "hotkeys": {
    "equation": "Ctrl-E",
    "itemize": "Ctrl-I"
   },
   "labels_anchors": false,
   "latex_user_defs": false,
   "report_style_numbering": false,
   "user_envs_cfg": false
  },
  "toc": {
   "base_numbering": 1,
   "nav_menu": {},
   "number_sections": true,
   "sideBar": true,
   "skip_h1_title": false,
   "title_cell": "Table of Contents",
   "title_sidebar": "Contents",
   "toc_cell": false,
   "toc_position": {},
   "toc_section_display": true,
   "toc_window_display": false
  }
 },
 "nbformat": 4,
 "nbformat_minor": 2
}
