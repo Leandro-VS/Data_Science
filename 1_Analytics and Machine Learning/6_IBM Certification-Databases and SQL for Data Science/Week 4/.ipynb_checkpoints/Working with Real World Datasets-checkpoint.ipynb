{
 "cells": [
  {
   "cell_type": "markdown",
   "metadata": {
    "heading_collapsed": true
   },
   "source": [
    "# Real DataSets"
   ]
  },
  {
   "cell_type": "markdown",
   "metadata": {
    "heading_collapsed": true,
    "hidden": true
   },
   "source": [
    "## Tips"
   ]
  },
  {
   "cell_type": "markdown",
   "metadata": {
    "hidden": true
   },
   "source": [
    "* [IBM Knowledge Center - Documentation for SQL API](https://www.ibm.com/support/knowledgecenter/en/SSEPGG_10.5.0/com.ibm.db2.luw.sql.ref.doc/doc/r0000843.html)\n",
    "* SQL assume que por padrão que todas as passagens são maiusculas\n",
    "* caso alguma coluna possua um nome que mistuere maiusculas e minusculas, é necessario especificar o nome correto da coluna entre \" \"\n",
    "* Em SQL por padrão os espaços são interpretados como '_' (underscore)\n",
    "* Selecionar apenas algumas linhas do dataset: <br>\n",
    "    _select * from Dataset LIMIT 3_"
   ]
  },
  {
   "cell_type": "markdown",
   "metadata": {
    "hidden": true
   },
   "source": [
    "## Tables and Columns Details"
   ]
  },
  {
   "cell_type": "markdown",
   "metadata": {
    "hidden": true
   },
   "source": [
    "Em uma database podemos estar interessados em conhecer as tabelas que estão ali, ou mesmo nos esquecemos do nome de alguma tabela. Cada seriço de banco de dados possui um nome especifico para a lista com os nomes das tabelas presentes no Banco de Dados, no DB2 é chamado de syscat. <br>\n",
    "Logo para verificar os nomes das tabelas presentes no banco DB2 utilizamos a query: \n",
    "<br><br>\n",
    "___select * from syscat.tables___"
   ]
  },
  {
   "cell_type": "markdown",
   "metadata": {
    "hidden": true
   },
   "source": [
    "Porem a query anterior retornará muitas tabelas incluindo a tabela de sistema, então é melhor filtrar o resultado: <br><br>\n",
    "___select TABSCHEMA, TABNAME, CREATE_TIME from syscat.tables <br>\n",
    "where tabschema = 'ABC12345'___\n",
    "<br><br>\n",
    "OBS: 'ABC12345' Deve ser substituido pelo DB2 Username"
   ]
  },
  {
   "cell_type": "markdown",
   "metadata": {
    "hidden": true
   },
   "source": [
    "É possível tambem buscar uma lista das colunas de uma tabela assim como os tipos e tamanhos dos seus dados. <br>\n",
    "<br>\n",
    "___select distinct(name), coltype, length  <br>\n",
    "from sysibm.syscolumns where tbname = 'Tabela_1'___"
   ]
  },
  {
   "cell_type": "markdown",
   "metadata": {},
   "source": [
    "# Lab Week 4"
   ]
  },
  {
   "cell_type": "markdown",
   "metadata": {},
   "source": [
    "__Steps:__\n",
    "* Download do .csv: (https://ibm.box.com/shared/static/f9gjvj1gjmxxzycdhplzt01qtz0s7ew7.csv)<br><br>\n",
    "* Carregar o csv para o servidor da IBM DB2<br><br>\n",
    "* Estabelecer conexão com o Banco de Dados (__Tem o problema do sql alchemy não dar suporte para o Python3__)<br><br>\n",
    "* Veridicar status das tabelas do Banco de Dados, se esta tudo ok, etc... <br><br>\n",
    "* Analise"
   ]
  },
  {
   "cell_type": "markdown",
   "metadata": {},
   "source": [
    "[Lab_week4_Real Data Analysis Using SQL and Python](http://localhost:8888/notebooks/Documents/Data%20Science/6%20-%20SQL/Week%204/Lab_week4_Real%20Data%20Analysis%20Using%20SQL%20and%20Python.ipynb)"
   ]
  },
  {
   "cell_type": "markdown",
   "metadata": {},
   "source": [
    "# Tarefa: Notebook para revisão de pares"
   ]
  },
  {
   "cell_type": "markdown",
   "metadata": {},
   "source": [
    "__Notebook Tafera Final:__<br><br>\n",
    "[Tarefa_Final](http://localhost:8888/notebooks/Documents/Data%20Science/6%20-%20SQL/Week%204/Tarefa_Final.ipynb)"
   ]
  },
  {
   "cell_type": "code",
   "execution_count": null,
   "metadata": {},
   "outputs": [],
   "source": []
  },
  {
   "cell_type": "code",
   "execution_count": null,
   "metadata": {},
   "outputs": [],
   "source": []
  }
 ],
 "metadata": {
  "kernelspec": {
   "display_name": "Python 3",
   "language": "python",
   "name": "python3"
  },
  "language_info": {
   "codemirror_mode": {
    "name": "ipython",
    "version": 3
   },
   "file_extension": ".py",
   "mimetype": "text/x-python",
   "name": "python",
   "nbconvert_exporter": "python",
   "pygments_lexer": "ipython3",
   "version": "3.7.4"
  },
  "latex_envs": {
   "LaTeX_envs_menu_present": true,
   "autoclose": true,
   "autocomplete": true,
   "bibliofile": "biblio.bib",
   "cite_by": "apalike",
   "current_citInitial": 1,
   "eqLabelWithNumbers": true,
   "eqNumInitial": 1,
   "hotkeys": {
    "equation": "Ctrl-E",
    "itemize": "Ctrl-I"
   },
   "labels_anchors": false,
   "latex_user_defs": false,
   "report_style_numbering": false,
   "user_envs_cfg": false
  },
  "toc": {
   "base_numbering": 1,
   "nav_menu": {},
   "number_sections": true,
   "sideBar": true,
   "skip_h1_title": false,
   "title_cell": "Table of Contents",
   "title_sidebar": "Contents",
   "toc_cell": false,
   "toc_position": {},
   "toc_section_display": true,
   "toc_window_display": true
  }
 },
 "nbformat": 4,
 "nbformat_minor": 2
}
