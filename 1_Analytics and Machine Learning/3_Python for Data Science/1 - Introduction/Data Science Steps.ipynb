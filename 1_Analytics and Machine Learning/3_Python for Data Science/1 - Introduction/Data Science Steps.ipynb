{
 "cells": [
  {
   "cell_type": "markdown",
   "metadata": {},
   "source": [
    "### Aquisição dos dados <center>"
   ]
  },
  {
   "cell_type": "markdown",
   "metadata": {},
   "source": [
    "* Verificar se os dados de interesse estão disponiveis\n",
    "* Os dados podem vir de diferentes fontes, locais ou remotos, estruturados ou não, com diferentes velocidades de transmissão\n",
    "* Em python a diversas ferramentas para adquirir e tratar os dados dessas diferentes fontes"
   ]
  },
  {
   "cell_type": "markdown",
   "metadata": {},
   "source": [
    "_Dentre as diversas fontes e tipos de dados, e a forma como lidamos com eles em python, podemos reuni-los da seguinte forma:_"
   ]
  },
  {
   "cell_type": "markdown",
   "metadata": {},
   "source": [
    "* Data bases tradicionais --> SQL e Query browsers \n",
    "* Remote data --> Web Services\n",
    "* Text files --> Scripting languages\n",
    "* NoSQL storage --> Web services and Programmin Interfaces"
   ]
  },
  {
   "cell_type": "markdown",
   "metadata": {},
   "source": [
    "### Exploração de dados"
   ]
  },
  {
   "cell_type": "markdown",
   "metadata": {},
   "source": [
    "_Nesta estapa é que começamos com a Estatisticas para descrever e inferir sobre os dados_"
   ]
  },
  {
   "cell_type": "markdown",
   "metadata": {},
   "source": [
    "___Por que fazer a exploração dos dados?___ <br/>\n",
    "* Para entender os dados\n",
    "* Buscar correlações, outliers, tendências, etc..\n",
    "* Visualizações como graficos também auxiliam no processo de exploração e entendimento dos dados"
   ]
  },
  {
   "cell_type": "markdown",
   "metadata": {},
   "source": [
    "### Pré-processamento dos dados"
   ]
  },
  {
   "cell_type": "markdown",
   "metadata": {},
   "source": [
    "Em muitos casos os dados precisam ser tratados/transformados para que possamos iniciar as analises sobre os dados. <br/>\n",
    "Algumas coisas que encontramos nos dados e que precisam ser tratadas antes da analise são: <br/>\n",
    "* Valores inconsistentes\n",
    "* Registros duplicados\n",
    "* Missing values\n",
    "* Invalid data\n",
    "* Outliers"
   ]
  },
  {
   "cell_type": "markdown",
   "metadata": {},
   "source": [
    "### Analise dos dados"
   ]
  },
  {
   "cell_type": "markdown",
   "metadata": {},
   "source": [
    "Existem diversos tipos de analises a serem feitas sobre diversos tipos de dados, em cada uma delas determina-se primeiro o modelo a ser usado e depois a melhor tecnica para aplicar aquele modelo"
   ]
  },
  {
   "cell_type": "markdown",
   "metadata": {},
   "source": [
    "_Algumas tecnicas analiticas usadas:_<br/>\n",
    "* Classification\n",
    "* Regression\n",
    "* Clustering\n",
    "* Graph analytics\n",
    "* Association Analytics"
   ]
  },
  {
   "cell_type": "markdown",
   "metadata": {},
   "source": [
    "_Analise de dados pode ser resumida em:<br/>_\n",
    "* Selecionar a tecnica a ser usada\n",
    "* Criar o modelo\n",
    "* Validar o modelo (Testa-lo, verificar se o resultado ou previsão esta certo ou se é coerente)"
   ]
  },
  {
   "cell_type": "markdown",
   "metadata": {},
   "source": [
    "### Apresentar os Resultados"
   ]
  },
  {
   "cell_type": "markdown",
   "metadata": {},
   "source": [
    "Uma etapa muito importante pois é onde mostraremos o resultado do nosso trabalho e as medidas que deverão ser tomadas com base nos dados e nas analises feitas"
   ]
  },
  {
   "cell_type": "markdown",
   "metadata": {},
   "source": [
    "_Em uma boa apresentação é preciso ter em mente:_<br/>\n",
    "* Quais sao meus resultados mais importantes?\n",
    "* Que valor estes resultados agregam ao meu problema em questão?\n",
    "* Os resultados atendem aos propositos do projeto inicial?"
   ]
  }
 ],
 "metadata": {
  "kernelspec": {
   "display_name": "Python 3",
   "language": "python",
   "name": "python3"
  },
  "language_info": {
   "codemirror_mode": {
    "name": "ipython",
    "version": 3
   },
   "file_extension": ".py",
   "mimetype": "text/x-python",
   "name": "python",
   "nbconvert_exporter": "python",
   "pygments_lexer": "ipython3",
   "version": "3.7.1"
  }
 },
 "nbformat": 4,
 "nbformat_minor": 2
}
