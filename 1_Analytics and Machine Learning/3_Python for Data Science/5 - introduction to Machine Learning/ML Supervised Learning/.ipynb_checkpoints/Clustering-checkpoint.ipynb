{
 "cells": [
  {
   "cell_type": "markdown",
   "metadata": {},
   "source": [
    "__Organizar os dados em grupos similares__<br>\n",
    "__Exemplos:__\n",
    "* Segmentos de consumidores em grupos\n",
    "* Regiõs classificadas por seu padrão climatico\n",
    "* Grupos de artigos por tópicos\n",
    "* Regiões de ocorrência de diversos tipos de crimes \n",
    "<br><br>\n",
    "_Itens similares são colocados em um mesmo cluster, onde a distância entre os pontos é minimizada, diferente de pontos de clusteres distintos, onde a distancia entre esses pontos é maximizada_"
   ]
  },
  {
   "cell_type": "markdown",
   "metadata": {},
   "source": [
    "__Alguns parametros utilizados para determinar a similaridade entre os itens:__\n",
    "* Distância euclidiana\n",
    "* Distância de Manhattan (pontos conectados por linhas verticais e horizontais)\n",
    "* Similaridade do cosseno dos pontos\n",
    "* Normalização das variaveis (útil quando as variaveis estão em escalas diferentes) - Também é utlizado para redução de dimensionalidade\n"
   ]
  },
  {
   "cell_type": "code",
   "execution_count": null,
   "metadata": {},
   "outputs": [],
   "source": []
  },
  {
   "cell_type": "code",
   "execution_count": null,
   "metadata": {},
   "outputs": [],
   "source": []
  },
  {
   "cell_type": "code",
   "execution_count": null,
   "metadata": {},
   "outputs": [],
   "source": []
  },
  {
   "cell_type": "code",
   "execution_count": null,
   "metadata": {},
   "outputs": [],
   "source": []
  }
 ],
 "metadata": {
  "kernelspec": {
   "display_name": "Python 3",
   "language": "python",
   "name": "python3"
  },
  "language_info": {
   "codemirror_mode": {
    "name": "ipython",
    "version": 3
   },
   "file_extension": ".py",
   "mimetype": "text/x-python",
   "name": "python",
   "nbconvert_exporter": "python",
   "pygments_lexer": "ipython3",
   "version": "3.7.3"
  }
 },
 "nbformat": 4,
 "nbformat_minor": 2
}
