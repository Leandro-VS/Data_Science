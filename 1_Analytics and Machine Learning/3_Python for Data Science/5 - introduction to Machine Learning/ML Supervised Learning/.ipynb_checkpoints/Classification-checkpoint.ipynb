{
 "cells": [
  {
   "cell_type": "markdown",
   "metadata": {},
   "source": [
    "# Classification"
   ]
  },
  {
   "cell_type": "markdown",
   "metadata": {},
   "source": [
    "### Modelos de Classificação: \n",
    "__KNN(K-nearest Neighbors):__ Classifica a amostra \"olhando\" para os vizinhos mais próximos <br>\n",
    "__Decision Tree:__ Multiplas classificações através de decisões ao longo do caminho <br>\n",
    "__Naive Bayes:__ Abordagem estatistica baseada no teorema de Bayes (https://pt.wikipedia.org/wiki/Teorema_de_Bayes); basicamente compara a probabilidade de um evento na presença de outro evento - P(A|B).\n"
   ]
  },
  {
   "cell_type": "markdown",
   "metadata": {},
   "source": [
    "## Classification using Decision Tree\n",
    "Decison tree são estruturas de dados hierarquicas com nodes de arestas direcionadas, com o primeiro node sendo o \"Root Node\"(Node raiz). <br>\n",
    "Abaixo do Node raiz há dois lados que seguem na arvore, em cada lado há uma decisão a ser tomada que determinará em qual direção seguir, ou seja, cada node interno é o resultado do teste feito anteriormente a ele. <br>\n",
    "<img src=\"https://www.cs.cmu.edu/~bhiksha/courses/10-601/decisiontrees/DT.png\" style=\"width:600px;height:400px\">"
   ]
  },
  {
   "cell_type": "markdown",
   "metadata": {},
   "source": [
    "### Construindo uma arvore de decisão\n",
    "__.__ Começando com toda a amostra no node raiz <br>\n",
    "__.__ Dividir a amostra em subsets homogeneos baseados nas variaveis criadas(ou do proprio dataset) <br>\n",
    "__.__ Repetir a divisão até ter subsets puros(totalmente homogeneos) <br>\n",
    "__OBS:__ _A cada divisão o algoritmo decide apenas pela Melhor Forma de dividir aquela porção dos dados, esta abordagem é chamada de \"Abordagem Gananciosa\". A melhor forma de dividir os dataset baseia-se no Gini Index, o algoritmo aplica a divisão a fim de minimizar tal coeficiente; este coeficiente mede o grau de igualdade entre as amostras, variando de 0 (totalmente igual) a 1 (totalmente desigual), em termos percentuais._ <br>\n",
    "__OBS_2:__ Esta \"Melhor divisão\" refere-se a porção dos dados presentes no node atual, nada garante que a mesma divisão feita no conjunto inteiro é a melhor!!!<br>\n",
    "<br>\n",
    "__Quando parar de dividir?__<br>\n",
    "__.__ Toda (ou x%) da amostra possuem a mesma classificação(mesma label).<br>\n",
    "__.__ O numero de amostras em um node atingiu um valor minimo - _desta forma a divisao nao seria significativa em comparação com o tamanho da amostra original._ <br>\n",
    "__.__ O grau de impureza da amostra é muito pequena para ser significante <br>\n",
    "__.__ A profundidade maxima foi atingida. <br>\n",
    "__.__ Etc.."
   ]
  },
  {
   "cell_type": "markdown",
   "metadata": {},
   "source": []
  },
  {
   "cell_type": "code",
   "execution_count": null,
   "metadata": {},
   "outputs": [],
   "source": []
  },
  {
   "cell_type": "code",
   "execution_count": null,
   "metadata": {},
   "outputs": [],
   "source": []
  }
 ],
 "metadata": {
  "kernelspec": {
   "display_name": "Python 3",
   "language": "python",
   "name": "python3"
  },
  "latex_envs": {
   "LaTeX_envs_menu_present": true,
   "autoclose": true,
   "autocomplete": true,
   "bibliofile": "biblio.bib",
   "cite_by": "apalike",
   "current_citInitial": 1,
   "eqLabelWithNumbers": true,
   "eqNumInitial": 1,
   "hotkeys": {
    "equation": "Ctrl-E",
    "itemize": "Ctrl-I"
   },
   "labels_anchors": false,
   "latex_user_defs": false,
   "report_style_numbering": false,
   "user_envs_cfg": false
  },
  "toc": {
   "base_numbering": 1,
   "nav_menu": {},
   "number_sections": true,
   "sideBar": true,
   "skip_h1_title": false,
   "title_cell": "Table of Contents",
   "title_sidebar": "Contents",
   "toc_cell": false,
   "toc_position": {},
   "toc_section_display": true,
   "toc_window_display": false
  }
 },
 "nbformat": 4,
 "nbformat_minor": 2
}
