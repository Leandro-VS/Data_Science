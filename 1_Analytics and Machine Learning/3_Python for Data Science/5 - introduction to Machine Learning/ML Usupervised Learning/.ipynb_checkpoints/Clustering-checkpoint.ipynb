{
 "cells": [
  {
   "cell_type": "markdown",
   "metadata": {},
   "source": [
    "## Organizar os dados em grupos similares\n",
    "__Exemplos:__\n",
    "* Segmentos de consumidores em grupos\n",
    "* Regiõs classificadas por seu padrão climatico\n",
    "* Grupos de artigos por tópicos\n",
    "* Regiões de ocorrência de diversos tipos de crimes \n",
    "<br><br>\n",
    "_Itens similares são colocados em um mesmo cluster, onde a distância entre os pontos é minimizada, diferente de pontos de clusteres distintos, onde a distancia entre esses pontos é maximizada_"
   ]
  },
  {
   "cell_type": "markdown",
   "metadata": {},
   "source": [
    "### Alguns parametros utilizados para determinar a similaridade entre os itens:\n",
    "* Distância euclidiana\n",
    "* Distância de Manhattan (pontos conectados por linhas verticais e horizontais)\n",
    "* Similaridade do cosseno dos pontos\n",
    "* Normalização das variaveis (útil quando as variaveis estão em escalas diferentes) - Também é utlizado para redução de dimensionalidade\n"
   ]
  },
  {
   "cell_type": "markdown",
   "metadata": {},
   "source": [
    "## k-Means Clustering"
   ]
  },
  {
   "cell_type": "markdown",
   "metadata": {},
   "source": [
    "k-Means é um algoritmo classico para analise de clusters, basicamente funciona da seguinte forma:<br>\n",
    "* Inicialmente escolhe-se o k inicial(centroide), ou seja, o centro do cluster\n",
    "* Atribuir cada amostra ao centroide mais proximo, ou seja, determinar a distancia entre cada amostra e o centro do cluester\n",
    "* Calcular a media de cada cluster para determinar um novo centróide\n",
    "* Os passos anteriores são repetidos até que seja atingido um critério pré-determinado\n",
    "\n",
    "<img src=\"http://www.learnbymarketing.com/wp-content/uploads/2015/01/method-k-means-steps-example.png\">"
   ]
  },
  {
   "cell_type": "markdown",
   "metadata": {},
   "source": [
    "__OBS:__ O cluster final é sensível a escolha do centroide inicial, sendo assim devemos rodar o k-means varias vezes com centroides iniciais diferentes e randomicos para escolher o melhor resultado."
   ]
  },
  {
   "cell_type": "markdown",
   "metadata": {},
   "source": [
    "__Estimando o resultado do clustering__<br>\n",
    "__Error:__ Distância entre a amostra e o centroide <br>\n",
    "__Erro²:__ Error ** 2<br>\n",
    "__WSSE:__ Soma de todos os erros quadrados entre amostras e centroides para todos os clusteres naquela execução\n",
    "<br><br>\n",
    "Se WSSE1 < WSSE2 -> WSSE1 é melhor numericamente <br>\n",
    "_Porem isto nao significa que o cluster set 1 é \"mais correto\" do que o cluster set 2<br>\n",
    "Notando também que grandes valores de k sempre reduzirá  o WSSE_ <br>\n",
    "<br>\n",
    "___É crucial conhecer bem o que cada cluster representa para interpretar corretamente o resultado___"
   ]
  },
  {
   "cell_type": "markdown",
   "metadata": {},
   "source": [
    "### Escolhendo um valor para k"
   ]
  },
  {
   "cell_type": "markdown",
   "metadata": {},
   "source": [
    "* Vizualizando os dados com scatter plot e reduzindo a dimensionalidade pode dar uma boa ideia de valores\n",
    "* Escolha dependendo da aplicação, ou seja, algum valor significativo baseado na amostra escolhida, como por exemplo k pode ser escolhido para representar localizações geograficas que correspondam a pesquisa, neste caso um bom valor para k pode ser o numero de regiões interessadas na pesquisa\n",
    "* Data-Driven, este metodo calcula algumas metricas para diferentes valores de k para determinar o melhor k possível; um desses metodos é o Elbow\n",
    "_ -> Metodo Elbow: Utiliza o conceito de WSSE para determinar o melhor k"
   ]
  },
  {
   "cell_type": "markdown",
   "metadata": {},
   "source": [
    "### Quando parar?\n",
    "* Quando não há novos centroides (as intereações nao trazem nada novo)\n",
    "* O numero de amostras que são alteradas em um cluster estão abaixo de um limite(%)"
   ]
  }
 ],
 "metadata": {
  "kernelspec": {
   "display_name": "Python 3",
   "language": "python",
   "name": "python3"
  },
  "language_info": {
   "codemirror_mode": {
    "name": "ipython",
    "version": 3
   },
   "file_extension": ".py",
   "mimetype": "text/x-python",
   "name": "python",
   "nbconvert_exporter": "python",
   "pygments_lexer": "ipython3",
   "version": "3.7.3"
  }
 },
 "nbformat": 4,
 "nbformat_minor": 2
}
