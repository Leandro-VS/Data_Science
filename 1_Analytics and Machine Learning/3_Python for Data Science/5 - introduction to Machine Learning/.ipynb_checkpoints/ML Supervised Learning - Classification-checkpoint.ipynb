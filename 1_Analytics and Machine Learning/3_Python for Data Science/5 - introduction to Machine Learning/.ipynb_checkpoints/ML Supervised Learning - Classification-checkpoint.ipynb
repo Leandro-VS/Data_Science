{
 "cells": [
  {
   "cell_type": "markdown",
   "metadata": {},
   "source": [
    "# Classification"
   ]
  },
  {
   "cell_type": "markdown",
   "metadata": {},
   "source": [
    "### Modelos de Classificação: \n",
    "__KNN(K-nearest Neighbors):__ Classifica a amostra \"olhando\" para os vizinhos mais próximos <br>\n",
    "__Decision Tree:__ Multiplas classificações através de decisões ao longo do caminho <br>\n",
    "__Naive Bayes:__ Abordagem estatistica baseada no teorema de Bayes (https://pt.wikipedia.org/wiki/Teorema_de_Bayes); basicamente compara a probabilidade de um evento na presença de outro evento - P(A|B).\n"
   ]
  },
  {
   "cell_type": "code",
   "execution_count": null,
   "metadata": {},
   "outputs": [],
   "source": []
  },
  {
   "cell_type": "code",
   "execution_count": null,
   "metadata": {},
   "outputs": [],
   "source": []
  },
  {
   "cell_type": "code",
   "execution_count": null,
   "metadata": {},
   "outputs": [],
   "source": []
  },
  {
   "cell_type": "code",
   "execution_count": null,
   "metadata": {},
   "outputs": [],
   "source": []
  }
 ],
 "metadata": {
  "kernelspec": {
   "display_name": "Python 3",
   "language": "python",
   "name": "python3"
  },
  "language_info": {
   "codemirror_mode": {
    "name": "ipython",
    "version": 3
   },
   "file_extension": ".py",
   "mimetype": "text/x-python",
   "name": "python",
   "nbconvert_exporter": "python",
   "pygments_lexer": "ipython3",
   "version": "3.7.3"
  }
 },
 "nbformat": 4,
 "nbformat_minor": 2
}
