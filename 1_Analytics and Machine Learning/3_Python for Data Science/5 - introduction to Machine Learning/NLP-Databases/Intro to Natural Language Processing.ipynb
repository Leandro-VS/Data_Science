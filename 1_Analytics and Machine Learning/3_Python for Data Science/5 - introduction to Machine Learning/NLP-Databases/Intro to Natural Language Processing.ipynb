{
 "cells": [
  {
   "cell_type": "markdown",
   "metadata": {},
   "source": [
    "___NLP___ basicamente, são algoritmos que analisam, entendem e extraem signifacado da linguagem humano.<br>\n",
    "Computacionalmente esta é uma tarefa dificíl, por que a linguagem humana é ambigua, necessita de contexto e requer habilidade para fazer as conexões necessárias para gerar o entendimento.<br><br>\n",
    "__Algumas aplicações de NLP:__\n",
    "* Sumarizar um texto\n",
    "* Gerar palavras chaves\n",
    "* Identificar sentimentos em um texto\n",
    "\n",
    "__Aplicações no mundo real:__\n",
    "* Reconhecimento de fala - Siri, Google Now, Alexa\n",
    "* Tradução simultânea - Google translate e Facebook\n",
    "* Chat Bots, que podem responder questões via Facebook Menssenger por exemplo\n",
    "\n",
    "___Como Utilizar:___<br>\n",
    "Uma das bibliotecas mais famosas para lidar com NLP no python é a <a href=\"https://www.nltk.org\">nltk</a> -_(Natural Language Toolkit in Python)._ É uma iniciativa opensource, e algumas de suas caracteristicas são:\n",
    "* Trabalha com dados de linguagem humana\n",
    "* Inclui mais de 50 datasets\n",
    "* Biblioteca completa com algoritmos \"fáceis\"\n",
    "* Disponível gratuitamente"
   ]
  },
  {
   "cell_type": "code",
   "execution_count": null,
   "metadata": {},
   "outputs": [],
   "source": []
  },
  {
   "cell_type": "code",
   "execution_count": null,
   "metadata": {},
   "outputs": [],
   "source": []
  },
  {
   "cell_type": "code",
   "execution_count": null,
   "metadata": {},
   "outputs": [],
   "source": []
  },
  {
   "cell_type": "code",
   "execution_count": null,
   "metadata": {},
   "outputs": [],
   "source": []
  },
  {
   "cell_type": "code",
   "execution_count": null,
   "metadata": {},
   "outputs": [],
   "source": []
  },
  {
   "cell_type": "code",
   "execution_count": null,
   "metadata": {},
   "outputs": [],
   "source": []
  }
 ],
 "metadata": {
  "kernelspec": {
   "display_name": "Python 3",
   "language": "python",
   "name": "python3"
  },
  "language_info": {
   "codemirror_mode": {
    "name": "ipython",
    "version": 3
   },
   "file_extension": ".py",
   "mimetype": "text/x-python",
   "name": "python",
   "nbconvert_exporter": "python",
   "pygments_lexer": "ipython3",
   "version": "3.7.4"
  }
 },
 "nbformat": 4,
 "nbformat_minor": 2
}
