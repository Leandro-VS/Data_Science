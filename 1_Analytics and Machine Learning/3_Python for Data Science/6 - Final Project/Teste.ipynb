{
 "cells": [
  {
   "cell_type": "code",
   "execution_count": 1,
   "metadata": {},
   "outputs": [],
   "source": [
    "import pickle #Modulo para serializar dados, \"codificar e decodificar\"\n",
    "import os"
   ]
  },
  {
   "cell_type": "code",
   "execution_count": 2,
   "metadata": {},
   "outputs": [],
   "source": [
    "if not os.path.exists('secret_twitter_credentials.pkl'):\n",
    "    #Criando um objeto, Twitter, que armazenará e utilizará todas as credenciais\n",
    "    Twitter={}\n",
    "    Twitter['Consumer Key'] = 'vbsRaCIiNRX6dnt5n96Fg30vt'\n",
    "    Twitter['Consumer Secret'] = 'DaZxTWZpZJUrj8PYKC3DCsqhtN4qoEGbMOygIim8YoRDqE5VjP'\n",
    "    Twitter['Access Token'] = '1053033058289537025-6MpQJ0QgF6ZeSj8GYpR3fTmBA3jHih'\n",
    "    Twitter['Access Token Secret'] = '6inkj0hCBb8fWZrcbmkFNa2wjR2Hx43GuqofRpIVl37qq'\n",
    "    \n",
    "    with open('secret_twitter_credentials.pkl', 'wb') as f:\n",
    "        pickle.dump(Twitter, f)\n",
    "else:\n",
    "    Twitter = pickle.load(open('secret_twitter_credentials.pkl', 'rb'))"
   ]
  },
  {
   "cell_type": "code",
   "execution_count": 5,
   "metadata": {},
   "outputs": [
    {
     "name": "stdout",
     "output_type": "stream",
     "text": [
      "<twitter.api.Twitter object at 0x7f03a5ac1350>\n"
     ]
    }
   ],
   "source": [
    "#Importando a biblioteca\n",
    "import twitter\n",
    "import json\n",
    "\n",
    "#Criando um objeto da classe twitter para criar outro objeto, este de autenticação\n",
    "auth = twitter.oauth.OAuth(Twitter['Access Token'],\n",
    "                           Twitter['Access Token Secret'],\n",
    "                           Twitter['Consumer Key'],\n",
    "                           Twitter['Consumer Secret'])\n",
    "\n",
    "#Passando o a autenticação(objeto autenticação) para um objeto da classe Twitter\n",
    "twitter_api = twitter.Twitter(auth=auth)\n",
    "\n",
    "print(twitter_api)"
   ]
  },
  {
   "cell_type": "code",
   "execution_count": 6,
   "metadata": {},
   "outputs": [],
   "source": [
    "#Alguns IDs de paises e cidades\n",
    "WORLD_WOE_ID = 1\n",
    "BR_WOE_ID = 455819\n",
    "SP_WOE_ID = 455827\n",
    "US_WOE_ID = 23424977"
   ]
  },
  {
   "cell_type": "code",
   "execution_count": 9,
   "metadata": {},
   "outputs": [],
   "source": [
    "br_trends = twitter_api.trends.place(_id=SP_WOE_ID)"
   ]
  },
  {
   "cell_type": "code",
   "execution_count": null,
   "metadata": {},
   "outputs": [],
   "source": []
  },
  {
   "cell_type": "code",
   "execution_count": 27,
   "metadata": {},
   "outputs": [
    {
     "ename": "SyntaxError",
     "evalue": "invalid syntax (<ipython-input-27-61d1fd5fd1c0>, line 1)",
     "output_type": "error",
     "traceback": [
      "\u001b[0;36m  File \u001b[0;32m\"<ipython-input-27-61d1fd5fd1c0>\"\u001b[0;36m, line \u001b[0;32m1\u001b[0m\n\u001b[0;31m    br_trends_coordinates = twitter_api.trends.has:geo(_id=SP_WOE_ID)\u001b[0m\n\u001b[0m                                                  ^\u001b[0m\n\u001b[0;31mSyntaxError\u001b[0m\u001b[0;31m:\u001b[0m invalid syntax\n"
     ]
    }
   ],
   "source": [
    "br_trends_coordinates = twitter_api.trends"
   ]
  },
  {
   "cell_type": "code",
   "execution_count": null,
   "metadata": {},
   "outputs": [],
   "source": []
  },
  {
   "cell_type": "code",
   "execution_count": null,
   "metadata": {},
   "outputs": [],
   "source": []
  }
 ],
 "metadata": {
  "kernelspec": {
   "display_name": "Python 3",
   "language": "python",
   "name": "python3"
  },
  "language_info": {
   "codemirror_mode": {
    "name": "ipython",
    "version": 3
   },
   "file_extension": ".py",
   "mimetype": "text/x-python",
   "name": "python",
   "nbconvert_exporter": "python",
   "pygments_lexer": "ipython3",
   "version": "3.7.4"
  }
 },
 "nbformat": 4,
 "nbformat_minor": 2
}
