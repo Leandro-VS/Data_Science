{
 "cells": [
  {
   "cell_type": "markdown",
   "metadata": {},
   "source": [
    "# Rede Neural Rasa"
   ]
  },
  {
   "cell_type": "markdown",
   "metadata": {},
   "source": [
    "No Modelo de Regressão Logística tinhamos o seguinte cenário:"
   ]
  },
  {
   "cell_type": "markdown",
   "metadata": {},
   "source": [
    "![](dp_lr.png)"
   ]
  },
  {
   "cell_type": "markdown",
   "metadata": {},
   "source": [
    "De modo analogo, em uma rede neural, teremos uma ___Layer___ para o calculo dos $z^i$ e $a^i$ resultando em uma saída $ŷ$"
   ]
  },
  {
   "cell_type": "markdown",
   "metadata": {},
   "source": [
    "![](rn.png)"
   ]
  },
  {
   "cell_type": "markdown",
   "metadata": {},
   "source": [
    "# Representação de uma Rede Neural"
   ]
  },
  {
   "cell_type": "markdown",
   "metadata": {},
   "source": [
    "![](rn_repre.png)"
   ]
  },
  {
   "cell_type": "markdown",
   "metadata": {},
   "source": [
    "* __Input Layer:__ Entrada dos dados ($a^{[0]}$)\n",
    "* __Hidden Layer:__ Cama \"oculta\" onde ocorrem os calculos ($z^i$ e $a^i$) - ($a^{[1]}$)\n",
    "    * Dentro de cada nó da layer poderemos ter: $a^{[1]}_1$, $a^{[0]}_2$, $a^{[0]}_3, ...$\n",
    "* __Output Layer:__ Saída, previsão ($a^{[2]}$)"
   ]
  },
  {
   "cell_type": "markdown",
   "metadata": {},
   "source": [
    "__Notação:__\n",
    "\n",
    "* Sobreescrito com \"[]\" representa a profundidade da layer\n",
    "* $a^{[0]}$ --> Valores na layer inicial, \"ativados\" para a próxima camada\n",
    "    * $a$ ativação para a próxima camada\n",
    "* Convercionou-se não contabilizar a layer de entrada ao falar da qtde de layer de um RN"
   ]
  },
  {
   "cell_type": "markdown",
   "metadata": {},
   "source": [
    "# Calculando a saída de uma RN"
   ]
  },
  {
   "cell_type": "markdown",
   "metadata": {},
   "source": [
    "Olhando para um nó da rede neural:"
   ]
  },
  {
   "cell_type": "markdown",
   "metadata": {},
   "source": [
    "![](rn_node.png)"
   ]
  },
  {
   "cell_type": "markdown",
   "metadata": {},
   "source": [
    "Quando temos varios nós, e estamos lidando com matrizes, teremos nas __hidden layers__ de uma RN que o calculo das previsões se dá ao calcular um vetor coluna $Z$"
   ]
  },
  {
   "cell_type": "markdown",
   "metadata": {},
   "source": [
    "$Z = \\begin{bmatrix}\n",
    "        (w^{[1]}_1)^T \\\\\n",
    "        (w^{[2]}_1)^T \\\\\n",
    "        (w^{[3]}_1)^T \\\\\n",
    "        (w^{[4]}_1)^T\n",
    "        \\end{bmatrix}$ * \n",
    "        $\\begin{bmatrix}\n",
    "            X_1 \\\\\n",
    "            X_2 \\\\\n",
    "            X_3\n",
    "            \\end{bmatrix}$ + \n",
    "        $\\begin{bmatrix}\n",
    "            b_1^{[1]} \\\\\n",
    "            b_2^{[1]} \\\\\n",
    "            b_3^{[1]} \\\\\n",
    "            b_4^{[1]}\n",
    "        \\end{bmatrix}$ = \n",
    "        $\\begin{bmatrix}\n",
    "            (w^{[1]}_1)^TX + b_1^{[1]} \\\\\n",
    "            (w^{[2]}_1)^TX + b_2^{[1]} \\\\\n",
    "            (w^{[3]}_1)^TX + b_3^{[1]} \\\\\n",
    "            (w^{[4]}_1)^TX + b_4^{[1]}\n",
    "        \\end{bmatrix}$ = \n",
    "        $\\begin{bmatrix}\n",
    "            Z_1^{[1]} \\\\\n",
    "            Z_2^{[1]} \\\\\n",
    "            Z_3^{[1]} \\\\\n",
    "            Z_4^{[1]}\n",
    "        \\end{bmatrix}$"
   ]
  },
  {
   "cell_type": "markdown",
   "metadata": {},
   "source": [
    "Onde a matriz $[...(w^{[1]}_1)^TX + b_1^{[1]}...] = W^{[1]}$ e $[...b_1^{[1]}...] = b^{[1]}$"
   ]
  },
  {
   "cell_type": "markdown",
   "metadata": {},
   "source": [
    "Além disso, para cada $Z_1^{[1]}$ teremos os $\\sigma(Z_1^{[1]}) = a_1^{[1]}$. Logo,"
   ]
  },
  {
   "cell_type": "markdown",
   "metadata": {},
   "source": [
    "$a^{[1]} = $ \n",
    "$\\begin{bmatrix}\n",
    "    a_1^{[1]} \\\\\n",
    "    a_2^{[1]} \\\\\n",
    "    a_3^{[1]} \\\\\n",
    "    a_4^{[1]}\n",
    "\\end{bmatrix}$ $= \\sigma(Z^{[1]})$"
   ]
  },
  {
   "cell_type": "markdown",
   "metadata": {},
   "source": [
    "Portanto, com todas as equações vetorizadas, temos que, dada um input $x$:"
   ]
  },
  {
   "cell_type": "markdown",
   "metadata": {},
   "source": [
    "$z^{[1]} = W^{[1]}x + b^{[1]}$ <br>\n",
    "$a^{[1]} = \\sigma(z^{[1]})$ <br>\n",
    "$z^{[2]} = W^{[2]}a^{[1]} + b^{[2]}$ <br>\n",
    "$a^{[2]} = \\sigma(z^{[2]})$"
   ]
  },
  {
   "cell_type": "markdown",
   "metadata": {},
   "source": [
    "## Calculando a saída para dado \"m\" elementos de entrada"
   ]
  },
  {
   "cell_type": "markdown",
   "metadata": {},
   "source": [
    "Temos ue vetoriar as equanções anteriores, portanto \"empilhamos\" os vetor coluna numa matriz, onde cada coluna era um vetor coluna diferente, desta maneira teremos a implementação das equanções vetorizadas."
   ]
  },
  {
   "cell_type": "markdown",
   "metadata": {},
   "source": [
    "$X = $ \n",
    "$\\begin{bmatrix}\n",
    "    x^{[1]} \\\\\n",
    "    x^{[2]} \\\\\n",
    "    x^{[3]} \\\\\n",
    "    ... \\\\\n",
    "    x^{[m]}\n",
    "\\end{bmatrix}$ "
   ]
  },
  {
   "cell_type": "markdown",
   "metadata": {},
   "source": [
    "$Z^{[1]} = $ \n",
    "$\\begin{bmatrix}\n",
    "    z^{[1](1)} \\\\\n",
    "    z^{[1](2)} \\\\\n",
    "    z^{[1](3)} \\\\\n",
    "    ... \\\\\n",
    "    z^{[1](m)}\n",
    "\\end{bmatrix}$ "
   ]
  },
  {
   "cell_type": "markdown",
   "metadata": {},
   "source": [
    "$A^{[1]} = $ \n",
    "$\\begin{bmatrix}\n",
    "    a^{[1](1)} \\\\\n",
    "    a^{[1](2)} \\\\\n",
    "    a^{[1](3)} \\\\\n",
    "    ... \\\\\n",
    "    a^{[1](m)}\n",
    "\\end{bmatrix}$ "
   ]
  },
  {
   "cell_type": "markdown",
   "metadata": {},
   "source": [
    "De modo analogo teremos $A^{[2]}$ e $Z^{[2]}$"
   ]
  },
  {
   "cell_type": "markdown",
   "metadata": {},
   "source": []
  },
  {
   "cell_type": "markdown",
   "metadata": {},
   "source": []
  },
  {
   "cell_type": "markdown",
   "metadata": {},
   "source": []
  },
  {
   "cell_type": "markdown",
   "metadata": {},
   "source": []
  },
  {
   "cell_type": "markdown",
   "metadata": {},
   "source": []
  },
  {
   "cell_type": "markdown",
   "metadata": {},
   "source": []
  },
  {
   "cell_type": "markdown",
   "metadata": {},
   "source": []
  },
  {
   "cell_type": "markdown",
   "metadata": {},
   "source": []
  },
  {
   "cell_type": "markdown",
   "metadata": {},
   "source": []
  },
  {
   "cell_type": "markdown",
   "metadata": {},
   "source": []
  },
  {
   "cell_type": "code",
   "execution_count": null,
   "metadata": {},
   "outputs": [],
   "source": []
  }
 ],
 "metadata": {
  "kernelspec": {
   "display_name": "Python 3",
   "language": "python",
   "name": "python3"
  },
  "language_info": {
   "codemirror_mode": {
    "name": "ipython",
    "version": 3
   },
   "file_extension": ".py",
   "mimetype": "text/x-python",
   "name": "python",
   "nbconvert_exporter": "python",
   "pygments_lexer": "ipython3",
   "version": "3.7.4"
  },
  "latex_envs": {
   "LaTeX_envs_menu_present": true,
   "autoclose": true,
   "autocomplete": true,
   "bibliofile": "biblio.bib",
   "cite_by": "apalike",
   "current_citInitial": 1,
   "eqLabelWithNumbers": true,
   "eqNumInitial": 1,
   "hotkeys": {
    "equation": "Ctrl-E",
    "itemize": "Ctrl-I"
   },
   "labels_anchors": false,
   "latex_user_defs": false,
   "report_style_numbering": false,
   "user_envs_cfg": false
  },
  "toc": {
   "base_numbering": 1,
   "nav_menu": {},
   "number_sections": true,
   "sideBar": true,
   "skip_h1_title": false,
   "title_cell": "Table of Contents",
   "title_sidebar": "Contents",
   "toc_cell": false,
   "toc_position": {},
   "toc_section_display": true,
   "toc_window_display": false
  }
 },
 "nbformat": 4,
 "nbformat_minor": 2
}
