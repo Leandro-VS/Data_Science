{
 "cells": [
  {
   "cell_type": "markdown",
   "metadata": {},
   "source": [
    "# Aplicação"
   ]
  },
  {
   "cell_type": "code",
   "execution_count": 1,
   "metadata": {},
   "outputs": [],
   "source": [
    "#libs\n",
    "import pandas as pd\n",
    "import numpy as np\n",
    "%matplotlib inline"
   ]
  },
  {
   "cell_type": "markdown",
   "metadata": {},
   "source": [
    "__DataSet:__ https://www.kaggle.com/rogeriochaves/clickbait-buzzfeed-brasil/discussion/57360#332677"
   ]
  },
  {
   "cell_type": "code",
   "execution_count": 2,
   "metadata": {},
   "outputs": [],
   "source": [
    "#parse_dates: transforma os dados da coluna no formato passado\n",
    "p = pd.read_csv('./data_clickbait/clickbait_titles.csv', index_col=0, parse_dates=['timestamp'])\n",
    "n = pd.read_csv('./data_clickbait/non_clickbait_titles.csv', index_col=0, parse_dates=['timestamp'])\n",
    "p['y'] = 1\n",
    "n['y'] = 0\n",
    "\n",
    "data = pd.concat([p,n], axis=0, ignore_index=True).sort_values(\"timestamp\")"
   ]
  },
  {
   "cell_type": "code",
   "execution_count": 3,
   "metadata": {},
   "outputs": [
    {
     "data": {
      "text/html": [
       "<div>\n",
       "<style scoped>\n",
       "    .dataframe tbody tr th:only-of-type {\n",
       "        vertical-align: middle;\n",
       "    }\n",
       "\n",
       "    .dataframe tbody tr th {\n",
       "        vertical-align: top;\n",
       "    }\n",
       "\n",
       "    .dataframe thead th {\n",
       "        text-align: right;\n",
       "    }\n",
       "</style>\n",
       "<table border=\"1\" class=\"dataframe\">\n",
       "  <thead>\n",
       "    <tr style=\"text-align: right;\">\n",
       "      <th></th>\n",
       "      <th>timestamp</th>\n",
       "      <th>title</th>\n",
       "      <th>url</th>\n",
       "      <th>y</th>\n",
       "    </tr>\n",
       "  </thead>\n",
       "  <tbody>\n",
       "    <tr>\n",
       "      <th>0</th>\n",
       "      <td>2018-05-18 19:22:06</td>\n",
       "      <td>20 imagens que, por incrível que pareça, não s...</td>\n",
       "      <td>https://www.buzzfeed.com/daves4/animais-penis-...</td>\n",
       "      <td>1</td>\n",
       "    </tr>\n",
       "    <tr>\n",
       "      <th>1</th>\n",
       "      <td>2018-05-16 17:24:04</td>\n",
       "      <td>24 filmes da Disney explicados por homens que ...</td>\n",
       "      <td>https://www.buzzfeed.com/keelyflaherty/filmes-...</td>\n",
       "      <td>1</td>\n",
       "    </tr>\n",
       "    <tr>\n",
       "      <th>2</th>\n",
       "      <td>2018-05-15 17:39:34</td>\n",
       "      <td>Todo mundo é uma princesa da Disney OU um heró...</td>\n",
       "      <td>https://www.buzzfeed.com/perpetua/teste-prince...</td>\n",
       "      <td>1</td>\n",
       "    </tr>\n",
       "    <tr>\n",
       "      <th>3</th>\n",
       "      <td>2018-05-10 19:57:22</td>\n",
       "      <td>Quais são as três comidas que combinam com a s...</td>\n",
       "      <td>https://www.buzzfeed.com/joannaborns/teste-tre...</td>\n",
       "      <td>1</td>\n",
       "    </tr>\n",
       "    <tr>\n",
       "      <th>4</th>\n",
       "      <td>2018-04-27 21:17:34</td>\n",
       "      <td>Este teste sobre comida vai dizer de uma vez p...</td>\n",
       "      <td>https://www.buzzfeed.com/joannaborns/teste-com...</td>\n",
       "      <td>1</td>\n",
       "    </tr>\n",
       "  </tbody>\n",
       "</table>\n",
       "</div>"
      ],
      "text/plain": [
       "            timestamp                                              title  \\\n",
       "0 2018-05-18 19:22:06  20 imagens que, por incrível que pareça, não s...   \n",
       "1 2018-05-16 17:24:04  24 filmes da Disney explicados por homens que ...   \n",
       "2 2018-05-15 17:39:34  Todo mundo é uma princesa da Disney OU um heró...   \n",
       "3 2018-05-10 19:57:22  Quais são as três comidas que combinam com a s...   \n",
       "4 2018-04-27 21:17:34  Este teste sobre comida vai dizer de uma vez p...   \n",
       "\n",
       "                                                 url  y  \n",
       "0  https://www.buzzfeed.com/daves4/animais-penis-...  1  \n",
       "1  https://www.buzzfeed.com/keelyflaherty/filmes-...  1  \n",
       "2  https://www.buzzfeed.com/perpetua/teste-prince...  1  \n",
       "3  https://www.buzzfeed.com/joannaborns/teste-tre...  1  \n",
       "4  https://www.buzzfeed.com/joannaborns/teste-com...  1  "
      ]
     },
     "execution_count": 3,
     "metadata": {},
     "output_type": "execute_result"
    }
   ],
   "source": [
    "p.head()"
   ]
  },
  {
   "cell_type": "code",
   "execution_count": 4,
   "metadata": {},
   "outputs": [
    {
     "data": {
      "text/html": [
       "<div>\n",
       "<style scoped>\n",
       "    .dataframe tbody tr th:only-of-type {\n",
       "        vertical-align: middle;\n",
       "    }\n",
       "\n",
       "    .dataframe tbody tr th {\n",
       "        vertical-align: top;\n",
       "    }\n",
       "\n",
       "    .dataframe thead th {\n",
       "        text-align: right;\n",
       "    }\n",
       "</style>\n",
       "<table border=\"1\" class=\"dataframe\">\n",
       "  <thead>\n",
       "    <tr style=\"text-align: right;\">\n",
       "      <th></th>\n",
       "      <th>timestamp</th>\n",
       "      <th>title</th>\n",
       "      <th>url</th>\n",
       "      <th>y</th>\n",
       "    </tr>\n",
       "  </thead>\n",
       "  <tbody>\n",
       "    <tr>\n",
       "      <th>0</th>\n",
       "      <td>2018-05-22 21:02:43</td>\n",
       "      <td>Nem todos que assinam manifesto pró-Boulos dec...</td>\n",
       "      <td>https://www.buzzfeed.com/tatianafarah/frei-bet...</td>\n",
       "      <td>0</td>\n",
       "    </tr>\n",
       "    <tr>\n",
       "      <th>1</th>\n",
       "      <td>2018-05-22 18:47:46</td>\n",
       "      <td>Centenas de professores universitários não est...</td>\n",
       "      <td>https://www.buzzfeed.com/felitti/centenas-de-p...</td>\n",
       "      <td>0</td>\n",
       "    </tr>\n",
       "    <tr>\n",
       "      <th>2</th>\n",
       "      <td>2018-05-22 14:35:14</td>\n",
       "      <td>Janaina Paschoal diz que ser vice de Bolsonaro...</td>\n",
       "      <td>https://www.buzzfeed.com/tatianafarah/janaina-...</td>\n",
       "      <td>0</td>\n",
       "    </tr>\n",
       "    <tr>\n",
       "      <th>3</th>\n",
       "      <td>2018-05-21 20:58:21</td>\n",
       "      <td>Russomanno vira sócio de startup financeira qu...</td>\n",
       "      <td>https://www.buzzfeed.com/alexandrearagao/russo...</td>\n",
       "      <td>0</td>\n",
       "    </tr>\n",
       "    <tr>\n",
       "      <th>4</th>\n",
       "      <td>2018-05-21 20:21:21</td>\n",
       "      <td>Governo errou na política para combustíveis, d...</td>\n",
       "      <td>https://www.buzzfeed.com/severinomotta/governo...</td>\n",
       "      <td>0</td>\n",
       "    </tr>\n",
       "  </tbody>\n",
       "</table>\n",
       "</div>"
      ],
      "text/plain": [
       "            timestamp                                              title  \\\n",
       "0 2018-05-22 21:02:43  Nem todos que assinam manifesto pró-Boulos dec...   \n",
       "1 2018-05-22 18:47:46  Centenas de professores universitários não est...   \n",
       "2 2018-05-22 14:35:14  Janaina Paschoal diz que ser vice de Bolsonaro...   \n",
       "3 2018-05-21 20:58:21  Russomanno vira sócio de startup financeira qu...   \n",
       "4 2018-05-21 20:21:21  Governo errou na política para combustíveis, d...   \n",
       "\n",
       "                                                 url  y  \n",
       "0  https://www.buzzfeed.com/tatianafarah/frei-bet...  0  \n",
       "1  https://www.buzzfeed.com/felitti/centenas-de-p...  0  \n",
       "2  https://www.buzzfeed.com/tatianafarah/janaina-...  0  \n",
       "3  https://www.buzzfeed.com/alexandrearagao/russo...  0  \n",
       "4  https://www.buzzfeed.com/severinomotta/governo...  0  "
      ]
     },
     "execution_count": 4,
     "metadata": {},
     "output_type": "execute_result"
    }
   ],
   "source": [
    "n.head()"
   ]
  },
  {
   "cell_type": "code",
   "execution_count": 6,
   "metadata": {},
   "outputs": [
    {
     "data": {
      "text/html": [
       "<div>\n",
       "<style scoped>\n",
       "    .dataframe tbody tr th:only-of-type {\n",
       "        vertical-align: middle;\n",
       "    }\n",
       "\n",
       "    .dataframe tbody tr th {\n",
       "        vertical-align: top;\n",
       "    }\n",
       "\n",
       "    .dataframe thead th {\n",
       "        text-align: right;\n",
       "    }\n",
       "</style>\n",
       "<table border=\"1\" class=\"dataframe\">\n",
       "  <thead>\n",
       "    <tr style=\"text-align: right;\">\n",
       "      <th></th>\n",
       "      <th>timestamp</th>\n",
       "      <th>title</th>\n",
       "      <th>url</th>\n",
       "      <th>y</th>\n",
       "    </tr>\n",
       "  </thead>\n",
       "  <tbody>\n",
       "    <tr>\n",
       "      <th>801</th>\n",
       "      <td>2013-08-29 14:48:00</td>\n",
       "      <td>24 Coisas Que As Pessoas Solteiras Estão Cansa...</td>\n",
       "      <td>https://www.buzzfeed.com/ashleyperez/24-coisas...</td>\n",
       "      <td>1</td>\n",
       "    </tr>\n",
       "    <tr>\n",
       "      <th>800</th>\n",
       "      <td>2013-08-30 15:10:58</td>\n",
       "      <td>27 Decisões Do Dia-a-dia Que Pessoas De Vinte-...</td>\n",
       "      <td>https://www.buzzfeed.com/regajha/27-decisoes-d...</td>\n",
       "      <td>1</td>\n",
       "    </tr>\n",
       "    <tr>\n",
       "      <th>799</th>\n",
       "      <td>2013-09-04 12:07:03</td>\n",
       "      <td>21 Fotos Provando Que Os Irmãos Mais Velhos Tê...</td>\n",
       "      <td>https://www.buzzfeed.com/moerder/21-fotos-prov...</td>\n",
       "      <td>1</td>\n",
       "    </tr>\n",
       "    <tr>\n",
       "      <th>798</th>\n",
       "      <td>2013-09-04 16:06:57</td>\n",
       "      <td>30 Sinais De Que Você Tem Quase 30</td>\n",
       "      <td>https://www.buzzfeed.com/jessicamisener/30-sin...</td>\n",
       "      <td>1</td>\n",
       "    </tr>\n",
       "    <tr>\n",
       "      <th>1306</th>\n",
       "      <td>2013-10-18 03:29:53</td>\n",
       "      <td>38 Sinais Que Você é Um Basset Hound</td>\n",
       "      <td>https://www.buzzfeed.com/chelseamarshall/38-si...</td>\n",
       "      <td>1</td>\n",
       "    </tr>\n",
       "  </tbody>\n",
       "</table>\n",
       "</div>"
      ],
      "text/plain": [
       "               timestamp                                              title  \\\n",
       "801  2013-08-29 14:48:00  24 Coisas Que As Pessoas Solteiras Estão Cansa...   \n",
       "800  2013-08-30 15:10:58  27 Decisões Do Dia-a-dia Que Pessoas De Vinte-...   \n",
       "799  2013-09-04 12:07:03  21 Fotos Provando Que Os Irmãos Mais Velhos Tê...   \n",
       "798  2013-09-04 16:06:57                 30 Sinais De Que Você Tem Quase 30   \n",
       "1306 2013-10-18 03:29:53               38 Sinais Que Você é Um Basset Hound   \n",
       "\n",
       "                                                    url  y  \n",
       "801   https://www.buzzfeed.com/ashleyperez/24-coisas...  1  \n",
       "800   https://www.buzzfeed.com/regajha/27-decisoes-d...  1  \n",
       "799   https://www.buzzfeed.com/moerder/21-fotos-prov...  1  \n",
       "798   https://www.buzzfeed.com/jessicamisener/30-sin...  1  \n",
       "1306  https://www.buzzfeed.com/chelseamarshall/38-si...  1  "
      ]
     },
     "execution_count": 6,
     "metadata": {},
     "output_type": "execute_result"
    }
   ],
   "source": [
    "data.head()"
   ]
  },
  {
   "cell_type": "code",
   "execution_count": 5,
   "metadata": {},
   "outputs": [
    {
     "data": {
      "text/plain": [
       "<matplotlib.axes._subplots.AxesSubplot at 0x7f08e4d97850>"
      ]
     },
     "execution_count": 5,
     "metadata": {},
     "output_type": "execute_result"
    },
    {
     "data": {
      "image/png": "[encoded data removed]",
      "text/plain": [
       "<Figure size 720x360 with 1 Axes>"
      ]
     },
     "metadata": {
      "needs_background": "light"
     },
     "output_type": "display_data"
    }
   ],
   "source": [
    "data.groupby(data['timestamp'].dt.date)['y'].mean().plot(figsize=(10,5))"
   ]
  },
  {
   "cell_type": "markdown",
   "metadata": {},
   "source": [
    "Temos muitos exemplos positivos até junho de 2017"
   ]
  },
  {
   "cell_type": "code",
   "execution_count": 7,
   "metadata": {},
   "outputs": [],
   "source": [
    "data = data[data['timestamp'] >= \"2017-06-01\"]"
   ]
  },
  {
   "cell_type": "code",
   "execution_count": 8,
   "metadata": {},
   "outputs": [
    {
     "data": {
      "text/plain": [
       "<matplotlib.axes._subplots.AxesSubplot at 0x7f08e5a2dd10>"
      ]
     },
     "execution_count": 8,
     "metadata": {},
     "output_type": "execute_result"
    },
    {
     "data": {
      "image/png": "[encoded data removed]",
      "text/plain": [
       "<Figure size 720x360 with 1 Axes>"
      ]
     },
     "metadata": {
      "needs_background": "light"
     },
     "output_type": "display_data"
    }
   ],
   "source": [
    "data.groupby(data['timestamp'].dt.date)['y'].mean().plot(figsize=(10,5))"
   ]
  },
  {
   "cell_type": "code",
   "execution_count": 9,
   "metadata": {},
   "outputs": [
    {
     "data": {
      "text/html": [
       "<div>\n",
       "<style scoped>\n",
       "    .dataframe tbody tr th:only-of-type {\n",
       "        vertical-align: middle;\n",
       "    }\n",
       "\n",
       "    .dataframe tbody tr th {\n",
       "        vertical-align: top;\n",
       "    }\n",
       "\n",
       "    .dataframe thead th {\n",
       "        text-align: right;\n",
       "    }\n",
       "</style>\n",
       "<table border=\"1\" class=\"dataframe\">\n",
       "  <thead>\n",
       "    <tr style=\"text-align: right;\">\n",
       "      <th></th>\n",
       "      <th>timestamp</th>\n",
       "      <th>title</th>\n",
       "      <th>url</th>\n",
       "      <th>y</th>\n",
       "    </tr>\n",
       "  </thead>\n",
       "  <tbody>\n",
       "    <tr>\n",
       "      <th>2222</th>\n",
       "      <td>2017-06-01 14:13:41</td>\n",
       "      <td>Peça-chave na Lava Jato, Funaro negocia delaçã...</td>\n",
       "      <td>https://www.buzzfeed.com/filipecoutinho/peca-c...</td>\n",
       "      <td>0</td>\n",
       "    </tr>\n",
       "    <tr>\n",
       "      <th>2221</th>\n",
       "      <td>2017-06-01 14:38:39</td>\n",
       "      <td>Após palestra-culto, o pastor-procurador de MS...</td>\n",
       "      <td>https://www.buzzfeed.com/tatianafarah/o-procur...</td>\n",
       "      <td>0</td>\n",
       "    </tr>\n",
       "    <tr>\n",
       "      <th>2220</th>\n",
       "      <td>2017-06-01 15:02:00</td>\n",
       "      <td>Polícia Federal vai chamar Haddad para depor s...</td>\n",
       "      <td>https://www.buzzfeed.com/alexandrearagao/opera...</td>\n",
       "      <td>0</td>\n",
       "    </tr>\n",
       "    <tr>\n",
       "      <th>2219</th>\n",
       "      <td>2017-06-01 19:16:59</td>\n",
       "      <td>Defesa de Dilma diz que chapa é única e que Te...</td>\n",
       "      <td>https://www.buzzfeed.com/tatianafarah/defesa-d...</td>\n",
       "      <td>0</td>\n",
       "    </tr>\n",
       "    <tr>\n",
       "      <th>2218</th>\n",
       "      <td>2017-06-01 22:04:20</td>\n",
       "      <td>Esses dois amigos do Rio tiraram uma selfie du...</td>\n",
       "      <td>https://www.buzzfeed.com/alexandrearagao/tirot...</td>\n",
       "      <td>0</td>\n",
       "    </tr>\n",
       "  </tbody>\n",
       "</table>\n",
       "</div>"
      ],
      "text/plain": [
       "               timestamp                                              title  \\\n",
       "2222 2017-06-01 14:13:41  Peça-chave na Lava Jato, Funaro negocia delaçã...   \n",
       "2221 2017-06-01 14:38:39  Após palestra-culto, o pastor-procurador de MS...   \n",
       "2220 2017-06-01 15:02:00  Polícia Federal vai chamar Haddad para depor s...   \n",
       "2219 2017-06-01 19:16:59  Defesa de Dilma diz que chapa é única e que Te...   \n",
       "2218 2017-06-01 22:04:20  Esses dois amigos do Rio tiraram uma selfie du...   \n",
       "\n",
       "                                                    url  y  \n",
       "2222  https://www.buzzfeed.com/filipecoutinho/peca-c...  0  \n",
       "2221  https://www.buzzfeed.com/tatianafarah/o-procur...  0  \n",
       "2220  https://www.buzzfeed.com/alexandrearagao/opera...  0  \n",
       "2219  https://www.buzzfeed.com/tatianafarah/defesa-d...  0  \n",
       "2218  https://www.buzzfeed.com/alexandrearagao/tirot...  0  "
      ]
     },
     "execution_count": 9,
     "metadata": {},
     "output_type": "execute_result"
    }
   ],
   "source": [
    "data.head()"
   ]
  },
  {
   "cell_type": "code",
   "execution_count": 10,
   "metadata": {},
   "outputs": [
    {
     "data": {
      "text/plain": [
       "2222    peça chave na lava jato  funaro negocia delaçã...\n",
       "2221    após palestra culto  o pastor procurador de ms...\n",
       "2220    polícia federal vai chamar haddad para depor s...\n",
       "2219    defesa de dilma diz que chapa é única e que te...\n",
       "2218    esses dois amigos do rio tiraram uma selfie du...\n",
       "Name: title_proc, dtype: object"
      ]
     },
     "execution_count": 10,
     "metadata": {},
     "output_type": "execute_result"
    }
   ],
   "source": [
    "data['title_proc'] = data['title'].str.lower().str.replace(r'[^\\w\\s]+', ' ')\n",
    "data['title_proc'].head()"
   ]
  },
  {
   "cell_type": "code",
   "execution_count": 11,
   "metadata": {},
   "outputs": [
    {
     "data": {
      "text/plain": [
       "(1031, 5)"
      ]
     },
     "execution_count": 11,
     "metadata": {},
     "output_type": "execute_result"
    }
   ],
   "source": [
    "data.shape"
   ]
  },
  {
   "cell_type": "code",
   "execution_count": 13,
   "metadata": {},
   "outputs": [],
   "source": [
    "#Libs\n",
    "from sklearn.feature_extraction.text import TfidfVectorizer\n",
    "from sklearn.ensemble import RandomForestClassifier\n",
    "from sklearn.pipeline import make_pipeline\n",
    "from sklearn.linear_model import LogisticRegression\n",
    "from sklearn.metrics import log_loss"
   ]
  },
  {
   "cell_type": "code",
   "execution_count": 14,
   "metadata": {},
   "outputs": [],
   "source": [
    "#Trains test split\n",
    "Xtrain, ytrain = data['title_proc'].iloc[:data.shape[0] // 2], data['y'].iloc[:data.shape[0] // 2]\n",
    "Xtest, ytest = data['title_proc'].iloc[data.shape[0] // 2:], data['y'].iloc[data.shape[0] // 2:]"
   ]
  },
  {
   "cell_type": "code",
   "execution_count": 15,
   "metadata": {},
   "outputs": [
    {
     "data": {
      "text/plain": [
       "0.07766990291262135"
      ]
     },
     "execution_count": 15,
     "metadata": {},
     "output_type": "execute_result"
    }
   ],
   "source": [
    "ytrain.mean()"
   ]
  },
  {
   "cell_type": "code",
   "execution_count": 16,
   "metadata": {},
   "outputs": [
    {
     "data": {
      "text/plain": [
       "0.44050839748966253"
      ]
     },
     "execution_count": 16,
     "metadata": {},
     "output_type": "execute_result"
    }
   ],
   "source": [
    "#baseline\n",
    "base = np.ones(Xtest.shape[0]) * ytrain.mean()\n",
    "log_loss(ytest, base)"
   ]
  },
  {
   "cell_type": "code",
   "execution_count": 17,
   "metadata": {},
   "outputs": [
    {
     "data": {
      "text/plain": [
       "0.24958750065851476"
      ]
     },
     "execution_count": 17,
     "metadata": {},
     "output_type": "execute_result"
    }
   ],
   "source": [
    "#Primeiro modelo\n",
    "mdl = make_pipeline(TfidfVectorizer(min_df=1, ngram_range=(1,1)), \n",
    "                    RandomForestClassifier(n_estimators=1000, n_jobs=6, random_state=0))\n",
    "\n",
    "mdl.fit(Xtrain, ytrain)\n",
    "p = mdl.predict_proba(Xtest)[:,1]\n",
    "log_loss(ytest, p)"
   ]
  },
  {
   "cell_type": "code",
   "execution_count": 29,
   "metadata": {},
   "outputs": [
    {
     "data": {
      "text/plain": [
       "756"
      ]
     },
     "execution_count": 29,
     "metadata": {},
     "output_type": "execute_result"
    }
   ],
   "source": [
    "#Numero de colunas do vocabulary criado\n",
    "len(mdl.named_steps.tfidfvectorizer.vocabulary_)"
   ]
  },
  {
   "cell_type": "markdown",
   "metadata": {},
   "source": [
    "__Baseline superada__"
   ]
  },
  {
   "cell_type": "code",
   "execution_count": 20,
   "metadata": {},
   "outputs": [
    {
     "data": {
      "text/plain": [
       "0.23797054770590284"
      ]
     },
     "execution_count": 20,
     "metadata": {},
     "output_type": "execute_result"
    }
   ],
   "source": [
    "#Segundo Modelo\n",
    "mdl = make_pipeline(TfidfVectorizer(min_df=2, ngram_range=(1,1)), \n",
    "                    LogisticRegression(C=20., solver='lbfgs'))\n",
    "\n",
    "mdl.fit(Xtrain, ytrain)\n",
    "p = mdl.predict_proba(Xtest)[:,1]\n",
    "log_loss(ytest, p)"
   ]
  },
  {
   "cell_type": "markdown",
   "metadata": {},
   "source": [
    "__Modelo anterior superado__"
   ]
  },
  {
   "cell_type": "code",
   "execution_count": 30,
   "metadata": {},
   "outputs": [
    {
     "data": {
      "text/plain": [
       "['mdl.pkl.z']"
      ]
     },
     "execution_count": 30,
     "metadata": {},
     "output_type": "execute_result"
    }
   ],
   "source": [
    "#Salvando o modelo com joblib\n",
    "import joblib as jb\n",
    "jb.dump(mdl, \"mdl.pkl.z\")"
   ]
  },
  {
   "cell_type": "markdown",
   "metadata": {},
   "source": [
    "# API Request"
   ]
  },
  {
   "cell_type": "code",
   "execution_count": 32,
   "metadata": {},
   "outputs": [],
   "source": [
    "import requests as r\n",
    "import urllib.parse"
   ]
  },
  {
   "cell_type": "markdown",
   "metadata": {},
   "source": [
    "__Gunicorn:__ Servidor para servir as API flask"
   ]
  },
  {
   "cell_type": "code",
   "execution_count": 63,
   "metadata": {},
   "outputs": [],
   "source": [
    "#Requests\n",
    "#encoded = urllib.parse.quote(\"10 coisas fodas e baratinhas para alegrar a vida\")\n",
    "#encoded = urllib.parse.quote(\"Pare de fumar em 5 dias\")\n",
    "encoded = urllib.parse.quote(\"Aprenda machine learning em 10 dias sem estudar\")\n",
    "#encoded = urllib.parse.quote(\"Homem é preso por descobrir metodo que ensina a aprender ingles em 1 hora\")\n",
    "#encoded = urllib.parse.quote(\"Você não acreditar no segredo devastador que o filho de Leonardo, Zé Felipe, possui em sua vida\")"
   ]
  },
  {
   "cell_type": "code",
   "execution_count": 64,
   "metadata": {},
   "outputs": [
    {
     "data": {
      "text/plain": [
       "'{\"titulo\": \"Aprenda machine learning em 10 dias sem estudar\", \"p\": 0.007722853873814122}'"
      ]
     },
     "execution_count": 64,
     "metadata": {},
     "output_type": "execute_result"
    }
   ],
   "source": [
    "res = r.get(\"http://127.0.0.1:8000/?titulo={}\".format(encoded))\n",
    "res.text"
   ]
  },
  {
   "cell_type": "markdown",
   "metadata": {},
   "source": [
    "Se eu quiser usar o resultado dessa aplicação para outra aplicação por exemplo, transformamos a resposta da request em json:"
   ]
  },
  {
   "cell_type": "code",
   "execution_count": 65,
   "metadata": {},
   "outputs": [
    {
     "data": {
      "text/plain": [
       "{'titulo': 'Aprenda machine learning em 10 dias sem estudar',\n",
       " 'p': 0.007722853873814122}"
      ]
     },
     "execution_count": 65,
     "metadata": {},
     "output_type": "execute_result"
    }
   ],
   "source": [
    "import json\n",
    "json.loads(res.text)"
   ]
  },
  {
   "cell_type": "code",
   "execution_count": null,
   "metadata": {},
   "outputs": [],
   "source": []
  },
  {
   "cell_type": "code",
   "execution_count": null,
   "metadata": {},
   "outputs": [],
   "source": []
  }
 ],
 "metadata": {
  "kernelspec": {
   "display_name": "Python 3",
   "language": "python",
   "name": "python3"
  },
  "language_info": {
   "codemirror_mode": {
    "name": "ipython",
    "version": 3
   },
   "file_extension": ".py",
   "mimetype": "text/x-python",
   "name": "python",
   "nbconvert_exporter": "python",
   "pygments_lexer": "ipython3",
   "version": "3.7.4"
  },
  "latex_envs": {
   "LaTeX_envs_menu_present": true,
   "autoclose": true,
   "autocomplete": true,
   "bibliofile": "biblio.bib",
   "cite_by": "apalike",
   "current_citInitial": 1,
   "eqLabelWithNumbers": true,
   "eqNumInitial": 1,
   "hotkeys": {
    "equation": "Ctrl-E",
    "itemize": "Ctrl-I"
   },
   "labels_anchors": false,
   "latex_user_defs": false,
   "report_style_numbering": false,
   "user_envs_cfg": false
  },
  "toc": {
   "base_numbering": 1,
   "nav_menu": {},
   "number_sections": true,
   "sideBar": true,
   "skip_h1_title": false,
   "title_cell": "Table of Contents",
   "title_sidebar": "Contents",
   "toc_cell": false,
   "toc_position": {},
   "toc_section_display": true,
   "toc_window_display": false
  }
 },
 "nbformat": 4,
 "nbformat_minor": 2
}
