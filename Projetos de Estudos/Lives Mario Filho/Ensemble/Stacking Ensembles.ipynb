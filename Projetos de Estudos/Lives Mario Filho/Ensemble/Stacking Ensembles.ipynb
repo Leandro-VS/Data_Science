{
 "cells": [
  {
   "cell_type": "markdown",
   "metadata": {},
   "source": [
    "# Stacking Ensembles"
   ]
  },
  {
   "cell_type": "code",
   "execution_count": 1,
   "metadata": {},
   "outputs": [],
   "source": [
    "import pandas as pd\n",
    "import numpy as np"
   ]
  },
  {
   "cell_type": "code",
   "execution_count": 3,
   "metadata": {},
   "outputs": [
    {
     "data": {
      "text/html": [
       "<div>\n",
       "<style scoped>\n",
       "    .dataframe tbody tr th:only-of-type {\n",
       "        vertical-align: middle;\n",
       "    }\n",
       "\n",
       "    .dataframe tbody tr th {\n",
       "        vertical-align: top;\n",
       "    }\n",
       "\n",
       "    .dataframe thead th {\n",
       "        text-align: right;\n",
       "    }\n",
       "</style>\n",
       "<table border=\"1\" class=\"dataframe\">\n",
       "  <thead>\n",
       "    <tr style=\"text-align: right;\">\n",
       "      <th></th>\n",
       "      <th>PassengerId</th>\n",
       "      <th>Survived</th>\n",
       "      <th>Pclass</th>\n",
       "      <th>Name</th>\n",
       "      <th>Sex</th>\n",
       "      <th>Age</th>\n",
       "      <th>SibSp</th>\n",
       "      <th>Parch</th>\n",
       "      <th>Ticket</th>\n",
       "      <th>Fare</th>\n",
       "      <th>Cabin</th>\n",
       "      <th>Embarked</th>\n",
       "    </tr>\n",
       "  </thead>\n",
       "  <tbody>\n",
       "    <tr>\n",
       "      <th>0</th>\n",
       "      <td>1</td>\n",
       "      <td>0</td>\n",
       "      <td>3</td>\n",
       "      <td>Braund, Mr. Owen Harris</td>\n",
       "      <td>male</td>\n",
       "      <td>22.0</td>\n",
       "      <td>1</td>\n",
       "      <td>0</td>\n",
       "      <td>A/5 21171</td>\n",
       "      <td>7.2500</td>\n",
       "      <td>NaN</td>\n",
       "      <td>S</td>\n",
       "    </tr>\n",
       "    <tr>\n",
       "      <th>1</th>\n",
       "      <td>2</td>\n",
       "      <td>1</td>\n",
       "      <td>1</td>\n",
       "      <td>Cumings, Mrs. John Bradley (Florence Briggs Th...</td>\n",
       "      <td>female</td>\n",
       "      <td>38.0</td>\n",
       "      <td>1</td>\n",
       "      <td>0</td>\n",
       "      <td>PC 17599</td>\n",
       "      <td>71.2833</td>\n",
       "      <td>C85</td>\n",
       "      <td>C</td>\n",
       "    </tr>\n",
       "    <tr>\n",
       "      <th>2</th>\n",
       "      <td>3</td>\n",
       "      <td>1</td>\n",
       "      <td>3</td>\n",
       "      <td>Heikkinen, Miss. Laina</td>\n",
       "      <td>female</td>\n",
       "      <td>26.0</td>\n",
       "      <td>0</td>\n",
       "      <td>0</td>\n",
       "      <td>STON/O2. 3101282</td>\n",
       "      <td>7.9250</td>\n",
       "      <td>NaN</td>\n",
       "      <td>S</td>\n",
       "    </tr>\n",
       "    <tr>\n",
       "      <th>3</th>\n",
       "      <td>4</td>\n",
       "      <td>1</td>\n",
       "      <td>1</td>\n",
       "      <td>Futrelle, Mrs. Jacques Heath (Lily May Peel)</td>\n",
       "      <td>female</td>\n",
       "      <td>35.0</td>\n",
       "      <td>1</td>\n",
       "      <td>0</td>\n",
       "      <td>113803</td>\n",
       "      <td>53.1000</td>\n",
       "      <td>C123</td>\n",
       "      <td>S</td>\n",
       "    </tr>\n",
       "    <tr>\n",
       "      <th>4</th>\n",
       "      <td>5</td>\n",
       "      <td>0</td>\n",
       "      <td>3</td>\n",
       "      <td>Allen, Mr. William Henry</td>\n",
       "      <td>male</td>\n",
       "      <td>35.0</td>\n",
       "      <td>0</td>\n",
       "      <td>0</td>\n",
       "      <td>373450</td>\n",
       "      <td>8.0500</td>\n",
       "      <td>NaN</td>\n",
       "      <td>S</td>\n",
       "    </tr>\n",
       "  </tbody>\n",
       "</table>\n",
       "</div>"
      ],
      "text/plain": [
       "   PassengerId  Survived  Pclass  \\\n",
       "0            1         0       3   \n",
       "1            2         1       1   \n",
       "2            3         1       3   \n",
       "3            4         1       1   \n",
       "4            5         0       3   \n",
       "\n",
       "                                                Name     Sex   Age  SibSp  \\\n",
       "0                            Braund, Mr. Owen Harris    male  22.0      1   \n",
       "1  Cumings, Mrs. John Bradley (Florence Briggs Th...  female  38.0      1   \n",
       "2                             Heikkinen, Miss. Laina  female  26.0      0   \n",
       "3       Futrelle, Mrs. Jacques Heath (Lily May Peel)  female  35.0      1   \n",
       "4                           Allen, Mr. William Henry    male  35.0      0   \n",
       "\n",
       "   Parch            Ticket     Fare Cabin Embarked  \n",
       "0      0         A/5 21171   7.2500   NaN        S  \n",
       "1      0          PC 17599  71.2833   C85        C  \n",
       "2      0  STON/O2. 3101282   7.9250   NaN        S  \n",
       "3      0            113803  53.1000  C123        S  \n",
       "4      0            373450   8.0500   NaN        S  "
      ]
     },
     "execution_count": 3,
     "metadata": {},
     "output_type": "execute_result"
    }
   ],
   "source": [
    "train = pd.read_csv(\"train.csv\")\n",
    "test = pd.read_csv(\"test.csv\")\n",
    "\n",
    "train.head()"
   ]
  },
  {
   "cell_type": "code",
   "execution_count": 4,
   "metadata": {},
   "outputs": [],
   "source": [
    "train['Sex_binario'] = train['Sex'].map({\"male\": 0, \"female\": 1})\n",
    "test['Sex_binario'] = test['Sex'].map({\"male\": 0, \"female\": 1})"
   ]
  },
  {
   "cell_type": "code",
   "execution_count": 5,
   "metadata": {},
   "outputs": [
    {
     "data": {
      "text/html": [
       "<div>\n",
       "<style scoped>\n",
       "    .dataframe tbody tr th:only-of-type {\n",
       "        vertical-align: middle;\n",
       "    }\n",
       "\n",
       "    .dataframe tbody tr th {\n",
       "        vertical-align: top;\n",
       "    }\n",
       "\n",
       "    .dataframe thead th {\n",
       "        text-align: right;\n",
       "    }\n",
       "</style>\n",
       "<table border=\"1\" class=\"dataframe\">\n",
       "  <thead>\n",
       "    <tr style=\"text-align: right;\">\n",
       "      <th></th>\n",
       "      <th>PassengerId</th>\n",
       "      <th>Survived</th>\n",
       "      <th>Pclass</th>\n",
       "      <th>Name</th>\n",
       "      <th>Sex</th>\n",
       "      <th>Age</th>\n",
       "      <th>SibSp</th>\n",
       "      <th>Parch</th>\n",
       "      <th>Ticket</th>\n",
       "      <th>Fare</th>\n",
       "      <th>Cabin</th>\n",
       "      <th>Embarked</th>\n",
       "      <th>Sex_binario</th>\n",
       "    </tr>\n",
       "  </thead>\n",
       "  <tbody>\n",
       "    <tr>\n",
       "      <th>0</th>\n",
       "      <td>1</td>\n",
       "      <td>0</td>\n",
       "      <td>3</td>\n",
       "      <td>Braund, Mr. Owen Harris</td>\n",
       "      <td>male</td>\n",
       "      <td>22.0</td>\n",
       "      <td>1</td>\n",
       "      <td>0</td>\n",
       "      <td>A/5 21171</td>\n",
       "      <td>7.2500</td>\n",
       "      <td>NaN</td>\n",
       "      <td>S</td>\n",
       "      <td>0</td>\n",
       "    </tr>\n",
       "    <tr>\n",
       "      <th>1</th>\n",
       "      <td>2</td>\n",
       "      <td>1</td>\n",
       "      <td>1</td>\n",
       "      <td>Cumings, Mrs. John Bradley (Florence Briggs Th...</td>\n",
       "      <td>female</td>\n",
       "      <td>38.0</td>\n",
       "      <td>1</td>\n",
       "      <td>0</td>\n",
       "      <td>PC 17599</td>\n",
       "      <td>71.2833</td>\n",
       "      <td>C85</td>\n",
       "      <td>C</td>\n",
       "      <td>1</td>\n",
       "    </tr>\n",
       "    <tr>\n",
       "      <th>2</th>\n",
       "      <td>3</td>\n",
       "      <td>1</td>\n",
       "      <td>3</td>\n",
       "      <td>Heikkinen, Miss. Laina</td>\n",
       "      <td>female</td>\n",
       "      <td>26.0</td>\n",
       "      <td>0</td>\n",
       "      <td>0</td>\n",
       "      <td>STON/O2. 3101282</td>\n",
       "      <td>7.9250</td>\n",
       "      <td>NaN</td>\n",
       "      <td>S</td>\n",
       "      <td>1</td>\n",
       "    </tr>\n",
       "    <tr>\n",
       "      <th>3</th>\n",
       "      <td>4</td>\n",
       "      <td>1</td>\n",
       "      <td>1</td>\n",
       "      <td>Futrelle, Mrs. Jacques Heath (Lily May Peel)</td>\n",
       "      <td>female</td>\n",
       "      <td>35.0</td>\n",
       "      <td>1</td>\n",
       "      <td>0</td>\n",
       "      <td>113803</td>\n",
       "      <td>53.1000</td>\n",
       "      <td>C123</td>\n",
       "      <td>S</td>\n",
       "      <td>1</td>\n",
       "    </tr>\n",
       "    <tr>\n",
       "      <th>4</th>\n",
       "      <td>5</td>\n",
       "      <td>0</td>\n",
       "      <td>3</td>\n",
       "      <td>Allen, Mr. William Henry</td>\n",
       "      <td>male</td>\n",
       "      <td>35.0</td>\n",
       "      <td>0</td>\n",
       "      <td>0</td>\n",
       "      <td>373450</td>\n",
       "      <td>8.0500</td>\n",
       "      <td>NaN</td>\n",
       "      <td>S</td>\n",
       "      <td>0</td>\n",
       "    </tr>\n",
       "  </tbody>\n",
       "</table>\n",
       "</div>"
      ],
      "text/plain": [
       "   PassengerId  Survived  Pclass  \\\n",
       "0            1         0       3   \n",
       "1            2         1       1   \n",
       "2            3         1       3   \n",
       "3            4         1       1   \n",
       "4            5         0       3   \n",
       "\n",
       "                                                Name     Sex   Age  SibSp  \\\n",
       "0                            Braund, Mr. Owen Harris    male  22.0      1   \n",
       "1  Cumings, Mrs. John Bradley (Florence Briggs Th...  female  38.0      1   \n",
       "2                             Heikkinen, Miss. Laina  female  26.0      0   \n",
       "3       Futrelle, Mrs. Jacques Heath (Lily May Peel)  female  35.0      1   \n",
       "4                           Allen, Mr. William Henry    male  35.0      0   \n",
       "\n",
       "   Parch            Ticket     Fare Cabin Embarked  Sex_binario  \n",
       "0      0         A/5 21171   7.2500   NaN        S            0  \n",
       "1      0          PC 17599  71.2833   C85        C            1  \n",
       "2      0  STON/O2. 3101282   7.9250   NaN        S            1  \n",
       "3      0            113803  53.1000  C123        S            1  \n",
       "4      0            373450   8.0500   NaN        S            0  "
      ]
     },
     "execution_count": 5,
     "metadata": {},
     "output_type": "execute_result"
    }
   ],
   "source": [
    "train.head()"
   ]
  },
  {
   "cell_type": "markdown",
   "metadata": {},
   "source": [
    "# Feature Selection"
   ]
  },
  {
   "cell_type": "markdown",
   "metadata": {},
   "source": [
    "_select.dtypes_ seleciona todas as colunas que contenham o tipo de dado especificado, neste caso __np.number__ <br>\n",
    "Esta maneira simplificada de seleção de features é apenas para que possamos entender a tecnica de _Stacking_ , não necessidade de muito trabalho nesta parte pois o objetivo não é ganhar a competição."
   ]
  },
  {
   "cell_type": "code",
   "execution_count": 6,
   "metadata": {},
   "outputs": [],
   "source": [
    "X = train.select_dtypes(include=np.number).drop([\"PassengerId\", 'Survived'], axis=1).fillna(0)\n",
    "y = train['Survived']"
   ]
  },
  {
   "cell_type": "markdown",
   "metadata": {},
   "source": [
    "# Modelagem"
   ]
  },
  {
   "cell_type": "code",
   "execution_count": 7,
   "metadata": {},
   "outputs": [],
   "source": [
    "#Libs\n",
    "from sklearn.ensemble import RandomForestClassifier, ExtraTreesClassifier\n",
    "from sklearn.linear_model import LogisticRegression\n",
    "from sklearn.preprocessing import StandardScaler, MinMaxScaler\n",
    "from sklearn.model_selection import KFold\n",
    "from sklearn.metrics import log_loss, accuracy_score\n",
    "from sklearn.pipeline import make_pipeline"
   ]
  },
  {
   "cell_type": "markdown",
   "metadata": {},
   "source": [
    "## Validação cruzada"
   ]
  },
  {
   "cell_type": "code",
   "execution_count": 8,
   "metadata": {},
   "outputs": [
    {
     "name": "stdout",
     "output_type": "stream",
     "text": [
      "RF Accuracy: 0.7869955156950673 - Log Loss: 0.8891877224352214\n",
      "ET Accuracy: 0.7802690582959642 - Log Loss: 1.7277767849421113\n",
      "LR StdScaler Accuracy: 0.7713004484304933 - Log Loss: 0.4548870233895985\n",
      "LR MinMax Accuracy: 0.773542600896861 - Log Loss: 0.45730271249069515\n",
      "\n",
      "RF Accuracy: 0.8292134831460675 - Log Loss: 0.6313360340802087\n",
      "ET Accuracy: 0.8089887640449438 - Log Loss: 2.533916920090966\n",
      "LR StdScaler Accuracy: 0.7955056179775281 - Log Loss: 0.4579224442106097\n",
      "LR MinMax Accuracy: 0.802247191011236 - Log Loss: 0.4610789905245172\n",
      "\n"
     ]
    }
   ],
   "source": [
    "kf = KFold(n_splits=2, random_state=0, shuffle=True)\n",
    "\n",
    "#Dois ciclos de treinos e validação!\n",
    "\"\"\"\n",
    "Primeiro ciclo:\n",
    "    Treino com a 'PRIMEIRA METADE' dos dados e validação com 'SEGUNDA METADE' dos dados\n",
    "    \n",
    "Segundo ciclo:\n",
    "    Treino com a 'SEGUNDA METADE' dos dados e validação com 'PRIMEIRA METADE' dos dados\n",
    "    \n",
    "OBS: Tal metódo se chama Reamostragem - normalmente é feito com mais divisões do dataset (5 ou até 10)\n",
    "\"\"\"\n",
    "\n",
    "#Criando uma matriz de zeros para armazenar futuramente as previsões. Tal matriz tem o nº linhas do X e 4 colunas,\n",
    "#pois serão usados 4 modelos neste stacking\n",
    "second_level = np.zeros((X.shape[0], 4))\n",
    "\n",
    "for tr, ts in kf.split(X,y):\n",
    "    Xtr, Xval = X.iloc[tr], X.iloc[ts]\n",
    "    ytr, yval = y.iloc[tr], y.iloc[ts]\n",
    "    \n",
    "    rf = RandomForestClassifier(n_estimators=100, n_jobs=6, random_state=10)\n",
    "    rf.fit(Xtr, ytr)\n",
    "    prf = rf.predict_proba(Xval)[:,1]\n",
    "    prf_ = (prf > 0.5).astype(int) #.5 é o ponto de corte padrão para acurácia, adotado pelo sklearn\n",
    "    print(\"RF Accuracy: {} - Log Loss: {}\".format(accuracy_score(yval, prf_), log_loss(yval, prf)))\n",
    "    \n",
    "    et = ExtraTreesClassifier(n_estimators=100, n_jobs=6, random_state=10)\n",
    "    et.fit(Xtr, ytr)\n",
    "    pet = et.predict_proba(Xval)[:,1]\n",
    "    pet_ = (pet > 0.5).astype(int)\n",
    "    print(\"ET Accuracy: {} - Log Loss: {}\".format(accuracy_score(yval, pet_), log_loss(yval, pet)))\n",
    "    \n",
    "    #Padronização dos dados com o modelo mais comum - StandardScaler - basicamente padroniza os dados pelo desvio\n",
    "    #padrão\n",
    "    lr1 = make_pipeline(StandardScaler(), LogisticRegression())\n",
    "    lr1.fit(Xtr, ytr)\n",
    "    plr1 = lr1.predict_proba(Xval)[:,1]\n",
    "    plr1_ = (plr1 > 0.5).astype(int)\n",
    "    print(\"LR StdScaler Accuracy: {} - Log Loss: {}\".format(accuracy_score(yval, plr1_), log_loss(yval, plr1)))\n",
    "    \n",
    "    #Padronização dos dados com o modelo MinMaxScaler que basicamente padroniza os dados com os seus valores min e\n",
    "    #max\n",
    "    lr2 = make_pipeline(MinMaxScaler(), LogisticRegression())\n",
    "    lr2.fit(Xtr, ytr)\n",
    "    plr2 = lr2.predict_proba(Xval)[:,1]\n",
    "    plr2_ = (plr2 > 0.5).astype(int)\n",
    "    print(\"LR MinMax Accuracy: {} - Log Loss: {}\".format(accuracy_score(yval, plr2_), log_loss(yval, plr2)))\n",
    "    \n",
    "    second_level[ts, 0] = prf\n",
    "    second_level[ts, 1] = pet\n",
    "    second_level[ts, 2] = plr1\n",
    "    second_level[ts, 3] = plr2\n",
    "    \n",
    "    print()\n",
    "    \n",
    "    "
   ]
  },
  {
   "cell_type": "markdown",
   "metadata": {},
   "source": [
    "__OBS:__ _Vemos que a aleatoriadade dos dados, implicada pelo KFold, altera drasticamente o desempenho dos modelos_"
   ]
  },
  {
   "cell_type": "markdown",
   "metadata": {},
   "source": [
    "__Accuracy:__ Taxa de acerto, dos valores previstos pelo modelo quantos são iguais ao y_verdadeiro do conjunto de treino. <br>\n",
    "__Log Loss:__ Calibração do modelo, A medida que a probabilidade da previsão aproxima-se de 1.0 a perda (log) diminui, porem para probabilidades menores que 1.0 a perda(log) aumenta rapidamente, ou seja, esta metrica penaliza os dois tipos de erros, mas penaliza especialmente aquelas previões \"muito erradas\""
   ]
  },
  {
   "cell_type": "markdown",
   "metadata": {},
   "source": [
    "## Stacking"
   ]
  },
  {
   "cell_type": "markdown",
   "metadata": {},
   "source": [
    "Esta segunda parte, usaremos a matriz de previsões criadas anteriormente (__second_level__) como features e o mesmo __y__, para treinarmos o modelo"
   ]
  },
  {
   "cell_type": "code",
   "execution_count": 15,
   "metadata": {},
   "outputs": [],
   "source": [
    "#Modelo de uma base line possível para o ensemble:\n",
    "# A média das colunas da matriz second_level (que são as previsões feitas na primeira etapa)\n",
    "\n",
    "#second_level.mean(axis=1)"
   ]
  },
  {
   "cell_type": "code",
   "execution_count": 16,
   "metadata": {},
   "outputs": [
    {
     "name": "stdout",
     "output_type": "stream",
     "text": [
      "Stack Accuracy: 0.8004484304932735 - Log Loss: 0.43791529135624363\n",
      "\n",
      "Stack Accuracy: 0.8157303370786517 - Log Loss: 0.4289260815847779\n",
      "\n"
     ]
    }
   ],
   "source": [
    "for tr, ts in kf.split(X,y):\n",
    "    \n",
    "    Xtr, Xval = second_level[tr], second_level[ts]\n",
    "    ytr, yval = y.iloc[tr], y.iloc[ts]\n",
    "    \n",
    "    lr_stack = LogisticRegression(C=1.)\n",
    "    lr_stack.fit(Xtr, ytr)\n",
    "    plr_stack = lr_stack.predict_proba(Xval)[:,1]\n",
    "    plr_stack_ = (plr_stack > 0.5).astype(int)\n",
    "    \n",
    "    print(\"Stack Accuracy: {} - Log Loss: {}\".format(accuracy_score(yval, plr_stack_), log_loss(yval, plr_stack)))\n",
    "    print()"
   ]
  },
  {
   "cell_type": "markdown",
   "metadata": {},
   "source": [
    "__Devido a aleatoriade o resultado do Ensemble pode ou não bater os modelos individuais, tudo depende da aleatoriadade, rodando diversas vezes, o ensemble ganhará em alguns e outras não.__ <br>\n",
    "__Notando que a log loss diminui pois se beneficia deste processo__"
   ]
  },
  {
   "cell_type": "markdown",
   "metadata": {},
   "source": [
    "___DICA: Para um ensemble, é bom ter modelos que cometem erros diferentes entre si, ou seja, os modelos performam de maneiras diferentes dependendo da \"seção\" do dataset___"
   ]
  },
  {
   "cell_type": "markdown",
   "metadata": {},
   "source": [
    "### Por que utilizar o KFold as duas vezes???"
   ]
  },
  {
   "cell_type": "code",
   "execution_count": 17,
   "metadata": {},
   "outputs": [
    {
     "data": {
      "text/plain": [
       "'\"\\nfolds = [1,2,3]\\n\\n#[features_fold_i, previsões_fold_j][linhas_que_geraram_as_previsões_k]\\n\\nPrimeiro Nível\\nciclo_1 = [1,2] [3]\\nciclo_2 = [1,3] [2]\\nciclo_1 = [2,3] [1]\\n\\nSegundo Nível\\nciclo_1 = [1,2] [3]\\nciclo_2 = [1,3] [2]\\nciclo_1 = [2,3] [1]\\n#Neste cenário (igual ao primeiro ciclo) o modelo ja conhece alguns dos dados e isso além de redundante, que pode\\n#ser prejudicial para o modelo, acarreta em vazamento de dados\\n\\n'"
      ]
     },
     "execution_count": 17,
     "metadata": {},
     "output_type": "execute_result"
    }
   ],
   "source": [
    "\"\"\"\"\n",
    "folds = [1,2,3]\n",
    "\n",
    "#[features_fold_i, previsões_fold_j][linhas_que_geraram_as_previsões_k]\n",
    "\n",
    "Primeiro Nível\n",
    "ciclo_1 = [1,2] [3]\n",
    "ciclo_2 = [1,3] [2]\n",
    "ciclo_1 = [2,3] [1]\n",
    "\n",
    "Segundo Nível\n",
    "ciclo_1 = [1,2] [3]\n",
    "ciclo_2 = [1,3] [2]\n",
    "ciclo_1 = [2,3] [1]\n",
    "#Neste cenário (igual ao primeiro ciclo) o modelo ja conhece alguns dos dados e isso além de redundante, que pode\n",
    "#ser prejudicial para o modelo, acarreta em vazamento de dados\n",
    "\n",
    "\"\"\""
   ]
  },
  {
   "cell_type": "markdown",
   "metadata": {},
   "source": [
    "Como a ideia é, através da validação cruzada, fazer com que os dados se dividam aleatóriamente e assim possamos utlizar nos ciclos, uma parte para treino e outra para validação, o KFold garante que nao haverá vazamento de dados entre os ciclos como por exemplo: no segundo ciclo treinar o modelo com o conjunto de treino do primeiro ciclo! "
   ]
  },
  {
   "cell_type": "markdown",
   "metadata": {},
   "source": [
    "# Correlações entre as previsões do modelo"
   ]
  },
  {
   "cell_type": "code",
   "execution_count": 18,
   "metadata": {},
   "outputs": [
    {
     "data": {
      "text/html": [
       "<div>\n",
       "<style scoped>\n",
       "    .dataframe tbody tr th:only-of-type {\n",
       "        vertical-align: middle;\n",
       "    }\n",
       "\n",
       "    .dataframe tbody tr th {\n",
       "        vertical-align: top;\n",
       "    }\n",
       "\n",
       "    .dataframe thead th {\n",
       "        text-align: right;\n",
       "    }\n",
       "</style>\n",
       "<table border=\"1\" class=\"dataframe\">\n",
       "  <thead>\n",
       "    <tr style=\"text-align: right;\">\n",
       "      <th></th>\n",
       "      <th>0</th>\n",
       "      <th>1</th>\n",
       "      <th>2</th>\n",
       "      <th>3</th>\n",
       "    </tr>\n",
       "  </thead>\n",
       "  <tbody>\n",
       "    <tr>\n",
       "      <th>0</th>\n",
       "      <td>1.000000</td>\n",
       "      <td>0.966815</td>\n",
       "      <td>0.808323</td>\n",
       "      <td>0.808835</td>\n",
       "    </tr>\n",
       "    <tr>\n",
       "      <th>1</th>\n",
       "      <td>0.966815</td>\n",
       "      <td>1.000000</td>\n",
       "      <td>0.756249</td>\n",
       "      <td>0.756569</td>\n",
       "    </tr>\n",
       "    <tr>\n",
       "      <th>2</th>\n",
       "      <td>0.808323</td>\n",
       "      <td>0.756249</td>\n",
       "      <td>1.000000</td>\n",
       "      <td>0.995999</td>\n",
       "    </tr>\n",
       "    <tr>\n",
       "      <th>3</th>\n",
       "      <td>0.808835</td>\n",
       "      <td>0.756569</td>\n",
       "      <td>0.995999</td>\n",
       "      <td>1.000000</td>\n",
       "    </tr>\n",
       "  </tbody>\n",
       "</table>\n",
       "</div>"
      ],
      "text/plain": [
       "          0         1         2         3\n",
       "0  1.000000  0.966815  0.808323  0.808835\n",
       "1  0.966815  1.000000  0.756249  0.756569\n",
       "2  0.808323  0.756249  1.000000  0.995999\n",
       "3  0.808835  0.756569  0.995999  1.000000"
      ]
     },
     "execution_count": 18,
     "metadata": {},
     "output_type": "execute_result"
    }
   ],
   "source": [
    "pd.DataFrame(np.corrcoef(second_level.T))"
   ]
  },
  {
   "cell_type": "markdown",
   "metadata": {},
   "source": [
    "'0' -> RandomForest <br>\n",
    "'1' -> ExtraTree <br>\n",
    "'2' -> LogisticRegression with StandardScaler <br>\n",
    "'3' -> LogisticRegression with MinMaxScaler <br>"
   ]
  },
  {
   "cell_type": "markdown",
   "metadata": {},
   "source": [
    "__Para o Ensemble é melhor quando os modelos possuem previsões pouco correlacionadas, ou seja, erram em pontos e por motivos diferentes__"
   ]
  },
  {
   "cell_type": "code",
   "execution_count": null,
   "metadata": {},
   "outputs": [],
   "source": []
  },
  {
   "cell_type": "code",
   "execution_count": null,
   "metadata": {},
   "outputs": [],
   "source": []
  }
 ],
 "metadata": {
  "kernelspec": {
   "display_name": "Python 3",
   "language": "python",
   "name": "python3"
  },
  "language_info": {
   "codemirror_mode": {
    "name": "ipython",
    "version": 3
   },
   "file_extension": ".py",
   "mimetype": "text/x-python",
   "name": "python",
   "nbconvert_exporter": "python",
   "pygments_lexer": "ipython3",
   "version": "3.7.4"
  },
  "latex_envs": {
   "LaTeX_envs_menu_present": true,
   "autoclose": true,
   "autocomplete": true,
   "bibliofile": "biblio.bib",
   "cite_by": "apalike",
   "current_citInitial": 1,
   "eqLabelWithNumbers": true,
   "eqNumInitial": 1,
   "hotkeys": {
    "equation": "Ctrl-E",
    "itemize": "Ctrl-I"
   },
   "labels_anchors": false,
   "latex_user_defs": false,
   "report_style_numbering": false,
   "user_envs_cfg": false
  },
  "toc": {
   "base_numbering": 1,
   "nav_menu": {},
   "number_sections": true,
   "sideBar": true,
   "skip_h1_title": false,
   "title_cell": "Table of Contents",
   "title_sidebar": "Contents",
   "toc_cell": false,
   "toc_position": {},
   "toc_section_display": true,
   "toc_window_display": false
  }
 },
 "nbformat": 4,
 "nbformat_minor": 4
}
