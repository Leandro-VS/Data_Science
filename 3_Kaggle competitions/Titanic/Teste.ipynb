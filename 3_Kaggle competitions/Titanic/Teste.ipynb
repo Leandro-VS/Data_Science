{
 "cells": [
  {
   "cell_type": "code",
   "execution_count": 1,
   "metadata": {},
   "outputs": [],
   "source": [
    "import numpy as np\n",
    "import pandas as pd\n",
    "import matplotlib.pyplot as plt\n",
    "%matplotlib inline"
   ]
  },
  {
   "cell_type": "code",
   "execution_count": 47,
   "metadata": {},
   "outputs": [],
   "source": [
    "train = pd.read_csv('train.csv')\n",
    "test = pd.read_csv('test.csv')"
   ]
  },
  {
   "cell_type": "code",
   "execution_count": 81,
   "metadata": {},
   "outputs": [
    {
     "data": {
      "text/html": [
       "<div>\n",
       "<style scoped>\n",
       "    .dataframe tbody tr th:only-of-type {\n",
       "        vertical-align: middle;\n",
       "    }\n",
       "\n",
       "    .dataframe tbody tr th {\n",
       "        vertical-align: top;\n",
       "    }\n",
       "\n",
       "    .dataframe thead th {\n",
       "        text-align: right;\n",
       "    }\n",
       "</style>\n",
       "<table border=\"1\" class=\"dataframe\">\n",
       "  <thead>\n",
       "    <tr style=\"text-align: right;\">\n",
       "      <th></th>\n",
       "      <th>PassengerId</th>\n",
       "      <th>Survived</th>\n",
       "      <th>Pclass</th>\n",
       "      <th>Name</th>\n",
       "      <th>Sex</th>\n",
       "      <th>Age</th>\n",
       "      <th>SibSp</th>\n",
       "      <th>Parch</th>\n",
       "      <th>Ticket</th>\n",
       "      <th>Fare</th>\n",
       "      <th>...</th>\n",
       "      <th>Sex_binario</th>\n",
       "      <th>Embarked_S</th>\n",
       "      <th>Embarked_C</th>\n",
       "      <th>Cabine_nula</th>\n",
       "      <th>Nome_contem_Miss</th>\n",
       "      <th>Nome_contem_Mrs</th>\n",
       "      <th>Nome_contem_Master</th>\n",
       "      <th>Nome_contem_Col</th>\n",
       "      <th>Nome_contem_Major</th>\n",
       "      <th>Nome_contem_Mr</th>\n",
       "    </tr>\n",
       "  </thead>\n",
       "  <tbody>\n",
       "    <tr>\n",
       "      <th>0</th>\n",
       "      <td>1</td>\n",
       "      <td>0</td>\n",
       "      <td>3</td>\n",
       "      <td>Braund, Mr. Owen Harris</td>\n",
       "      <td>male</td>\n",
       "      <td>22.0</td>\n",
       "      <td>1</td>\n",
       "      <td>0</td>\n",
       "      <td>A/5 21171</td>\n",
       "      <td>7.2500</td>\n",
       "      <td>...</td>\n",
       "      <td>0</td>\n",
       "      <td>1</td>\n",
       "      <td>0</td>\n",
       "      <td>1</td>\n",
       "      <td>0</td>\n",
       "      <td>0</td>\n",
       "      <td>0</td>\n",
       "      <td>0</td>\n",
       "      <td>0</td>\n",
       "      <td>1</td>\n",
       "    </tr>\n",
       "    <tr>\n",
       "      <th>1</th>\n",
       "      <td>2</td>\n",
       "      <td>1</td>\n",
       "      <td>1</td>\n",
       "      <td>Cumings, Mrs. John Bradley (Florence Briggs Th...</td>\n",
       "      <td>female</td>\n",
       "      <td>38.0</td>\n",
       "      <td>1</td>\n",
       "      <td>0</td>\n",
       "      <td>PC 17599</td>\n",
       "      <td>71.2833</td>\n",
       "      <td>...</td>\n",
       "      <td>1</td>\n",
       "      <td>0</td>\n",
       "      <td>1</td>\n",
       "      <td>0</td>\n",
       "      <td>0</td>\n",
       "      <td>1</td>\n",
       "      <td>0</td>\n",
       "      <td>0</td>\n",
       "      <td>0</td>\n",
       "      <td>1</td>\n",
       "    </tr>\n",
       "    <tr>\n",
       "      <th>2</th>\n",
       "      <td>3</td>\n",
       "      <td>1</td>\n",
       "      <td>3</td>\n",
       "      <td>Heikkinen, Miss. Laina</td>\n",
       "      <td>female</td>\n",
       "      <td>26.0</td>\n",
       "      <td>0</td>\n",
       "      <td>0</td>\n",
       "      <td>STON/O2. 3101282</td>\n",
       "      <td>7.9250</td>\n",
       "      <td>...</td>\n",
       "      <td>1</td>\n",
       "      <td>1</td>\n",
       "      <td>0</td>\n",
       "      <td>1</td>\n",
       "      <td>1</td>\n",
       "      <td>0</td>\n",
       "      <td>0</td>\n",
       "      <td>0</td>\n",
       "      <td>0</td>\n",
       "      <td>0</td>\n",
       "    </tr>\n",
       "    <tr>\n",
       "      <th>3</th>\n",
       "      <td>4</td>\n",
       "      <td>1</td>\n",
       "      <td>1</td>\n",
       "      <td>Futrelle, Mrs. Jacques Heath (Lily May Peel)</td>\n",
       "      <td>female</td>\n",
       "      <td>35.0</td>\n",
       "      <td>1</td>\n",
       "      <td>0</td>\n",
       "      <td>113803</td>\n",
       "      <td>53.1000</td>\n",
       "      <td>...</td>\n",
       "      <td>1</td>\n",
       "      <td>1</td>\n",
       "      <td>0</td>\n",
       "      <td>0</td>\n",
       "      <td>0</td>\n",
       "      <td>1</td>\n",
       "      <td>0</td>\n",
       "      <td>0</td>\n",
       "      <td>0</td>\n",
       "      <td>1</td>\n",
       "    </tr>\n",
       "    <tr>\n",
       "      <th>4</th>\n",
       "      <td>5</td>\n",
       "      <td>0</td>\n",
       "      <td>3</td>\n",
       "      <td>Allen, Mr. William Henry</td>\n",
       "      <td>male</td>\n",
       "      <td>35.0</td>\n",
       "      <td>0</td>\n",
       "      <td>0</td>\n",
       "      <td>373450</td>\n",
       "      <td>8.0500</td>\n",
       "      <td>...</td>\n",
       "      <td>0</td>\n",
       "      <td>1</td>\n",
       "      <td>0</td>\n",
       "      <td>1</td>\n",
       "      <td>0</td>\n",
       "      <td>0</td>\n",
       "      <td>0</td>\n",
       "      <td>0</td>\n",
       "      <td>0</td>\n",
       "      <td>1</td>\n",
       "    </tr>\n",
       "  </tbody>\n",
       "</table>\n",
       "<p>5 rows × 22 columns</p>\n",
       "</div>"
      ],
      "text/plain": [
       "   PassengerId  Survived  Pclass  \\\n",
       "0            1         0       3   \n",
       "1            2         1       1   \n",
       "2            3         1       3   \n",
       "3            4         1       1   \n",
       "4            5         0       3   \n",
       "\n",
       "                                                Name     Sex   Age  SibSp  \\\n",
       "0                            Braund, Mr. Owen Harris    male  22.0      1   \n",
       "1  Cumings, Mrs. John Bradley (Florence Briggs Th...  female  38.0      1   \n",
       "2                             Heikkinen, Miss. Laina  female  26.0      0   \n",
       "3       Futrelle, Mrs. Jacques Heath (Lily May Peel)  female  35.0      1   \n",
       "4                           Allen, Mr. William Henry    male  35.0      0   \n",
       "\n",
       "   Parch            Ticket     Fare  ... Sex_binario Embarked_S  Embarked_C  \\\n",
       "0      0         A/5 21171   7.2500  ...           0          1           0   \n",
       "1      0          PC 17599  71.2833  ...           1          0           1   \n",
       "2      0  STON/O2. 3101282   7.9250  ...           1          1           0   \n",
       "3      0            113803  53.1000  ...           1          1           0   \n",
       "4      0            373450   8.0500  ...           0          1           0   \n",
       "\n",
       "   Cabine_nula  Nome_contem_Miss  Nome_contem_Mrs  Nome_contem_Master  \\\n",
       "0            1                 0                0                   0   \n",
       "1            0                 0                1                   0   \n",
       "2            1                 1                0                   0   \n",
       "3            0                 0                1                   0   \n",
       "4            1                 0                0                   0   \n",
       "\n",
       "   Nome_contem_Col  Nome_contem_Major  Nome_contem_Mr  \n",
       "0                0                  0               1  \n",
       "1                0                  0               1  \n",
       "2                0                  0               0  \n",
       "3                0                  0               1  \n",
       "4                0                  0               1  \n",
       "\n",
       "[5 rows x 22 columns]"
      ]
     },
     "execution_count": 81,
     "metadata": {},
     "output_type": "execute_result"
    }
   ],
   "source": [
    "train.head()"
   ]
  },
  {
   "cell_type": "code",
   "execution_count": 57,
   "metadata": {},
   "outputs": [],
   "source": [
    "def transforma_sex(valor):\n",
    "    if valor == 'female':\n",
    "        return 1\n",
    "    else:\n",
    "        return 0\n",
    "#Male = 0\n",
    "#Female = 1\n",
    "\n",
    "train['Sex_binario'] = train['Sex'].map(transforma_sex)\n",
    "test['Sex_binario'] = test['Sex'].map(transforma_sex)"
   ]
  },
  {
   "cell_type": "code",
   "execution_count": 58,
   "metadata": {},
   "outputs": [],
   "source": [
    "train['Embarked_S'] = (train['Embarked'] == 'S').astype(int)\n",
    "train['Embarked_C'] = (train['Embarked'] == 'C').astype(int)\n",
    "#train['Embarked_Q'] = (train['Embarked'] == 'Q').astype(int)\n",
    "\n",
    "train['Cabine_nula'] = train['Cabin'].isnull().astype(int)\n",
    "\n",
    "train['Nome_contem_Miss'] = train['Name'].str.contains(\"Miss\").astype(int)\n",
    "train['Nome_contem_Mrs'] = train['Name'].str.contains(\"Mrs\").astype(int)\n",
    "\n",
    "train['Nome_contem_Master'] = train['Name'].str.contains(\"Master\").astype(int)\n",
    "train['Nome_contem_Col'] = train['Name'].str.contains(\"Col\").astype(int)\n",
    "train['Nome_contem_Major'] = train['Name'].str.contains(\"Major\").astype(int)\n",
    "train['Nome_contem_Mr'] = train['Name'].str.contains(\"Mr\").astype(int)"
   ]
  },
  {
   "cell_type": "code",
   "execution_count": 59,
   "metadata": {},
   "outputs": [],
   "source": [
    "test['Embarked_S'] = (test['Embarked'] == 'S').astype(int)\n",
    "test['Embarked_C'] = (test['Embarked'] == 'C').astype(int)\n",
    "#test['Embarked_Q'] = (test['Embarked'] == 'Q').astype(int)\n",
    "\n",
    "test['Cabine_nula'] = test['Cabin'].isnull().astype(int)\n",
    "\n",
    "test['Nome_contem_Miss'] = test['Name'].str.contains(\"Miss\").astype(int)\n",
    "test['Nome_contem_Mrs'] = test['Name'].str.contains(\"Mrs\").astype(int)\n",
    "\n",
    "test['Nome_contem_Master'] = test['Name'].str.contains(\"Master\").astype(int)\n",
    "test['Nome_contem_Col'] = test['Name'].str.contains(\"Col\").astype(int)\n",
    "test['Nome_contem_Major'] = test['Name'].str.contains(\"Major\").astype(int)\n",
    "test['Nome_contem_Mr'] = test['Name'].str.contains(\"Mr\").astype(int)"
   ]
  },
  {
   "cell_type": "code",
   "execution_count": 60,
   "metadata": {},
   "outputs": [],
   "source": [
    "variaveis = ['Sex_binario', 'Age', 'Pclass', 'SibSp', 'Parch', 'Fare', 'Embarked_S', 'Embarked_C', 'Cabine_nula',\n",
    "            'Nome_contem_Miss', 'Nome_contem_Mrs', 'Nome_contem_Master', 'Nome_contem_Col', 'Nome_contem_Major',\n",
    "            'Nome_contem_Mr']\n",
    "\n",
    "X = train[variaveis].fillna(-1)\n",
    "y = train['Survived']"
   ]
  },
  {
   "cell_type": "code",
   "execution_count": 61,
   "metadata": {},
   "outputs": [
    {
     "data": {
      "text/plain": [
       "((891, 15), (891,))"
      ]
     },
     "execution_count": 61,
     "metadata": {},
     "output_type": "execute_result"
    }
   ],
   "source": [
    "X.shape, y.shape"
   ]
  },
  {
   "cell_type": "code",
   "execution_count": null,
   "metadata": {},
   "outputs": [],
   "source": []
  },
  {
   "cell_type": "code",
   "execution_count": 62,
   "metadata": {},
   "outputs": [],
   "source": [
    "from sklearn.model_selection import train_test_split\n",
    "X_train, X_valid, y_train, y_valid = train_test_split(X, y, test_size=0.5)"
   ]
  },
  {
   "cell_type": "code",
   "execution_count": 63,
   "metadata": {},
   "outputs": [
    {
     "data": {
      "text/plain": [
       "((445, 15), (446, 15), (445,), (446,))"
      ]
     },
     "execution_count": 63,
     "metadata": {},
     "output_type": "execute_result"
    }
   ],
   "source": [
    "X_train.shape, X_valid.shape, y_train.shape, y_valid.shape"
   ]
  },
  {
   "cell_type": "code",
   "execution_count": 64,
   "metadata": {},
   "outputs": [],
   "source": [
    "from sklearn.linear_model import LogisticRegression"
   ]
  },
  {
   "cell_type": "code",
   "execution_count": 65,
   "metadata": {},
   "outputs": [
    {
     "name": "stderr",
     "output_type": "stream",
     "text": [
      "/home/leandro/.conda/envs/Data_Science/lib/python3.7/site-packages/sklearn/linear_model/logistic.py:432: FutureWarning: Default solver will be changed to 'lbfgs' in 0.22. Specify a solver to silence this warning.\n",
      "  FutureWarning)\n"
     ]
    },
    {
     "data": {
      "text/plain": [
       "LogisticRegression(C=1.0, class_weight=None, dual=False, fit_intercept=True,\n",
       "                   intercept_scaling=1, l1_ratio=None, max_iter=100,\n",
       "                   multi_class='warn', n_jobs=None, penalty='l2',\n",
       "                   random_state=None, solver='warn', tol=0.0001, verbose=0,\n",
       "                   warm_start=False)"
      ]
     },
     "execution_count": 65,
     "metadata": {},
     "output_type": "execute_result"
    }
   ],
   "source": [
    "modelo = LogisticRegression()\n",
    "modelo.fit(X_train, y_train)"
   ]
  },
  {
   "cell_type": "code",
   "execution_count": 66,
   "metadata": {},
   "outputs": [],
   "source": [
    "p = modelo.predict(X_valid)"
   ]
  },
  {
   "cell_type": "code",
   "execution_count": 67,
   "metadata": {},
   "outputs": [],
   "source": [
    "from sklearn.metrics import classification_report"
   ]
  },
  {
   "cell_type": "code",
   "execution_count": 68,
   "metadata": {},
   "outputs": [
    {
     "name": "stdout",
     "output_type": "stream",
     "text": [
      "              precision    recall  f1-score   support\n",
      "\n",
      "           0       0.81      0.83      0.82       280\n",
      "           1       0.70      0.68      0.69       166\n",
      "\n",
      "    accuracy                           0.77       446\n",
      "   macro avg       0.76      0.75      0.76       446\n",
      "weighted avg       0.77      0.77      0.77       446\n",
      "\n"
     ]
    }
   ],
   "source": [
    "print(classification_report(y_valid, p))"
   ]
  },
  {
   "cell_type": "markdown",
   "metadata": {},
   "source": [
    "# Kfold"
   ]
  },
  {
   "cell_type": "code",
   "execution_count": 75,
   "metadata": {},
   "outputs": [],
   "source": [
    "from sklearn.model_selection import KFold\n",
    "from sklearn.model_selection import RepeatedKFold"
   ]
  },
  {
   "cell_type": "code",
   "execution_count": 87,
   "metadata": {},
   "outputs": [
    {
     "name": "stdout",
     "output_type": "stream",
     "text": [
      "Treino:  445\n",
      "Valid:  446\n",
      "Acc:  0.8251121076233184\n",
      "\n",
      "Treino:  446\n",
      "Valid:  445\n",
      "Acc:  0.8044943820224719\n",
      "\n",
      "Treino:  445\n",
      "Valid:  446\n",
      "Acc:  0.8139013452914798\n",
      "\n",
      "Treino:  446\n",
      "Valid:  445\n",
      "Acc:  0.802247191011236\n",
      "\n",
      "Treino:  445\n",
      "Valid:  446\n",
      "Acc:  0.8139013452914798\n",
      "\n",
      "Treino:  446\n",
      "Valid:  445\n",
      "Acc:  0.8179775280898877\n",
      "\n",
      "Treino:  445\n",
      "Valid:  446\n",
      "Acc:  0.8161434977578476\n",
      "\n",
      "Treino:  446\n",
      "Valid:  445\n",
      "Acc:  0.8179775280898877\n",
      "\n",
      "Treino:  445\n",
      "Valid:  446\n",
      "Acc:  0.820627802690583\n",
      "\n",
      "Treino:  446\n",
      "Valid:  445\n",
      "Acc:  0.8089887640449438\n",
      "\n",
      "Treino:  445\n",
      "Valid:  446\n",
      "Acc:  0.827354260089686\n",
      "\n",
      "Treino:  446\n",
      "Valid:  445\n",
      "Acc:  0.8179775280898877\n",
      "\n",
      "Treino:  445\n",
      "Valid:  446\n",
      "Acc:  0.8430493273542601\n",
      "\n",
      "Treino:  446\n",
      "Valid:  445\n",
      "Acc:  0.8067415730337079\n",
      "\n",
      "Treino:  445\n",
      "Valid:  446\n",
      "Acc:  0.8094170403587444\n",
      "\n",
      "Treino:  446\n",
      "Valid:  445\n",
      "Acc:  0.8134831460674158\n",
      "\n",
      "Treino:  445\n",
      "Valid:  446\n",
      "Acc:  0.8452914798206278\n",
      "\n",
      "Treino:  446\n",
      "Valid:  445\n",
      "Acc:  0.8179775280898877\n",
      "\n",
      "Treino:  445\n",
      "Valid:  446\n",
      "Acc:  0.8295964125560538\n",
      "\n",
      "Treino:  446\n",
      "Valid:  445\n"
     ]
    },
    {
     "name": "stderr",
     "output_type": "stream",
     "text": [
      "/home/leandro/.conda/envs/Data_Science/lib/python3.7/site-packages/sklearn/linear_model/logistic.py:432: FutureWarning: Default solver will be changed to 'lbfgs' in 0.22. Specify a solver to silence this warning.\n",
      "  FutureWarning)\n",
      "/home/leandro/.conda/envs/Data_Science/lib/python3.7/site-packages/sklearn/linear_model/logistic.py:432: FutureWarning: Default solver will be changed to 'lbfgs' in 0.22. Specify a solver to silence this warning.\n",
      "  FutureWarning)\n",
      "/home/leandro/.conda/envs/Data_Science/lib/python3.7/site-packages/sklearn/linear_model/logistic.py:432: FutureWarning: Default solver will be changed to 'lbfgs' in 0.22. Specify a solver to silence this warning.\n",
      "  FutureWarning)\n",
      "/home/leandro/.conda/envs/Data_Science/lib/python3.7/site-packages/sklearn/linear_model/logistic.py:432: FutureWarning: Default solver will be changed to 'lbfgs' in 0.22. Specify a solver to silence this warning.\n",
      "  FutureWarning)\n",
      "/home/leandro/.conda/envs/Data_Science/lib/python3.7/site-packages/sklearn/linear_model/logistic.py:432: FutureWarning: Default solver will be changed to 'lbfgs' in 0.22. Specify a solver to silence this warning.\n",
      "  FutureWarning)\n",
      "/home/leandro/.conda/envs/Data_Science/lib/python3.7/site-packages/sklearn/linear_model/logistic.py:432: FutureWarning: Default solver will be changed to 'lbfgs' in 0.22. Specify a solver to silence this warning.\n",
      "  FutureWarning)\n",
      "/home/leandro/.conda/envs/Data_Science/lib/python3.7/site-packages/sklearn/linear_model/logistic.py:432: FutureWarning: Default solver will be changed to 'lbfgs' in 0.22. Specify a solver to silence this warning.\n",
      "  FutureWarning)\n",
      "/home/leandro/.conda/envs/Data_Science/lib/python3.7/site-packages/sklearn/linear_model/logistic.py:432: FutureWarning: Default solver will be changed to 'lbfgs' in 0.22. Specify a solver to silence this warning.\n",
      "  FutureWarning)\n",
      "/home/leandro/.conda/envs/Data_Science/lib/python3.7/site-packages/sklearn/linear_model/logistic.py:432: FutureWarning: Default solver will be changed to 'lbfgs' in 0.22. Specify a solver to silence this warning.\n",
      "  FutureWarning)\n",
      "/home/leandro/.conda/envs/Data_Science/lib/python3.7/site-packages/sklearn/linear_model/logistic.py:432: FutureWarning: Default solver will be changed to 'lbfgs' in 0.22. Specify a solver to silence this warning.\n",
      "  FutureWarning)\n",
      "/home/leandro/.conda/envs/Data_Science/lib/python3.7/site-packages/sklearn/linear_model/logistic.py:432: FutureWarning: Default solver will be changed to 'lbfgs' in 0.22. Specify a solver to silence this warning.\n",
      "  FutureWarning)\n",
      "/home/leandro/.conda/envs/Data_Science/lib/python3.7/site-packages/sklearn/linear_model/logistic.py:432: FutureWarning: Default solver will be changed to 'lbfgs' in 0.22. Specify a solver to silence this warning.\n",
      "  FutureWarning)\n",
      "/home/leandro/.conda/envs/Data_Science/lib/python3.7/site-packages/sklearn/linear_model/logistic.py:432: FutureWarning: Default solver will be changed to 'lbfgs' in 0.22. Specify a solver to silence this warning.\n",
      "  FutureWarning)\n",
      "/home/leandro/.conda/envs/Data_Science/lib/python3.7/site-packages/sklearn/linear_model/logistic.py:432: FutureWarning: Default solver will be changed to 'lbfgs' in 0.22. Specify a solver to silence this warning.\n",
      "  FutureWarning)\n",
      "/home/leandro/.conda/envs/Data_Science/lib/python3.7/site-packages/sklearn/linear_model/logistic.py:432: FutureWarning: Default solver will be changed to 'lbfgs' in 0.22. Specify a solver to silence this warning.\n",
      "  FutureWarning)\n",
      "/home/leandro/.conda/envs/Data_Science/lib/python3.7/site-packages/sklearn/linear_model/logistic.py:432: FutureWarning: Default solver will be changed to 'lbfgs' in 0.22. Specify a solver to silence this warning.\n",
      "  FutureWarning)\n",
      "/home/leandro/.conda/envs/Data_Science/lib/python3.7/site-packages/sklearn/linear_model/logistic.py:432: FutureWarning: Default solver will be changed to 'lbfgs' in 0.22. Specify a solver to silence this warning.\n",
      "  FutureWarning)\n",
      "/home/leandro/.conda/envs/Data_Science/lib/python3.7/site-packages/sklearn/linear_model/logistic.py:432: FutureWarning: Default solver will be changed to 'lbfgs' in 0.22. Specify a solver to silence this warning.\n",
      "  FutureWarning)\n",
      "/home/leandro/.conda/envs/Data_Science/lib/python3.7/site-packages/sklearn/linear_model/logistic.py:432: FutureWarning: Default solver will be changed to 'lbfgs' in 0.22. Specify a solver to silence this warning.\n",
      "  FutureWarning)\n",
      "/home/leandro/.conda/envs/Data_Science/lib/python3.7/site-packages/sklearn/linear_model/logistic.py:432: FutureWarning: Default solver will be changed to 'lbfgs' in 0.22. Specify a solver to silence this warning.\n",
      "  FutureWarning)\n"
     ]
    },
    {
     "name": "stdout",
     "output_type": "stream",
     "text": [
      "Acc:  0.8292134831460675\n",
      "\n"
     ]
    }
   ],
   "source": [
    "resultados = []\n",
    "#Duas divisões, repetidas 10 vezes, com sorteios diferentes e sementes diferentes para cada repetição\n",
    "kf = RepeatedKFold(n_splits=2, n_repeats=10, random_state=10)\n",
    "\n",
    "for linhas_treino, linhas_valid in kf.split(X):\n",
    "        print(\"Treino: \", linhas_treino.shape[0])\n",
    "        print(\"Valid: \", linhas_valid.shape[0])\n",
    "\n",
    "        X_treino, X_valid = X.iloc[linhas_treino], X.iloc[linhas_valid]\n",
    "        y_treino, y_valid = y.iloc[linhas_treino], y.iloc[linhas_valid]\n",
    "\n",
    "        modelo = LogisticRegression()\n",
    "        modelo.fit(X_treino, y_treino)\n",
    "\n",
    "        p = modelo.predict(X_valid)\n",
    "\n",
    "        acc = np.mean(y_valid == p)\n",
    "        resultados.append(acc)\n",
    "        print(\"Acc: \", acc)\n",
    "        print()"
   ]
  },
  {
   "cell_type": "code",
   "execution_count": 88,
   "metadata": {},
   "outputs": [
    {
     "data": {
      "text/plain": [
       "0.8190736635259735"
      ]
     },
     "execution_count": 88,
     "metadata": {},
     "output_type": "execute_result"
    }
   ],
   "source": [
    "np.mean(resultados)"
   ]
  },
  {
   "cell_type": "markdown",
   "metadata": {},
   "source": [
    "## Testando outro modelo"
   ]
  },
  {
   "cell_type": "code",
   "execution_count": 89,
   "metadata": {},
   "outputs": [],
   "source": [
    "from sklearn.ensemble import ExtraTreesClassifier"
   ]
  },
  {
   "cell_type": "code",
   "execution_count": 90,
   "metadata": {},
   "outputs": [
    {
     "name": "stdout",
     "output_type": "stream",
     "text": [
      "Treino:  445\n",
      "Valid:  446\n",
      "Acc:  0.8295964125560538\n",
      "\n",
      "Treino:  446\n",
      "Valid:  445\n",
      "Acc:  0.797752808988764\n",
      "\n",
      "Treino:  445\n",
      "Valid:  446\n",
      "Acc:  0.8340807174887892\n",
      "\n",
      "Treino:  446\n",
      "Valid:  445\n",
      "Acc:  0.7932584269662921\n",
      "\n",
      "Treino:  445\n",
      "Valid:  446\n",
      "Acc:  0.8139013452914798\n",
      "\n",
      "Treino:  446\n",
      "Valid:  445\n",
      "Acc:  0.8112359550561797\n",
      "\n",
      "Treino:  445\n",
      "Valid:  446\n",
      "Acc:  0.8318385650224215\n",
      "\n",
      "Treino:  446\n",
      "Valid:  445\n",
      "Acc:  0.8112359550561797\n",
      "\n",
      "Treino:  445\n",
      "Valid:  446\n",
      "Acc:  0.827354260089686\n",
      "\n",
      "Treino:  446\n",
      "Valid:  445\n",
      "Acc:  0.8\n",
      "\n",
      "Treino:  445\n",
      "Valid:  446\n",
      "Acc:  0.8228699551569507\n",
      "\n",
      "Treino:  446\n",
      "Valid:  445\n",
      "Acc:  0.8292134831460675\n",
      "\n",
      "Treino:  445\n",
      "Valid:  446\n",
      "Acc:  0.8430493273542601\n",
      "\n",
      "Treino:  446\n",
      "Valid:  445\n",
      "Acc:  0.7887640449438202\n",
      "\n",
      "Treino:  445\n",
      "Valid:  446\n",
      "Acc:  0.8094170403587444\n",
      "\n",
      "Treino:  446\n",
      "Valid:  445\n",
      "Acc:  0.8112359550561797\n",
      "\n",
      "Treino:  445\n",
      "Valid:  446\n",
      "Acc:  0.852017937219731\n",
      "\n",
      "Treino:  446\n",
      "Valid:  445\n",
      "Acc:  0.8157303370786517\n",
      "\n",
      "Treino:  445\n",
      "Valid:  446\n",
      "Acc:  0.827354260089686\n",
      "\n",
      "Treino:  446\n",
      "Valid:  445\n",
      "Acc:  0.8292134831460675\n",
      "\n"
     ]
    }
   ],
   "source": [
    "resultados2 = []\n",
    "#Duas divisões, repetidas 10 vezes, com sorteios diferentes e sementes diferentes para cada repetição\n",
    "kf = RepeatedKFold(n_splits=2, n_repeats=10, random_state=10)\n",
    "\n",
    "for linhas_treino, linhas_valid in kf.split(X):\n",
    "        print(\"Treino: \", linhas_treino.shape[0])\n",
    "        print(\"Valid: \", linhas_valid.shape[0])\n",
    "\n",
    "        X_treino, X_valid = X.iloc[linhas_treino], X.iloc[linhas_valid]\n",
    "        y_treino, y_valid = y.iloc[linhas_treino], y.iloc[linhas_valid]\n",
    "\n",
    "        #modelo = LogisticRegression()\n",
    "        modelo = ExtraTreesClassifier(max_depth=5, n_estimators=150)\n",
    "        modelo.fit(X_treino, y_treino)\n",
    "\n",
    "        p = modelo.predict(X_valid)\n",
    "\n",
    "        acc = np.mean(y_valid == p)\n",
    "        resultados2.append(acc)\n",
    "        print(\"Acc: \", acc)\n",
    "        print()"
   ]
  },
  {
   "cell_type": "code",
   "execution_count": 91,
   "metadata": {},
   "outputs": [
    {
     "data": {
      "text/plain": [
       "0.8189560135033004"
      ]
     },
     "execution_count": 91,
     "metadata": {},
     "output_type": "execute_result"
    }
   ],
   "source": [
    "np.mean(resultados2)"
   ]
  },
  {
   "cell_type": "markdown",
   "metadata": {},
   "source": [
    "## Submission"
   ]
  },
  {
   "cell_type": "code",
   "execution_count": null,
   "metadata": {},
   "outputs": [],
   "source": []
  },
  {
   "cell_type": "code",
   "execution_count": 69,
   "metadata": {},
   "outputs": [
    {
     "name": "stderr",
     "output_type": "stream",
     "text": [
      "/home/leandro/.conda/envs/Data_Science/lib/python3.7/site-packages/sklearn/linear_model/logistic.py:432: FutureWarning: Default solver will be changed to 'lbfgs' in 0.22. Specify a solver to silence this warning.\n",
      "  FutureWarning)\n"
     ]
    },
    {
     "data": {
      "text/plain": [
       "LogisticRegression(C=1.0, class_weight=None, dual=False, fit_intercept=True,\n",
       "                   intercept_scaling=1, l1_ratio=None, max_iter=100,\n",
       "                   multi_class='warn', n_jobs=None, penalty='l2',\n",
       "                   random_state=None, solver='warn', tol=0.0001, verbose=0,\n",
       "                   warm_start=False)"
      ]
     },
     "execution_count": 69,
     "metadata": {},
     "output_type": "execute_result"
    }
   ],
   "source": [
    "#retreino\n",
    "modelo = LogisticRegression()\n",
    "modelo.fit(X,y)"
   ]
  },
  {
   "cell_type": "code",
   "execution_count": 70,
   "metadata": {},
   "outputs": [],
   "source": [
    "p = modelo.predict(test[variaveis].fillna(-1))"
   ]
  },
  {
   "cell_type": "code",
   "execution_count": 71,
   "metadata": {},
   "outputs": [
    {
     "data": {
      "text/plain": [
       "(418,)"
      ]
     },
     "execution_count": 71,
     "metadata": {},
     "output_type": "execute_result"
    }
   ],
   "source": [
    "sub = pd.Series(p, index=test['PassengerId'], name='Survived')\n",
    "sub.shape"
   ]
  },
  {
   "cell_type": "code",
   "execution_count": 73,
   "metadata": {},
   "outputs": [],
   "source": [
    "sub.to_csv(\"Teste_LogisticRegression.csv\", header=True)"
   ]
  },
  {
   "cell_type": "markdown",
   "metadata": {},
   "source": [
    "## Submission 2"
   ]
  },
  {
   "cell_type": "code",
   "execution_count": 92,
   "metadata": {},
   "outputs": [],
   "source": [
    "#retreino\n",
    "modelo = ExtraTreesClassifier(max_depth=5, n_estimators=150)\n",
    "modelo.fit(X,y)\n",
    "p = modelo.predict(test[variaveis].fillna(-1))"
   ]
  },
  {
   "cell_type": "code",
   "execution_count": 93,
   "metadata": {},
   "outputs": [
    {
     "data": {
      "text/plain": [
       "(418,)"
      ]
     },
     "execution_count": 93,
     "metadata": {},
     "output_type": "execute_result"
    }
   ],
   "source": [
    "sub = pd.Series(p, index=test['PassengerId'], name='Survived')\n",
    "sub.shape"
   ]
  },
  {
   "cell_type": "code",
   "execution_count": 94,
   "metadata": {},
   "outputs": [],
   "source": [
    "sub.to_csv(\"Teste_ExtraTreeClassifier.csv\", header=True)"
   ]
  },
  {
   "cell_type": "code",
   "execution_count": null,
   "metadata": {},
   "outputs": [],
   "source": []
  }
 ],
 "metadata": {
  "kernelspec": {
   "display_name": "Python 3",
   "language": "python",
   "name": "python3"
  },
  "language_info": {
   "codemirror_mode": {
    "name": "ipython",
    "version": 3
   },
   "file_extension": ".py",
   "mimetype": "text/x-python",
   "name": "python",
   "nbconvert_exporter": "python",
   "pygments_lexer": "ipython3",
   "version": "3.7.4"
  },
  "latex_envs": {
   "LaTeX_envs_menu_present": true,
   "autoclose": true,
   "autocomplete": true,
   "bibliofile": "biblio.bib",
   "cite_by": "apalike",
   "current_citInitial": 1,
   "eqLabelWithNumbers": true,
   "eqNumInitial": 1,
   "hotkeys": {
    "equation": "Ctrl-E",
    "itemize": "Ctrl-I"
   },
   "labels_anchors": false,
   "latex_user_defs": false,
   "report_style_numbering": false,
   "user_envs_cfg": false
  },
  "toc": {
   "base_numbering": 1,
   "nav_menu": {},
   "number_sections": true,
   "sideBar": true,
   "skip_h1_title": false,
   "title_cell": "Table of Contents",
   "title_sidebar": "Contents",
   "toc_cell": false,
   "toc_position": {},
   "toc_section_display": true,
   "toc_window_display": true
  },
  "varInspector": {
   "cols": {
    "lenName": 16,
    "lenType": 16,
    "lenVar": 40
   },
   "kernels_config": {
    "python": {
     "delete_cmd_postfix": "",
     "delete_cmd_prefix": "del ",
     "library": "var_list.py",
     "varRefreshCmd": "print(var_dic_list())"
    },
    "r": {
     "delete_cmd_postfix": ") ",
     "delete_cmd_prefix": "rm(",
     "library": "var_list.r",
     "varRefreshCmd": "cat(var_dic_list()) "
    }
   },
   "types_to_exclude": [
    "module",
    "function",
    "builtin_function_or_method",
    "instance",
    "_Feature"
   ],
   "window_display": false
  }
 },
 "nbformat": 4,
 "nbformat_minor": 4
}
