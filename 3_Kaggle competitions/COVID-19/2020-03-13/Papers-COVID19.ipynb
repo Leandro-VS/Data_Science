{
 "cells": [
  {
   "cell_type": "code",
   "execution_count": 71,
   "metadata": {},
   "outputs": [],
   "source": [
    "#Libraries\n",
    "import os\n",
    "import json\n",
    "from pprint import pprint\n",
    "from copy import deepcopy\n",
    "\n",
    "import numpy as np\n",
    "import pandas as pd\n",
    "from tqdm import tqdm"
   ]
  },
  {
   "cell_type": "markdown",
   "metadata": {},
   "source": [
    "__Funções que tratam o Json__"
   ]
  },
  {
   "cell_type": "code",
   "execution_count": 6,
   "metadata": {},
   "outputs": [],
   "source": [
    "def load_files(dirname):\n",
    "    filenames = os.listdir(dirname)\n",
    "    raw_files = []\n",
    "\n",
    "    for filename in tqdm(filenames):\n",
    "        filename = dirname + filename\n",
    "        file = json.load(open(filename, 'rb'))\n",
    "        raw_files.append(file)\n",
    "    \n",
    "    return raw_files\n",
    "\n",
    "def generate_clean_df(all_files):\n",
    "    cleaned_files = []\n",
    "    \n",
    "    for file in tqdm(all_files):\n",
    "        features = [\n",
    "            file['paper_id'],\n",
    "            file['metadata']['title'],\n",
    "            format_authors(file['metadata']['authors']),\n",
    "            format_authors(file['metadata']['authors'], \n",
    "                           with_affiliation=True),\n",
    "            format_body(file['abstract']),\n",
    "            format_body(file['body_text']),\n",
    "            format_bib(file['bib_entries']),\n",
    "            file['metadata']['authors'],\n",
    "            file['bib_entries']\n",
    "        ]\n",
    "\n",
    "        cleaned_files.append(features)\n",
    "\n",
    "    col_names = ['paper_id', 'title', 'authors',\n",
    "                 'affiliations', 'abstract', 'text', \n",
    "                 'bibliography','raw_authors','raw_bibliography']\n",
    "\n",
    "    clean_df = pd.DataFrame(cleaned_files, columns=col_names)\n",
    "    clean_df.head()\n",
    "    \n",
    "    return clean_df"
   ]
  },
  {
   "cell_type": "markdown",
   "metadata": {},
   "source": [
    "__Funções para extrair informações dos Jsons__"
   ]
  },
  {
   "cell_type": "code",
   "execution_count": 7,
   "metadata": {},
   "outputs": [],
   "source": [
    "def format_name(author):\n",
    "    middle_name = \" \".join(author['middle'])\n",
    "    \n",
    "    if author['middle']:\n",
    "        return \" \".join([author['first'], middle_name, author['last']])\n",
    "    else:\n",
    "        return \" \".join([author['first'], author['last']])\n",
    "\n",
    "\n",
    "def format_affiliation(affiliation):\n",
    "    text = []\n",
    "    location = affiliation.get('location')\n",
    "    if location:\n",
    "        text.extend(list(affiliation['location'].values()))\n",
    "    \n",
    "    institution = affiliation.get('institution')\n",
    "    if institution:\n",
    "        text = [institution] + text\n",
    "    return \", \".join(text)\n",
    "\n",
    "def format_authors(authors, with_affiliation=False):\n",
    "    name_ls = []\n",
    "    \n",
    "    for author in authors:\n",
    "        name = format_name(author)\n",
    "        if with_affiliation:\n",
    "            affiliation = format_affiliation(author['affiliation'])\n",
    "            if affiliation:\n",
    "                name_ls.append(f\"{name} ({affiliation})\")\n",
    "            else:\n",
    "                name_ls.append(name)\n",
    "        else:\n",
    "            name_ls.append(name)\n",
    "    \n",
    "    return \", \".join(name_ls)\n",
    "\n",
    "def format_body(body_text):\n",
    "    texts = [(di['section'], di['text']) for di in body_text]\n",
    "    texts_di = {di['section']: \"\" for di in body_text}\n",
    "    \n",
    "    for section, text in texts:\n",
    "        texts_di[section] += text\n",
    "\n",
    "    body = \"\"\n",
    "\n",
    "    for section, text in texts_di.items():\n",
    "        body += section\n",
    "        body += \"\\n\\n\"\n",
    "        body += text\n",
    "        body += \"\\n\\n\"\n",
    "    \n",
    "    return body\n",
    "\n",
    "def format_bib(bibs):\n",
    "    if type(bibs) == dict:\n",
    "        bibs = list(bibs.values())\n",
    "    bibs = deepcopy(bibs)\n",
    "    formatted = []\n",
    "    \n",
    "    for bib in bibs:\n",
    "        bib['authors'] = format_authors(\n",
    "            bib['authors'], \n",
    "            with_affiliation=False\n",
    "        )\n",
    "        formatted_ls = [str(bib[k]) for k in ['title', 'authors', 'venue', 'year']]\n",
    "        formatted.append(\", \".join(formatted_ls))\n",
    "\n",
    "    return \"; \".join(formatted)"
   ]
  },
  {
   "cell_type": "markdown",
   "metadata": {},
   "source": [
    "# Biorxiv: Exploration"
   ]
  },
  {
   "cell_type": "code",
   "execution_count": 61,
   "metadata": {},
   "outputs": [
    {
     "name": "stdout",
     "output_type": "stream",
     "text": [
      "Número de artigos:  803\n"
     ]
    }
   ],
   "source": [
    "biorxiv_dir = '/home/leandro/Documents/Data Science/3 - Kaggle_competitions/COVID-19/2020-03-13/biorxiv_medrxiv/biorxiv_medrxiv/'\n",
    "filenames = os.listdir(biorxiv_dir)\n",
    "print(\"Número de artigos: \", len(filenames))"
   ]
  },
  {
   "cell_type": "code",
   "execution_count": 68,
   "metadata": {},
   "outputs": [],
   "source": [
    "all_files = []\n",
    "\n",
    "#Carregando o json\n",
    "#Diretório em que o json esta + nome do arquivo json\n",
    "for filename in filenames:\n",
    "    filename = biorxiv_dir + filename\n",
    "    file = json.load(open(filename, 'rb'))\n",
    "    all_files.append(file)"
   ]
  },
  {
   "cell_type": "markdown",
   "metadata": {},
   "source": [
    "## Testando extrações para UMA amostra"
   ]
  },
  {
   "cell_type": "code",
   "execution_count": 70,
   "metadata": {},
   "outputs": [
    {
     "name": "stdout",
     "output_type": "stream",
     "text": [
      "Dictionary keys: dict_keys(['paper_id', 'metadata', 'abstract', 'body_text', 'bib_entries', 'ref_entries', 'back_matter'])\n"
     ]
    }
   ],
   "source": [
    "#visualizando algumas keys\n",
    "file = all_files[0]\n",
    "print(\"Dictionary keys:\", file.keys())"
   ]
  },
  {
   "cell_type": "code",
   "execution_count": 73,
   "metadata": {},
   "outputs": [
    {
     "name": "stdout",
     "output_type": "stream",
     "text": [
      "[{'cite_spans': [],\n",
      "  'ref_spans': [],\n",
      "  'section': 'Abstract',\n",
      "  'text': 'The geographic spread of 2019 novel coronavirus infections from the '\n",
      "          'epicenter of Wuhan, China, has provided an opportunity to study the '\n",
      "          'natural history of the recently emerged virus. Using publicly '\n",
      "          'available event-date data from the ongoing epidemic, the present '\n",
      "          'study investigated the incubation period and other time intervals '\n",
      "          'that govern the epidemiological dynamics of COVID-19 infections. '\n",
      "          'Our results show that the incubation period falls within the range '\n",
      "          'of 2-14 days with 95% confidence and has a mean of around 5 days '\n",
      "          'when approximated using the best-fit lognormal distribution. The '\n",
      "          'mean time from illness onset to hospital admission (for treatment '\n",
      "          'and/or isolation) was estimated at 3-4 days without truncation and '\n",
      "          'at 5-9 days when right truncated. Based on the 95th percentile '\n",
      "          'estimate of the incubation period, we recommend that the length of '\n",
      "          'quarantine should be at least 14 days. The median time delay of 13 '\n",
      "          'days from illness onset to death (17 days with right truncation) '\n",
      "          'should be considered when estimating the COVID-19 case fatality '\n",
      "          'risk.'}]\n"
     ]
    }
   ],
   "source": [
    "#visualizando o abstract\n",
    "pprint(file['abstract'])"
   ]
  },
  {
   "cell_type": "code",
   "execution_count": 74,
   "metadata": {},
   "outputs": [
    {
     "name": "stdout",
     "output_type": "stream",
     "text": [
      "body_text type: <class 'list'>\n",
      "body_text length: 28\n",
      "body_text keys: dict_keys(['text', 'cite_spans', 'ref_spans', 'section'])\n"
     ]
    }
   ],
   "source": [
    "#Body\n",
    "print(\"body_text type:\", type(file['body_text']))\n",
    "print(\"body_text length:\", len(file['body_text']))\n",
    "print(\"body_text keys:\", file['body_text'][0].keys())"
   ]
  },
  {
   "cell_type": "code",
   "execution_count": 75,
   "metadata": {},
   "outputs": [
    {
     "name": "stdout",
     "output_type": "stream",
     "text": [
      "body_text content:\n",
      "[{'cite_spans': [{...}, {...}, {...}, {...}, {...}],\n",
      "  'ref_spans': [],\n",
      "  'section': 'Introduction',\n",
      "  'text': 'As of 31 January 2020, mainland China reported 11,791 confirmed '\n",
      "          'cases of novel coronavirus (COVID- 19) infections, causing 259 '\n",
      "          'deaths [1] . Initially, these infections were thought to result '\n",
      "          'from zoonotic (animal-to-human) transmission; however, recently '\n",
      "          'published evidence [2] and the exponential growth of case '\n",
      "          'incidences show compelling evidence of human-to-human secondary '\n",
      "          'transmission fueled by travel, with many cases detected in other '\n",
      "          'parts of the world [3] . This geographic expansion beyond the '\n",
      "          'initial epicenter of Wuhan provides an opportunity to study the '\n",
      "          'natural history of COVID-19 infection, as these migration events '\n",
      "          'limit the risk of infection to the time during which an individual '\n",
      "          'traveled to an area where exposure could occur [4] .'},\n",
      " {'cite_spans': [{...}, {...}, {...}],\n",
      "  'ref_spans': [],\n",
      "  'section': 'Introduction',\n",
      "  'text': 'The incubation period is defined as the time from infection to '\n",
      "          'illness onset. Knowledge of the incubation period of a directly '\n",
      "          'transmitted infectious disease is critical to determine the time '\n",
      "          'period required for monitoring and restricting the movement of '\n",
      "          'healthy individuals (i.e., the quarantine period) [5, 6] . The '\n",
      "          'incubation period also aids in understanding the relative '\n",
      "          'infectiousness of COVID-19 and can be used to estimate the epidemic '\n",
      "          'size [7] .'}]\n"
     ]
    }
   ],
   "source": [
    "print(\"body_text content:\")\n",
    "pprint(file['body_text'][:2], depth=3)"
   ]
  },
  {
   "cell_type": "code",
   "execution_count": 76,
   "metadata": {},
   "outputs": [
    {
     "name": "stdout",
     "output_type": "stream",
     "text": [
      "['Introduction',\n",
      " 'Epidemiological data',\n",
      " 'Statistical model',\n",
      " 'Results',\n",
      " 'Discussion',\n",
      " 'Figure 2. Estimated cumulative distribution for the incubation period of '\n",
      " 'COVID-19',\n",
      " 'Conflicts of Interest:']\n"
     ]
    }
   ],
   "source": [
    "texts = [(di['section'], di['text']) for di in file['body_text']]\n",
    "texts_di = {di['section']: \"\" for di in file['body_text']}\n",
    "for section, text in texts:\n",
    "    texts_di[section] += text\n",
    "\n",
    "pprint(list(texts_di.keys()))"
   ]
  },
  {
   "cell_type": "markdown",
   "metadata": {},
   "source": [
    "Exemplo do resultado final, após a formatação completa da seção title"
   ]
  },
  {
   "cell_type": "code",
   "execution_count": 78,
   "metadata": {},
   "outputs": [
    {
     "name": "stdout",
     "output_type": "stream",
     "text": [
      "Introduction\n",
      "\n",
      "As of 31 January 2020, mainland China reported 11,791 confirmed cases of novel coronavirus (COVID- 19) infections, causing 259 deaths [1] . Initially, these infections were thought to result from zoonotic (animal-to-human) transmission; however, recently published evidence [2] and the exponential growth of case incidences show compelling evidence of human-to-human secondary transmission fueled by travel, with many cases detected in other parts of the world [3] . This geographic expansion beyond the initial epicenter of Wuhan provides an opportunity to study the natural history of COVID-19 infection, as these migration events limit the risk of infection to the time during which an individual traveled to an area where exposure could occur [4] .The incubation period is defined as the time from infection to illness onset. Knowledge of the incubation period of a directly transmitted infectious disease is critical to determine the time period required for monitoring and restricting the movement of healthy individuals (i.e., the quarantine period) [5, 6] . The incubation period also aids in understanding the relative infectiousness of COVID-19 and can be used to estimate the epidemic size [7] .Time-delay distributions including the dates of hospital admission (for treatment and/or isolation) and death also inform the temporal dynamics of epidemics. A published clinical study on the COVID-19 epidemic has already shown that the average time delay from illness onset to hospital admission is approximately 7 days [8] , but this distribution has yet to be explicitly estimated. The time from hospital admission to death is also critical to the avoidance of underestimation when calculating case fatality risk [9] . Using publicly available data from the ongoing epidemic of COVID-19 with known event dates, the present study aimed to estimate the incubation period and other time intervals that govern the interpretation of epidemiological dynamics of COVID-19 infections.\n",
      "\n",
      "Epidemiological data\n",
      "\n",
      "We retrieved information on cases with confirmed COVID-19 infection and diagnosis outside of the epicenter of Wuhan, China, based on official reports from governmental institutes, as well as reports on deceased cases from both in and outside of Wuhan. We aggregated the data directly from government websites or from news sites that quoted government statements. The data were collected in real time, and thus may have been updated as more details on cases became available. The arranged data include a selection of cases reported through 31 January 2020 and are available as Supplementary Tables S1 and  S2 .Specifically, we collected the dates of exposure (entry and/or exit from Wuhan or dates of close contact with a Wuhan resident/known epidemic case), illness onset, earliest healthcare seeking related to infection, hospital admission (for treatment and/or isolation), and death. Cases included both residents from other locations who travelled to Wuhan, as well as indi\n"
     ]
    }
   ],
   "source": [
    "body = \"\"\n",
    "\n",
    "for section, text in texts_di.items():\n",
    "    body += section\n",
    "    body += \"\\n\\n\"\n",
    "    body += text\n",
    "    body += \"\\n\\n\"\n",
    "\n",
    "print(body[:3000])"
   ]
  },
  {
   "cell_type": "code",
   "execution_count": 82,
   "metadata": {},
   "outputs": [
    {
     "name": "stdout",
     "output_type": "stream",
     "text": [
      "Introduction\n",
      "\n",
      "As of 31 January 2020, mainland China reported 11,791 confirmed cases of novel coronavirus (COVID- 19) infections, causing 259 deaths [1] . Initially, these infections were thought to result from zoonotic (animal-to-human) transmission; however, recently published evidence [2] and the exponential growth of case incidences show compelling evidence of human-to-human secondary transmission fueled by travel, with many cases detected in other parts of the world [3] . This geographic expansion beyond the initial epicenter of Wuhan provides an opportunity to study the natural history of COVID-19 infection, as these migration events limit the risk of infection to the time during which an individual traveled to an area where exposure could occur [4] .The incubation period is defined as the time from infection to illness onset. Knowledge of the incubation period of a directly transmitted infectious disease is critical to determine the time period required for monitoring and restricting the movement of healthy individuals (i.e., the quarantine period) [5, 6] . The incubation period also aids in understanding the relative infectiousness of COVID-19 and can be used to estimate the epidemic size [7] .Time-delay distributions including the dates of hospital admission (for treatment and/or isolation) and death also inform the temporal dynamics of epidemics. A published clinical study on the COVID-19 epidemic has already shown that the average time delay from illness onset to hospital admission is approximately 7 days [8] , but this distribution has yet to be explicitly estimated. The time from hospital admission to death is also critical to the avoidance of underestimation when calculating case fatality risk [9] . Using publicly available data from the ongoing epidemic of COVID-19 with known event dates, the present study aimed to estimate the incubation period and other time intervals that govern the interpretation of epidemiological dynamics of COVID-19 infections.\n",
      "\n",
      "Epidemiological data\n",
      "\n",
      "We retrieved information on cases with confirmed COVID-19 infection and diagnosis outside of the epicenter of Wuhan, China, based on official reports from governmental institutes, as well as reports on deceased cases from both in and outside of Wuhan. We aggregated the data directly from government websites or from news sites that quoted government statements. The data were collected in real time, and thus may have been updated as more details on cases became available. The arranged data include a selection of cases reported through 31 January 2020 and are available as Supplementary Tables S1 and  S2 .Specifically, we collected the dates of exposure (entry and/or exit from Wuhan or dates of close contact with a Wuhan resident/known epidemic case), illness onset, earliest healthcare seeking related to infection, hospital admission (for treatment and/or isolation), and death. Cases included both residents from other locations who travelled to Wuhan, as well as indi\n"
     ]
    }
   ],
   "source": [
    "#Utilizando a função criada no começo\n",
    "print(format_body(file['body_text'])[:3000])"
   ]
  },
  {
   "cell_type": "markdown",
   "metadata": {},
   "source": [
    "## Metadata"
   ]
  },
  {
   "cell_type": "code",
   "execution_count": 83,
   "metadata": {},
   "outputs": [
    {
     "name": "stdout",
     "output_type": "stream",
     "text": [
      "dict_keys(['title', 'authors'])\n"
     ]
    }
   ],
   "source": [
    "print(all_files[0]['metadata'].keys())"
   ]
  },
  {
   "cell_type": "code",
   "execution_count": 84,
   "metadata": {},
   "outputs": [
    {
     "name": "stdout",
     "output_type": "stream",
     "text": [
      "Incubation Period and Other Epidemiological Characteristics of 2019 Novel Coronavirus Infections with Right Truncation: A Statistical Analysis of Publicly Available Case Data\n"
     ]
    }
   ],
   "source": [
    "print(all_files[0]['metadata']['title'])"
   ]
  },
  {
   "cell_type": "code",
   "execution_count": 85,
   "metadata": {},
   "outputs": [
    {
     "name": "stdout",
     "output_type": "stream",
     "text": [
      "[{'affiliation': {'institution': 'Hokkaido University',\n",
      "                  'laboratory': '',\n",
      "                  'location': {'country': 'Japan',\n",
      "                               'settlement': 'Sapporo, Hokkaido'}},\n",
      "  'email': '',\n",
      "  'first': 'Natalie',\n",
      "  'last': 'Linton',\n",
      "  'middle': ['M'],\n",
      "  'suffix': ''},\n",
      " {'affiliation': {'institution': 'Hokkaido University',\n",
      "                  'laboratory': '',\n",
      "                  'location': {'country': 'Japan',\n",
      "                               'settlement': 'Sapporo, Hokkaido'}},\n",
      "  'email': '',\n",
      "  'first': 'Tetsuro',\n",
      "  'last': 'Kobayashi',\n",
      "  'middle': [],\n",
      "  'suffix': ''},\n",
      " {'affiliation': {'institution': 'Hokkaido University',\n",
      "                  'laboratory': '',\n",
      "                  'location': {'country': 'Japan',\n",
      "                               'settlement': 'Sapporo, Hokkaido'}},\n",
      "  'email': '',\n",
      "  'first': 'Yichi',\n",
      "  'last': 'Yang',\n",
      "  'middle': [],\n",
      "  'suffix': ''}]\n"
     ]
    }
   ],
   "source": [
    "authors = all_files[0]['metadata']['authors']\n",
    "pprint(authors[:3])"
   ]
  },
  {
   "cell_type": "code",
   "execution_count": 86,
   "metadata": {},
   "outputs": [
    {
     "name": "stdout",
     "output_type": "stream",
     "text": [
      "Name: Natalie M Linton\n",
      "Affiliation: Hokkaido University, Sapporo, Hokkaido, Japan\n",
      "\n",
      "Name: Tetsuro Kobayashi\n",
      "Affiliation: Hokkaido University, Sapporo, Hokkaido, Japan\n",
      "\n",
      "Name: Yichi Yang\n",
      "Affiliation: Hokkaido University, Sapporo, Hokkaido, Japan\n",
      "\n",
      "Name: Katsuma Hayashi\n",
      "Affiliation: Hokkaido University, Sapporo, Hokkaido, Japan\n",
      "\n",
      "Name: Andrei R Akhmetzhanov\n",
      "Affiliation: Hokkaido University, Sapporo, Hokkaido, Japan\n",
      "\n",
      "Name: Sung-Mok Jung\n",
      "Affiliation: Hokkaido University, Sapporo, Hokkaido, Japan\n",
      "\n",
      "Name: Baoyin Yuan\n",
      "Affiliation: Hokkaido University, Sapporo, Hokkaido, Japan\n",
      "\n",
      "Name: Ryo Kinoshita\n",
      "Affiliation: Hokkaido University, Sapporo, Hokkaido, Japan\n",
      "\n",
      "Name: Hiroshi Nishiura\n",
      "Affiliation: Hokkaido University, Sapporo, Hokkaido, Japan\n",
      "\n"
     ]
    }
   ],
   "source": [
    "#Usando as funções criadas para extrair as informações\n",
    "for author in authors:\n",
    "    print(\"Name:\", format_name(author))\n",
    "    print(\"Affiliation:\", format_affiliation(author['affiliation']))\n",
    "    print()"
   ]
  },
  {
   "cell_type": "code",
   "execution_count": 87,
   "metadata": {},
   "outputs": [
    {
     "name": "stdout",
     "output_type": "stream",
     "text": [
      "{'authors': [{'affiliation': {'institution': 'University of Lausanne',\n",
      "                              'laboratory': '',\n",
      "                              'location': {...}},\n",
      "              'email': '',\n",
      "              'first': 'Lucie',\n",
      "              'last': 'Kešnerová',\n",
      "              'middle': [],\n",
      "              'suffix': ''},\n",
      "             {'affiliation': {'institution': 'University of Lausanne',\n",
      "                              'laboratory': '',\n",
      "                              'location': {...}},\n",
      "              'email': '',\n",
      "              'first': 'Olivier',\n",
      "              'last': 'Emery',\n",
      "              'middle': [],\n",
      "              'suffix': ''},\n",
      "             {'affiliation': {'institution': 'University of Lausanne',\n",
      "                              'laboratory': '',\n",
      "                              'location': {...}},\n",
      "              'email': '',\n",
      "              'first': 'Michaël',\n",
      "              'last': 'Troilo',\n",
      "              'middle': [],\n",
      "              'suffix': ''},\n",
      "             {'affiliation': {'institution': 'University of Lausanne',\n",
      "                              'laboratory': '',\n",
      "                              'location': {...}},\n",
      "              'email': '',\n",
      "              'first': 'Joanito',\n",
      "              'last': 'Liberti',\n",
      "              'middle': [],\n",
      "              'suffix': ''},\n",
      "             {'affiliation': {'institution': 'University of Lausanne',\n",
      "                              'laboratory': '',\n",
      "                              'location': {...}},\n",
      "              'email': '',\n",
      "              'first': 'Berra',\n",
      "              'last': 'Erkosar',\n",
      "              'middle': [],\n",
      "              'suffix': ''},\n",
      "             {'affiliation': {'institution': 'University of Lausanne',\n",
      "                              'laboratory': '',\n",
      "                              'location': {...}},\n",
      "              'email': 'philipp.engel@unil.ch',\n",
      "              'first': 'Philipp',\n",
      "              'last': 'Engel',\n",
      "              'middle': [],\n",
      "              'suffix': ''},\n",
      "             {'affiliation': {},\n",
      "              'email': '',\n",
      "              'first': '',\n",
      "              'last': 'Engel',\n",
      "              'middle': ['Philipp'],\n",
      "              'suffix': ''}],\n",
      " 'title': 'Gut microbiota structure differs between honey'}\n"
     ]
    }
   ],
   "source": [
    "pprint(all_files[4]['metadata'], depth=4)"
   ]
  },
  {
   "cell_type": "code",
   "execution_count": 88,
   "metadata": {},
   "outputs": [
    {
     "name": "stdout",
     "output_type": "stream",
     "text": [
      "Formatting without affiliation:\n",
      "Lucie Kešnerová, Olivier Emery, Michaël Troilo, Joanito Liberti, Berra Erkosar, Philipp Engel,  Philipp Engel\n",
      "\n",
      "Formatting with affiliation:\n",
      "Lucie Kešnerová (University of Lausanne, CH-1015, Lausanne, 7 Switzerland), Olivier Emery (University of Lausanne, CH-1015, Lausanne, 7 Switzerland), Michaël Troilo (University of Lausanne, CH-1015, Lausanne, 7 Switzerland), Joanito Liberti (University of Lausanne, CH-1015, Lausanne, 7 Switzerland), Berra Erkosar (University of Lausanne, CH-1015, Lausanne), Philipp Engel (University of Lausanne, CH-1015, Lausanne, 7 Switzerland),  Philipp Engel\n"
     ]
    }
   ],
   "source": [
    "authors = all_files[4]['metadata']['authors']\n",
    "print(\"Formatting without affiliation:\")\n",
    "print(format_authors(authors, with_affiliation=False))\n",
    "print(\"\\nFormatting with affiliation:\")\n",
    "print(format_authors(authors, with_affiliation=True))"
   ]
  },
  {
   "cell_type": "markdown",
   "metadata": {},
   "source": [
    "## Bibliography"
   ]
  },
  {
   "cell_type": "code",
   "execution_count": 89,
   "metadata": {},
   "outputs": [
    {
     "name": "stdout",
     "output_type": "stream",
     "text": [
      "[{'authors': [],\n",
      "  'issn': '',\n",
      "  'other_ids': {},\n",
      "  'pages': '',\n",
      "  'ref_id': 'b0',\n",
      "  'title': 'Update on Pneumonia of New Coronavirus Infection as of 21:00 on',\n",
      "  'venue': '',\n",
      "  'volume': '',\n",
      "  'year': 2020},\n",
      " {'authors': [{'first': 'Q', 'last': 'Li', 'middle': [], 'suffix': ''},\n",
      "              {'first': 'X', 'last': 'Guan', 'middle': [], 'suffix': ''},\n",
      "              {'first': 'P', 'last': 'Wu', 'middle': [], 'suffix': ''},\n",
      "              {'first': 'X', 'last': 'Wang', 'middle': [], 'suffix': ''},\n",
      "              {'first': 'L', 'last': 'Zhou', 'middle': [], 'suffix': ''},\n",
      "              {'first': 'Y', 'last': 'Tong', 'middle': [], 'suffix': ''},\n",
      "              {'first': 'R', 'last': 'Ren', 'middle': [], 'suffix': ''},\n",
      "              {'first': 'K', 'last': 'Leung', 'middle': [...], 'suffix': ''},\n",
      "              {'first': 'E', 'last': 'Lau', 'middle': [...], 'suffix': ''},\n",
      "              {'first': 'J', 'last': 'Wong', 'middle': [...], 'suffix': ''}],\n",
      "  'issn': '',\n",
      "  'other_ids': {'DOI': ['10.1056/NEJMoa2001316']},\n",
      "  'pages': '',\n",
      "  'ref_id': 'b1',\n",
      "  'title': 'Early transmission dynamics in Wuhan, China, of novel '\n",
      "           'coronavirus-infected pneumonia',\n",
      "  'venue': 'N. Engl. J. Med. 2020',\n",
      "  'volume': '',\n",
      "  'year': None}]\n"
     ]
    }
   ],
   "source": [
    "bibs = list(file['bib_entries'].values())\n",
    "pprint(bibs[:2], depth=4)"
   ]
  },
  {
   "cell_type": "code",
   "execution_count": 90,
   "metadata": {},
   "outputs": [
    {
     "data": {
      "text/plain": [
       "'Q Li, X Guan, P Wu, X Wang, L Zhou, Y Tong, R Ren, K S M Leung, E H Y Lau, J Y Wong'"
      ]
     },
     "execution_count": 90,
     "metadata": {},
     "output_type": "execute_result"
    }
   ],
   "source": [
    "format_authors(bibs[1]['authors'], with_affiliation=False)"
   ]
  },
  {
   "cell_type": "code",
   "execution_count": 91,
   "metadata": {},
   "outputs": [
    {
     "name": "stdout",
     "output_type": "stream",
     "text": [
      "Update on Pneumonia of New Coronavirus Infection as of 21:00 on, , , 2020; Early transmission dynamics in Wuhan, China, of novel coronavirus-infected pneumonia, Q Li, X Guan, P Wu, X Wang, L Zhou, Y Tong, R Ren, K S M Leung, E H Y Lau, J Y Wong, N. Engl. J. Med. 2020, None; European Centre for Disease Prevention and Control data, , , 2020; Estimates of short-and long-term incubation periods of Plasmodium vivax malaria in the Republic of Korea, H Nishiura, H W Lee, S H Cho, W G Lee, T S In, S U Moon, G T Chung, T S Kim, Trans R Soc Trop Med Hyg, 2007; New York City Department of Health and Mental Hygiene Swine Influenza Investigation Team, J Lessler, N G Reich, D A Cummings, H P Nair, H T Jordan, N Thompson, N Engl J Med, 2009\n"
     ]
    }
   ],
   "source": [
    "bib_formatted = format_bib(bibs[:5])\n",
    "print(bib_formatted)"
   ]
  },
  {
   "cell_type": "markdown",
   "metadata": {},
   "source": [
    "## Generate CSV"
   ]
  },
  {
   "cell_type": "code",
   "execution_count": 92,
   "metadata": {},
   "outputs": [
    {
     "name": "stderr",
     "output_type": "stream",
     "text": [
      "100%|██████████| 803/803 [00:01<00:00, 432.77it/s]\n"
     ]
    }
   ],
   "source": [
    "cleaned_files = []\n",
    "\n",
    "for file in tqdm(all_files):\n",
    "    features = [\n",
    "        file['paper_id'],\n",
    "        file['metadata']['title'],\n",
    "        format_authors(file['metadata']['authors']),\n",
    "        format_authors(file['metadata']['authors'], \n",
    "                       with_affiliation=True),\n",
    "        format_body(file['abstract']),\n",
    "        format_body(file['body_text']),\n",
    "        format_bib(file['bib_entries']),\n",
    "        file['metadata']['authors'],\n",
    "        file['bib_entries']\n",
    "    ]\n",
    "    \n",
    "    cleaned_files.append(features)"
   ]
  },
  {
   "cell_type": "code",
   "execution_count": 95,
   "metadata": {},
   "outputs": [
    {
     "data": {
      "text/html": [
       "<div>\n",
       "<style scoped>\n",
       "    .dataframe tbody tr th:only-of-type {\n",
       "        vertical-align: middle;\n",
       "    }\n",
       "\n",
       "    .dataframe tbody tr th {\n",
       "        vertical-align: top;\n",
       "    }\n",
       "\n",
       "    .dataframe thead th {\n",
       "        text-align: right;\n",
       "    }\n",
       "</style>\n",
       "<table border=\"1\" class=\"dataframe\">\n",
       "  <thead>\n",
       "    <tr style=\"text-align: right;\">\n",
       "      <th></th>\n",
       "      <th>paper_id</th>\n",
       "      <th>title</th>\n",
       "      <th>authors</th>\n",
       "      <th>affiliations</th>\n",
       "      <th>abstract</th>\n",
       "      <th>text</th>\n",
       "      <th>bibliography</th>\n",
       "      <th>raw_authors</th>\n",
       "      <th>raw_bibliography</th>\n",
       "    </tr>\n",
       "  </thead>\n",
       "  <tbody>\n",
       "    <tr>\n",
       "      <th>0</th>\n",
       "      <td>cbc05d14c57b91081970a232ab83bc993f998fe2</td>\n",
       "      <td>Incubation Period and Other Epidemiological Ch...</td>\n",
       "      <td>Natalie M Linton, Tetsuro Kobayashi, Yichi Yan...</td>\n",
       "      <td>Natalie M Linton (Hokkaido University, Sapporo...</td>\n",
       "      <td>Abstract\\n\\nThe geographic spread of 2019 nove...</td>\n",
       "      <td>Introduction\\n\\nAs of 31 January 2020, mainlan...</td>\n",
       "      <td>Update on Pneumonia of New Coronavirus Infecti...</td>\n",
       "      <td>[{'first': 'Natalie', 'middle': ['M'], 'last':...</td>\n",
       "      <td>{'BIBREF0': {'ref_id': 'b0', 'title': 'Update ...</td>\n",
       "    </tr>\n",
       "    <tr>\n",
       "      <th>1</th>\n",
       "      <td>403d885a33958731c4607ea632453e25a89e2b57</td>\n",
       "      <td>Novel ionophores active against La Crosse viru...</td>\n",
       "      <td>Zachary J Sandler, Michelle N Vu, Vineet D Men...</td>\n",
       "      <td>Zachary J Sandler (Loyola University), Michell...</td>\n",
       "      <td>Abstract\\n\\nBunyaviruses are significant human...</td>\n",
       "      <td>\\n\\ndaptomycin, among others. More closely rel...</td>\n",
       "      <td>Zika virus: history of a newly emerging arbovi...</td>\n",
       "      <td>[{'first': 'Zachary', 'middle': ['J'], 'last':...</td>\n",
       "      <td>{'BIBREF0': {'ref_id': 'b0', 'title': 'Zika vi...</td>\n",
       "    </tr>\n",
       "    <tr>\n",
       "      <th>2</th>\n",
       "      <td>c6039f8933305c9f44a44c81a15b321b6c2848dc</td>\n",
       "      <td>Far-UVC light: A new tool to control the sprea...</td>\n",
       "      <td>David Welch, Manuela Buonanno, Veljko Grilj, I...</td>\n",
       "      <td>David Welch (Columbia University Medical Cente...</td>\n",
       "      <td>Abstract\\n\\nAirborne-mediated microbial diseas...</td>\n",
       "      <td>3\\n\\nAirborne-mediated microbial diseases repr...</td>\n",
       "      <td>Global, regional, and national life expectancy...</td>\n",
       "      <td>[{'first': 'David', 'middle': [], 'last': 'Wel...</td>\n",
       "      <td>{'BIBREF0': {'ref_id': 'b0', 'title': 'Global,...</td>\n",
       "    </tr>\n",
       "    <tr>\n",
       "      <th>3</th>\n",
       "      <td>96ef1767754a53f792951ba1752440ae94e90c60</td>\n",
       "      <td>Tuning antiviral CD8 T-cell response via proli...</td>\n",
       "      <td>Adil Doganay Duru, Renhua Sun, Eva B Allerbrin...</td>\n",
       "      <td>Adil Doganay Duru (Karolinska University Hospi...</td>\n",
       "      <td>Abstract\\n\\nViral escape from CD8 + cytotoxic ...</td>\n",
       "      <td>\\n\\nY4F is restored following vaccination with...</td>\n",
       "      <td>Immunodominance in major histocompatibility co...</td>\n",
       "      <td>[{'first': 'Adil', 'middle': [], 'last': 'Doga...</td>\n",
       "      <td>{'BIBREF0': {'ref_id': 'b0', 'title': 'Immunod...</td>\n",
       "    </tr>\n",
       "    <tr>\n",
       "      <th>4</th>\n",
       "      <td>d010cc0209bc5a0eee6259f72c42590c448da1cf</td>\n",
       "      <td>Gut microbiota structure differs between honey</td>\n",
       "      <td>Lucie Kešnerová, Olivier Emery, Michaël Troilo...</td>\n",
       "      <td>Lucie Kešnerová (University of Lausanne, CH-10...</td>\n",
       "      <td>Abstract\\n\\nAdult honey bees harbor a speciali...</td>\n",
       "      <td>Introduction\\n\\nan important characteristic of...</td>\n",
       "      <td>Importance of pollinators in changing landscap...</td>\n",
       "      <td>[{'first': 'Lucie', 'middle': [], 'last': 'Keš...</td>\n",
       "      <td>{'BIBREF1': {'ref_id': 'b1', 'title': 'Importa...</td>\n",
       "    </tr>\n",
       "  </tbody>\n",
       "</table>\n",
       "</div>"
      ],
      "text/plain": [
       "                                   paper_id  \\\n",
       "0  cbc05d14c57b91081970a232ab83bc993f998fe2   \n",
       "1  403d885a33958731c4607ea632453e25a89e2b57   \n",
       "2  c6039f8933305c9f44a44c81a15b321b6c2848dc   \n",
       "3  96ef1767754a53f792951ba1752440ae94e90c60   \n",
       "4  d010cc0209bc5a0eee6259f72c42590c448da1cf   \n",
       "\n",
       "                                               title  \\\n",
       "0  Incubation Period and Other Epidemiological Ch...   \n",
       "1  Novel ionophores active against La Crosse viru...   \n",
       "2  Far-UVC light: A new tool to control the sprea...   \n",
       "3  Tuning antiviral CD8 T-cell response via proli...   \n",
       "4     Gut microbiota structure differs between honey   \n",
       "\n",
       "                                             authors  \\\n",
       "0  Natalie M Linton, Tetsuro Kobayashi, Yichi Yan...   \n",
       "1  Zachary J Sandler, Michelle N Vu, Vineet D Men...   \n",
       "2  David Welch, Manuela Buonanno, Veljko Grilj, I...   \n",
       "3  Adil Doganay Duru, Renhua Sun, Eva B Allerbrin...   \n",
       "4  Lucie Kešnerová, Olivier Emery, Michaël Troilo...   \n",
       "\n",
       "                                        affiliations  \\\n",
       "0  Natalie M Linton (Hokkaido University, Sapporo...   \n",
       "1  Zachary J Sandler (Loyola University), Michell...   \n",
       "2  David Welch (Columbia University Medical Cente...   \n",
       "3  Adil Doganay Duru (Karolinska University Hospi...   \n",
       "4  Lucie Kešnerová (University of Lausanne, CH-10...   \n",
       "\n",
       "                                            abstract  \\\n",
       "0  Abstract\\n\\nThe geographic spread of 2019 nove...   \n",
       "1  Abstract\\n\\nBunyaviruses are significant human...   \n",
       "2  Abstract\\n\\nAirborne-mediated microbial diseas...   \n",
       "3  Abstract\\n\\nViral escape from CD8 + cytotoxic ...   \n",
       "4  Abstract\\n\\nAdult honey bees harbor a speciali...   \n",
       "\n",
       "                                                text  \\\n",
       "0  Introduction\\n\\nAs of 31 January 2020, mainlan...   \n",
       "1  \\n\\ndaptomycin, among others. More closely rel...   \n",
       "2  3\\n\\nAirborne-mediated microbial diseases repr...   \n",
       "3  \\n\\nY4F is restored following vaccination with...   \n",
       "4  Introduction\\n\\nan important characteristic of...   \n",
       "\n",
       "                                        bibliography  \\\n",
       "0  Update on Pneumonia of New Coronavirus Infecti...   \n",
       "1  Zika virus: history of a newly emerging arbovi...   \n",
       "2  Global, regional, and national life expectancy...   \n",
       "3  Immunodominance in major histocompatibility co...   \n",
       "4  Importance of pollinators in changing landscap...   \n",
       "\n",
       "                                         raw_authors  \\\n",
       "0  [{'first': 'Natalie', 'middle': ['M'], 'last':...   \n",
       "1  [{'first': 'Zachary', 'middle': ['J'], 'last':...   \n",
       "2  [{'first': 'David', 'middle': [], 'last': 'Wel...   \n",
       "3  [{'first': 'Adil', 'middle': [], 'last': 'Doga...   \n",
       "4  [{'first': 'Lucie', 'middle': [], 'last': 'Keš...   \n",
       "\n",
       "                                    raw_bibliography  \n",
       "0  {'BIBREF0': {'ref_id': 'b0', 'title': 'Update ...  \n",
       "1  {'BIBREF0': {'ref_id': 'b0', 'title': 'Zika vi...  \n",
       "2  {'BIBREF0': {'ref_id': 'b0', 'title': 'Global,...  \n",
       "3  {'BIBREF0': {'ref_id': 'b0', 'title': 'Immunod...  \n",
       "4  {'BIBREF1': {'ref_id': 'b1', 'title': 'Importa...  "
      ]
     },
     "execution_count": 95,
     "metadata": {},
     "output_type": "execute_result"
    }
   ],
   "source": [
    "col_names = [\n",
    "    'paper_id', \n",
    "    'title', \n",
    "    'authors',\n",
    "    'affiliations', \n",
    "    'abstract', \n",
    "    'text', \n",
    "    'bibliography',\n",
    "    'raw_authors',\n",
    "    'raw_bibliography'\n",
    "]\n",
    "\n",
    "clean_df = pd.DataFrame(cleaned_files, columns=col_names)\n",
    "clean_df.head()"
   ]
  },
  {
   "cell_type": "code",
   "execution_count": null,
   "metadata": {},
   "outputs": [],
   "source": [
    "#clean_df.to_csv('biorxiv_clean.csv', index=False)"
   ]
  },
  {
   "cell_type": "code",
   "execution_count": null,
   "metadata": {},
   "outputs": [],
   "source": []
  },
  {
   "cell_type": "code",
   "execution_count": null,
   "metadata": {},
   "outputs": [],
   "source": []
  },
  {
   "cell_type": "code",
   "execution_count": null,
   "metadata": {},
   "outputs": [],
   "source": []
  },
  {
   "cell_type": "code",
   "execution_count": null,
   "metadata": {},
   "outputs": [],
   "source": []
  },
  {
   "cell_type": "code",
   "execution_count": null,
   "metadata": {},
   "outputs": [],
   "source": []
  },
  {
   "cell_type": "code",
   "execution_count": null,
   "metadata": {},
   "outputs": [],
   "source": []
  }
 ],
 "metadata": {
  "kernelspec": {
   "display_name": "Python 3",
   "language": "python",
   "name": "python3"
  },
  "language_info": {
   "codemirror_mode": {
    "name": "ipython",
    "version": 3
   },
   "file_extension": ".py",
   "mimetype": "text/x-python",
   "name": "python",
   "nbconvert_exporter": "python",
   "pygments_lexer": "ipython3",
   "version": "3.7.4"
  },
  "latex_envs": {
   "LaTeX_envs_menu_present": true,
   "autoclose": true,
   "autocomplete": true,
   "bibliofile": "biblio.bib",
   "cite_by": "apalike",
   "current_citInitial": 1,
   "eqLabelWithNumbers": true,
   "eqNumInitial": 1,
   "hotkeys": {
    "equation": "Ctrl-E",
    "itemize": "Ctrl-I"
   },
   "labels_anchors": false,
   "latex_user_defs": false,
   "report_style_numbering": false,
   "user_envs_cfg": false
  },
  "toc": {
   "base_numbering": 1,
   "nav_menu": {},
   "number_sections": true,
   "sideBar": true,
   "skip_h1_title": false,
   "title_cell": "Table of Contents",
   "title_sidebar": "Contents",
   "toc_cell": false,
   "toc_position": {},
   "toc_section_display": true,
   "toc_window_display": false
  }
 },
 "nbformat": 4,
 "nbformat_minor": 2
}
