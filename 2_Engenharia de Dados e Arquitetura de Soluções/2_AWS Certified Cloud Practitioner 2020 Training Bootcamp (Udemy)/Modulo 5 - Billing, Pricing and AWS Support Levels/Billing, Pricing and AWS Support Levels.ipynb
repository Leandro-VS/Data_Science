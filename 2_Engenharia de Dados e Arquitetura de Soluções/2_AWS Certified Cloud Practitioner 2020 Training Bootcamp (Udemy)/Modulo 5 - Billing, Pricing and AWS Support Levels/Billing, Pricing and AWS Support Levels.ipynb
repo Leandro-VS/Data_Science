{
 "cells": [
  {
   "cell_type": "markdown",
   "metadata": {},
   "source": [
    "# Fundamentals of Princing"
   ]
  },
  {
   "cell_type": "markdown",
   "metadata": {},
   "source": [
    "__AWS__ oferece otimização dos custos constantemente, de forma que pagamos pelo que consumimos, garantindo o melhor _ROI_ (Return On Investment) para cada uso especifico."
   ]
  },
  {
   "cell_type": "markdown",
   "metadata": {},
   "source": [
    "## Trusted Advisor"
   ]
  },
  {
   "cell_type": "markdown",
   "metadata": {},
   "source": [
    "__AWS Trusted Advisior__ é um serviço que fornece orientação em tempo real para ajudar a provisionar os recursos. Esta disponível em 5 categorias:\n",
    "\n",
    "* Cost Optimization\n",
    "* Performance \n",
    "* Security\n",
    "* Fault Tolerance\n",
    "* Service Limits"
   ]
  },
  {
   "cell_type": "markdown",
   "metadata": {},
   "source": [
    "___AWS oferece planos de suportes para os clientes, oferecendo diversos tipos e níveis de suporte___"
   ]
  }
 ],
 "metadata": {
  "kernelspec": {
   "display_name": "Python 3",
   "language": "python",
   "name": "python3"
  },
  "language_info": {
   "codemirror_mode": {
    "name": "ipython",
    "version": 3
   },
   "file_extension": ".py",
   "mimetype": "text/x-python",
   "name": "python",
   "nbconvert_exporter": "python",
   "pygments_lexer": "ipython3",
   "version": "3.7.4"
  },
  "latex_envs": {
   "LaTeX_envs_menu_present": true,
   "autoclose": true,
   "autocomplete": true,
   "bibliofile": "biblio.bib",
   "cite_by": "apalike",
   "current_citInitial": 1,
   "eqLabelWithNumbers": true,
   "eqNumInitial": 1,
   "hotkeys": {
    "equation": "Ctrl-E",
    "itemize": "Ctrl-I"
   },
   "labels_anchors": false,
   "latex_user_defs": false,
   "report_style_numbering": false,
   "user_envs_cfg": false
  },
  "toc": {
   "base_numbering": 1,
   "nav_menu": {},
   "number_sections": true,
   "sideBar": true,
   "skip_h1_title": false,
   "title_cell": "Table of Contents",
   "title_sidebar": "Contents",
   "toc_cell": false,
   "toc_position": {},
   "toc_section_display": true,
   "toc_window_display": false
  }
 },
 "nbformat": 4,
 "nbformat_minor": 2
}
