{
 "cells": [
  {
   "cell_type": "markdown",
   "metadata": {},
   "source": [
    "# AWS Security"
   ]
  },
  {
   "cell_type": "markdown",
   "metadata": {},
   "source": [
    "Segurança é prioridade maxima para a AWS, ela ajuda a proteger a confidencialidade, integridade e disponibilidade dos sistemas e dados dos clientes.\n",
    "A arquitetura da AWS foi criada seguindo dois principios:  _Flexibilidade e segurança,_ fornecendo uma plataforma na nuvem extremamente escalável e flexível.\n",
    "\n",
    "AWS usa de redundância e controle mult-camadas, continuamente validado e testado, automatico, que ajdua a monitorar e manter os consumidores seguros.\n",
    "O mesmo nível de automação e segurança é mantido e replicado em todos os AWS DC (data centers) assim como nas AZs.\n",
    "Sendo assim temos uma arquitetura resiliente e tolerante a falhas, desenhada para segurança capaz de atender os requisitos até mesmo dos clientes mais sensíveis a segurança."
   ]
  },
  {
   "cell_type": "markdown",
   "metadata": {},
   "source": [
    "## Share Responsability Model"
   ]
  },
  {
   "cell_type": "markdown",
   "metadata": {},
   "source": [
    "Segurança e conformidade são compartilhados entre __AWS__ e __Consumidor.__\n",
    "O consumidor assume a responsabilidade de gerenciar as operações do sistema (incluindo updates e patches de segurança), assim como a configuração do firewalldo grupo de segurança fornecido pela AWS, enquanto a AWS cuida da Cloud."
   ]
  },
  {
   "cell_type": "markdown",
   "metadata": {},
   "source": [
    "[___Segurança DA Cloud (AWS) e Segurança NA Cloud (Consumidor)___ ](https://aws.amazon.com/pt/compliance/shared-responsibility-model/)\n",
    "\n",
    "\n",
    "![](security.png)"
   ]
  },
  {
   "cell_type": "markdown",
   "metadata": {},
   "source": [
    "__Responsabilidade da AWS: “Segurança Da Nuvem”,__  a AWS é responsável por proteger a infraestrutura que executa todos os serviços oferecidos na Nuvem AWS. Essa infraestrutura é composta por hardware, software, redes e instalações que executam os Serviços de nuvem AWS.\n",
    "\n",
    "\n",
    "__Responsabilidade do cliente: “Segurança Na nuvem”,__ a responsabilidade do cliente será determinada pelos Serviços de nuvem AWS selecionados por ele. Isso determina a quantidade de operações de configuração que o cliente deverá executar como parte de suas responsabilidades de segurança. Por exemplo, um serviço como o Amazon Elastic Compute Cloud (Amazon EC2) é categorizado como Infrastructure as a Service (IaaS – Infraestrutura como serviço) e, dessa forma, exige que o cliente execute todas as tarefas necessárias de configuração e gerenciamento da segurança. Os clientes que implantam uma instância do Amazon EC2 são responsáveis pelo gerenciamento do sistema operacional convidado (o que inclui atualizações e patches de segurança), por qualquer utilitário ou software de aplicativo instalado pelo cliente nas instâncias, bem como pela configuração do firewall disponibilizado pela AWS (chamado de grupo de segurança) em cada instância. Para serviços abstraídos, como o Amazon S3 e o Amazon DynamoDB, a AWS opera a camada de infraestrutura, o sistema operacional e as plataformas, e os clientes acessam os endpoints para armazenar e recuperar dados. Os clientes são responsáveis por gerenciar os dados deles (o que inclui opções de criptografia), classificando os ativos e usando as ferramentas de IAM para aplicar as permissões apropriadas."
   ]
  },
  {
   "cell_type": "markdown",
   "metadata": {},
   "source": [
    "## Security Products and Features"
   ]
  },
  {
   "cell_type": "markdown",
   "metadata": {},
   "source": [
    "AWS fornece diversas ferramentas e features para auxiliar o usuario na questão de segurança, como:\n",
    "\n",
    "* __Network security__  \n",
    "    * Contrua firewalls (security groups) para controlar os acessos as instancias e subnets\n",
    "    * Criptografia em transito, usando _TLS_\n",
    "    * VPNs para conexões privadas dedicadas\n",
    "    * Tecnologias de mitigação de DDoS\n",
    "    \n",
    "    \n",
    "* __Configuration management__\n",
    "    * Ferramentas de deploy para criação e desativação de serviços e recursos AWS\n",
    "    * Ferramentas de inventário - Dashboards\n",
    "    * Definição de templatespara criar instancias personalizadas do EC2 com configuração específica que pdoemos replicar\n",
    "\n",
    "\n",
    "* __Data encryption__\n",
    "    * Criptografia de dados para serviços de armazenamento e banco de dados da AWS\n",
    "    * Sistema flexível de gerenciamento de senhas ( _KMS_ )\n",
    "    * Opções de armazenamento de keys criptografadas em hardware\n",
    "\n",
    "\n",
    "* __Access control__\n",
    "    * _IAM_ define individualmente contas de usuários com permissões personalizadas\n",
    "    * Autenticação multi fatores\n",
    "    * Integração de federação com diretórios corporativos\n",
    "\n",
    "\n",
    "* __Monitoring & Logging__\n",
    "    * Deep Visibility - _CloudTrail_\n",
    "    * Log aggregation - _CloudWatch_\n",
    "    * Notificação através de alertas (emails)"
   ]
  },
  {
   "cell_type": "markdown",
   "metadata": {},
   "source": [
    "# Security Services"
   ]
  },
  {
   "cell_type": "markdown",
   "metadata": {},
   "source": [
    "## AWS WAF"
   ]
  },
  {
   "cell_type": "markdown",
   "metadata": {},
   "source": [
    "__WAF - Web Application Firewall__ é um serviço que monitora conexões encaminhadas para a aplicação web do cliente. WAF é uma defesa na camada 7 do protocolo (modelo OSI),e não foi projetado para se defender de todos os tipos de ataques.\n",
    "Ao contrário da maioria dos outros firewalls, WAF entende o trafego da perspectiva do aplicativo. É possível monitorar o tráfego HTTP e HTTPS, que é mais do que apenas o TCP e numero de portas 80/433."
   ]
  },
  {
   "cell_type": "markdown",
   "metadata": {},
   "source": [
    "WAF tipicamente protege contra ataques como: falsificação entre sites, scripts entre sites (XXS), inclusão de arquivos e também de injeção de SQL. Ele ainda fornece diversas configurações, como:\n",
    "\n",
    "* Permitir todo o trafego exceto solicitações expecificas vindas dos usuarios\n",
    "* Bloquear todo o trafego exceto as solicitações que o usuario permite\n",
    "* É possível monitorar e contar solicitações com propriedades que você define\n",
    "\n",
    "OBS: É possível usar uma API para administrar  o WAF"
   ]
  },
  {
   "cell_type": "markdown",
   "metadata": {},
   "source": [
    "## AWS Shield"
   ]
  },
  {
   "cell_type": "markdown",
   "metadata": {},
   "source": [
    "Ajuda a se proteger contra ataques de DDoS"
   ]
  },
  {
   "cell_type": "markdown",
   "metadata": {},
   "source": [
    "## AWS Firewall Manager"
   ]
  },
  {
   "cell_type": "markdown",
   "metadata": {},
   "source": [
    "Ele simplifica as tarefas de administração e manutenção do _AWS WAF_ em varias contas e recursos. Com o Firewall Manager você especifica suas configurações de segurança apenas uma vez, e o serviço se encarrega de aplica-las em todas as contas e recursos, mesmo os novos. "
   ]
  },
  {
   "cell_type": "markdown",
   "metadata": {},
   "source": [
    "# AWS Inspector"
   ]
  },
  {
   "cell_type": "markdown",
   "metadata": {},
   "source": [
    "AWS Inspetor testa suas instancias EC2 em uma perspectiva de acessibilidade de rede e também de segurança, ele avalia os aplicativos para exposição, vulnerabilidades e também desvios das melhores praticas. \n",
    "Após executar uma avaliação o AWs Inspector fornece uma lista detalhada das descobertas de segurança, organizada por nível de gravidade.\n",
    "\n",
    "Para isso devemos instalar um pequeno pacote, chamado de _agent_ , no sistema operacional das instancias EC2 que desejamos avaliar, ele avaliará o comportamente da instancia, incluindo rede, sistemas de arquivos e atividades do processo."
   ]
  }
 ],
 "metadata": {
  "kernelspec": {
   "display_name": "Python 3",
   "language": "python",
   "name": "python3"
  },
  "language_info": {
   "codemirror_mode": {
    "name": "ipython",
    "version": 3
   },
   "file_extension": ".py",
   "mimetype": "text/x-python",
   "name": "python",
   "nbconvert_exporter": "python",
   "pygments_lexer": "ipython3",
   "version": "3.7.4"
  },
  "latex_envs": {
   "LaTeX_envs_menu_present": true,
   "autoclose": true,
   "autocomplete": true,
   "bibliofile": "biblio.bib",
   "cite_by": "apalike",
   "current_citInitial": 1,
   "eqLabelWithNumbers": true,
   "eqNumInitial": 1,
   "hotkeys": {
    "equation": "Ctrl-E",
    "itemize": "Ctrl-I"
   },
   "labels_anchors": false,
   "latex_user_defs": false,
   "report_style_numbering": false,
   "user_envs_cfg": false
  },
  "toc": {
   "base_numbering": 1,
   "nav_menu": {},
   "number_sections": true,
   "sideBar": true,
   "skip_h1_title": false,
   "title_cell": "Table of Contents",
   "title_sidebar": "Contents",
   "toc_cell": false,
   "toc_position": {},
   "toc_section_display": true,
   "toc_window_display": true
  }
 },
 "nbformat": 4,
 "nbformat_minor": 2
}
