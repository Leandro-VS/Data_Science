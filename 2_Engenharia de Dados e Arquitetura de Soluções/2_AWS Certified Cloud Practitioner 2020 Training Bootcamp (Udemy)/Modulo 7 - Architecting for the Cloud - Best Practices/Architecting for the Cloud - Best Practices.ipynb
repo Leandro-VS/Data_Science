{
 "cells": [
  {
   "cell_type": "markdown",
   "metadata": {},
   "source": [
    "__Leitura recomendada:__ /Data Science/2 - Engenharia de Dados e Arquitetura de Soluções/4 - AWS Certified Cloud Practitioner 2020 Training Bootcamp (Udemy)/Modulo 7 - Architecting for the Cloud - Best Practices"
   ]
  },
  {
   "cell_type": "markdown",
   "metadata": {},
   "source": [
    "# Scaling"
   ]
  },
  {
   "cell_type": "markdown",
   "metadata": {},
   "source": [
    "Com Cloud computing é possível ter processamento quase que ilimitado, porém tem que haver uma arquitetura configurada por trás que suporte isso, seja para um crescimento vertical ou horizontal."
   ]
  },
  {
   "cell_type": "markdown",
   "metadata": {},
   "source": [
    "__Scaling Vertically__\n",
    "\n",
    "Escalabilidade vertical significa aumentar a capacidade do servidor atual.\n",
    "__EX:__\n",
    "\" _Um site executando em uma instancia EC2 média A1 (1vCPU, 2GB Ram), para crescer e escalar seria preciso migrar para uma instancia de maior capacidade_ \""
   ]
  },
  {
   "cell_type": "markdown",
   "metadata": {},
   "source": [
    "__Scaling Horizontaly__\n",
    "\n",
    "\n",
    "Escalabilidade horizontal significa aumentar a capacidade dos recursos atuais, o que irá depender da arquitetura atual suportar tais crescimentos.\n",
    "\n",
    "* ___Stateless Applications:___ Aplicativos com \"sem estado\" não armazenam quaisquer dados e conexões são independentes umas das outras, tal aplicativo não precisa ter conhecimento de interações anteriores. Como exemplo teriamos uma aplicativo que fornece uma mesma resposta para qualquer usuário com a mesma entrada.\n",
    "Aplicativos deste tipo são perfeitos para um crescimento horizontal pois basta adicionar instancias EC2, e sendo assim uma maneira pratica de distribuir o trafego para uma frota de instancias EC2 é através do __ELB - Elastic Load balancer__\n",
    "\n",
    "\n",
    "* ___Stateless Components:___ A maioria dos aplicativos precisam manter algum tipo de informação sobre os usuarios, para fazer isso alguns utilizam do _cookies HTTP_ ,  porem outros cenários exigem um armazenamento de arquivos maiores como por exemplo _Amazon S3 ou EFS._\n",
    "\n",
    "\n",
    "* ___Distributed Processing:___ Quando um único recurso de computação não pode processar uma informação, ele é dividido em pedaços menores e distribuido para outras instancias, este cenário é comum no mundo de BIG DATA."
   ]
  },
  {
   "cell_type": "markdown",
   "metadata": {},
   "source": [
    "# Infrastructure Instantiating"
   ]
  },
  {
   "cell_type": "markdown",
   "metadata": {},
   "source": [
    "__Bootstrapping__\n",
    "\n",
    "Quando executamos uma EC2 AMI, a instancia começa com uma configuração padrão. Executando o script bootstrap podemos automaticamente fazer todas as configurações desejadas na instancia."
   ]
  },
  {
   "cell_type": "markdown",
   "metadata": {},
   "source": [
    "__Golden Image__\n",
    "\n",
    "\n",
    "Golden Images são _Snapshots_ de uma instancia EC2 em executação e ja configurada, apartir então deste snapshot é possível criar outras AMI com as mesmas configurações."
   ]
  },
  {
   "cell_type": "markdown",
   "metadata": {},
   "source": [
    "# Automation"
   ]
  },
  {
   "cell_type": "markdown",
   "metadata": {},
   "source": [
    "Alguns exemplos de como podemos automatizar o trabalho na AWS:\n",
    "\n",
    "* Com o AWS Elastic Beanstalk fazemos o upload do nosso aplicativo e o provisionamento do balanceamento de carga, o dimensionamento automatico e monitoramento são feitos automaticamente.\n",
    "\n",
    "\n",
    "* AWS EC2 Auto recovery monitora a instancia e se ela falhar ele cria outra identica\n",
    "\n",
    "\n",
    "* Autoscaling: Escala as instancias EC2 para cima ou para baixo dependendo das condições definidas na politica de dimensionamento automatico\n",
    "\n",
    "\n",
    "* CloudWatch Alarms: Podemos definir alarmes para disparar outras ações\n",
    "\n",
    "\n",
    "* Lambda Schedule Events executa alguma tarefa em algum horário especifico do dia ou como resultado de alguma outra coisa dentro do ambiente AWS\n",
    "\n",
    "\n",
    "* AWS OpsWorks Lifecycle Events oferece suporte à configuração continua por meio de eventos, ou seja, é possível configurar as instancias EC2 como resultado de algum evento."
   ]
  },
  {
   "cell_type": "markdown",
   "metadata": {},
   "source": [
    "# Desing Principles"
   ]
  },
  {
   "cell_type": "markdown",
   "metadata": {},
   "source": [
    "* __Loose coupling:__ Quebrando a aplicação em peças menores ou componentes de forma que cada pedaço seja independente, leva a um sistema de  \" _loose coupling (acoplamento solto)._ \""
   ]
  },
  {
   "cell_type": "markdown",
   "metadata": {},
   "source": []
  },
  {
   "cell_type": "markdown",
   "metadata": {},
   "source": []
  },
  {
   "cell_type": "markdown",
   "metadata": {},
   "source": []
  },
  {
   "cell_type": "markdown",
   "metadata": {},
   "source": []
  },
  {
   "cell_type": "code",
   "execution_count": null,
   "metadata": {},
   "outputs": [],
   "source": []
  },
  {
   "cell_type": "code",
   "execution_count": null,
   "metadata": {},
   "outputs": [],
   "source": []
  }
 ],
 "metadata": {
  "kernelspec": {
   "display_name": "Python 3",
   "language": "python",
   "name": "python3"
  },
  "language_info": {
   "codemirror_mode": {
    "name": "ipython",
    "version": 3
   },
   "file_extension": ".py",
   "mimetype": "text/x-python",
   "name": "python",
   "nbconvert_exporter": "python",
   "pygments_lexer": "ipython3",
   "version": "3.7.4"
  },
  "latex_envs": {
   "LaTeX_envs_menu_present": true,
   "autoclose": true,
   "autocomplete": true,
   "bibliofile": "biblio.bib",
   "cite_by": "apalike",
   "current_citInitial": 1,
   "eqLabelWithNumbers": true,
   "eqNumInitial": 1,
   "hotkeys": {
    "equation": "Ctrl-E",
    "itemize": "Ctrl-I"
   },
   "labels_anchors": false,
   "latex_user_defs": false,
   "report_style_numbering": false,
   "user_envs_cfg": false
  },
  "toc": {
   "base_numbering": 1,
   "nav_menu": {},
   "number_sections": true,
   "sideBar": true,
   "skip_h1_title": false,
   "title_cell": "Table of Contents",
   "title_sidebar": "Contents",
   "toc_cell": false,
   "toc_position": {},
   "toc_section_display": true,
   "toc_window_display": false
  }
 },
 "nbformat": 4,
 "nbformat_minor": 2
}
