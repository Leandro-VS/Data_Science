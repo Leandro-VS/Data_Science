{
 "cells": [
  {
   "cell_type": "markdown",
   "metadata": {},
   "source": [
    "# Identity Access Management (IAM)"
   ]
  },
  {
   "cell_type": "markdown",
   "metadata": {},
   "source": [
    "__IAM__ é um serviço que ajuda no acesso seguro aos serviços da AWS. É usado para autenticação e autorização para a utilização dos recursos.\n",
    "Há dois conceitos importantes _Autenticação_ e _Autorização_ , ambos de diferem segundo o usuario.\n",
    "\n",
    "* __User, Group and Role__ --> _Autenticação_\n",
    "* __Policy Document__ --> _Autorização_"
   ]
  },
  {
   "cell_type": "markdown",
   "metadata": {},
   "source": [
    "* __User__ --> Refere-se ao operador, pode ser um humano, uma maquina ou outro serviço da aws\n",
    "* __Group__ --> Coleção de usuarios\n",
    "* __Role__ --> Também é um operador e também pode ser um humano ou serviço aws. A diferença para os demais está no fato de que para _Users e Groups_ a autenticação é permanente, para _Role_ é temporária"
   ]
  },
  {
   "cell_type": "markdown",
   "metadata": {},
   "source": [
    "Uma vez que um user/role são autenticados pela AWS, é gerado um documento de permissão (autorização) baseado no \"document policy\" que estão ligados a ele.\n",
    "Policy Documents (Json) podem ser ligadas a users, groups e role. Se uma policy é ligada a um grupo, um user que se junte ao grupo herdará a mesma policy."
   ]
  },
  {
   "cell_type": "markdown",
   "metadata": {},
   "source": [
    "# VPC"
   ]
  },
  {
   "cell_type": "markdown",
   "metadata": {},
   "source": [
    "Amazon __Virtual Private Cloud__ permite utilizar os recursos da AWS em uma network privada que o usuario define. Uma Virtual network é similar a network tradicional que permite operar no seu proprio data center, o principal benecifio é que transpondo isso para a aws toda a infraestrutura torna-se escalável. Basicamente podemos dizer que ao utilizar uma VPC estamos realocando o data center local para a insfraestrutura de cloud da AWS.\n",
    "\n",
    "\n",
    "__Caracteristicas e Terminologias:__\n",
    "* VPC é uma network dedicada para a sua conta AWS\n",
    "* _Subnet_ é o alcance do endereço IP da sua VPC\n",
    "* _Route table_ contém um conjunto de rules, chamados __routes__, que são usados para determinar onde o trafego de rede é direcionado\n",
    "* Um _gateway_ de internet permite a comunicação das suas instancias com a internet\n",
    "\n",
    "__OBS:__ _Muito semelhante ao conceito de Network empregado em containers docker!_"
   ]
  },
  {
   "cell_type": "markdown",
   "metadata": {},
   "source": [
    "__Exemplo:__"
   ]
  },
  {
   "cell_type": "markdown",
   "metadata": {},
   "source": [
    "![](vpc.png)"
   ]
  },
  {
   "cell_type": "markdown",
   "metadata": {},
   "source": [
    "* Temos nossa seção da aws logada em uma seção (N. Virginia)\n",
    "* Definimos uma VPC com uma única subnet publica (10.0.0.0/16\n",
    "* Agora instanciamos maquinas (EC2) em duas _availiability zones_ diferentes (AZ-1 e AZ-2)\n",
    "* A comunicação entre as duas Instancias EC2 (entre as AZ) dentro da VPC é feito pelo __Router__ gerenciado pela AWS\n",
    "* A comunicação das instancias com o mundo externo a VPC é feita pelo __Internet Gateway__\n",
    "    * Internet Gataway gerenciado o trafego para fora da vpc, alterando o ip interno para um ip publico, e faz o contrário quando o sentido de comunicação muda (Route Table)."
   ]
  },
  {
   "cell_type": "markdown",
   "metadata": {},
   "source": [
    "# Elastic Compute Cloud (EC2)"
   ]
  },
  {
   "cell_type": "markdown",
   "metadata": {},
   "source": [
    "Amazon __EC2__ fornece a capacidade de computação escalável na AWS Cloud. Cada ambiente de computação virtual são chamados de instancias.\n",
    "_Amazon Machine Images (AMIs)_ estão disponíveis em templates pré-configurados de instancias EC2"
   ]
  },
  {
   "cell_type": "markdown",
   "metadata": {},
   "source": [
    "__Terminologias:__\n",
    "\n",
    "* Instance types --> diferentes configurações de CPU, memoria, armazenamento e capacidade de rede\n",
    "* Secure Login em instancias EC2 com _key pair_ --> Você armazena a private key e a AWS armazena a public key\n",
    "* É possível adicionar volumes de armazenamentos (attach storage volumes) para uma instancia EC2 (instance storage volumes) - É um armazenamento efemero.\n",
    "* Volumes de armazenamento persistente estão disponíveis através do __Elastic Block Storage (EBS) - Amazon EBS Volumes__\n",
    "* É possível armazenar os dados em multiplas regiões (Regions and AZs)\n",
    "* Podemos definir uma segurança basica usando __AWS built-in firewall- security group__ com protocolos, portas, fontes de IPs que podemos permitir ou negar o alcance das instancias EC2\n",
    "* __Elastic IP address__ --> Endereço publico de IPv4 estático que podemos \"ligar\" a uma instancia EC2 (ex: Website)\n",
    "* É possível criar e ligar a tags(labels) as nossas instancias EC2"
   ]
  },
  {
   "cell_type": "markdown",
   "metadata": {},
   "source": [
    "__Algumas outras caracteristicas:__\n",
    "\n",
    "* Quando criamos uma instancia EC2, primeiramente devemos selecionar uma _AMI - Amazon Machine Image_ , que basicamente representará o software \n",
    "    * Todas as _AMIs_ são categorizadas e suportados pelo Amazon EBS ou por uma instancia de armazenamento\n",
    "    * Para AMIs com o volume principal suportado por um EBS, os dados são deletados quando a instancia é encerrada, se o suporte for de um volume de armazenamento os dados serão persistidos\n",
    " \n",
    " \n",
    "* Em seguida devemos escolhar o tipo de hardware\n",
    "    * Cada tipo de instancia oferece diferentes tipos de configurações\n",
    "    \n",
    "    \n",
    "* Um outro aspecto importante é o gasto, há 4 maneiras de pagas instancias EC2: __On-Demand, Reserved, Spot e Dedicated Hosts__\n",
    "    * _On-Demand_ --> Pagamento feito pelos recursos computacionais utilizados por hora ou segundos, dependendo da instancia em execução\n",
    "    * _Spot_ --> Permite poupar até 90% do valor de um modelo On-Demand, é aplicável para:\n",
    "        * Aplicações que tenham inicio e fim flexiveis\n",
    "        * Aplicações que sejam factiveis com baixo comsumo computacional, resultando em baixo custo\n",
    "        * Urgencia por mais capacidade ou capacidade adicional\n",
    "    * _Reserve_ --> Oferece uma economia de até 75% se comparado ao On-Demand\n",
    "        * Recomendável para aplicações cuja capacidade computacional é previsível\n",
    "    * _Dedicate Host_ --> Trata-se de um servidor EC2 fisico, dedicado ao usuario\n",
    "        * Ajuda na redução de custos, permitindo que o usuario utilize seu propio server"
   ]
  },
  {
   "cell_type": "markdown",
   "metadata": {},
   "source": [
    "![](amis.png)"
   ]
  },
  {
   "cell_type": "markdown",
   "metadata": {},
   "source": [
    "# Security  Groups - Basics"
   ]
  },
  {
   "cell_type": "markdown",
   "metadata": {},
   "source": [
    "__AWS security groups__ atuam como um _firewall_ para a instancia EC2, para controlar o tráfego de entrada e saída, ou seja, fornecem uma segurança reforçada para a instancia, porem não vale para as _subnets_. Diferentes instancias EC2 podem ter diferentes security groups aplicados.\n",
    "Em uma __SG__ podemos adicionar _rules_ que controlaram o tráfego interno das instancias e _rules_ separadas para controlar o trafego externo."
   ]
  },
  {
   "cell_type": "markdown",
   "metadata": {},
   "source": [
    "Quando criamos uma nova SG, não há regras para o tráfego interno, logo não será permitido tráfego para a EC2, e por padrão todo o tráfego externo é permitido.\n",
    "\n",
    "* __Inbound Rules__\n",
    "    * Protocol\n",
    "    * Port Range (number)\n",
    "    * Source IP Address - de onde o trafego virá\n",
    "        * 0.0.0.0 --> Permite trafego de qualquer lugar da internet\n",
    "        \n",
    "* __Outbound Rules__\n",
    "    * Protocol\n",
    "    * Port Range\n",
    "    * Destination"
   ]
  },
  {
   "cell_type": "markdown",
   "metadata": {},
   "source": [
    "# Elastic Block Storage - EBS"
   ]
  },
  {
   "cell_type": "markdown",
   "metadata": {},
   "source": [
    "__AWS EBS__ fornece blocos de _storage volumes_ - igual ao docker - para ser usados em uma instancia EC2. São altamente disponíveis e confiavies storage volumes que podem ser inseridos em qualquer execução de instancia que esteja na mesma _AZ_, tais storage volumes quando inseridos numa instancia EC2 são volumes persistentes e por isso possuem um ciclo de vida independente da \"vida\" da instancia.\n",
    "AWS EBS fornece dois tipos de volumes que diferem em perfomance e preços:\n",
    "\n",
    "* __SSD volumes__ --> alta IOPS (input and output operations per secunds)\n",
    "    * Indicado para alta performance\n",
    "    * Há dois tipos de SSD volumes:\n",
    "        * General Purpose SSD (gp2): Balanceado entre performance e preço\n",
    "        * Provisioned IOPS SSD (iol): Alta performance\n",
    "    \n",
    "    \n",
    "* __HDD volumes__ --> Taxa de transferencia sobre IOPS\n",
    "    * Indicado para storage\n",
    "    * Há dois tipos de HDD volumes:\n",
    "        * Taxa de transferencia otimizada HDD (stl): Baixo custo, para acessos frequentes e transferencias intensivas\n",
    "        * Cold HDD (scl): Baixo custo, para menor frequencia de acessos"
   ]
  },
  {
   "cell_type": "markdown",
   "metadata": {},
   "source": [
    "__OBS de segurança:__\n",
    "\n",
    "* Os dados armazenados em volumes EBS precisam ser encriptados.\n",
    "    * Se isso ocorrer os dados armazenados e os snapshots serão encriptados (\"at rest\")\n",
    "* Com os dados encriptados os volumes EBS garantes a segurança dos dados _em transito_\n"
   ]
  },
  {
   "cell_type": "markdown",
   "metadata": {},
   "source": [
    "## Snapshots"
   ]
  },
  {
   "cell_type": "markdown",
   "metadata": {},
   "source": [
    "Podemos ter snapshots de tempos especificos dos dados em um aws EBS, ou seja, podemos ter uma visão dos dados a cada instante e podemos ainda armazenas essas \" _fotos dos dados_ \" em um __S3.__\n",
    "Portanto _snapshots_ são backups incrementais dos dados, isto significa na pratica que qualquer dado dentro de um EBS só é modificado após o seu snapshot ser salvo"
   ]
  },
  {
   "cell_type": "markdown",
   "metadata": {},
   "source": [
    "## EBS Princing"
   ]
  },
  {
   "cell_type": "markdown",
   "metadata": {},
   "source": [
    "AWS EBS princing depende dos seguintes aspectos:\n",
    "\n",
    "* Volumes:\n",
    "    * Armazenamento total de todos os volumes EBS, medido em GB/month\n",
    "    \n",
    "* Snalshots:\n",
    "    * Total de snapshots armazenado e consumido no AWS S3\n",
    "    * EBS snapshot copiado entre regioẽs\n",
    "    \n",
    "* Dados transferidos\n",
    "    * Inbound é __free__\n",
    "    * Outbound é cobrado!"
   ]
  },
  {
   "cell_type": "markdown",
   "metadata": {},
   "source": [
    "# Simple Storage Service - S3"
   ]
  },
  {
   "cell_type": "markdown",
   "metadata": {},
   "source": [
    "__AWS S3__ fornece um objeto de armazenamento através de uma interface web. Com o AWS S3 é possível armazenar qualquer tipo de dados de qualquer lugar da internet. "
   ]
  },
  {
   "cell_type": "markdown",
   "metadata": {},
   "source": [
    "__Conceitos:__\n",
    "\n",
    "* _Bucket_ --> É um container para objetos armazenados no S3\n",
    "    * Os nomes dos buckets são _globalmente únicos_\n",
    "* Todo objeto do S3 está contido em um bucket\n",
    "* Ex. de URL: _https://s3.__< bucket_name >.__amazonaws.com/__object_name___\n",
    "\n",
    "\n",
    "* _Objects_ são as estruturas fundamentais do AWS S3, consistem de dados e metadados.\n",
    "    * Ao criar um objeto especificamos um _key name_ que será o identificador unico do objeto no bucket"
   ]
  },
  {
   "cell_type": "markdown",
   "metadata": {},
   "source": [
    "__Modelo de Consistencia de dados:__\n",
    "\n",
    "* AWS S3 fornece consistência de _reads-after-write_ para __PUTS__ de novos objetos em um bucket s3 em todas as regiões, ou seja, podemos acessar o objeto imediatamente após copia-los (PUT) em um bucket s3\n",
    "\n",
    "* AWS S3 oferece consistência eventual para sobreescrita PUTS e DELETES para todas as regiões, ou seja, se atualizarmos ou deletarmos um objeto de um bucket s3, a mudança será eventualemente propagada e será visível em qualquer lugar"
   ]
  },
  {
   "cell_type": "markdown",
   "metadata": {},
   "source": [
    "__Storage Classes:__\n",
    "\n",
    "AWS s3 oferece uma gama de classes para armazenamento de objetos, podemos escolher um classes dependendo do nosso cenario e performance dos requisitos, todas as classes de armazenamento possuem alta durabilidade. Cada objeto do aws s3 possui uma _storage class_ associada a ele.\n",
    "\n",
    "__Classes:__\n",
    "\n",
    "* _Standard:_ Classe default\n",
    "    * Indicado em casos de acessos frequente aos dados com latencia de milissegundos\n",
    "    * Possui duas categorias: Ambas indicadas para acessos pouco frequentes e é considerado um armazenamento de \"longa vida\", além disso é cobrado uma taxa para recuperação desses objetos. Tais classes estão disponiveis para objetos maiores que 128KB e que permaneceram armazenados pelo menos 30 dias\n",
    "        * Standard_IA: Objetos armazenados de maneira redundante através de multiplas AZs geograficamente separadas, sendo assim resilientes a um perda de AZ\n",
    "        * Onezone_IA: Objetos armazenados em apenas uma AZ, entretanto o dado não é resiliente à uma perda fisica da AZ\n",
    "        \n",
    "        \n",
    "* _Glacier:_ Baixo custo\n",
    "    * Dados armazenados com duração minima de 90 dias e podem ser acessados em 1-5min usando recuperação acelerada\n",
    "    \n",
    "\n",
    "* _Deep_Archive:_ Baixo custo\n",
    "    * Armazenamento minimo por um periodo de 180 dias e tempo de recuparação de 12h"
   ]
  },
  {
   "cell_type": "markdown",
   "metadata": {},
   "source": [
    "## Bucket Policies"
   ]
  },
  {
   "cell_type": "markdown",
   "metadata": {},
   "source": [
    "_Bucket policies_ são permissões e fornecem um controle centralizado de acessos ao bucket e objetos, beseados em uma variedade de condições. Apenas o dono do bucket possui permissão para associar uma policy com um bucket."
   ]
  },
  {
   "cell_type": "markdown",
   "metadata": {},
   "source": [
    "__Features:__\n",
    "\n",
    "* __AWS S3 Transfer Acceleration:__ habilita transferencias rapidas, fáceis e seguras de arquivos ao longo de grandes distâncias entre o cliente e o bucket s3, usando o __AWS CloudFront's__ destribuidos globalmente em __edge locations.__\n",
    "![](transfer.png)"
   ]
  },
  {
   "cell_type": "markdown",
   "metadata": {},
   "source": [
    "* __Croos-region replication:__ habilita, automaticamente, a copia assincrona de objetos entre buckets em diferentes regiões"
   ]
  },
  {
   "cell_type": "markdown",
   "metadata": {},
   "source": [
    "## Princing"
   ]
  },
  {
   "cell_type": "markdown",
   "metadata": {},
   "source": [
    "Você paga apenas pelo tanto que armazenar, sem taxa minima. O preço final dependerá de:\n",
    "* Storage Class\n",
    "* Storage\n",
    "    * Depende do numero e tamanho dos objetos\n",
    "* Requests\n",
    "    * GET requests são passiveis de cobranças\n",
    "* Data Transfer\n",
    "    * Todos os dados transferidos para fora de uma AWS S3 Region"
   ]
  },
  {
   "cell_type": "markdown",
   "metadata": {},
   "source": []
  },
  {
   "cell_type": "markdown",
   "metadata": {},
   "source": []
  },
  {
   "cell_type": "markdown",
   "metadata": {},
   "source": []
  },
  {
   "cell_type": "markdown",
   "metadata": {},
   "source": []
  },
  {
   "cell_type": "markdown",
   "metadata": {},
   "source": []
  },
  {
   "cell_type": "markdown",
   "metadata": {},
   "source": []
  },
  {
   "cell_type": "markdown",
   "metadata": {},
   "source": []
  },
  {
   "cell_type": "markdown",
   "metadata": {},
   "source": []
  },
  {
   "cell_type": "code",
   "execution_count": null,
   "metadata": {},
   "outputs": [],
   "source": []
  }
 ],
 "metadata": {
  "kernelspec": {
   "display_name": "Python 3",
   "language": "python",
   "name": "python3"
  },
  "language_info": {
   "codemirror_mode": {
    "name": "ipython",
    "version": 3
   },
   "file_extension": ".py",
   "mimetype": "text/x-python",
   "name": "python",
   "nbconvert_exporter": "python",
   "pygments_lexer": "ipython3",
   "version": "3.7.4"
  },
  "latex_envs": {
   "LaTeX_envs_menu_present": true,
   "autoclose": true,
   "autocomplete": true,
   "bibliofile": "biblio.bib",
   "cite_by": "apalike",
   "current_citInitial": 1,
   "eqLabelWithNumbers": true,
   "eqNumInitial": 1,
   "hotkeys": {
    "equation": "Ctrl-E",
    "itemize": "Ctrl-I"
   },
   "labels_anchors": false,
   "latex_user_defs": false,
   "report_style_numbering": false,
   "user_envs_cfg": false
  },
  "toc": {
   "base_numbering": 1,
   "nav_menu": {},
   "number_sections": true,
   "sideBar": true,
   "skip_h1_title": false,
   "title_cell": "Table of Contents",
   "title_sidebar": "Contents",
   "toc_cell": false,
   "toc_position": {},
   "toc_section_display": true,
   "toc_window_display": true
  }
 },
 "nbformat": 4,
 "nbformat_minor": 4
}
