{
 "cells": [
  {
   "cell_type": "markdown",
   "metadata": {},
   "source": [
    "# Route 53"
   ]
  },
  {
   "cell_type": "markdown",
   "metadata": {},
   "source": [
    "__Serviço DNS da AWS__\n",
    "\n",
    "DNS ( _Domain Name System_ ) funciona como uma lista telefonica da internet, por exemplo, para acessar um site precisamos saber o Endereço IP dele, esta informação é buscada no __DNS Server__ que armazená e lista todos os endereços de IPs dos sites da web, o DNS Server então retorna o endereço IP desejado para que possamos acessar o site."
   ]
  },
  {
   "cell_type": "markdown",
   "metadata": {},
   "source": [
    "__AWS Route 53__ é um serviço de alta disponibilidade e DNS escalável. Foi projetado para oferecer aos desenvolvedores e empresas uma maneira extremamente confiável e economica para direcionar usuários para Aplicativos da internet traduzindo nomes como \" _exemple.com_ \" para um endereço IP como \" _192.0.2.1_ \" que computadores usam para se comunicar.\n",
    "Também é possível registrar um dominio com o Route 53"
   ]
  },
  {
   "cell_type": "markdown",
   "metadata": {},
   "source": [
    "Ao registrar um dominio para um site por exemplo, é preciso vincular a este dominio um __bucket S3__ que conterá os arquivos para o site,  tal bucket deve ter o mesmo nome do dominio criado!"
   ]
  },
  {
   "cell_type": "markdown",
   "metadata": {},
   "source": [
    "## Pricing"
   ]
  },
  {
   "cell_type": "markdown",
   "metadata": {},
   "source": [
    "Ser preço é baseado em:\n",
    "\n",
    "* __Hosted Zone:__ \\$0.50 por hosted zone/month\n",
    "* __Queries:__ \\$0.40/milion queries/month"
   ]
  },
  {
   "cell_type": "markdown",
   "metadata": {},
   "source": [
    "# CloudFront"
   ]
  },
  {
   "cell_type": "markdown",
   "metadata": {},
   "source": [
    "__AWS Cloud Front__ é um serviço web que acelera a distribuição de conteúdo web estátios ou dinamicos, ele faz a entrega dos conteúdos através da rede mundial de Datacenters chamadas de __Edge Locations.__\n",
    "Quando um usuário solicita um conteúdo que esta servido no CloudFront, o usuário é roteado para o edge location de menor latencia, e então o conteúdo é enviado ao usuário, oferecendo assim uma melhor performance."
   ]
  },
  {
   "cell_type": "markdown",
   "metadata": {},
   "source": [
    "# Load Balancer"
   ]
  },
  {
   "cell_type": "markdown",
   "metadata": {},
   "source": [
    "__AWS Elastic Load Balancer__ fornece tolerância total a qualquer aplicativo, garantindo escalabilidade, desempenho e segurança. _ELB_ automaticamente distribui o trafego de aplicativos recebido por varios destinos, além disso o AWS ELB suporte 3 tipos de balanceadores de carga:\n",
    "\n",
    "* __Network load Balancers__\n",
    "* __Classic Load Balancers__\n",
    "* __Application Load Balancers__"
   ]
  },
  {
   "cell_type": "markdown",
   "metadata": {},
   "source": [
    "![](elb.png)"
   ]
  },
  {
   "cell_type": "markdown",
   "metadata": {},
   "source": [
    "## Application Load Balancer (ALB) Architecture"
   ]
  },
  {
   "cell_type": "markdown",
   "metadata": {},
   "source": [
    "Application Load Balancer é um ponto único de contato com os usuarios, para interagirem com as aplciações, ele distribui o trafego de aplicativos recebidos, em varios destinos, como por exemplo de um Instancia EC2 em varias AZs, que resulta em uma maior disponibilidade do app.\n",
    "Temos também o __Listener__  que verifica as solicitações de conexões dos clientes usando o número do protocolo/porta configurado, para encaminhar solicitações para um ou mais grupos alvo.\n",
    "\n",
    "Podemos definir __Rules__ para o encaminhamento do tráfego, incluindo Target-groups, condições e prioridades. As rotas dos target groups (TG) necessitam de um ou mais \" _targets registered_ \", como uma instancia EC2, usando novamento o numero do protocolo/porta configurado. Os target podem ser registrados em multiplos target groups.\n",
    "\n",
    "OBS: Verificações de Integridade ( _Health Checks_ ) são executadas em todos os destinos registrados de um TG"
   ]
  },
  {
   "cell_type": "markdown",
   "metadata": {},
   "source": [
    "![](alb.png)"
   ]
  },
  {
   "cell_type": "markdown",
   "metadata": {},
   "source": [
    "___Há um \"target\" entre os dois destinos (HTTP/8080 e HTTP/443) por que muitas vezes um target pode pertencer a mais de um target group___"
   ]
  },
  {
   "cell_type": "markdown",
   "metadata": {},
   "source": [
    "# EC2 Auto Scaling"
   ]
  },
  {
   "cell_type": "markdown",
   "metadata": {},
   "source": [
    "__AWS EC2 Auto Scaling__ ajuda a garantir que tenhamos o número correto de instancias EC2 disponiveis para carregar a aplicação. Instancias EC2 são agrupadas em Grupos de _Auto Scaling:_\n",
    "\n",
    "* Número minimo de Intancias EC2\n",
    "* Número desejado de Intancias EC2\n",
    "* Número maximo de Intancias EC2\n",
    "\n",
    "Politicas de _Scaling_ automaticamente executam ou encerram instancias de acordo com a demanda da aplicação"
   ]
  },
  {
   "cell_type": "markdown",
   "metadata": {},
   "source": [
    "## Lauch Configuration"
   ]
  },
  {
   "cell_type": "markdown",
   "metadata": {},
   "source": [
    "É um template de configuração para uma instancia que o __ASG__ (auto scaling group) usa para provisionar as instancias EC2. O template inclui:\n",
    "\n",
    "* AMI ID\n",
    "* Instance type\n",
    "* Key pair\n",
    "* Security group\n",
    "* block (volume)"
   ]
  },
  {
   "cell_type": "markdown",
   "metadata": {},
   "source": [
    "# RDS - Relacional DataBase Service"
   ]
  },
  {
   "cell_type": "markdown",
   "metadata": {},
   "source": [
    "__AWS RDS__ é um serviço web de facil configuração e operação, além disso torna escalável um banco de dados relacional na cloud. O RDS pode usar informações de multiplas tabelas e combina-las."
   ]
  },
  {
   "cell_type": "markdown",
   "metadata": {},
   "source": [
    "__Beneficios:__\n",
    "\n",
    "* Fácil alocação ou acréscimo de recursos conforme a necessidade, como cpu, memoria, espaço de armazenamento, etc..\n",
    "* Esqueça backups, OS Patches, recoverys, tudo é gerenciado pela AWS\n",
    "* Backups manuais ou automaticos para o DB\n",
    "* Alta disponibilidade com o DB primario e um DB assincrono secundario. É possível usar as replicas de leitura para aumentar a escalabilidade.\n",
    "* Controle sobre os acessos ao banco"
   ]
  },
  {
   "cell_type": "markdown",
   "metadata": {},
   "source": [
    "__AWS DB Instances:__ \n",
    "\n",
    "DB Instances são os \"blocos\" basicos de construção do AWS RDS, trata-se de um ambiente para o database na Cloud.\n",
    "Cada DB Instances executa uma __DB Engine__ e a AWS oferece suporte a diversos tipos de bancos"
   ]
  },
  {
   "cell_type": "markdown",
   "metadata": {},
   "source": [
    "Comumente utiliza-se o Cloud Watch para monitorar a performance e saude da Instancia DB"
   ]
  },
  {
   "cell_type": "markdown",
   "metadata": {},
   "source": [
    "## Princing"
   ]
  },
  {
   "cell_type": "markdown",
   "metadata": {},
   "source": [
    "O preço depende de:\n",
    "\n",
    "* Pagamento pelo tanto que usou (em horas)\n",
    "* Tipo da Instancia DB\n",
    "* Tipo da compra do DB - on-demand ou reserved (ganha um desconto)\n",
    "* Número de DBs\n",
    "* Backup é cobrado por GB/month\n",
    "* Número de input e outputs\n",
    "* Tipo de implementação - Único ou Mult-AZ\n",
    "* Transferencia de dados - transferencia interna é gratis as externas são cobradas"
   ]
  },
  {
   "cell_type": "markdown",
   "metadata": {},
   "source": [
    "# Lambda"
   ]
  },
  {
   "cell_type": "markdown",
   "metadata": {},
   "source": [
    "__AWS Lambda__ é um serviço de computação que permite executar códigos sem se preocupar em gerenciar as instancias ou servidores, podemos apenas escrever o código e executa-lo. O código é executado apenas quando necessário e escala automaticamente. O pagamento é feito pelo tempo de computação utilizado"
   ]
  },
  {
   "cell_type": "markdown",
   "metadata": {},
   "source": [
    "Com este recurso, deixamos para a aws gerenciar:\n",
    "\n",
    "* Manutenção e dos servidores e SOs\n",
    "* Provisionamente de capacidade\n",
    "* Escalabilidade automatica\n",
    "* Monitoramento de código\n",
    "* Logging"
   ]
  },
  {
   "cell_type": "markdown",
   "metadata": {},
   "source": [
    "# Elastic Beanstalk"
   ]
  },
  {
   "cell_type": "markdown",
   "metadata": {},
   "source": [
    "__AWS Elastic Beanstalk__ proporciona o deploy rapido e configurações de aplicações web na AWS sem que seja preciso o conhecimento sobre a insfraestrutura que executa as aplicações. Simplesmente fazemos o upload da aplicação e o Elastic Beanstalk lida com os detalhes de provisionamento de capacidade, balanceamento de carga, escalabidade e monitoramento da saúde da aplciação. Ele provisionará um ou mais recursos da AWS (como Instancias EC2) para executar o app.\n",
    "\n",
    "OBS: O pagamento é feito apenas pelos recursos que Elastic beanstalk utilizar, não pelo uso do elastic beanstalk"
   ]
  },
  {
   "cell_type": "markdown",
   "metadata": {},
   "source": [
    "# Cloud Formation"
   ]
  },
  {
   "cell_type": "markdown",
   "metadata": {},
   "source": [
    "__AWS Cloud Formation__ é um template que descreve todos os recursos AWS que queremos, e o provisionamento de todos os recursos fica por parte da AWS. Sendo assim não precisamos criar nem configurar os recursos AWS nem descobrir as dependencias entre os recursos, a AWS lida com isso."
   ]
  },
  {
   "cell_type": "markdown",
   "metadata": {},
   "source": [
    "# SNS - Simple Notification Service"
   ]
  },
  {
   "cell_type": "markdown",
   "metadata": {},
   "source": [
    "__AWS SNS__ é um serviço web que coordena e gerencia o envio e entrega de mensagens para endpoints inscritos ou clientes. Para o SNS há dois tipos de clientes os \" _publishers e os subscribers._ \", também chamadados de editores e consumidores.\n",
    "\n",
    "__Publishers__ se comunicam de forma assíncrona com os -Subscribers_ produzindo e enviando mensagens para um tópico, que é um ponto de acesso lógico e também um canal de comunicação.\n",
    "\n",
    "__Subscribers__ ou seja, web servers, email addresses, Amazon SQS queus, etc..., consomem ou recebem mensagens ou notificações por um dos protocolos suportados (SQS, HTTP/S, email, SMS), quando eles estão inscritos no tópico.  "
   ]
  },
  {
   "cell_type": "markdown",
   "metadata": {},
   "source": [
    "# CloudWatch"
   ]
  },
  {
   "cell_type": "markdown",
   "metadata": {},
   "source": [
    "__AWS CloudWatch__ possibilita o monitoramento dos recursos AWS e aplicações que executão na AWS em tempo real. É possível criar alarmes com metricas e que enviem notificações ou que façam modificações de recursos automaticamente quando algum limite é atingido."
   ]
  },
  {
   "cell_type": "markdown",
   "metadata": {},
   "source": [
    "__Exemplos:__\n",
    "\n",
    "* _AWS EC2 Auto Scaling_ -- Automaticamente executa ou termina uma instancia EC2 baseado em politicas definidas pelo usuario\n",
    "\n",
    "* _Cloud Trail_ -- O Cloudwatch grava arquivos de logs em um bucket S3 especificado quando configuramos o Cloudtrail\n",
    "\n",
    "* _Amazon SNS_ -- Envia mensagens quando um alarme é acionado, indicando que um limite foi atingido."
   ]
  }
 ],
 "metadata": {
  "kernelspec": {
   "display_name": "Python 3",
   "language": "python",
   "name": "python3"
  },
  "language_info": {
   "codemirror_mode": {
    "name": "ipython",
    "version": 3
   },
   "file_extension": ".py",
   "mimetype": "text/x-python",
   "name": "python",
   "nbconvert_exporter": "python",
   "pygments_lexer": "ipython3",
   "version": "3.7.4"
  },
  "latex_envs": {
   "LaTeX_envs_menu_present": true,
   "autoclose": true,
   "autocomplete": true,
   "bibliofile": "biblio.bib",
   "cite_by": "apalike",
   "current_citInitial": 1,
   "eqLabelWithNumbers": true,
   "eqNumInitial": 1,
   "hotkeys": {
    "equation": "Ctrl-E",
    "itemize": "Ctrl-I"
   },
   "labels_anchors": false,
   "latex_user_defs": false,
   "report_style_numbering": false,
   "user_envs_cfg": false
  },
  "toc": {
   "base_numbering": 1,
   "nav_menu": {},
   "number_sections": true,
   "sideBar": true,
   "skip_h1_title": false,
   "title_cell": "Table of Contents",
   "title_sidebar": "Contents",
   "toc_cell": false,
   "toc_position": {},
   "toc_section_display": true,
   "toc_window_display": true
  }
 },
 "nbformat": 4,
 "nbformat_minor": 2
}
