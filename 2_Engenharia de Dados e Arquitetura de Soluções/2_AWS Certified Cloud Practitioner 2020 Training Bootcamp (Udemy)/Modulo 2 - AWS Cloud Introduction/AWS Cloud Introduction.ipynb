{
 "cells": [
  {
   "cell_type": "markdown",
   "metadata": {},
   "source": [
    "# Cloud Computing"
   ]
  },
  {
   "cell_type": "markdown",
   "metadata": {},
   "source": [
    "__Cloud Computing__ trata-se da entrega de serviços sob demanda, como poder computacional, armazenamento em DBs, aplicações, etc...todos através de uma plataforma de serviços cloud via internet e pagando o que for utilizado."
   ]
  },
  {
   "cell_type": "markdown",
   "metadata": {},
   "source": [
    "Há basicamente 3 tipos de serviços clouds disponíveis:\n",
    "* __IaaS - Infrastructure as a Service:__ Contém os blocos de construção basicos para Cloud Computing, tipicamente fornecem acessos a networking features, computadores e espaços de armazenamento.\n",
    "    * Fornece um alto nível de flexibilidade e controle de gerenciamento de todo a infraestrutura\n",
    "    * Basicamente temos liberdade para fazer tudo que queremos com cloud computing\n",
    "    * Principal exemplo __Amazon EC2__\n",
    "    \n",
    "    \n",
    "* __PaaS - Platform as a Service:__ Remove da empresa a necessidade de gerenciar a infraestrutura por tras dos serviços (hardwares e OSs) e permite focar no deploy e gerenciamento da aplicação.\n",
    "    * Torna mais eficiente todo o processo uma vez dispensa a empresa de se preocupar com \"necessidades de background\"\n",
    "    * Principal exemplo __AWS Lambda__\n",
    "    \n",
    "    \n",
    "* __SaaS - Software as a Service:__ Fornece um serviço completo que a empresa pode executar e gerenciar por um serviço fornecido\n",
    "    * Não há a necessidade de se preocupar com a infra por tras, nem com a manutenção, apenas será preciso pensar em como utilizar a aplicação\n",
    "    * Um bom exemplo disso são serviços de email como __Gmail__"
   ]
  },
  {
   "cell_type": "markdown",
   "metadata": {},
   "source": [
    "## Deploy models in cloud computing"
   ]
  },
  {
   "cell_type": "markdown",
   "metadata": {},
   "source": [
    "Temos 3 modos de deploy possiveis:\n",
    "* __On-Premisses:__ Você roda tudo no seu proprio data center\n",
    "    * Geralmente utiliza-se virtualização e ferramentos de gerenciamento de recursos: _VMware, Hyper-V, OpenStack..._\n",
    "    * Neste modelo (de Private Cloud) é possível alocar recursos dedicados, evitar a divisão entre usuários e consumidores finais\n",
    "    * Toda a aplicação fica no hardware atual do dc\n",
    "    * Você tem controle de toda a infraestrutura e as responsabilidades de gerenciamento, como bug fixing dentre outros.\n",
    "    \n",
    "    \n",
    "* __Hybrido:__ Alguns dos apps rodam localmente e alguns outros na AWS Public Cloud\n",
    "    * Pode ser uma etapa intermediaria em um processo de migração para a cloud\n",
    "    * É uma maneira de conectar recursos locais com recursos existentes na cloud\n",
    "    * O método mais comum de deploy hibrido é entre Cloud e a infraestrutura on-premises ja existente, no intuito de extender ou escalar a infraestrutura da empresa\n",
    "\n",
    "\n",
    "* __Cloud:__ Você roda todos os seus apps na AWS Public Cloud\n",
    "    * Aplicações na Cloud podem ter sido criadas na cloud ou migradas para ela\n",
    "    * A migração de uma aplicação on-premises para a cloud é comumente chamada de \"lift-and-shift\"\n",
    "        * Refere-se ao fato de pegar o app como ele é, sem modificações, e roda-lo em um ambiente cloud"
   ]
  },
  {
   "cell_type": "markdown",
   "metadata": {},
   "source": [
    "# 6 vantagens da AWS Cloud Computing"
   ]
  },
  {
   "cell_type": "markdown",
   "metadata": {},
   "source": [
    "* __Troca de gasto fixo por gasto variável__ \n",
    "    * Ao contrario de gastar criando uma infra grande sem saber se de fato tudo será usado ou se em algum momento faltaram recursos, na aws cloud computing é gasto apenas oq for usado ___pay-as-you-use___\n",
    "    \n",
    "    \n",
    "* __Propicia ecnomia devido aos serviços de larga escala__\n",
    "    * Como a aws possui centenas de usuarios na cloud isso se traduz em uma redução dos custos para todos\n",
    "    \n",
    "    \n",
    "* __Pare com as adivinhações sobre capacidade__\n",
    "    * É possível acessar apenas a capacidade necessaria, e se preciso for escala-la.\n",
    "    \n",
    "    \n",
    "* __Velocidade e Agilidade__\n",
    "    * Diminui o tempo para tornar disponível algum recurso para os desenvolvedores, dando mais agilidade para eles poderem desenvolver\n",
    "    \n",
    "    \n",
    "* __Economia de dinheiro com execução e manutenção de data centers__\n",
    "    * A AWS toma conta de toda a insfraestrutura\n",
    "    * Foque no negócio\n",
    "    \n",
    "    \n",
    "* __Torne-se Global em minutos__\n",
    "    * Fácil deploy em multiplas regiões do mundo\n",
    "        * Com baixa latencia fornecendo melhor experiencia para o usuario\n",
    "    * Alcance Global: \n",
    "        * __R | AZ__  --> Regions | Availability Zones\n",
    "        * __Low Latency__ --> Edge location"
   ]
  },
  {
   "cell_type": "markdown",
   "metadata": {},
   "source": [
    "# AWS Global Infraestructure"
   ]
  },
  {
   "cell_type": "markdown",
   "metadata": {},
   "source": [
    "A infraestrutura global da AWS é construida em blocos:\n",
    "* Availability Zones\n",
    "* Regions\n",
    "* Edge Loccations"
   ]
  },
  {
   "cell_type": "markdown",
   "metadata": {},
   "source": [
    "## Availiability Zones"
   ]
  },
  {
   "cell_type": "markdown",
   "metadata": {},
   "source": [
    "Zonas de disponibilidade representam um ou mais data centers discretos, sendo cada DC com poder de redundância, rede e conectividade, hospedados em diferentes instalações.\n",
    "O principal benefico é que executando uma aplicação em diferentes AZs, é possível facilmente ter alta disponibilidade, tolerancia a falhas e escalabilidade, caracteristicas essas que não é possível encontrar em um único DC on-prem"
   ]
  },
  {
   "cell_type": "markdown",
   "metadata": {},
   "source": [
    "## Regions"
   ]
  },
  {
   "cell_type": "markdown",
   "metadata": {},
   "source": [
    "* São locais ao redor do mundo que consistem de multiplas _Availiability Zones_\n",
    "* Cada uma das regiões são isoladas entre si\n",
    "* Alto padrão de tolerancia a falhas e estabilidade\n",
    "* As regiões são isoladas umas das outras, assim como as AZs de cada região com as AZs de outras regiões, mas em uma mesma região as AZs são conectadas, provendo baixa latencia "
   ]
  },
  {
   "cell_type": "markdown",
   "metadata": {},
   "source": [
    "![](regions_az.png)"
   ]
  },
  {
   "cell_type": "markdown",
   "metadata": {},
   "source": [
    "__Infra Global:__\n",
    "* 22 Regions\n",
    "* 70 AZs\n",
    "* 245 paises atendidos"
   ]
  },
  {
   "cell_type": "markdown",
   "metadata": {},
   "source": [
    "## Edge Locations"
   ]
  },
  {
   "cell_type": "markdown",
   "metadata": {},
   "source": [
    "AWS CloudFront é um serviço de rede rápida (CDN) para entrega segura de dados, video, apps para consumidores por todo o globo, com baixa lantencia e alta velocidade de transferencia.\n",
    "\n",
    "Atualmente (2020) conta com:\n",
    "* 216 pontos de presença\n",
    "    * 205 pontos de presença e 11 pontos de presença em caches regionais\n",
    "* 84 cidades e 42 países"
   ]
  },
  {
   "cell_type": "markdown",
   "metadata": {},
   "source": [
    "__Edge Locations__ são Endpoints da AWS para um _cache local_, ou seja caso um arquivo seja requisito de um servidor que econtra-se bem longe, para o mesmo processo futuramente o arquivo estará disponível localmente para acesso, devido ao endpoint que foi marcado e o cache.\n",
    "\n",
    "* CloudFront ajuda na entrega rapida do conteudo web para o usuário final, provendo uma melhor experiencia do usuario\n",
    "* CloudFront Edge Localtions trás o conteudo da web para mais perto dos usuarios, garantindo que conteúdos populares possam ser fornecidos rapidamente\n",
    "* CloudFront Regional Edge Caches ajuda quando o conteúdo nao é popular o suficiente para estar no _CloudFront Edge Locations_ e melhora a performance da entrega deste tipo de conteúdo."
   ]
  },
  {
   "cell_type": "markdown",
   "metadata": {},
   "source": [
    "# AWS Interfaces Overview"
   ]
  },
  {
   "cell_type": "markdown",
   "metadata": {},
   "source": [
    "* __AWS Management Console__ \n",
    "\n",
    "* __AWS Command Line Interface (CLI)__\n",
    "\n",
    "* __AWS Software Development Kits (SDKs)__"
   ]
  }
 ],
 "metadata": {
  "kernelspec": {
   "display_name": "Python 3",
   "language": "python",
   "name": "python3"
  },
  "language_info": {
   "codemirror_mode": {
    "name": "ipython",
    "version": 3
   },
   "file_extension": ".py",
   "mimetype": "text/x-python",
   "name": "python",
   "nbconvert_exporter": "python",
   "pygments_lexer": "ipython3",
   "version": "3.7.4"
  },
  "latex_envs": {
   "LaTeX_envs_menu_present": true,
   "autoclose": true,
   "autocomplete": true,
   "bibliofile": "biblio.bib",
   "cite_by": "apalike",
   "current_citInitial": 1,
   "eqLabelWithNumbers": true,
   "eqNumInitial": 1,
   "hotkeys": {
    "equation": "Ctrl-E",
    "itemize": "Ctrl-I"
   },
   "labels_anchors": false,
   "latex_user_defs": false,
   "report_style_numbering": false,
   "user_envs_cfg": false
  },
  "toc": {
   "base_numbering": 1,
   "nav_menu": {},
   "number_sections": true,
   "sideBar": true,
   "skip_h1_title": false,
   "title_cell": "Table of Contents",
   "title_sidebar": "Contents",
   "toc_cell": false,
   "toc_position": {},
   "toc_section_display": true,
   "toc_window_display": true
  }
 },
 "nbformat": 4,
 "nbformat_minor": 4
}
