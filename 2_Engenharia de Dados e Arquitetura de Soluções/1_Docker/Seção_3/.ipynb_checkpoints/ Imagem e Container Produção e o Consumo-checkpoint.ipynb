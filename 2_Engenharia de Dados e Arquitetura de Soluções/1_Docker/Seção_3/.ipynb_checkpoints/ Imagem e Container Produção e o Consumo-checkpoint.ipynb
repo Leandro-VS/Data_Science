{
 "cells": [
  {
   "cell_type": "markdown",
   "metadata": {},
   "source": [
    "# Por trás de um container sempre existe uma imagem"
   ]
  },
  {
   "cell_type": "markdown",
   "metadata": {},
   "source": [
    "## Produção"
   ]
  },
  {
   "cell_type": "markdown",
   "metadata": {},
   "source": [
    "Há uma estrutura de imagens por trás de cada container, ou seja, há camadas de imagens que servem ao container quando ele entra em execução, e por meio de chamadas recursivas essas camadas inferiores entram em execução.<br>\n",
    "No momento em que o container entra em execução ele passa a pertencer a __camada de Escrita__ e é apartir de então que poderemos executar as aplicações, trabalhar com volumes e até mesmo manipular os dados dentro do container, porém lembrando sempre container _são elementos volateis._\n",
    "Há ainda as camadas intermediarias de imagens, de suporte aos containers, que são __somente leitura__ e elas possuem caracteristicas importantes, que são:\n",
    "\n",
    "* __CoW__\n",
    "* __UnionFS__\n",
    "\n",
    "Ambas caracteristicas garantem que haja uma compressão dos dados e otimização dos recursos que serão alocados para o container.\n",
    "\n",
    "\n",
    "__OBS:__ Uma única imagem base pode dar suporte a mais de uma camada intermediaria diferente, como uma imagem base de um SO por exemplo."
   ]
  },
  {
   "cell_type": "markdown",
   "metadata": {},
   "source": [
    "### DockerFile"
   ]
  },
  {
   "cell_type": "markdown",
   "metadata": {},
   "source": [
    "Criação da imagem com as instruções do que ela deve conter e fazer"
   ]
  },
  {
   "cell_type": "markdown",
   "metadata": {},
   "source": [
    "![](dockerfile.png)"
   ]
  },
  {
   "cell_type": "markdown",
   "metadata": {},
   "source": [
    "\n"
   ]
  },
  {
   "cell_type": "markdown",
   "metadata": {},
   "source": [
    "### Docker Hub"
   ]
  },
  {
   "cell_type": "markdown",
   "metadata": {},
   "source": [
    "É de extrema importancia consultar o site [Docker Hub](https://hub.docker.com) para poder obter diversas informações sobre as imagens que queremos utilizar."
   ]
  },
  {
   "cell_type": "markdown",
   "metadata": {},
   "source": [
    "## Consumo"
   ]
  },
  {
   "cell_type": "markdown",
   "metadata": {},
   "source": [
    "* Para executar um conatiner: _docker run IMAGE_\n",
    "\n",
    "Após o container criado:\n",
    "\n",
    "* Containers que estão em execução: _docker ps_\n",
    "* Todos os containers: _docker ps -a_"
   ]
  },
  {
   "cell_type": "markdown",
   "metadata": {},
   "source": [
    "A execução de um container por si só não trás muitos beneficios, para se poder fazer algo com ele temos que especificar alguns parametros, seguindo a seguinte estrutura:\n",
    "\n",
    "__docker run [options]IMAGE[command][args]__"
   ]
  },
  {
   "cell_type": "markdown",
   "metadata": {},
   "source": [
    "No caso acima destacamos:\n",
    "\n",
    "* __Paramentro obrigatório:__\n",
    "    * _IMAGE_ - Versão e repositório da imagem\n",
    "\n",
    "* __Parametros opcionais:__\n",
    "    * _Options_ - diferentes opções de execução do container, que podem ser:\n",
    "         * __-i__ = Inicia uma interação com o container\n",
    "         * __-t__ = Iniciar com um terminal de comando\n",
    "         * __Exit__ = Sair\n",
    "         * __-d__ = Iniciar container em segundo plano\n",
    "         * __--rm__ = Remover container após o termino\n",
    "         * Há centenas de opções de execução = Consulta-las em _docker run --help_\n",
    "\n",
    "    * _Command_ - Os comandos inseridos precisam fazer sentido com a imagem em questão, ou seja, a imagem precisa fornecer suporte para eles"
   ]
  },
  {
   "cell_type": "code",
   "execution_count": null,
   "metadata": {},
   "outputs": [],
   "source": []
  },
  {
   "cell_type": "code",
   "execution_count": null,
   "metadata": {},
   "outputs": [],
   "source": []
  },
  {
   "cell_type": "code",
   "execution_count": null,
   "metadata": {},
   "outputs": [],
   "source": []
  },
  {
   "cell_type": "code",
   "execution_count": null,
   "metadata": {},
   "outputs": [],
   "source": []
  },
  {
   "cell_type": "code",
   "execution_count": null,
   "metadata": {},
   "outputs": [],
   "source": []
  },
  {
   "cell_type": "code",
   "execution_count": null,
   "metadata": {},
   "outputs": [],
   "source": []
  }
 ],
 "metadata": {
  "kernelspec": {
   "display_name": "Python 3",
   "language": "python",
   "name": "python3"
  },
  "language_info": {
   "codemirror_mode": {
    "name": "ipython",
    "version": 3
   },
   "file_extension": ".py",
   "mimetype": "text/x-python",
   "name": "python",
   "nbconvert_exporter": "python",
   "pygments_lexer": "ipython3",
   "version": "3.7.4"
  },
  "latex_envs": {
   "LaTeX_envs_menu_present": true,
   "autoclose": true,
   "autocomplete": true,
   "bibliofile": "biblio.bib",
   "cite_by": "apalike",
   "current_citInitial": 1,
   "eqLabelWithNumbers": true,
   "eqNumInitial": 1,
   "hotkeys": {
    "equation": "Ctrl-E",
    "itemize": "Ctrl-I"
   },
   "labels_anchors": false,
   "latex_user_defs": false,
   "report_style_numbering": false,
   "user_envs_cfg": false
  },
  "toc": {
   "base_numbering": 1,
   "nav_menu": {},
   "number_sections": true,
   "sideBar": true,
   "skip_h1_title": false,
   "title_cell": "Table of Contents",
   "title_sidebar": "Contents",
   "toc_cell": false,
   "toc_position": {},
   "toc_section_display": true,
   "toc_window_display": false
  }
 },
 "nbformat": 4,
 "nbformat_minor": 4
}
