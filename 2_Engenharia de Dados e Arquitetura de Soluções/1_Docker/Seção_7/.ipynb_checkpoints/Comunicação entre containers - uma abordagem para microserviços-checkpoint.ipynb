{
 "cells": [
  {
   "cell_type": "markdown",
   "metadata": {},
   "source": [
    "# Containers e Microserviços"
   ]
  },
  {
   "cell_type": "markdown",
   "metadata": {},
   "source": [
    "## Modelo em camadas MVC"
   ]
  },
  {
   "cell_type": "markdown",
   "metadata": {},
   "source": [
    "__Arquitetura Monolitica__"
   ]
  },
  {
   "cell_type": "markdown",
   "metadata": {},
   "source": [
    "![](mvc.png)"
   ]
  },
  {
   "cell_type": "markdown",
   "metadata": {},
   "source": [
    "Todas as camadas representam uma única estrutura da aplicação, mesmo com as camadas virtuais como vemos acima!"
   ]
  },
  {
   "cell_type": "markdown",
   "metadata": {},
   "source": [
    "* Conjunto de módulos numa aplicação executável\n",
    "* Funções de negócios implementadas numa _única stack_\n",
    "* Módulos compartilham recursos de processamento\n",
    "* __Dependente__ da linguagem ou framework escolhido, não aceita mais de uma linguagem na mesma aplicação\n",
    "* Maior crescimento = Maior complexidade\n",
    "    * Acoplamento generalizado - \" _Alta dependência de componentes de código_ \"\n",
    "* __Escalabilidade:__ replica o monolito inteiro\n",
    "* Resiliência fragilizada\n",
    "    * _Falta de memória:_ toda a aplicação é comprometida\n",
    "* __Redeployment total__ a cada atualização"
   ]
  },
  {
   "cell_type": "markdown",
   "metadata": {},
   "source": [
    "## Modelo baseado em serviços"
   ]
  },
  {
   "cell_type": "markdown",
   "metadata": {},
   "source": [
    "__Arquitetura Microserviços__"
   ]
  },
  {
   "cell_type": "markdown",
   "metadata": {},
   "source": [
    "![](micro.png)"
   ]
  },
  {
   "cell_type": "markdown",
   "metadata": {},
   "source": [
    "* __Compenetização via serviços__ (multi-stack):\n",
    "    * Serviços são pequenos e com deployment independentes\n",
    "    * Cada serviço representa um conjunto de __regras de negócios específico__\n",
    "    * Independência de tecnologia e/ou framework\n",
    "    * Príncipio  \"responsabilidade única\" - inerente aos containers (que tb possuem)\n",
    "\n",
    "\n",
    "* __Comunicação Heterogênea:__\n",
    "    * HTTP, TCP, UDP, Messaging,etc..\n",
    "    * __Payloads:__ JSON, BSON, XML, Protocol Buffers, etc..\n",
    "    * Comunicação via APIs RESTful\n",
    "    \n",
    "    \n",
    "* __Gerenciamento e manutenção:__\n",
    "    * É maior que nos outros cenários\n",
    "    * Diferentes times responsaveis por diferentes serviços\n",
    "    * Atualização e substituição independentes, a atualização de um microserviço não afeta os outros microserviços da aplicação\n",
    "    * Menores unidades = Maior facilidade de compreensão\n",
    "    \n",
    "    \n",
    "* __Baixo acoplamento e Alta coesão__\n",
    "* __Maior resiliência e flexibilidade__\n",
    "* __Aumenta a escalabilidade__\n",
    "* __Promove maior reusabilidade__\n",
    "* __Persistência \"poliglota\"__\n",
    "    * Cada serviço define seu prórpio modelo de persistência"
   ]
  },
  {
   "cell_type": "markdown",
   "metadata": {},
   "source": [
    "## Visão de uma aplicação que implementa o modelo de microserviços"
   ]
  },
  {
   "cell_type": "markdown",
   "metadata": {},
   "source": [
    "![](micro_serv.png)"
   ]
  },
  {
   "cell_type": "markdown",
   "metadata": {},
   "source": [
    "# Rede Bridge definida pelo usuário"
   ]
  },
  {
   "cell_type": "markdown",
   "metadata": {},
   "source": [
    "Permite que o usuario crie escopos personalizados"
   ]
  },
  {
   "cell_type": "markdown",
   "metadata": {},
   "source": [
    "* __Scopo Local:__\n",
    "    * Pode ser roteado fazendo comunicação externa\n",
    "    * _driver macvlan_ é __recomendado__\n",
    "\n",
    "* __Bridge Padrão:__\n",
    "    * __NÃO__ é recomendado para uso em produção\n",
    "    * A __user-defined-bridge__ é \"superior\" a bridge padrão"
   ]
  },
  {
   "cell_type": "markdown",
   "metadata": {},
   "source": [
    "A _user-defined-bridge_ possui diversas vantagens em relação aos outros modos, dentre eles:\n",
    "\n",
    "* Melhor isolamento e InterOperacionalidade\n",
    "* Resolução automática de __DNS entre containers__, ou seja os containers passam a ser \"vistos\" pelos seus nomes\n",
    "* Cada grupo de aplicações/serviços podem ter __sua própria rede__\n",
    "* Cada container pode __conectar desconectar__ de redes definidas pelo usuário em tempo real\n",
    "* Para diferentes grupos de aplicações/serviços há __diferentes requisitos__ de rede (MTU, iptables)"
   ]
  },
  {
   "cell_type": "markdown",
   "metadata": {},
   "source": [
    "![](user_defined.png)"
   ]
  },
  {
   "cell_type": "markdown",
   "metadata": {},
   "source": [
    "Graficamente:\n",
    "* docker host é o hospedeiro\n",
    "* Tendo a interface de ponte que é a interface local __ETH__\n",
    "* A _rede bridge padrão_ representada pela __docker0__\n",
    "    * Um container inserido nela\n",
    "* A _minharede_ definida pelo usuário \n",
    "    * Os containers que farão dessa rede criada pelo usuario"
   ]
  },
  {
   "cell_type": "markdown",
   "metadata": {},
   "source": [
    "## Exemplos:"
   ]
  },
  {
   "cell_type": "markdown",
   "metadata": {},
   "source": [
    "### Criar a rede especificando o segmento de rede"
   ]
  },
  {
   "cell_type": "markdown",
   "metadata": {},
   "source": [
    "__docker network create --subnet 10.0.0.0/24 busybox-net__"
   ]
  },
  {
   "cell_type": "markdown",
   "metadata": {},
   "source": [
    "### Criando um container e atribuindo ele a rede criada"
   ]
  },
  {
   "cell_type": "markdown",
   "metadata": {},
   "source": [
    "__docker run -itd --name c1 --net busybox-net busybox__\n",
    "\n",
    "\n",
    "* __--net NOME_DA_REDE__ é o comando que atribui o container a rede criada"
   ]
  },
  {
   "cell_type": "markdown",
   "metadata": {},
   "source": [
    "Podemos ainda explicitar o ip que queremos para um determinado container (não é muito comum)<br>\n",
    "\n",
    "__docker run -itd --name c2 --net busybox-net --ip 10.0.0.254 -p 9090:80 nginx__"
   ]
  },
  {
   "cell_type": "markdown",
   "metadata": {},
   "source": [
    "### Comunicação entre os container"
   ]
  },
  {
   "cell_type": "markdown",
   "metadata": {},
   "source": [
    "Como os dois container estão na mesma rede criada eles fazem uso das vantages comentadas acima, dentre elas poderem se comunicar pelo nome: \n",
    "\n",
    "__docker exec -it c1 ping c2__\n",
    "\n",
    "* c1 é container da imagem busybox que possui a option de ping"
   ]
  },
  {
   "cell_type": "markdown",
   "metadata": {},
   "source": [
    "### Testando a conexão do container"
   ]
  },
  {
   "cell_type": "markdown",
   "metadata": {},
   "source": [
    "__docker exec -it c1 telnet c2 80__\n",
    "\n",
    "* _telnet_ é uma option do busybox que utiliza o protocolo telnet para teste de portas de rede\n",
    "* Nesse caso estamos testando a conexão com a porta 80 do container c2"
   ]
  },
  {
   "cell_type": "markdown",
   "metadata": {},
   "source": [
    "__OBS:__ Caso um container esteja em outra rede ou mesmo na rede padrão, ele não conseguirá se comunicar com os containers que estão na rede criada pelo usuario"
   ]
  },
  {
   "cell_type": "markdown",
   "metadata": {},
   "source": [
    "### Case de uso"
   ]
  },
  {
   "cell_type": "markdown",
   "metadata": {},
   "source": [
    "Temos uma aplicação que divide-se em __Banco__ e __App WordPress__, podemos criar uma rede docker e linkar os dois containers necessário a mesma rede, assim a comunicação passa a ser feita diretamente e ja é possível utiliza-la"
   ]
  },
  {
   "cell_type": "markdown",
   "metadata": {},
   "source": [
    "* Criando a rede que será utilizada\n",
    "    * __docker network create rede-wordpress__\n",
    "        * _rede-wordpress_ é o nome rede (pode ser qquer um)\n",
    "        \n",
    "\n",
    "* Container do banco apartir da imagem do __mysql versão 5.7__\n",
    "    * __docker run --name db-wp -e MYSQL_ROOT_PASSWORD=mysql -d --net rede-wordpress mysql:5.7__\n",
    "        * Algumas imagens exigem que sejam passadas algumas variaveis de ambiente para funcionares (__-e...__)\n",
    "        * O __--net rede-wordpress__ faz o link do container criado para a rede criada\n",
    "    \n",
    "\n",
    "* Container da aplicação wordpress apartir da imagem do __wordpress__\n",
    "    * __docker run --name wp -e WORDPRESS_DB_HOST=db-wp -e WORDPRESS_DB_USER=root -e WORDPRESS_DB_PASSWORD=mysql -p 8080:80 -d --net rede-wordpress wordpress__\n",
    "        * Novamente algumas variaveis de ambientes obrigatórias\n",
    "        * mapeando a porta de conexão do container (__8080__) com o host (__80__)\n",
    "        * Também é feito o link com a rede\n",
    "    \n",
    "    \n",
    "__Pronto!!! Conexão feita e ja pode ser usada, ao acessar o localhost:8080 no browser a aplicação rodará__"
   ]
  },
  {
   "cell_type": "markdown",
   "metadata": {},
   "source": [
    "# Container LINKS"
   ]
  },
  {
   "cell_type": "markdown",
   "metadata": {},
   "source": [
    "É um outro modo de comunicação entre os containers, porém não muito recomendado por ja estar no __modo legado__"
   ]
  },
  {
   "cell_type": "markdown",
   "metadata": {},
   "source": [
    "* Método mais simples\n",
    "    * Container de _origem_ tem acesso aos dados do container de _destino_ (__Não vice-versa__)\n",
    "    * Permite conexão entre os containers pelos seus nomes\n",
    "    \n",
    "    \n",
    "* Obsoleto - novas versões dockers podem não mais suportar\n",
    "    * Muitos tutoriais ainda usam esse metodo"
   ]
  },
  {
   "cell_type": "markdown",
   "metadata": {},
   "source": [
    "## Exemplo:"
   ]
  },
  {
   "cell_type": "markdown",
   "metadata": {},
   "source": [
    "* Criando um container bosybox:\n",
    "   * __docker run -itd --name l1 busybox__\n",
    "\n",
    "\n",
    "* Criando outro container e linkando ele ao container __l1:__\n",
    "    * __docker run -itd --name l2 --link l1:linkalias1 busybox__\n",
    "        * __--link__ faz o link entre os containers, __l1:__ é o container destino (a origem é o l2) e __linkalias__ é apenas um apelido para o _destino_ e pode ser qquer coisa\n",
    "        * O link é feito do __l2__ para o __l1__, o contrario não vale\n",
    "            * __docker exec -it l2 ping l1 = True__\n",
    "            * __docker exec -it l1 ping l2 = False__"
   ]
  },
  {
   "cell_type": "markdown",
   "metadata": {},
   "source": [
    "### Case "
   ]
  },
  {
   "cell_type": "markdown",
   "metadata": {},
   "source": [
    "Fazendo uso do mesmo case apresendo anteriormente, envolvendo um banco de uma aplicação wordpress, podemos fazer o mesmo com o método legado de link"
   ]
  },
  {
   "cell_type": "markdown",
   "metadata": {},
   "source": [
    "* Criando o container de banco:\n",
    "    * __docker run -d --name db1 -e MYSQL_ROOT_PASSWORD=mwsql mysql:5.7__\n",
    "    \n",
    "    \n",
    "* Criando o container da aplicação:\n",
    "    * __docker run -d --name wp1 --link db1:meudb -p 8090:80 wordpress__\n",
    "        * Bem mais simples, fizemos uso apenas do __--link__ e fazendo uso de apenas uma variável de ambiente que no caso é o nome que demos ao banco\n",
    "        * E funciona!\n",
    "        * Porem não temos quase nenhum controle e a flexibilidade é quase zero"
   ]
  },
  {
   "cell_type": "markdown",
   "metadata": {},
   "source": [
    "# Exercicios"
   ]
  },
  {
   "cell_type": "markdown",
   "metadata": {},
   "source": [
    "## Tarefa"
   ]
  },
  {
   "cell_type": "markdown",
   "metadata": {},
   "source": [
    "Diante do conhecimento adquirido até aqui, você é capaz, mesmo em cenário não propício para isso (ambiente local single-host), disponibilizar um serviço simples de balanceamento de carga (load balancer) entre duas aplicações web similares, a partir de containers interconectados por redes bridges definidas pelo usuário. <br>\n",
    "\n",
    "Para garantir a natureza de microserviços, você deve criar um container para cada finalidade:\n",
    "\n",
    "1 container para o load balancer com nome \"lb\" + 1 diretório mapeado para arquivo de configuração\n",
    "\n",
    "1 container web com nome \"web1\" + 1 volume mapeado para arquivos de FRONT do site\n",
    "\n",
    "1 container web com nome \"web2\" + 1 volume mapeado para arquivos de FRONT do site\n",
    "\n",
    "Onde, somente o container \"load balancer\" terá suas conexões na porta web 80 liberada, externamente. O restante dos containers (web1 e web2), somente, terão acesso permitido a partir do container balanceador (vide imagem superior de exemplo).\n",
    "\n",
    "Assim, para garantir as interconexões seguras entre os containers, você deverá criar, adicionalmente, 1 rede bridge definida pelo usuário, e criar os containers nela:\n",
    "\n",
    "1 rede bridge com nome lb-web\n",
    "\n",
    "INFORMAÇÕES IMPORTANTES\n",
    "\n",
    "Imagem para uso de containers \"web\": httpd (consulte mais em https://hub.docker.com/_/httpd)\n",
    "\n",
    "Imagem para uso de container \"load balancer\": haproxy:1.6 (consulte mais em https://hub.docker.com/_/haproxy)\n",
    "\n",
    "Diretório no container de configuração do balanceador: /usr/local/etc/haproxy/\n",
    "\n",
    "Arquivo de configuração do balanceador: haproxy.cfg (em anexo)\n",
    "\n",
    "Arquivos de FRONT para container web1: em anexo (fonte modificada em https://startbootstrap.com/themes/landing-page/)\n",
    "\n",
    "Arquivos de FRONT para container web2: em anexo (fonte modificada em https://startbootstrap.com/themes/landing-page/)\n",
    "\n"
   ]
  },
  {
   "cell_type": "markdown",
   "metadata": {},
   "source": [
    "### Qual comando usado para criar a rede bridge definida pelo usuário chamada \"lb-web\"?"
   ]
  },
  {
   "cell_type": "markdown",
   "metadata": {},
   "source": [
    "__docker network create lb-web__\n",
    "\n",
    "Por deafult a rede criada já é do driver bridge"
   ]
  },
  {
   "cell_type": "markdown",
   "metadata": {},
   "source": [
    "### Quais comandos usados para criar os volumes vol-web1 e vol-web2; e os containers, em background, web1 e web2, ingressantes na rede criada, respectivamente?"
   ]
  },
  {
   "cell_type": "markdown",
   "metadata": {},
   "source": [
    "__docker volume create vol-web1__\n",
    "\n",
    "__docker volume create vol-web2__\n",
    "\n",
    "__docker run -d --name web1 --net lb-web -v vol-web1:/usr/local/apache2/htdocs -p 9090:80 httpd__\n",
    "\n",
    "__docker run -d --name web1 --net lb-web -v vol-web2:/usr/local/apache2/htdocs -p 9091:80 httpd__"
   ]
  },
  {
   "cell_type": "markdown",
   "metadata": {},
   "source": [
    "### Quais comandos usados para enviar os arquivos, contidos em anexo, do FRONT dos websites dos containers web1 e web2, respectivamente?"
   ]
  },
  {
   "cell_type": "markdown",
   "metadata": {},
   "source": [
    "Na dentro da pasta originals, que contem os arquivos q foram fornecidos:\n",
    "\n",
    "__docker cp FRONT_web1/. web1:/usr/local/apache2/htdocs__\n",
    "\n",
    "__docker cp FRONT_web2/. web2:/usr/local/apache2/htdocs__"
   ]
  },
  {
   "cell_type": "markdown",
   "metadata": {},
   "source": [
    "### Qual comando usado para criar e iniciar o container balanceador, de nome \"lb\", disponibilizado na porta 80, ingressante da rede criada e com mapeamento de configuração no diretório /usr/local/etc/haproxy/ do container?"
   ]
  },
  {
   "cell_type": "markdown",
   "metadata": {},
   "source": [
    "Mapeando a o diretório com que se encontra a rotina de load com o diretório onde persistem os dados da imagem hatproxy\n",
    "\n",
    "__docker run -id --name lb --net lb-web -p 8080:80 -v /home/leandro/Desktop/original:/usr/local/etc/haproxy/ haproxy:1.6__"
   ]
  }
 ],
 "metadata": {
  "kernelspec": {
   "display_name": "Python 3",
   "language": "python",
   "name": "python3"
  },
  "language_info": {
   "codemirror_mode": {
    "name": "ipython",
    "version": 3
   },
   "file_extension": ".py",
   "mimetype": "text/x-python",
   "name": "python",
   "nbconvert_exporter": "python",
   "pygments_lexer": "ipython3",
   "version": "3.7.4"
  },
  "latex_envs": {
   "LaTeX_envs_menu_present": true,
   "autoclose": true,
   "autocomplete": true,
   "bibliofile": "biblio.bib",
   "cite_by": "apalike",
   "current_citInitial": 1,
   "eqLabelWithNumbers": true,
   "eqNumInitial": 1,
   "hotkeys": {
    "equation": "Ctrl-E",
    "itemize": "Ctrl-I"
   },
   "labels_anchors": false,
   "latex_user_defs": false,
   "report_style_numbering": false,
   "user_envs_cfg": false
  },
  "toc": {
   "base_numbering": 1,
   "nav_menu": {},
   "number_sections": true,
   "sideBar": true,
   "skip_h1_title": false,
   "title_cell": "Table of Contents",
   "title_sidebar": "Contents",
   "toc_cell": false,
   "toc_position": {},
   "toc_section_display": true,
   "toc_window_display": false
  }
 },
 "nbformat": 4,
 "nbformat_minor": 2
}
