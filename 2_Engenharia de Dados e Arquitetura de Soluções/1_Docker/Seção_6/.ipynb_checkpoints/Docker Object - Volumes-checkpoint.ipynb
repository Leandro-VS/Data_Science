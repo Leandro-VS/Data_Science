{
 "cells": [
  {
   "cell_type": "markdown",
   "metadata": {},
   "source": [
    "# Persistência de dados"
   ]
  },
  {
   "cell_type": "markdown",
   "metadata": {},
   "source": [
    "___Container é uma estrutura volátil___ ao final do ciclo de vida do container os dados se perdem"
   ]
  },
  {
   "cell_type": "markdown",
   "metadata": {},
   "source": [
    "Um conceito importante é o seguinte: __Dado uma imagem é possível haver varias camadas de escrita, ou seja, varios contaieners em execução apartir de uma unica imagem.__\n",
    "\n",
    "\n",
    "Isso é possível através de abstrações do sistema de arquivos feitas pelo ___Storage Drivers___ e ___Backing Filesystens___ do docker, através das tecnologias ja existentes no sistema de arquivos Linux:\n",
    "* __UnionFS:__ Que faz a união e a criação de diversas camadas do sistema de arquivos existente, como se fosse apenas um só, gerando um isolamento para o container\n",
    "* __Copy-on-Write (CoW):__ Áreas ja utilizadas em disco não serão replicadas! Logo um outro container pode, por exemplo, fazer uso de uma imagem que ja tenha sido usado por outro ocupando um espaço diferente no disco"
   ]
  },
  {
   "cell_type": "markdown",
   "metadata": {},
   "source": [
    "## Tipos de persistência de dados"
   ]
  },
  {
   "cell_type": "markdown",
   "metadata": {},
   "source": [
    "### Bind Mount"
   ]
  },
  {
   "cell_type": "markdown",
   "metadata": {},
   "source": [
    "* Cria uma pasta do host e mapeia com o container\n",
    "* Garante a persistencia de dados externas, os dados serão mantidas na pasta criada no host\n",
    "* Simples e eficiente\n",
    "* Não é escalável\n",
    "* Arquivo ou diretório é criado sob demanda\n",
    "* arquivos origem(host) _sobrescrevem_ dados do destino (container)"
   ]
  },
  {
   "cell_type": "markdown",
   "metadata": {},
   "source": [
    "Algo importante a saber, principalmente ao se trabalhar com persistencia de dados, é a localização das informações das imagens em tamanho de arquivo: <br>\n",
    "\n",
    "__---->  ls /var/lib/docker__\n",
    "\n",
    "\n",
    "Por exemplo: Acessando, dentro da pasta docker, a pasta referente ao storage driver (no meu caso _overlay2_ - verificar com docker info), é possível ver todas as imagens intermediarias que são são usadas para construir a imagem orinal que foi baixada"
   ]
  },
  {
   "cell_type": "markdown",
   "metadata": {},
   "source": [
    "__Exemplo:__ ___docker run -itd --name apache -p 9090:80 -v /home/leandro/site:/usr/local/apache2/htdocs httpd:2.4___ <br>\n",
    "Inicia um container em background, de nome apache, que irá disponibilizar conexão com o host na porta 9090. Com o uso da _option_ __-v__ para mapear uma _origem_ a um _destino_, no caso acima temos:\n",
    "* __Origem:__ /home/leandro/site _Pasta do host_, se não existir ela é criada\n",
    "* __Destino:__ /usr/local/apache2/htdocs _Pasta na qual persistem os dados_, o endereço da pasta onde os dados persistem deve ser consultado na documentação da imagem\n",
    "* É preciso sempre remover o container para fazer um novo mapeamento nele\n",
    "\n",
    "Temos então com este comando que, todos os arquivos que estiverem e os que forem ser salvos na __pasta destino__ são(serão) mapeados para a __pasta origem__"
   ]
  },
  {
   "cell_type": "markdown",
   "metadata": {},
   "source": [
    "__OBS:__ Por padrão, por questão de fusos diferentes do timestamps, há uma diferença entre a hora do hoste do container!!! <br>\n",
    "Uma maneira de corrigir isso é utilizando o arquivo binario de __localtime__ do sistema, para tanto adiciona-se um segundo mapeamento (outro __-v__) \"linkando\" a pasta _localtime_ do sistema com a _localtime_ do container, além disso, como trata-se de um arquivo binario devemos especificar o modo de execução dele que para o caso exposta basta ser __ro (read only)__\n",
    "\n",
    "\n",
    "___docker run -d --name apache2 -p 9090:80 -v /home/leandro/site/:/usr/local/apache2/htdocs -v /etc/localtime:/etc/localtime:ro httpd:2.4___"
   ]
  },
  {
   "cell_type": "markdown",
   "metadata": {},
   "source": [
    "### Docker Volume"
   ]
  },
  {
   "cell_type": "markdown",
   "metadata": {},
   "source": [
    "* Também usa o sistema de arquivo do host, porem o volume se vale de uma area especifica do docker, e portanto para acessa-la é preciso utilizar recursos da cli docker\n",
    "\n",
    "* __Volume__ entre host e container (idem ao bind mount)\n",
    "* Recomendado para uso em produção\n",
    "* Menos simples porém mais seguro\n",
    "* Arquivos de origem _não sobrescrevem_ dados destino (container)\n",
    "* Compartilhamento de hosts remotos ou provedores de nuvem,passa a ser __escalável__\n",
    "* Criptografia de conteúdo é possível\n",
    "* Dados podem ser manipulados pela docker cli\n",
    "* Plugins drives como: local, NFS, CIFS, Cluster, SSHFS, ..."
   ]
  },
  {
   "cell_type": "markdown",
   "metadata": {},
   "source": [
    "* Para ter acesso ao volume é necessário cria-lo: __docker volume create NOME_DO_VOLUME__\n",
    "\n",
    "\n",
    "* Para fazer o mapeamento a _origem_ agora não sera uma pasta mas sim o nome do volume:\n",
    "    * __docker run -d --name apache_vol -p 9091:80 -v /etc/localtime:/etc/localtime:ro -v vol_web:/usr/local/apache2/htdocs httpd:2.4__\n",
    "    \n",
    "    * Notando que: foi feito dois mapeamentos, o primeiro em __Bind Mount__ (Diretório -> Diretório) e outro em __Volume__ (volume --> Diretório)\n",
    "        * Lembrando que os arquivos não são sobreescritos, os dados antigos da origem permanecem\n",
    "    \n",
    "    \n",
    "* Lembrando que não é possível acessar o volume diretamente pois nao se trata de um diretório\n",
    "\n",
    "\n",
    "* Apartir de um arquivo criado (index.html) localmente é possível adicona-lo ao volume criado através da cli, passando como __pasta destino__ a pasta que persiste (verificar documentação):\n",
    "    * __docker cp index.html apache_vol:/usr/local/apache2/htdocs__\n",
    "        * Para consultar se o arquivo ou modificações no arquivo foram mesmo transferidas para o volume:\n",
    "            * __curl https://localhost:9091__ (9091 foi a porta de conexão escolhida neste caso)\n",
    "            \n",
    " \n",
    "* Podemos fazer ao contrario, acessar o conteudo do volume, enviar para o host, fazer a alteração e enviar para o container\n",
    "    * Copiando o conteúdo do container para o host: __docker cp apache_vol:/usr/local/apache2/htdocs/index.html .__\n",
    "        * Aqui ainda utiliza-se o \" . \" para criar o arquivo caso ele não exista\n",
    "    * Alteração no arquivo (pode ser qquer uma): __echo \"Qualquer coisa\" >> index.html__\n",
    "    * Enviando o arquivo alterado para o volume: __docker cp index.html apache_vol:/usr/local/apache2/htdocs__"
   ]
  },
  {
   "cell_type": "markdown",
   "metadata": {},
   "source": [
    "__OBS:__ É possível fazer essa manipulação acessando os diretórios do docker (/var/lib/docke) porém não é recomendado"
   ]
  },
  {
   "cell_type": "markdown",
   "metadata": {},
   "source": [
    "### tmpfs mount"
   ]
  },
  {
   "cell_type": "markdown",
   "metadata": {},
   "source": [
    "* Persistencia de dados na memoria RAM\n",
    "    * A RAM também é volátil porem o ganho aqui é de velocidade de escrita pois na ram a escrita é bem mais rapida que no disco."
   ]
  },
  {
   "cell_type": "markdown",
   "metadata": {},
   "source": [
    "Podemos então criar um container em backgroud de nome _tmpfs_ mas agora não utilizando a flag __-v__ mas a flag __tmpfs__, que sinaliza a origem (área de memória RAM) e o destino especificamos como um diretório do container: \n",
    "\n",
    "__docker run -itd --name tmpfs --tmpfs /tmp busybox__"
   ]
  },
  {
   "cell_type": "markdown",
   "metadata": {},
   "source": [
    "Para exemplificar a velocidade de escrita, muito superior, na RAM podemos acessar o container criado, que possui a option (--tmpfs) que sinaliza q sua escrita é na RAM, e relizar uma escrita e mostrar o tempo que ela levou: <br>\n",
    "\n",
    "__docker exec -it tmpfs dd if=/dev/zero of=/tmp/output bs=3k count=1000k; rm -f /tmp/output__\n",
    "\n",
    "* __dd__ é o parametro que faz a escrita (de zeros no caso) no arquivo chamado __output__ dentro do diretório __/tmp__\n",
    "* Com contagens de 3k, cada uma de 1000 vezes, ou seja no final teremos um arquivo de 3GB\n",
    "* O resultado do tempo da execução é apresentado e após isso o arquivo gerado é excluido "
   ]
  },
  {
   "cell_type": "markdown",
   "metadata": {},
   "source": [
    "# Exercicio"
   ]
  },
  {
   "cell_type": "markdown",
   "metadata": {},
   "source": [
    "## Quais comandos usados para criar e listar o volume compartilhado, respectivamente?"
   ]
  },
  {
   "cell_type": "markdown",
   "metadata": {},
   "source": [
    "sudo docker volume create NAME_VOL<br>\n",
    "\n",
    "sudo docker volume list"
   ]
  },
  {
   "cell_type": "markdown",
   "metadata": {},
   "source": [
    "## Quais comandos usados para criar os 3 containers web, com execução em background, que devem acessar o volume compartilhado?"
   ]
  },
  {
   "cell_type": "markdown",
   "metadata": {},
   "source": [
    "docker run -itd --name cont_1 -p 8082:80 -v bk_volume:/usr/local/apache2/htdocs httpd:2.4<br>\n",
    "\n",
    "docker run -itd --name cont_2 -p 8082:80 -v bk_volume:/usr/local/apache2/htdocs httpd:2.4<br>\n",
    "\n",
    "docker run -itd --name cont_3 -p 8082:80 -v bk_volume:/usr/local/apache2/htdocs httpd:2.4"
   ]
  },
  {
   "cell_type": "markdown",
   "metadata": {},
   "source": [
    "## Dado a necessidade de atualizar o volume compartilhado, com os arquivos de Front baixados, qual comando usado para enviar esses arquivos para o volume?"
   ]
  },
  {
   "cell_type": "markdown",
   "metadata": {},
   "source": [
    "docker cp arquivo.html container_1: /usr/local/apache2/htdocs <br>\n",
    "\n",
    "Só a necessidade de fazer a cópia do arquivos para o volume apenas uma vez e apenas de um container, pq os 3 possuem acesso ao mesmo volume, mas por portas diferentes."
   ]
  },
  {
   "cell_type": "markdown",
   "metadata": {},
   "source": [
    "## Por motivo de segurança, é recomendado que execute uma rotina de backup, logo após algumas mudanças que podem serem feitas nos dados do volume compartilhado. Sendo assim, qual comando usado para criar um container temporário (com option --rm), imagem busybox, responsável por mapear volume compartilhado e diretório em partição de backup no host, e executar, dentro do container, comando para gerar arquivobackup.tar diretamente na partição de backup, criada pela equipe de infraestrutura?"
   ]
  },
  {
   "cell_type": "markdown",
   "metadata": {},
   "source": [
    "docker run --rm -v /mnt/docker/backup:/tmp -v bk_volume:/root busybox tar cvf /tmp/backup.tar root/"
   ]
  }
 ],
 "metadata": {
  "kernelspec": {
   "display_name": "Python 3",
   "language": "python",
   "name": "python3"
  },
  "language_info": {
   "codemirror_mode": {
    "name": "ipython",
    "version": 3
   },
   "file_extension": ".py",
   "mimetype": "text/x-python",
   "name": "python",
   "nbconvert_exporter": "python",
   "pygments_lexer": "ipython3",
   "version": "3.7.4"
  },
  "latex_envs": {
   "LaTeX_envs_menu_present": true,
   "autoclose": true,
   "autocomplete": true,
   "bibliofile": "biblio.bib",
   "cite_by": "apalike",
   "current_citInitial": 1,
   "eqLabelWithNumbers": true,
   "eqNumInitial": 1,
   "hotkeys": {
    "equation": "Ctrl-E",
    "itemize": "Ctrl-I"
   },
   "labels_anchors": false,
   "latex_user_defs": false,
   "report_style_numbering": false,
   "user_envs_cfg": false
  },
  "toc": {
   "base_numbering": 1,
   "nav_menu": {},
   "number_sections": true,
   "sideBar": true,
   "skip_h1_title": false,
   "title_cell": "Table of Contents",
   "title_sidebar": "Contents",
   "toc_cell": false,
   "toc_position": {},
   "toc_section_display": true,
   "toc_window_display": false
  }
 },
 "nbformat": 4,
 "nbformat_minor": 2
}
