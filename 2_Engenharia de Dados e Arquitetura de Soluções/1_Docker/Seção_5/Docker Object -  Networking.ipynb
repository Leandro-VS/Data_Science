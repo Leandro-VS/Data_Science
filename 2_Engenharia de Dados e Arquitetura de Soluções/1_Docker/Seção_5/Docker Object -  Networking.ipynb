{
 "cells": [
  {
   "cell_type": "markdown",
   "metadata": {},
   "source": [
    "# Todo container pode receber um IP"
   ]
  },
  {
   "cell_type": "markdown",
   "metadata": {},
   "source": [
    "__Docker Object: Networking__ trata-se da capacidade de um container receber conectividade! <br>\n",
    "Isto ocorre devido a uma abstração de rede feita pelos __plugins__ que a docker engine oferece, possibilitando assim modos distintos de conexões para os containers mas abstraindo todo o conceito e complexidade de rede do _host._\n",
    "\n",
    "Sendo assim é possível para o container se comunicar com o _mundo externo,_ para tanto podemos usar os plugins default que ja vem instalados com o docker ou podemos criar os nossos próprios padrões de rede."
   ]
  },
  {
   "cell_type": "markdown",
   "metadata": {},
   "source": [
    "* __docker network ls:__ Lista os drivers networks disponiveis"
   ]
  },
  {
   "cell_type": "markdown",
   "metadata": {},
   "source": [
    "## Brigde Network"
   ]
  },
  {
   "cell_type": "markdown",
   "metadata": {},
   "source": [
    "É o driver de comunicação padrão. Ele cria uma \" _ponte_ \" entre o host e os containers, além de criar uma camada que permite ao container ter a sua própria __eth__ - interface ethernet. <br>\n",
    "Aleatoriamente é criada uma subnet __privada__ que permite a cada container receber um endereço IP e se comunicar entre si e com o mundo externo."
   ]
  },
  {
   "cell_type": "markdown",
   "metadata": {},
   "source": [
    "* __Port Expose:__ Mapeamento de portas, onde possibilita que através do host possamos acessar a porta dos containers e interagir com eles. Tal mapeamento é feito através da opção __-p__ do _docker run_\n",
    "    * 1 porta do host <--> 1 porta do container\n",
    "    * Mapeamento Manual (-p) ou Automático (-P)\n",
    "    * Exemplo: .... -p 9090:80\n",
    "\n",
    "__OBS:__ Uma vez definida a porta usada, ela não poderá ser mais usada para nada mais!\n",
    "\n",
    "\n",
    "Por que utilizar o mapeamento de portas manual ou automatico??<br>\n",
    "Um bom motivo é que podemos utilizar o container no browser. Para isso utilizamos o localhost:PORTA_UTILIZADA.\n",
    "\n",
    "Lembrando que não acessamos o __IP do container__ mas sim o __IP do host__"
   ]
  },
  {
   "cell_type": "markdown",
   "metadata": {},
   "source": [
    "## Host Network"
   ]
  },
  {
   "cell_type": "markdown",
   "metadata": {},
   "source": [
    "* Não há isolamento de rede entre host e container\n",
    "    * Aspectos do container _continuam isolados_ como recursos, capacidade, etc..\n",
    "    * Não há necessidade de mapeamento de portas pois agora o contato é direto, a mesma estrutura de rede para host e container\n",
    "    \n",
    "__OBS:__ Este recurso esta apenas disponível no __LINUX__ (>17.06)\n",
    "\n",
    "* Comando: __... --network hots/--net host__"
   ]
  },
  {
   "cell_type": "markdown",
   "metadata": {},
   "source": [
    "Um ponto negativo desse modo é que por usar a mesma porta do _host_ alguns containers que necessariamente utilizam a mesma porta, não irão funcionar!"
   ]
  },
  {
   "cell_type": "markdown",
   "metadata": {},
   "source": [
    "## Network NONE"
   ]
  },
  {
   "cell_type": "markdown",
   "metadata": {},
   "source": [
    "* Desabilita completamente a pilha de rede do container\n",
    "* Isolamento total, tanto de rede como de serviço\n",
    "* Frequentemente usado em casos de containers que não necessitam de comunicação externa, como por exemplo um container que faça apenas um processamento de dados\n",
    "* Comando: __--network none/--net none__"
   ]
  },
  {
   "cell_type": "markdown",
   "metadata": {},
   "source": [
    "## Network OVERLAY"
   ]
  },
  {
   "cell_type": "markdown",
   "metadata": {},
   "source": [
    "Trabalha com ambiente Mult-Host, muito usado em _clusters_"
   ]
  },
  {
   "cell_type": "markdown",
   "metadata": {},
   "source": [
    "## Network MACVLAN"
   ]
  },
  {
   "cell_type": "markdown",
   "metadata": {},
   "source": [
    "É o plugin responsável por acessar as _vlans_ criadas localmente, ou seja, torna as _vlans_ acessiveis ao ambiente externo."
   ]
  },
  {
   "cell_type": "markdown",
   "metadata": {},
   "source": [
    "# Exercicios"
   ]
  },
  {
   "cell_type": "markdown",
   "metadata": {},
   "source": [
    "## AÇÃO - criar e iniciar, em background, container servidor PSQL na network default padrão, mapeando a porta do host com o container na 3333, usando imagem \"postgres\" sugerida."
   ]
  },
  {
   "cell_type": "markdown",
   "metadata": {},
   "source": [
    "__Dicas:__ <br>\n",
    "\n",
    "mapeamento de portas manual se dá pelo parâmetro -p do docker run. E segue a premissa porta_host:porta_container\n",
    "\n",
    "consulte o documentação oficial da imagem no Docker Hub (IMPORTANTE). Essa imagem vem com um uso importante de variáveis de ambientes  (environmente variables) em tempo de execução fundamentais para inicialização do container - caso contrário ele não inicia corretamente. Atente-se para a variável obrigatória POSTGRES_PASSWORD. Não precisa se limitar a somente o uso da ENV obrigatória, como no caso tem a opção da ENV POSTGRES_DB."
   ]
  },
  {
   "cell_type": "markdown",
   "metadata": {},
   "source": [
    "docker run --name servidor_bridge -e POSTGRES_PASSWORD=postgres -p 3333:5432 -d postgres"
   ]
  },
  {
   "cell_type": "markdown",
   "metadata": {},
   "source": [
    "## AÇÃO - criar banco de dados \"teste\" no container servidor PSQL usando um container psql cliente de imagem \"governmentpaas/psql\" sugerida."
   ]
  },
  {
   "cell_type": "markdown",
   "metadata": {},
   "source": [
    "__Dicas:__ <br>\n",
    "\n",
    "É preciso capturar informações do IP do container servidor PSQL para estabelecer conexão entre esse dois containers, o cliente e o servidor. Lembre-se do uso do docker inspect\n",
    "\n",
    "Aproveite o benefício de iniciar o container, com interação, removê-lo ao final do seu ciclo e executar o comando desejado em tempo de execução. Lembre-se das options --rm e -it. Para execução de comandos com parâmetros via shell você pode usar a sintaxe sh -c \"COMMAND\" ao final do comando docker run."
   ]
  },
  {
   "cell_type": "markdown",
   "metadata": {},
   "source": [
    "docker run --rm -it --name psql governmentpaas/psql sh -c \"psql -h 172.17.0.2 -U postgres --password\"\n",
    "\n",
    "__Dentro do shell do container servidor:__ <br>\n",
    "CREATE TABLE teste;"
   ]
  },
  {
   "cell_type": "markdown",
   "metadata": {},
   "source": [
    "## AÇÃO - baixar e usar cliente gráfico pgAdmin no seu host, acessar servidor container PSQL e visualizar banco de dados \"teste\" criado, anteriormente."
   ]
  },
  {
   "cell_type": "markdown",
   "metadata": {},
   "source": [
    "Baixe o cliente pgAdmin: https://www.pgadmin.org/ no seu host e sigas orientações de uso."
   ]
  },
  {
   "cell_type": "markdown",
   "metadata": {},
   "source": [
    "* Baixado o client Postgres\n",
    "* Acessa-lo através do ip local (127.0.0.1/pgadmin4) \n",
    "* Fazer login com o email e senha especificado na instalação\n",
    "* criar novo server\n",
    "* Em __Connections__ informar o IP local host(127.0.0.1) pois o _container servidor_ foi criado com o plugin de acesso padrão (bridge) que faz essa interface entre o container e o host\n",
    "* Também informar a porta pela qual o container se comunica __3333__ que foi especificado no exercicio"
   ]
  },
  {
   "cell_type": "code",
   "execution_count": null,
   "metadata": {},
   "outputs": [],
   "source": []
  },
  {
   "cell_type": "code",
   "execution_count": null,
   "metadata": {},
   "outputs": [],
   "source": []
  }
 ],
 "metadata": {
  "kernelspec": {
   "display_name": "Python 3",
   "language": "python",
   "name": "python3"
  },
  "language_info": {
   "codemirror_mode": {
    "name": "ipython",
    "version": 3
   },
   "file_extension": ".py",
   "mimetype": "text/x-python",
   "name": "python",
   "nbconvert_exporter": "python",
   "pygments_lexer": "ipython3",
   "version": "3.7.4"
  },
  "latex_envs": {
   "LaTeX_envs_menu_present": true,
   "autoclose": true,
   "autocomplete": true,
   "bibliofile": "biblio.bib",
   "cite_by": "apalike",
   "current_citInitial": 1,
   "eqLabelWithNumbers": true,
   "eqNumInitial": 1,
   "hotkeys": {
    "equation": "Ctrl-E",
    "itemize": "Ctrl-I"
   },
   "labels_anchors": false,
   "latex_user_defs": false,
   "report_style_numbering": false,
   "user_envs_cfg": false
  },
  "toc": {
   "base_numbering": 1,
   "nav_menu": {},
   "number_sections": true,
   "sideBar": true,
   "skip_h1_title": false,
   "title_cell": "Table of Contents",
   "title_sidebar": "Contents",
   "toc_cell": false,
   "toc_position": {},
   "toc_section_display": true,
   "toc_window_display": false
  }
 },
 "nbformat": 4,
 "nbformat_minor": 2
}
