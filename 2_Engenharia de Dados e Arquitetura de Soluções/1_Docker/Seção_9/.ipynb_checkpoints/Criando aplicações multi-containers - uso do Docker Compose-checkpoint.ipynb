{
 "cells": [
  {
   "cell_type": "markdown",
   "metadata": {},
   "source": [
    "# Hello \"Compose\""
   ]
  },
  {
   "cell_type": "markdown",
   "metadata": {},
   "source": [
    "__Aplicações com multiplos containers__"
   ]
  },
  {
   "cell_type": "markdown",
   "metadata": {},
   "source": [
    "Em uma aplicação simples, de apenas 1 container fica claro as vantagens que a sua utilização trás, como agilidade, integridade, isolamento, etc... Porém para uma aplicação maior, envolvendo diversos containers, o gerenciamento de todos pode ser tornar trabalhoso e até mesmo confuso, e o a principal desvantagem seria a perda das caracteristicas que tornam o uso de containers tão interessantes."
   ]
  },
  {
   "cell_type": "markdown",
   "metadata": {},
   "source": [
    "Agora suponha que em um único arquivo, do tipo __.yaml__ com declarações do tipo __service__ e a identação correta, será possível declarar os containers, fazer as conexões necessárias e apartir de um único comando a pilha de declarações é fornecida. Problema resolvio então, prazer __Docker Compose__"
   ]
  },
  {
   "cell_type": "markdown",
   "metadata": {},
   "source": [
    "__Caracteristicas:__"
   ]
  },
  {
   "cell_type": "markdown",
   "metadata": {},
   "source": [
    "* Ferramenta externa (open source)\n",
    "    * Escrita em Python (Com sua _engine_ em GO)\n",
    "    \n",
    "    \n",
    "* Conjunto de container apartir de um único arquivo\n",
    "    * Containers são serviços - __microsserviços__ de uma aplicação\n",
    "    * Único comando --> cria e inicia todos os serviços\n",
    "    \n",
    "    \n",
    "* Multíplos _ambiente de desenvolvimento_ em um único host\n",
    "    * É possível ter separações por diretórios\n",
    "    \n",
    "    \n",
    "* Documentação e configuração de aplicações\n",
    "    * Com o uso de docker compose praticamente teremos uma documentação em código!"
   ]
  },
  {
   "cell_type": "markdown",
   "metadata": {},
   "source": [
    "# Sem o arquivo Compose, Nada feito!"
   ]
  },
  {
   "cell_type": "markdown",
   "metadata": {},
   "source": [
    "O arquivo _compose:_\n",
    "\n",
    "\n",
    "* Supora os formatos __.yml__ (ou __.yaml__ ) e __.json__"
   ]
  },
  {
   "cell_type": "markdown",
   "metadata": {},
   "source": [
    "## Declaração:"
   ]
  },
  {
   "cell_type": "markdown",
   "metadata": {},
   "source": [
    "Pode ser feito em qualquer editor"
   ]
  },
  {
   "cell_type": "code",
   "execution_count": null,
   "metadata": {},
   "outputs": [],
   "source": [
    "#Primeiro o cabeçalho, declarando a versão do compose utilizada\n",
    "version:\"3\"\n",
    "\n",
    "#agora o services, que neste contexto os containers são vistos como services\n",
    "#dentro de cada service as suas config options, ou seja, as declarações de cada container\n",
    "services:\n",
    "    app:\n",
    "        build:./dir\n",
    "        image:webapp:tag\n",
    "        ports:\n",
    "            -\"6379\"\n",
    "            networks:\n",
    "                -frontend* #Footer\n",
    "    \n",
    "    db:\n",
    "        image:postgres:9.4\n",
    "        volumes:\n",
    "            #Footer\n",
    "            -db-data:/var/lib/postgresq/data\n",
    "        networks:\n",
    "            -backend #Footer\n",
    "            \n",
    "    #Footer declara as config personalizadas informadas anteriormente\n",
    "    networks:\n",
    "        frontend\n",
    "        backend\n",
    "    volumes:\n",
    "        dbdata"
   ]
  },
  {
   "cell_type": "markdown",
   "metadata": {},
   "source": [
    "## Config Options"
   ]
  },
  {
   "cell_type": "markdown",
   "metadata": {},
   "source": [
    "__Declaram as opções de cada container__"
   ]
  },
  {
   "cell_type": "markdown",
   "metadata": {},
   "source": [
    "* __build__ - contrói uma imagem a partir do arquivo Dockerfile informado;\n",
    "* __image__ - nada mais é doque o __docker pull__ informa nome e tag da imagem. se atrelado a config _build_ contruirá uma imagem com nome e tag informados\n",
    "* __environment__ - adiciona variáveis de ambientes\n",
    "* __ports__ - expõe as portas do service ( _expose_ ). Padrão \" _HOST:CONTAINER_ \"\n",
    "* __networks__ - informa as docker networks que o container fará parte. Padrão: network criada com o nome do projeto\n",
    "* __volumes__ - oferece o recurso de _bind mount_ e _named volumes (docker volumes)_"
   ]
  },
  {
   "cell_type": "markdown",
   "metadata": {},
   "source": [
    "# Nova CLI"
   ]
  },
  {
   "cell_type": "markdown",
   "metadata": {},
   "source": [
    "Apesar de nova sua estrutura é muito semelhante a do _docker run_"
   ]
  },
  {
   "cell_type": "markdown",
   "metadata": {},
   "source": [
    "__docker-compose OPTIONS COMMAND ARGS__\n",
    "\n",
    "\n",
    "* __OPTIONS:__ --file, -f, -p, --project-name, ...\n",
    "    * Por padrão o nome do projeto é o diretório atual\n",
    "* __COMMAND ARGS:__ ps, up -d, down, ..."
   ]
  },
  {
   "cell_type": "markdown",
   "metadata": {},
   "source": [
    "__Principais comandos__\n",
    "\n",
    "* __docker-compose up OPTIONS SERVICE_NAME:__\n",
    "    * Contróia toda a stack como builds, (re)creates, attaches, etc...\n",
    "    * Tudo deve ser feito dentro do diretório em que se encontra o arquivo do docker compose\n",
    "        * __OPTIONS:__ -d, --force-recreate\n",
    "            * __id__ - Rodar em background\n",
    "            * __--force-recreate__ - O docker compose utiliza-se do _cache_ , então caso o container não tenha sido modificado ele não será recriado, então este comando força com que ele seja recriado! OBS: se alguma modificação foi feita e este comando não foi utilizado, obviamente o container será recriado\n",
    "        * __Service_Name:__ \n",
    "            * Serviço (container) da stack de aplicação\n",
    "            \n",
    "            \n",
    "* __docker-compose ps OPTIONS:__\n",
    "    * Lista todos os services (containers)\n",
    "    * __OPTIONS:__\n",
    "        * __-q__ - exibi somente os IDs dos containers\n",
    "        \n",
    "        \n",
    "* __docker-compose logs OPTIONS SERVICE_NAME:__\n",
    "    * Mostra os logs de saida dos serviços\n",
    "    * __OPTIONS:__\n",
    "        * __-f__ - Insere o conceito de leitura dinamica (Não precisa do Ctrl+C para sair)\n",
    "        \n",
    "        \n",
    "* __docker-compose images OPTIONS SERVICE:__\n",
    "    * Lista as imagens usadas pelos containers criados\n",
    "    * __OPTIONS:__\n",
    "        * __-q__ - Exibi somente as IDs dos containers\n"
   ]
  },
  {
   "cell_type": "markdown",
   "metadata": {},
   "source": [
    "# Exemplo"
   ]
  },
  {
   "cell_type": "markdown",
   "metadata": {},
   "source": [
    "Para um provisionamento de um Repositório Online de Arquivos usando o Owncloud, com conexão a uma base de dados MySQL, os comandos Docker podem ser usados.\n",
    "\n",
    "A fim de obter melhor entendimento sobre a manipulação do arquivo de configuração do compose, essa tarefa requer que você, a partir dos comandos docker abaixo, transcreva-os para um arquivo yml e crie um projeto Docker Compose:"
   ]
  },
  {
   "cell_type": "code",
   "execution_count": null,
   "metadata": {},
   "outputs": [],
   "source": [
    "docker network create net-backend \n",
    "docker run --name mysql --restart=always --network=net-backend \n",
    "-v /home/data:/var/lib/mysql \n",
    "-v /etc/localtime:/etc/localtime:ro \n",
    "-e MYSQL_ROOT_PASSWORD=pass -d mysql:5.5 \n",
    "\n",
    "docker run --name owncloud --restart=always --network=net-backend \n",
    "-p 9090:80 -v /home/apps:/var/www/html/apps \n",
    "-v /home/config:/var/www/html/config \n",
    "-v /home/data:/var/www/html/data \n",
    "-v /etc/localtime:/etc/localtime:ro -d owncloud"
   ]
  },
  {
   "cell_type": "markdown",
   "metadata": {},
   "source": [
    "__Arquivo Docker-Compose.yml:__"
   ]
  },
  {
   "cell_type": "code",
   "execution_count": null,
   "metadata": {},
   "outputs": [],
   "source": [
    "version: '3'\n",
    "\n",
    "services:\n",
    "  mysql:\n",
    "    build:./home/data\n",
    "    image:mysql:5.5\n",
    "    volumes:\n",
    "      -/home/data:/var/lib/mysql\n",
    "      -/etc/localtime:/etc/localtime:ro\n",
    "    environment:\n",
    "      -MYSQL_ROOT_PASSWORD=pass\n",
    "    ports:\n",
    "      networks:\n",
    "        -net-backend\n",
    "\n",
    "  owncloud:\n",
    "    build:./home/apps\n",
    "    image:owncloud\n",
    "    volumes:\n",
    "      -/home/data:/var/www/html/apps\n",
    "      -/home/config:/var/www/html/config\n",
    "      -/home/data:/var/www/html/data\n",
    "      -/etc/localtime:/etc/localtime:ro\n",
    "    ports:\n",
    "      -\"9090\"\n",
    "        networks:\n",
    "          -net-backend\n",
    "\n",
    "  networks:\n",
    "    backend\n",
    "\n",
    "  volumes:\n",
    "    /home/data\n",
    "    /etc/localtime\n",
    "    /home/config"
   ]
  }
 ],
 "metadata": {
  "kernelspec": {
   "display_name": "Python 3",
   "language": "python",
   "name": "python3"
  },
  "language_info": {
   "codemirror_mode": {
    "name": "ipython",
    "version": 3
   },
   "file_extension": ".py",
   "mimetype": "text/x-python",
   "name": "python",
   "nbconvert_exporter": "python",
   "pygments_lexer": "ipython3",
   "version": "3.7.4"
  },
  "latex_envs": {
   "LaTeX_envs_menu_present": true,
   "autoclose": true,
   "autocomplete": true,
   "bibliofile": "biblio.bib",
   "cite_by": "apalike",
   "current_citInitial": 1,
   "eqLabelWithNumbers": true,
   "eqNumInitial": 1,
   "hotkeys": {
    "equation": "Ctrl-E",
    "itemize": "Ctrl-I"
   },
   "labels_anchors": false,
   "latex_user_defs": false,
   "report_style_numbering": false,
   "user_envs_cfg": false
  },
  "toc": {
   "base_numbering": 1,
   "nav_menu": {},
   "number_sections": true,
   "sideBar": true,
   "skip_h1_title": false,
   "title_cell": "Table of Contents",
   "title_sidebar": "Contents",
   "toc_cell": false,
   "toc_position": {},
   "toc_section_display": true,
   "toc_window_display": true
  }
 },
 "nbformat": 4,
 "nbformat_minor": 2
}
