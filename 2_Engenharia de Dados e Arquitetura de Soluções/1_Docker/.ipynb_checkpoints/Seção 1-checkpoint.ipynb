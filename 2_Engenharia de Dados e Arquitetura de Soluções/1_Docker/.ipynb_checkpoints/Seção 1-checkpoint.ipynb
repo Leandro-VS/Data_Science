{
 "cells": [
  {
   "cell_type": "markdown",
   "metadata": {},
   "source": [
    "# Começar do Zero"
   ]
  },
  {
   "cell_type": "markdown",
   "metadata": {},
   "source": [
    "## Containers"
   ]
  },
  {
   "cell_type": "markdown",
   "metadata": {},
   "source": [
    "Uma definição simples poderia ser: \" _Isolamento de recursos_ \", ou seja uma aplicação que rode em um ambiente com determinadas caracteristicas, mantém suas caracteristicas independente do hardware em que é executado.\n",
    "\n",
    "__OBS:__ __Container não é uma Maquina Virtual(VM)__ , containers possuem mais camadas do que uma VM, além de possuir um desempenho mais eficiente. Porém um nao substitui o outro, na verdade eles se complementam.\n",
    "\n",
    "Logo, podemos definir container nao como uma VM, mas sim como uma __Virtualização baseada em Containers__, onde cada um provê:\n",
    "\n",
    "* Sistemas de Arquivos;\n",
    "* Processos;\n",
    "* Memória;\n",
    "* Rede."
   ]
  },
  {
   "cell_type": "markdown",
   "metadata": {},
   "source": [
    "Apartir desta denifição surgir um novo conceito baseado nela o chamado: __Containers as a Service (CAAS)__ \n"
   ]
  },
  {
   "cell_type": "markdown",
   "metadata": {},
   "source": []
  },
  {
   "cell_type": "markdown",
   "metadata": {},
   "source": []
  },
  {
   "cell_type": "markdown",
   "metadata": {},
   "source": []
  },
  {
   "cell_type": "markdown",
   "metadata": {},
   "source": []
  }
 ],
 "metadata": {
  "kernelspec": {
   "display_name": "Python 3",
   "language": "python",
   "name": "python3"
  },
  "language_info": {
   "codemirror_mode": {
    "name": "ipython",
    "version": 3
   },
   "file_extension": ".py",
   "mimetype": "text/x-python",
   "name": "python",
   "nbconvert_exporter": "python",
   "pygments_lexer": "ipython3",
   "version": "3.7.3"
  }
 },
 "nbformat": 4,
 "nbformat_minor": 4
}
