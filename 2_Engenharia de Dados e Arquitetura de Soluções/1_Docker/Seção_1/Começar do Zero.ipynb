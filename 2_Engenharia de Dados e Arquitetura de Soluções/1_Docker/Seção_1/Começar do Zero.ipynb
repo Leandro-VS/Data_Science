{
 "cells": [
  {
   "cell_type": "markdown",
   "metadata": {},
   "source": [
    "# Containers"
   ]
  },
  {
   "cell_type": "markdown",
   "metadata": {},
   "source": [
    "Uma definição simples poderia ser: \" _Isolamento de recursos_ \", ou seja uma aplicação que rode em um ambiente com determinadas caracteristicas, mantém suas caracteristicas independente do hardware em que é executado.\n",
    "\n",
    "__OBS:__ __Container não é uma Maquina Virtual(VM)__ , containers possuem mais camadas do que uma VM, além de possuir um desempenho mais eficiente. Porém um nao substitui o outro, na verdade eles se complementam.\n",
    "\n",
    "Logo, podemos definir container nao como uma VM, mas sim como uma __Virtualização baseada em Containers__, onde cada um provê:\n",
    "\n",
    "* Sistemas de Arquivos;\n",
    "* Processos;\n",
    "* Memória;\n",
    "* Rede."
   ]
  },
  {
   "cell_type": "markdown",
   "metadata": {},
   "source": [
    "Apartir desta denifição surgir um novo conceito baseado nela o chamado: __Containers as a Service (CAAS)__\n",
    "![](Caas.png)"
   ]
  },
  {
   "cell_type": "markdown",
   "metadata": {},
   "source": [
    "Desenvolveu-se uma estrutura de desenvolvimento de aplicação toda em volta do conceito de containers, passando por varias áreas e etapas do desenvolvimento."
   ]
  },
  {
   "cell_type": "markdown",
   "metadata": {},
   "source": [
    "# Por que usar?"
   ]
  },
  {
   "cell_type": "markdown",
   "metadata": {},
   "source": [
    "Principalmente comparando-se com VM, por que usar Containers??"
   ]
  },
  {
   "cell_type": "markdown",
   "metadata": {},
   "source": [
    "* __Velocidade:__ Não inicia-se um sistema inteiro, inicio muito mais rapido\n",
    "* __Portabilidade:__ Menos dependência entre camadas do processo de desenvolvimento, facilidade em mover para múltiplas arquiteturas\n",
    "* __Eficiência:__ Empacotamento de uma aplicação inteira em imagens; agilidade e padronização na entrega dos serviços\n",
    "* __Ambientes:__ Funciona no LocalHosto (Dev env) e em Produção"
   ]
  },
  {
   "cell_type": "markdown",
   "metadata": {},
   "source": [
    "___Containers para DEV:___"
   ]
  },
  {
   "cell_type": "markdown",
   "metadata": {},
   "source": [
    "* O desenvolvimento é feito apenas uma vez, a imagem  é gerada e então tal aplicação poderá ser executada em qualquer lugar!\n",
    "* Ambiente Limpo, seguro e previsível para aplicações.\n",
    "* Gestão e controle de dependências, bibliotecas e complementos da aplicação.\n",
    "* Automatização, teste e empacotamento automático.\n",
    "* Elimina esforços, minimiza problemas de compatibilidade com diferentes plataformas"
   ]
  },
  {
   "cell_type": "markdown",
   "metadata": {},
   "source": [
    "___Containers para Operações:___"
   ]
  },
  {
   "cell_type": "markdown",
   "metadata": {},
   "source": [
    "* Configura o ambiente apenas uma vez, e poderá executar qualquer coisa\n",
    "* Integração contínua, ou seja, elimina as inconsistências entre os ambientes de desenvolvimento, teste, produção e cliente\n",
    "* Gestão e Controle, todo o ciclo de vida mais eficiente, consistente e repetível\n",
    "* Consistência, mais velocidade e confiabilidade dos sistemas entregues"
   ]
  },
  {
   "cell_type": "markdown",
   "metadata": {},
   "source": [
    "# Fundamentos"
   ]
  },
  {
   "cell_type": "markdown",
   "metadata": {},
   "source": [
    "## Arquitetura Docker"
   ]
  },
  {
   "cell_type": "markdown",
   "metadata": {},
   "source": [
    "### Docker Engine"
   ]
  },
  {
   "cell_type": "markdown",
   "metadata": {},
   "source": [
    "Toda a estrutura de comunicação e gerenciamento do docker está na sua engine através do _docker daemon_ . <br>\n",
    "É possível instalar o docker em diveros ambientes:\n",
    "* Desktop: MacOS, Windows 10, Lunux\n",
    "* Server: Distros, Linux e Windows Server 2016\n",
    "* CLOUD: AWS, Service Google Compute Plataform, Azure, IBM Cloud, etc..\n",
    "\n",
    "![](engine.png)"
   ]
  },
  {
   "cell_type": "markdown",
   "metadata": {},
   "source": [
    "### Docker Client"
   ]
  },
  {
   "cell_type": "markdown",
   "metadata": {},
   "source": [
    "O cliente recebe as entradas do usuário e as envia para  a Engine, como por exemplo:\n",
    "\n",
    "* docker build\n",
    "* docker pull\n",
    "* docker run\n",
    "\n",
    "Client e Engine podem ser executados em hosts iguais ou diferentes\n",
    "\n",
    "![](client.png)"
   ]
  },
  {
   "cell_type": "markdown",
   "metadata": {},
   "source": [
    "### Docker Objects"
   ]
  },
  {
   "cell_type": "markdown",
   "metadata": {},
   "source": [
    "* __Imagens (\"produção\")__\n",
    "    * Template(estatico, ready-only) usado para criar containers - _core central_ ;\n",
    "    * Construído pela comunidade, por mantenedores ou por você;\n",
    "    * Armazenamento  num Docker 'Registry' público ou local.\n",
    "    \n",
    "    \n",
    "* __Containers (\"consumo\")__\n",
    "    * Isolamento da aplicação e de recursos;\n",
    "    * Efêmeros, ou seja, após a sua execução e cumprida a tarefa a ele designada ele para, logo os dados serão perdidos (dados volateis);\n",
    "    * Contém o necessário para executar a aplicação;\n",
    "    * Baseado nas imagens.\n",
    "    \n",
    "    \n",
    "* __Networking__\n",
    "    * Capacidade dos containers comunicarem-se entre si;\n",
    "    * Abstração da complexidade de rede através de plugins drivers;\n",
    "    * User-defined networks: bridge, overlay e macvlan <-- Plugins q abstraem a complexidade da rede\n",
    "\n",
    "\n",
    "* __Storage__\n",
    "    * Persistência de dados;\n",
    "    * Storage drivers: docker volume, bind mount e tmpfs mounts (Linux) "
   ]
  },
  {
   "cell_type": "markdown",
   "metadata": {},
   "source": [
    "### Docker Registry"
   ]
  },
  {
   "cell_type": "markdown",
   "metadata": {},
   "source": [
    "* __Repositório__\n",
    "    * Serviço que gerencia o armazenamento das IMAGES;\n",
    "    * Pode ser _Público:_\n",
    "        * Docker Hub, Docker Cloud, Quay.io e Google Container Registry\n",
    "    * Pode ser _Privado:_\n",
    "        * Repositório local"
   ]
  },
  {
   "cell_type": "markdown",
   "metadata": {},
   "source": [
    "### Resumindo"
   ]
  },
  {
   "cell_type": "markdown",
   "metadata": {},
   "source": [
    "![](resume.png)"
   ]
  },
  {
   "cell_type": "markdown",
   "metadata": {},
   "source": [
    "* Apartir do momento que o cliente tem o Docker instalado ele tem passa a ter o controle da CLI, através das APIs remotas, por onde ele passará os comandos: _docker run, docker build, etc..._ \n",
    "* Poderá fazer as buils, runs e execução, tudo invocando o daemon.\n",
    "    * Onde passará a ter controle dos containers e das imagens salvas localmente\n",
    "    * Caso nao encontre a imagem, ela pode ser baixada do _HUB_ e transformada em container e assim a aplicação é disponibilizada"
   ]
  },
  {
   "cell_type": "markdown",
   "metadata": {},
   "source": [
    "### Principais comandos"
   ]
  },
  {
   "cell_type": "markdown",
   "metadata": {},
   "source": [
    "* __BUILD:__ \n",
    "    * _docker build -t meurepo/minhaimagem Dockerfile_\n",
    "    * _docker push meurepo/minhaimagem_\n",
    "    \n",
    "* __PULL:__\n",
    "    * _docker pull meurepo/minhaimagem_\n",
    "\n",
    "* __RUN:__\n",
    "    * _docker run --name meunome meurepo/minhaimagem_"
   ]
  },
  {
   "cell_type": "code",
   "execution_count": null,
   "metadata": {},
   "outputs": [],
   "source": []
  },
  {
   "cell_type": "code",
   "execution_count": null,
   "metadata": {},
   "outputs": [],
   "source": []
  },
  {
   "cell_type": "code",
   "execution_count": null,
   "metadata": {},
   "outputs": [],
   "source": []
  }
 ],
 "metadata": {
  "kernelspec": {
   "display_name": "Python 3",
   "language": "python",
   "name": "python3"
  },
  "language_info": {
   "codemirror_mode": {
    "name": "ipython",
    "version": 3
   },
   "file_extension": ".py",
   "mimetype": "text/x-python",
   "name": "python",
   "nbconvert_exporter": "python",
   "pygments_lexer": "ipython3",
   "version": "3.7.4"
  },
  "latex_envs": {
   "LaTeX_envs_menu_present": true,
   "autoclose": true,
   "autocomplete": true,
   "bibliofile": "biblio.bib",
   "cite_by": "apalike",
   "current_citInitial": 1,
   "eqLabelWithNumbers": true,
   "eqNumInitial": 1,
   "hotkeys": {
    "equation": "Ctrl-E",
    "itemize": "Ctrl-I"
   },
   "labels_anchors": false,
   "latex_user_defs": false,
   "report_style_numbering": false,
   "user_envs_cfg": false
  },
  "toc": {
   "base_numbering": 1,
   "nav_menu": {},
   "number_sections": true,
   "sideBar": true,
   "skip_h1_title": false,
   "title_cell": "Table of Contents",
   "title_sidebar": "Contents",
   "toc_cell": false,
   "toc_position": {},
   "toc_section_display": true,
   "toc_window_display": false
  }
 },
 "nbformat": 4,
 "nbformat_minor": 4
}
