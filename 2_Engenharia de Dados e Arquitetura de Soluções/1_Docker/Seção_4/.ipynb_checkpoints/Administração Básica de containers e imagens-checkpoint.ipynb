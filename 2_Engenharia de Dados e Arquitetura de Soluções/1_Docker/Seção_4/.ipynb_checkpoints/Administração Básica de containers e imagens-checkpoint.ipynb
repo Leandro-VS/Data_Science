{
 "cells": [
  {
   "cell_type": "markdown",
   "metadata": {},
   "source": [
    "# Docker Lifecycle"
   ]
  },
  {
   "cell_type": "markdown",
   "metadata": {},
   "source": [
    "## Controle de estado"
   ]
  },
  {
   "cell_type": "markdown",
   "metadata": {},
   "source": [
    "![](estado_docker.png)"
   ]
  },
  {
   "cell_type": "markdown",
   "metadata": {},
   "source": [
    "* BUILD: Cria uma imagem docker apartir de um DOCKERFILE\n",
    "* PUSH: Envia uma imagem para o REGISTRY(DOCKERHUB)\n",
    "* PULL: Faz o download de uma imagem do DOCKERHUB\n",
    "* SEARCH: Busca por images e informações no DOCEKRHUB, o mesmo pode ser feito no site do dockerhub\n",
    "* IMAGES: Consulta das imagens salvas no disco\n",
    "* RUN: Cria um container apartir de uma imagem (Seu estado passa a ser de execução)\n",
    "    * Outros estados possíveis:\n",
    "        * FREEZE: Pause/Unpause\n",
    "        * PARADO: Stop/Start\n",
    "        * Também é possivel fazer o RESTART do container\n",
    "        \n",
    "        \n",
    "* PS: Lista os containers\n",
    "* RM: Remove um container\n",
    "    * _Container só pode ser removido se __pararmos__ o estado dele antes_\n",
    "    * __docker container prune__ : remove todos os container do disco com estado _parado_\n",
    "    \n",
    "    \n",
    "* LOGS E INSPECT: Obtem informações sobre o containers e/ou imagens\n",
    "* EXEC: Executa comandos em  containers que estão em estado de execução\n",
    "    * Uma forma de interação com o container: __docker exec -it IMAGE__\n",
    "    * Uma forma de transferir arquivos do container para o localhost pode ser com o _exec_ utilizar comandos do linux como __cp__. (Mais adiante estudaremos STORAGE que é a forma mais usual de fazer essas transferencias)\n",
    "    \n",
    "    \n",
    "* ATTACH: Interage com o container que esta rodando em background\n",
    "    * Para terminar essa interação utiliza o __exit__, porem este comando termina a execução do container, não apenas a interação.\n",
    "    * Para sair do modo interação sem \" _matar_ \" o container utiliza-se \" Ctrl+p+q \"\n",
    "    * Uma outra maneira de sai de uma interação sem matar o container é fazendo a interação com o _exec_ pois ao terminar a interação com o _exit_ , neste modo, o container ainda esta com estado de execução\n",
    "    \n",
    "    \n",
    "* RMI: Remove imagem\n",
    "    * __docker image prune -a__ : remove todas as imagens do disco que não estejam atreladas a nenhum container\n",
    "    \n",
    "    \n",
    "* COMMIT: Cria uma imagem apartir de um container\n",
    "* SAVE/LOAD: Backup de uma imagem (.tar)\n",
    "* EXPORT/IMPORT: Backup do container (.tar)\n",
    "    * Os containers _importados_ são tratados como imagens, então após o import o container aparecerá em __docker images__\n",
    "    * Para executar essa imagem e torna-la um container fazemos da maneira usual, porém por ser uma imagem importada ela não contém com comandos _default_ de execução que as imagens baixadas do storage possuem, então devemos explicitar a finalidade daquela imagem: __docker run -it --name IMAGE_IMPORTADA (finalidade)__"
   ]
  },
  {
   "cell_type": "markdown",
   "metadata": {},
   "source": [
    "## Administrar um container apartir do navegador"
   ]
  },
  {
   "cell_type": "markdown",
   "metadata": {},
   "source": [
    "A docker disponibiliza um painel dashboard com insterface gráfica para a administração dos containers, porem este recurso só esta disponível na versão __Enterprise__ <br>\n",
    "Para a versão __community__ temos um recurso similar opersource, feito pela propria comunidade: https://www.portainer.io"
   ]
  },
  {
   "cell_type": "markdown",
   "metadata": {},
   "source": [
    "# Exercicio"
   ]
  },
  {
   "cell_type": "markdown",
   "metadata": {},
   "source": [
    "__Dado um cenário onde há uma informação desejada dentro de um container, temos: ___"
   ]
  },
  {
   "cell_type": "markdown",
   "metadata": {},
   "source": [
    "## Importar o container e executa-lo em segundo plano"
   ]
  },
  {
   "cell_type": "markdown",
   "metadata": {},
   "source": [
    "Dado que o download do container compactado (.tar.gz) ja foi baixado temos: <br>\n",
    "\n",
    "__zcat /home/leandro/CONTAINER.tar.gz | docker import - novo_container bash__ \n",
    "\n",
    "<br>\n",
    "Será gerado uma imagem apartir desse container. Para executa-lá:\n",
    "\n",
    "__docker run -itd --name Container01 novo_container bash__ "
   ]
  },
  {
   "cell_type": "markdown",
   "metadata": {},
   "source": [
    "## Copie o arquivo do container (/tmp/orientacoes.txt) para seu computador"
   ]
  },
  {
   "cell_type": "markdown",
   "metadata": {},
   "source": [
    "__docker cp Container01:/tmp/orientacoes.txt .__\n",
    "\n",
    "Para fazer a leitura do arquivo:\n",
    "\n",
    "__cat orientacoes.txt__\n",
    "\n",
    "* 1 - Iniciar 2 containers, com nomes cont_1, cont_2 e options \"-itd\", de imagem alpine e debian, respectivamente;\n",
    "* 2 - Verificar as estatasticas de consumo dos containers iniciados, anterioremente;\n",
    "* 3 - Inspecione o container de imagem alpine;\n",
    "* 4 - Pare e remova os 2 containers criados, anteriormente;"
   ]
  },
  {
   "cell_type": "markdown",
   "metadata": {},
   "source": [
    "## Dada orientações contidas no arquivo, mostre quais foram os comandos usados para executá-las?"
   ]
  },
  {
   "cell_type": "markdown",
   "metadata": {},
   "source": [
    "docker run -itd --name cont_1 alpine \n",
    "\n",
    "docker run -itd --name cont_2 debian\n",
    "\n",
    "docker stats\n",
    "\n",
    "docker spect cont_1\n",
    "\n",
    "docker stop cont_1\n",
    "\n",
    "docker stop cont_2"
   ]
  },
  {
   "cell_type": "markdown",
   "metadata": {},
   "source": [
    "## Qual comando e sintaxe completa para ler o conteúdo do arquivo contido no container sem precisar copiá-lo para seu computador e solicitar interação com o container?"
   ]
  },
  {
   "cell_type": "markdown",
   "metadata": {},
   "source": [
    "docker exec Container01 cat /tmp/orientacoes.txt"
   ]
  }
 ],
 "metadata": {
  "kernelspec": {
   "display_name": "Python 3",
   "language": "python",
   "name": "python3"
  },
  "language_info": {
   "codemirror_mode": {
    "name": "ipython",
    "version": 3
   },
   "file_extension": ".py",
   "mimetype": "text/x-python",
   "name": "python",
   "nbconvert_exporter": "python",
   "pygments_lexer": "ipython3",
   "version": "3.7.4"
  },
  "latex_envs": {
   "LaTeX_envs_menu_present": true,
   "autoclose": true,
   "autocomplete": true,
   "bibliofile": "biblio.bib",
   "cite_by": "apalike",
   "current_citInitial": 1,
   "eqLabelWithNumbers": true,
   "eqNumInitial": 1,
   "hotkeys": {
    "equation": "Ctrl-E",
    "itemize": "Ctrl-I"
   },
   "labels_anchors": false,
   "latex_user_defs": false,
   "report_style_numbering": false,
   "user_envs_cfg": false
  },
  "toc": {
   "base_numbering": 1,
   "nav_menu": {},
   "number_sections": true,
   "sideBar": true,
   "skip_h1_title": false,
   "title_cell": "Table of Contents",
   "title_sidebar": "Contents",
   "toc_cell": false,
   "toc_position": {},
   "toc_section_display": true,
   "toc_window_display": false
  }
 },
 "nbformat": 4,
 "nbformat_minor": 2
}
