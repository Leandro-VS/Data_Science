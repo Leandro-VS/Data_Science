{
 "cells": [
  {
   "cell_type": "markdown",
   "metadata": {},
   "source": [
    "# Casos de uso"
   ]
  },
  {
   "cell_type": "markdown",
   "metadata": {},
   "source": [
    "## Sistema de banco de dados"
   ]
  },
  {
   "cell_type": "markdown",
   "metadata": {},
   "source": [
    "![](sist_db.png)"
   ]
  },
  {
   "cell_type": "markdown",
   "metadata": {},
   "source": [
    "A implementação de um sistema com bando mysql, utilizando docker, torna a entrega mais ágil pois automatiza as tarefas repetitivas de instalação e configuração do MYSQL, porem é indispensável que se conheça esses processos, até por que eles deveram ser executados para a criação do container. ___Docker não serve para abstrair algumas complexidades das aplicações mas sim para torna-las mais ágil uma vez que tais complexidades são compreendidas___"
   ]
  },
  {
   "cell_type": "markdown",
   "metadata": {},
   "source": [
    "A ideía central do sistema proposto consiste em instalar um banco __MySQL__ e um __Cliente(PHP My ADMI)__ para manipula-lo. O container contendo o Mysql fará conexão apenas com o container do cliente, não ficará exposto ao \"mundo externo\", sendo assim apenas através do container do cliente -que é a aplicação- será possível acessar e manipular as bases de dados do Mysql"
   ]
  },
  {
   "cell_type": "markdown",
   "metadata": {},
   "source": [
    "__OBS:__ Nesta atividade iremos fazer uma modificação na imagem oficial - aumentar o tamanho da pasta que persisti os dados - porem não será necessário fazer o __commit__ das imagens, pois através do mapeamento de um volume criado (contendo o arquivo de configuração) para o diretório de persistencia dos dados da imagem, as alterações ja serão aplicadas."
   ]
  },
  {
   "cell_type": "markdown",
   "metadata": {},
   "source": [
    "### Comandos"
   ]
  },
  {
   "cell_type": "markdown",
   "metadata": {},
   "source": [
    "* Criação de uma rede\n",
    "* Criação do container Mysql, com todos os parametros necessários\n",
    "    * __--name__\n",
    "    * Um parametro novo utilizado é o __--restart=always__ que define que o container seja reiniciado sempre que o docker foi iniciado\n",
    "    * __--network__\n",
    "    * Agora os mapeamentos dos volumes\n",
    "    * __-e__ - variaveis de ambientes\n",
    "    * __-d__ - run in background\n",
    "    * Imagem utilizada - __mysql:5.5__\n",
    "    \n",
    "    \n",
    "* Criação do container __phpMyAdmin__\n",
    "    * Ele se conectará ao container mysql\n",
    "    * __-p__ - Neste estabelecemos uma porta do container com o mundo externo, e assim atraves deste container o mundo externo tem acesso ao mysql\n",
    "    * __-e PMA_HOST=__ - Esta variável de ambiente do PHPMyAdmin é responsável por definir com qual container ele fará a conexão.\n",
    "        * Esta variável de ambiente assim como sua utilização esta contida na documentação da imagem\n",
    "        * A conexão entre os containers pode ser estabelecida informando apenas o nome do contaienr \" _alvo_ \", pois foi definido que os dois estão na mesma network\n",
    "        \n",
    "        \n",
    "* Teste da aplicação\n",
    "    * __dump__ - backup de todos os bancos em um arquivo sql\n",
    "        * Isto será feito com o __docker exec...__"
   ]
  },
  {
   "cell_type": "markdown",
   "metadata": {},
   "source": [
    "__OBS:__ Na documentação oficial da imagem há as informações sobre quais diretórios precisam ser mapeados"
   ]
  },
  {
   "cell_type": "markdown",
   "metadata": {},
   "source": [
    "* Criando a rede:\n",
    "    * __docker network create net-backend__\n",
    "    \n",
    "    \n",
    "* Criando o container mysql dentro de um diretório, previamente preparado, que será utilizado como volume (as subspastas especificas a seguir, senão existirem serão criadas)\n",
    "    * __docker run --name mysql --restart=always --network=net-backend <br>\n",
    "        -v /home/leandro/curso_dockerdozero_repo/mysql/conf:/etc/mysql/conf.d <br> \n",
    "        -v /home/leandro/curso_dockerdozero_repo/mysql/:/var/lib/mysql/ <br>\n",
    "        -v /etc/localtime:/etc/localtime:ro <br>\n",
    "        -e MYSQL_ROOT_PASSWORD=pass -d mysql:5.5__\n",
    "\n",
    "\n",
    "* Criando o container do cliente, o phpAdymin\n",
    "    * __docker run --name myadmin --restart=always --network=net-backend -d <br>\n",
    "        -e PMA_HOST=mysql <br>\n",
    "        -v /etc/localtime:/etc/localtime:ro <br> \n",
    "        -p 8010:80 phpmyadmin/phpmyadmin:4.7.0-1__\n",
    "        \n",
    "        \n",
    "__Isto ja deixa nossa aplicação em execução, como ppode ser verificado no browser: http://localhost:8010__\n",
    "\n",
    "\n",
    "* Para consultar o banco na linha de comando, precisamos acessa-lo\n",
    "    * __docker exec -it mysql bash__\n",
    "    * Com acesso ao banco de dados podemos fazer as consultas em sql\n",
    "    \n",
    "    \n",
    "* Como os volumes foram mapeados temos diversas vantagens, dentre elas:\n",
    "    * Os dados são agr persistentes, se o container for excluido para ser executado em outra maquina por exemplo, os dados anteriores a exclusão serão mantidos, pois o diretório dos arquivos da aplicação estão mapeados ao diretório persistente da imagem\n",
    "    * As alterações podem ser feitas localmente e apenas reiniciando o container (stop/start) elas ja surtiram efeito"
   ]
  },
  {
   "cell_type": "markdown",
   "metadata": {},
   "source": [
    "## Portal CMS completo usando o Wordpress"
   ]
  },
  {
   "cell_type": "markdown",
   "metadata": {},
   "source": [
    "![](cms.png)"
   ]
  },
  {
   "cell_type": "markdown",
   "metadata": {},
   "source": [
    "__Utilizaremos a estrutura anterior, que trata-se da base de dados montada e o cliente para ela, para podermos fazer um gerenciador de conteúdo, precisaremos agora de um container para isso e será utilizado uma imagem do wordpress, para fazer a entrega do CMS completo__"
   ]
  },
  {
   "cell_type": "markdown",
   "metadata": {},
   "source": [
    "Portanto será necessário apenas subir o container wordpress, lembrando de consultar a documentação oficial da imagem para verificar a configuração correta para o docker run, para as pastas as serem mapeadas, etc..."
   ]
  },
  {
   "cell_type": "markdown",
   "metadata": {},
   "source": [
    "* Container wordpress:\n",
    "    * __docker run --name wordpress --restart=always --network=net-backend \n",
    "        -e WORDPRESS_DB_HOST=mysql -e WORDPRESS_DB_USER=root -e WORDPRESS_DB_PASSWORD=pass <br>\n",
    "        -v /home/leandro/curso_dockerdozero_repo/wordpress/:/var/www/html/ <br>\n",
    "        -v    /home/leandro/curso_dockerdozero_repo/wordpress/conf.d/uploads.ini:/usr/local/etc/php/config.d/uploads.ini <br>\n",
    "        -v /etc/localtime:/etc/localtime:ro -d -p 8011:80 wordpress:4.7-php5.6__\n"
   ]
  },
  {
   "cell_type": "markdown",
   "metadata": {},
   "source": [
    "Portanto temos uma aplicação completa, com _banco de dados(mysql), cliente para o banco de dados(phpmyadmin) e uma forma de disponibilizar essa aplicação (wordpress)_ e tudo isso utilizando docker, com um 3 container, um para cada serviço utilizado, todos conectados a uma mesma rede para que possa haver conexão entre eles, e com os seus dados persistidos para que a aplicação possa ser disponilizada em qualquer ambiente!"
   ]
  },
  {
   "cell_type": "markdown",
   "metadata": {},
   "source": [
    "## Repositório de arquivos Online"
   ]
  },
  {
   "cell_type": "markdown",
   "metadata": {},
   "source": [
    "![](repo_online.png)"
   ]
  },
  {
   "cell_type": "markdown",
   "metadata": {},
   "source": [
    "__Owncloud é basicamente um dropbox porem opensource__"
   ]
  },
  {
   "cell_type": "markdown",
   "metadata": {},
   "source": [
    "Pela caracteristica desse serviço obviamente é importante que varias informações sejam preservadas, por isso o mapeamento dos volumes para o diretório persistente da imagem. __Frisando__ que os diretórios a serem mapeados, assim como o motivos pelos quais devem ser, são encontrados na documentação oficial da imagem!!!!"
   ]
  },
  {
   "cell_type": "markdown",
   "metadata": {},
   "source": [
    "* Container owncloud:\n",
    "    * __docker run --name owncloud --restart=always --network=net-backend -p 9090:80 <br> \n",
    "        -v /home/leandro/curso_dockerdozero_repo/owncloud/apps:/var/www/html/apps <br>\n",
    "        -v /home/leandro/curso_dockerdozero_repo/owncloud/config:/var/www/html/config <br> \n",
    "        -v /home/leandro/curso_dockerdozero_repo/owncloud/data:/var/www/html/data <br>\n",
    "        -v /etc/localtime:/etc/localtime:ro <br>\n",
    "        -d owncloud__\n"
   ]
  },
  {
   "cell_type": "markdown",
   "metadata": {},
   "source": [
    "# Utilidades"
   ]
  },
  {
   "cell_type": "markdown",
   "metadata": {},
   "source": [
    "## FFMPEG"
   ]
  },
  {
   "cell_type": "markdown",
   "metadata": {},
   "source": [
    "FFmpeg é um excelente framework, de código aberto, completo que lida com arquivos de áudio e vídeo. Em outras palavras, é possível converter um formato multimídia para outro, extrair áudio de um vídeo, compactar um vídeo e até mesmo extrair imagens de um vídeo; e diversas outras coisas… É escrito, principalmente, na linguagem de programação C; juntamente com diversas bibliotecas livres. \n",
    "\n",
    "Para mais: https://www.linuxdescomplicado.com.br/2016/12/guia-pratico-com-exemplos-de-conversao-de-audio-e-video-usando-o-ffmpeg.html\n",
    "\n",
    "\n",
    "__OBS:__ Não encontrei nunhuma documentação atualizada desta imagem no docker hub"
   ]
  },
  {
   "cell_type": "markdown",
   "metadata": {},
   "source": [
    "* A utilização dessa imagem de converção é muito simples e consiste de um único comando, tendo como saída o video convertido para o formato .webm. Estando no diretório onde o video.mp4 se encontra ou então mapeando a pasta dele com a do ffmpeg, temos então:\n",
    "    * __sudo docker run -v /home/leandro/curso_dockerdozero_repo/ffmpeg:/tmp/ffmpeg opencoconut/ffmpeg -i local.mp4 saida.webm__\n",
    "        * __-v__ - mapea o diretório /home/leandro/curso_dockerdozero_repo/ffmpeg, com o diretório do container /tmp/ffmpeg. Este diretório foi usado porque consta na documentação oficial da imagem. Estou mapeando o conteúdo da minha pasta home/... com essa pasta /tmp. Assim, o vídeo \"local.mp4\" está na minha /home/leandro/curso_dockerdozero_repo/ffmpeg que passa a também ficar na pasta /tmp/ffmpeg dentro do container :)\n",
    "        * __-i__ - significa a inserção do arquivo de entrada. É um parâmetro do próprio ffmpeg e não do docker. Em qualquer tutorial de uso do ffmpeg você verá esse parâmetro '-i' sendo usado. Assim, ele recebe o arquivo mp4 de origem e o nome/formato do arquivo de destino que será gerado na /home/... do usuário (pwd)."
   ]
  },
  {
   "cell_type": "markdown",
   "metadata": {},
   "source": [
    "## KaliBrowser"
   ]
  },
  {
   "cell_type": "markdown",
   "metadata": {},
   "source": [
    "Kali Linux é uma distribuição Linux especializada em Testes de Intrusão e Auditoria de Segurança. Mantida pela Offensive Security. Antigamente conhecida como BackTrack, o Kali, que é baseada no Debian, contém mais de 300 ferramentas de testes de intrusão; também possui suporte a ataques a redes WIFI; suporte a ARM; entre outros.\n",
    "\n",
    "Com o uso difundido do Docker e a procura muito grande por ferramentas do Kali Linux, um especialista de segurança criou uma imagem Docker que permite executar o Linux Kali diretamente pelo web browser. Para mais informações: https://www.profissionaisti.com.br/2019/06/como-executar-o-kali-linux-diretamente-no-web-browser/\n",
    "\n",
    "\n",
    "O uso é simples basta executar o comando __docker run__ usando a imagem __jgamblin/kalibrowser__"
   ]
  },
  {
   "cell_type": "markdown",
   "metadata": {},
   "source": [
    "__sudo docker run -d -p 6080:6080 jgamblin/kalibrowser__"
   ]
  },
  {
   "cell_type": "markdown",
   "metadata": {},
   "source": [
    "E simples assim teremos no browser (port:6080) a aplicação que faz testes de Instrusão e Auditoria, apenas com um simples container utilizando a imagem"
   ]
  }
 ],
 "metadata": {
  "kernelspec": {
   "display_name": "Python 3",
   "language": "python",
   "name": "python3"
  },
  "language_info": {
   "codemirror_mode": {
    "name": "ipython",
    "version": 3
   },
   "file_extension": ".py",
   "mimetype": "text/x-python",
   "name": "python",
   "nbconvert_exporter": "python",
   "pygments_lexer": "ipython3",
   "version": "3.7.4"
  },
  "latex_envs": {
   "LaTeX_envs_menu_present": true,
   "autoclose": true,
   "autocomplete": true,
   "bibliofile": "biblio.bib",
   "cite_by": "apalike",
   "current_citInitial": 1,
   "eqLabelWithNumbers": true,
   "eqNumInitial": 1,
   "hotkeys": {
    "equation": "Ctrl-E",
    "itemize": "Ctrl-I"
   },
   "labels_anchors": false,
   "latex_user_defs": false,
   "report_style_numbering": false,
   "user_envs_cfg": false
  },
  "toc": {
   "base_numbering": 1,
   "nav_menu": {},
   "number_sections": true,
   "sideBar": true,
   "skip_h1_title": false,
   "title_cell": "Table of Contents",
   "title_sidebar": "Contents",
   "toc_cell": false,
   "toc_position": {},
   "toc_section_display": true,
   "toc_window_display": false
  }
 },
 "nbformat": 4,
 "nbformat_minor": 2
}
