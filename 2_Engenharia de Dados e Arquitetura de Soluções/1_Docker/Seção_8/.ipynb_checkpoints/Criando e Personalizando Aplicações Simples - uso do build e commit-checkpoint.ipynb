{
 "cells": [
  {
   "cell_type": "markdown",
   "metadata": {},
   "source": [
    "# Criar imagens apartir de um container"
   ]
  },
  {
   "cell_type": "markdown",
   "metadata": {},
   "source": [
    "## Docker Commit"
   ]
  },
  {
   "cell_type": "markdown",
   "metadata": {},
   "source": [
    "__Recomendado apenas para ambientes de testes__"
   ]
  },
  {
   "cell_type": "markdown",
   "metadata": {},
   "source": [
    "* Processo simplificado\n",
    "* Consolida mudanças - container numa imagem\n",
    "    * E por isso torna-se __resistente__ a mudanças já realizadas"
   ]
  },
  {
   "cell_type": "markdown",
   "metadata": {},
   "source": [
    "* O Processo se da da seguinte forma:\n",
    "    * Iniciar um container temporário\n",
    "    * Realizar as mudanças\n",
    "    * Consolidar a mudança ( _docker commit_ )\n",
    "    * Novos containers apartir da imagem"
   ]
  },
  {
   "cell_type": "markdown",
   "metadata": {},
   "source": [
    "__Sintaxe do comando:__\n",
    "\n",
    "* __docker commit OPTIONS CONTAINER REPO__\n",
    "    * __OPTIONS:__ --change, -c -> Aplica instruções DockerFile\n",
    "    * adotar formato: __nomerepo/nomeimagem:versão__ --> _Boas práticas_"
   ]
  },
  {
   "cell_type": "markdown",
   "metadata": {},
   "source": [
    "### Exemplo"
   ]
  },
  {
   "cell_type": "markdown",
   "metadata": {},
   "source": [
    "* Criar um container temporario:\n",
    "    * __docker run -it ubuntu__ (isso inicializará o bash o ubuntu pelo container)\n",
    "    \n",
    "    \n",
    "* Dentro do container fazer alterações nele\n",
    "    * Como por exemplo: __apt-get update && apt-get install figlet__\n",
    "\n",
    "\n",
    "* Consolidar as mudanças (Commit)\n",
    "    * __docker commit < ImageID > minhaimagem__ (Usando um apelido no final)\n",
    "    \n",
    "    \n",
    "* Criar um container apartir da imagem criada\n",
    "    * __docker run -it minhaimagem__\n",
    "    \n",
    "    \n",
    "__OBS:__ É possível nomear/renomear a imagem após a criação dela com __docker tag < ImageID > NOVO_NOME__"
   ]
  },
  {
   "cell_type": "markdown",
   "metadata": {},
   "source": [
    "## Docker Build"
   ]
  },
  {
   "cell_type": "markdown",
   "metadata": {},
   "source": [
    "__Altamente recomendável para ambientes de produção__"
   ]
  },
  {
   "cell_type": "markdown",
   "metadata": {},
   "source": [
    "* Automatiza o processo de criação de imagens\n",
    "* Processo maduro (ambiente de produção)\n",
    "* Controle de Desenvolvimento - _instructions_\n",
    "* Gestão de Mudanças\n",
    "* DockerFile - Mudanças num arquivo de texto\n",
    "    * Automatiza processo de crianção de imagens "
   ]
  },
  {
   "cell_type": "markdown",
   "metadata": {},
   "source": [
    "__Etapas:__\n",
    "\n",
    "* Criar o arquivo DockerFile\n",
    "* Processo de Build\n",
    "* Containers podem ser criados usando a imagem"
   ]
  },
  {
   "cell_type": "markdown",
   "metadata": {},
   "source": [
    "__Processo de Build:__\n",
    "\n",
    "* Validação de sintaxe\n",
    "* _Build context_ - Considera o diretório em que o arquivo Dockerfile esta como um diretório de contexto\n",
    "    * Isso é importante pois toda vez que aumentamos o espaço do diretório em que o arquivo Dockerfile esta, é feito uma busca por todo o diretório, recursivamente, por arquivos que poderão fazer parte da futura imagem, aumentando o contexto de execução dele, causando maior eficiencia.\n",
    "\n",
    "* 1 Instrução -> 1 camada intermediaria no processo (Recomendado tentar reduzir a qtd de instruções)\n",
    "* __cache Commits__ dos comandos RUN\n",
    "    * É possível ignorar isso com __--no-cache=true__\n",
    "* Cache de outras imagens geradas localmente\n",
    "    * Incluir a opção __--cache-from repo/imagem:tag__"
   ]
  },
  {
   "cell_type": "markdown",
   "metadata": {},
   "source": [
    "### Exemplo"
   ]
  },
  {
   "cell_type": "markdown",
   "metadata": {},
   "source": [
    "Primeiro é importante criar um diretório para armazenar a dockerfile, é útil e faz parte das boas práticas\n",
    "\n",
    "* Criar o Dockerfile\n",
    "    * Em qualquer editor de texto pode ser feito, existem dezenas de Options que podem ser usadas e sempre após as options temos um shell script, como exemplo:\n",
    "        * FROM debian\n",
    "        * RUN apt-get update\n",
    "        * RUN apt-get install apache2 -y\n",
    "            * Com o __-y__ estamos forçando a instalação para que não seja necessário o usuario aperta \"yes\" durante a instalação\n",
    "        \n",
    "        \n",
    "* Processo de build\n",
    "    * __docker build -t NOMEDAIMAGEM/VERSÃO:0.0__\n",
    "        * __-t__ é a options de _tag_ para nomear a imagem que sera criada\n",
    "        \n",
    "        \n",
    "* Criação de um container usando a imagem criada\n",
    "    * __docker run -id --name web2 -p 8082:80 dockerdozero/web2:2.0 /usr/sbin/apache2ctl -D FOREGROUND__\n",
    "        * como não temos nenhum comando padrão passado no dockerfile teremos que inserir um _command arq_ : \n",
    "            * __/usr/sbin/apache2ctl -D FOREGROUND__"
   ]
  },
  {
   "cell_type": "markdown",
   "metadata": {},
   "source": [
    "__OBS:__ Caso seja necessario fazer alguma mudança na imagem, como por exemplo trocar a imagem que será usada (ubuntu -> debian). Neste caso apenas editamos o arquivo Dockerfile e refazemos o build"
   ]
  },
  {
   "cell_type": "markdown",
   "metadata": {},
   "source": [
    "## Dockerfile REFERENCE"
   ]
  },
  {
   "cell_type": "markdown",
   "metadata": {},
   "source": [
    "![](dockerfile.png)"
   ]
  },
  {
   "cell_type": "markdown",
   "metadata": {},
   "source": [
    "__Instruções:__"
   ]
  },
  {
   "cell_type": "markdown",
   "metadata": {},
   "source": [
    "* __FROM__\n",
    "    * Imagem:Versão\n",
    "* __RUN__\n",
    "    * executa qualquer comando na imagem passada (FROM) e confirma (COMMIT) resultados\n",
    "    * Sintaxe:\n",
    "        * Run < comando > (shell form - mais comum) (/bin/sh -c [LINUX] e cmd /S/C [WINDOWS])\n",
    "            * __RUN apt-get install ...__\n",
    "        * Ou\n",
    "        * RUN [executable, param1, param2] (exec form)\n",
    "            * __RUN [\"apt-get\",\"install\", \"apache2\", \"-y\" ]__\n",
    "            \n",
    "     * Cria uma layer PERSISTENTE -> aumenta o tamanho final da imagem"
   ]
  },
  {
   "cell_type": "markdown",
   "metadata": {},
   "source": [
    "* __copy__\n",
    "    * Copia arquivos do diretório atual do host (build context) para dentro da imagem\n",
    "        * __src__ - destino\n",
    "        * cria uma layer persistente\n",
    "\n",
    "* __add__\n",
    "    * Similar a copy\n",
    "    \n",
    "* __workdir__\n",
    "    * Configura o ambiente de trabalho, base para as instruções RUN, CMD, etc.., definindo o diretório de trabalho\n",
    "    \n",
    "* __expose__\n",
    "    * expõe o socket de execução, apenas sinaliza a porta, não faz o mesmo que a option __-p__\n",
    "    \n",
    "* __volume__\n",
    "    * informa qual será o volume criado\n",
    "    * Dispensa a criação do _docker volume_ e o posterior mapeamento dele (__-v__)\n",
    "    * Automaticamente isso é feito no Dockerfile"
   ]
  },
  {
   "cell_type": "markdown",
   "metadata": {},
   "source": [
    "## Comando Padrão"
   ]
  },
  {
   "cell_type": "markdown",
   "metadata": {},
   "source": [
    "* __CMD:__\n",
    "    * Comando/argumento padrão a ser executado pelo container - __Sempre como a última instrução a ser passada__\n",
    "    * Sintaxe:\n",
    "        * __CMD [\"executable\", \"param1\", \"param2\"]__ (exec form - recomendado e mais comum)\n",
    "        * __CMD command param1 param2__ (shell form -wrapping \"/bin/sh -c\");\n",
    "        * É possível _sobrescrever_ a instrução CMD"
   ]
  },
  {
   "cell_type": "markdown",
   "metadata": {},
   "source": [
    "* __ENTRYPOINY:__\n",
    "    * Permite configurar o container para ser executado como um executável\n",
    "        * __/bin/sh -c__ --> entrypoint padrão\n",
    "        * normalmente possui CMD como argumento\n",
    "        * Pode ser iniciado por um script executável ( _.sh_ )\n",
    "        * Utiliza-se o formate _exec form_ (json)\n",
    "      \n",
    "      \n",
    "* É possível alterar o Entrypoint exclusivamente para a execução do container em questão, forçando essa mudança, utilizando o __--entrypoint NOVO_ENTRY__ e sendo assim passada a imagem, será possível passar novas _options_, exclusivas do NOVO_ENTRY, que irão ser executadas apenas para o container em questão"
   ]
  },
  {
   "cell_type": "markdown",
   "metadata": {},
   "source": [
    "![](compare.png)"
   ]
  },
  {
   "cell_type": "markdown",
   "metadata": {},
   "source": [
    "__CMD é sobrescrito ENTRYPOINT NÂO!!__"
   ]
  },
  {
   "cell_type": "markdown",
   "metadata": {},
   "source": [
    "### Exemplo:"
   ]
  },
  {
   "cell_type": "markdown",
   "metadata": {},
   "source": [
    "__Executar um script em C__"
   ]
  },
  {
   "cell_type": "markdown",
   "metadata": {},
   "source": [
    "Em um mesmo diretório armazenar o arquivo.c e Dockerfile"
   ]
  },
  {
   "cell_type": "code",
   "execution_count": null,
   "metadata": {},
   "outputs": [],
   "source": [
    "#hello.c\n",
    "int main(){\n",
    "    puts(\"Hello World\");\n",
    "    return 0;\n",
    "}"
   ]
  },
  {
   "cell_type": "code",
   "execution_count": null,
   "metadata": {},
   "outputs": [],
   "source": [
    "#Dockerfile\n",
    "FROM ubuntu\n",
    "RUN apt-get update\n",
    "RUN apt-get install -y build-essential\n",
    "COPY hello.c /\n",
    "RUN make hello\n",
    "CMD /hello"
   ]
  },
  {
   "cell_type": "markdown",
   "metadata": {},
   "source": [
    "__Com o arquivo .C copiado para dentro da imagem (que será gerada) podemos criar um programa em C utilizando um container__"
   ]
  },
  {
   "cell_type": "markdown",
   "metadata": {},
   "source": [
    "* Criando o programa em C:\n",
    "    * __docker build -t helloworld .__ \n",
    "        * O \" . \" indica que o Dockerfile esta no diretório corrente\n",
    "        \n",
    "* Criando o container com o programa C:\n",
    "    * __docker run hello__ ( _hello --> nome do programa C_ )\n",
    "        * __Saida:__ Hello World"
   ]
  },
  {
   "cell_type": "markdown",
   "metadata": {},
   "source": [
    "## Boas práticas para escrever um Dockerfile"
   ]
  },
  {
   "cell_type": "markdown",
   "metadata": {},
   "source": [
    "\" ___Uma das coisas mais desafiadoras na criação de imagens é manter o seu tamanho reduzido___ \""
   ]
  },
  {
   "cell_type": "markdown",
   "metadata": {},
   "source": [
    "### Containers Efêmeros"
   ]
  },
  {
   "cell_type": "markdown",
   "metadata": {},
   "source": [
    "* Efêmero = Passagerio e Transitório\n",
    "    * Container pode ser parado e destruido, depois reconstruidoe substituido por um minimo  absoluto de configurações\n",
    "    \n",
    "\n",
    "* VI. Processos conforme metodologia twelve-factors app\n",
    "    * \" _Execute a aplicação como um ou mais processos que não armazenam estado (etateless)_ \"\n",
    "    * \" _Quaisquer dados que precise persistir deve ser armazenado em um serviço de apoio stateful (que armazena o seu estado), tipicamenteuma base de dados_ \" --> Uso do Docker object volume"
   ]
  },
  {
   "cell_type": "markdown",
   "metadata": {},
   "source": [
    "### De olho no Buid Context"
   ]
  },
  {
   "cell_type": "markdown",
   "metadata": {},
   "source": [
    "É o __Diretório atual__ do build "
   ]
  },
  {
   "cell_type": "markdown",
   "metadata": {},
   "source": [
    "* Quanto maior o conteúdo da pasta do Dockerfile\n",
    "    * Maior contexto de build, maior tamanho da imagem, maior tempo de build, push e pull, maior tamanho do container\n",
    "    \n",
    "* Sempre criar um diretório especifico para o arquivo Dockerfile\n",
    "    * Ou utilizar o __.dockerignore__\n",
    "    \n",
    "\n",
    "* Um diretório para o Dockerfile e outro para arquivos da imagem ( _COPY_ )\n",
    "    * Uso da _option_ __-f__"
   ]
  },
  {
   "cell_type": "markdown",
   "metadata": {},
   "source": [
    "### Evitar pacotes desnecessários"
   ]
  },
  {
   "cell_type": "markdown",
   "metadata": {},
   "source": [
    "* Reduzir a complexidade, o tamanho dos arquivos e o tempo de criação\n",
    "    * Você não precisa incluir um editor de texto em uma imagem de banco de dados!\n",
    "    \n",
    "* Diminuir o número de layers\n",
    "    * RUN, COPY e ADD geram layers persistentes - outras instruções geram layers intermediárias\n",
    "    * Por exemplo, para diversos argumentos para o comando RUN, utilizar a concatenação deles (&& \\) para gerar o minimo de layers possível"
   ]
  },
  {
   "cell_type": "markdown",
   "metadata": {},
   "source": [
    "### Exemplo:"
   ]
  },
  {
   "cell_type": "code",
   "execution_count": null,
   "metadata": {},
   "outputs": [],
   "source": [
    "#Dockerfile Padrão\n",
    "\n",
    "FROM ubuntu:18.04\n",
    "    \n",
    "RUN apt-get update \\\n",
    "&& apt-get upgrade -y \\\n",
    "&& apt-get instaçç -y node.js npm \\\n",
    "&& rm -rf /var/lib/apt/lists/* #Remove o cache\n",
    "\n",
    "COPY . .\n",
    "\n",
    "RUN npm install\n",
    "\n",
    "CMD [\"node\", \"hello.js\"]"
   ]
  },
  {
   "cell_type": "markdown",
   "metadata": {},
   "source": [
    "___A imagem gerada tem ~385mb___"
   ]
  },
  {
   "cell_type": "code",
   "execution_count": null,
   "metadata": {},
   "outputs": [],
   "source": [
    "#Dockerfile otimizado + boas praticas\n",
    "\n",
    "#Não há necessidade de utilizar o ubuntu como base image para após isso instalar o node.js npm\n",
    "#Já existe imagens oficiais do node\n",
    "\n",
    "FROM node:12-alpine #Imagem muito utilizada por ser bem \"enxuta\", reduz bastante o tamanho da imagem\n",
    "\n",
    "#Opcional, delimita um escopo de execução do diretório, caso ele não exista será então criado\n",
    "WORKDIR /app\n",
    "\n",
    "#Ao invés de fazer o COPY em tudo, nós limitamos o copy aqui (os packages json vão para dentro do diretório app)\n",
    "#Lembrando que a execução é top -> down então instruções com pouca variação devem ficar em cima por conta cache,\n",
    "#pois nos processos de builds futuros a execução utilizará deste cache\n",
    "COPY package.json .\n",
    "\n",
    "RUN npm install\n",
    "\n",
    "#Agora sim copiamos a aplicação para dentro do diretório\n",
    "#Aumenta o nível de cache\n",
    "COPY hello.js .\n",
    "\n",
    "#Deixamos a porta claro a porta exposta, reservamos o socket para esta aplicação, mesmo se usarmos o -P\n",
    "EXPOSE 8080\n",
    "\n",
    "CMD [\"node\", \"hello.js\"]"
   ]
  },
  {
   "cell_type": "markdown",
   "metadata": {},
   "source": [
    "___A imagem gerada agora tem ~83mb, uma grande redução no tamanho e tempo de execução do build___"
   ]
  },
  {
   "cell_type": "markdown",
   "metadata": {},
   "source": [
    "# Envio das imagens criadas para o docker hub"
   ]
  },
  {
   "cell_type": "markdown",
   "metadata": {},
   "source": [
    "__Login:__\n",
    "\n",
    "__Docekr ID:__ _cursodockerdozero_ <br>\n",
    "__email:__ leandro.vieira.silva@usp.br <br>\n",
    "__senha:__ afamosasenha"
   ]
  },
  {
   "cell_type": "markdown",
   "metadata": {},
   "source": [
    "__É possível enviar as imagens para o Dockerhub pelo terminal__"
   ]
  },
  {
   "cell_type": "markdown",
   "metadata": {},
   "source": [
    "* __docker login__\n",
    "    * inserir login e senha\n",
    "\n",
    "__Agora temos credenciais para envio__\n",
    "\n",
    "* __docker push REPOSITORIO__\n",
    "    * O repositório inserido aqui deve ser o mesmo criado no site\n",
    "    * Caso a imagem tenha nome diferente do repositório criado no site, podemos renomear a imagem antes de fazer o envio\n",
    "        * __docker tag IMAGEM NOVONOME__"
   ]
  },
  {
   "cell_type": "markdown",
   "metadata": {},
   "source": []
  },
  {
   "cell_type": "code",
   "execution_count": null,
   "metadata": {},
   "outputs": [],
   "source": []
  }
 ],
 "metadata": {
  "kernelspec": {
   "display_name": "Python 3",
   "language": "python",
   "name": "python3"
  },
  "language_info": {
   "codemirror_mode": {
    "name": "ipython",
    "version": 3
   },
   "file_extension": ".py",
   "mimetype": "text/x-python",
   "name": "python",
   "nbconvert_exporter": "python",
   "pygments_lexer": "ipython3",
   "version": "3.7.4"
  },
  "latex_envs": {
   "LaTeX_envs_menu_present": true,
   "autoclose": true,
   "autocomplete": true,
   "bibliofile": "biblio.bib",
   "cite_by": "apalike",
   "current_citInitial": 1,
   "eqLabelWithNumbers": true,
   "eqNumInitial": 1,
   "hotkeys": {
    "equation": "Ctrl-E",
    "itemize": "Ctrl-I"
   },
   "labels_anchors": false,
   "latex_user_defs": false,
   "report_style_numbering": false,
   "user_envs_cfg": false
  },
  "toc": {
   "base_numbering": 1,
   "nav_menu": {},
   "number_sections": true,
   "sideBar": true,
   "skip_h1_title": false,
   "title_cell": "Table of Contents",
   "title_sidebar": "Contents",
   "toc_cell": false,
   "toc_position": {},
   "toc_section_display": true,
   "toc_window_display": true
  }
 },
 "nbformat": 4,
 "nbformat_minor": 2
}
